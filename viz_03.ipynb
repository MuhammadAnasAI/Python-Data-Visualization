{
 "cells": [
  {
   "cell_type": "markdown",
   "metadata": {},
   "source": [
    "# Data Visualization (Part-03):"
   ]
  },
  {
   "cell_type": "code",
   "execution_count": 1,
   "metadata": {},
   "outputs": [],
   "source": [
    "# importing Libraries:\n",
    "import pandas as pd\n",
    "import numpy as np\n",
    "import matplotlib.pyplot as plt\n",
    "import seaborn as sns\n",
    "import plotly.express as px"
   ]
  },
  {
   "cell_type": "code",
   "execution_count": 2,
   "metadata": {},
   "outputs": [],
   "source": [
    "# Importing of DataSets:\n",
    "df = pd.read_csv('youtube.csv')"
   ]
  },
  {
   "cell_type": "code",
   "execution_count": 3,
   "metadata": {},
   "outputs": [
    {
     "data": {
      "text/html": [
       "<div>\n",
       "<style scoped>\n",
       "    .dataframe tbody tr th:only-of-type {\n",
       "        vertical-align: middle;\n",
       "    }\n",
       "\n",
       "    .dataframe tbody tr th {\n",
       "        vertical-align: top;\n",
       "    }\n",
       "\n",
       "    .dataframe thead th {\n",
       "        text-align: right;\n",
       "    }\n",
       "</style>\n",
       "<table border=\"1\" class=\"dataframe\">\n",
       "  <thead>\n",
       "    <tr style=\"text-align: right;\">\n",
       "      <th></th>\n",
       "      <th>RANK</th>\n",
       "      <th>NAME_OF_CHANNEL</th>\n",
       "      <th>TOTAL_NUMBER_OF_VIDEOS</th>\n",
       "      <th>SUBSCRIBERS</th>\n",
       "      <th>VIEWS</th>\n",
       "      <th>CATEGORY</th>\n",
       "    </tr>\n",
       "  </thead>\n",
       "  <tbody>\n",
       "    <tr>\n",
       "      <th>0</th>\n",
       "      <td>#1</td>\n",
       "      <td>MrBeast</td>\n",
       "      <td>799</td>\n",
       "      <td>274M</td>\n",
       "      <td>50.98B</td>\n",
       "      <td>Entertainment</td>\n",
       "    </tr>\n",
       "    <tr>\n",
       "      <th>1</th>\n",
       "      <td>#2</td>\n",
       "      <td>T-Series</td>\n",
       "      <td>21.12K</td>\n",
       "      <td>267M</td>\n",
       "      <td>257.16B</td>\n",
       "      <td>Music</td>\n",
       "    </tr>\n",
       "    <tr>\n",
       "      <th>2</th>\n",
       "      <td>#3</td>\n",
       "      <td>Cocomelon - Nursery Rhymes</td>\n",
       "      <td>1.18K</td>\n",
       "      <td>176M</td>\n",
       "      <td>182.88B</td>\n",
       "      <td>Kids</td>\n",
       "    </tr>\n",
       "    <tr>\n",
       "      <th>3</th>\n",
       "      <td>#4</td>\n",
       "      <td>SET India</td>\n",
       "      <td>138.97K</td>\n",
       "      <td>173M</td>\n",
       "      <td>164.71B</td>\n",
       "      <td>Entertainment</td>\n",
       "    </tr>\n",
       "    <tr>\n",
       "      <th>4</th>\n",
       "      <td>#5</td>\n",
       "      <td>✿ Kids Diana Show</td>\n",
       "      <td>1.22K</td>\n",
       "      <td>123M</td>\n",
       "      <td>103.5B</td>\n",
       "      <td>Kids</td>\n",
       "    </tr>\n",
       "  </tbody>\n",
       "</table>\n",
       "</div>"
      ],
      "text/plain": [
       "  RANK             NAME_OF_CHANNEL TOTAL_NUMBER_OF_VIDEOS SUBSCRIBERS  \\\n",
       "0   #1                     MrBeast                    799        274M   \n",
       "1   #2                    T-Series                 21.12K        267M   \n",
       "2   #3  Cocomelon - Nursery Rhymes                  1.18K        176M   \n",
       "3   #4                   SET India                138.97K        173M   \n",
       "4   #5           ✿ Kids Diana Show                  1.22K        123M   \n",
       "\n",
       "     VIEWS                  CATEGORY  \n",
       "0   50.98B   Entertainment            \n",
       "1  257.16B   Music                    \n",
       "2  182.88B   Kids                     \n",
       "3  164.71B   Entertainment            \n",
       "4   103.5B   Kids                     "
      ]
     },
     "execution_count": 3,
     "metadata": {},
     "output_type": "execute_result"
    }
   ],
   "source": [
    "# To check the DataSet:\n",
    "df.head()"
   ]
  },
  {
   "cell_type": "code",
   "execution_count": 4,
   "metadata": {},
   "outputs": [
    {
     "data": {
      "text/plain": [
       "500"
      ]
     },
     "execution_count": 4,
     "metadata": {},
     "output_type": "execute_result"
    }
   ],
   "source": [
    "# Length of DataSet:\n",
    "len(df)"
   ]
  },
  {
   "cell_type": "code",
   "execution_count": 5,
   "metadata": {},
   "outputs": [
    {
     "data": {
      "text/plain": [
       "Index(['RANK', 'NAME_OF_CHANNEL', 'TOTAL_NUMBER_OF_VIDEOS', 'SUBSCRIBERS',\n",
       "       'VIEWS', 'CATEGORY'],\n",
       "      dtype='object')"
      ]
     },
     "execution_count": 5,
     "metadata": {},
     "output_type": "execute_result"
    }
   ],
   "source": [
    "# To check the Columns:\n",
    "df.columns"
   ]
  },
  {
   "cell_type": "code",
   "execution_count": 6,
   "metadata": {},
   "outputs": [],
   "source": [
    "# Use groupby function:\n",
    "df_1 = df.groupby('CATEGORY')['VIEWS'].value_counts().sort_values(ascending=False)"
   ]
  },
  {
   "cell_type": "markdown",
   "metadata": {},
   "source": [
    "## Ploting of DataSet using Plotly:"
   ]
  },
  {
   "cell_type": "code",
   "execution_count": 7,
   "metadata": {},
   "outputs": [
    {
     "data": {
      "application/vnd.plotly.v1+json": {
       "config": {
        "plotlyServerURL": "https://plot.ly"
       },
       "data": [
        {
         "hovertemplate": "CATEGORY= Entertainment          <br>VIEWS=%{x}<br>NAME_OF_CHANNEL=%{y}<extra></extra>",
         "legendgroup": " Entertainment          ",
         "marker": {
          "color": "#636efa",
          "symbol": "circle"
         },
         "mode": "markers",
         "name": " Entertainment          ",
         "orientation": "v",
         "showlegend": true,
         "type": "scatter",
         "x": [
          "50.98B",
          "164.71B",
          "29.31B",
          "115.24B",
          "89.41B",
          "70.94B",
          "9.28B",
          "26.05B",
          "28.7B",
          "53.63B",
          "51.02B",
          "24.22B",
          "14.16B",
          "18.53B",
          "39.21B",
          "2.65B",
          "54.86B",
          "22.8B",
          "10.6B",
          "17.67B",
          "19.29B",
          "26.8B",
          "4.51B",
          "4.89B",
          "20.45B",
          "32.75B",
          "19.56B",
          "24.95B",
          "28.12B",
          "3.03B",
          "17.34B",
          "28.29B",
          "7.45B",
          "7B",
          "24.37B",
          "12.1B",
          "9.31B",
          "43.11B",
          "21.03B",
          "24.1B",
          "19.09B",
          "23.88B",
          "16.56B",
          "21.71B",
          "21.2B",
          "13.72B",
          "27.43B",
          "14.32B",
          "25.06B",
          "24B",
          "17.72B",
          "13.72B",
          "13.06B",
          "6.07B",
          "3.78B",
          "22.77B",
          "13.46B",
          "18.66B",
          "22.29B",
          "12.62B",
          "23.4B",
          "8.92B",
          "18.71B",
          "16.21B",
          "19.71B",
          "17.63B",
          "12.73B",
          "28.95B",
          "27.79B",
          "5.17B",
          "15.6B",
          "8.46B",
          "17.07B",
          "20.73B",
          "13.77B",
          "5.99B",
          "10B",
          "37.99B",
          "16.03B",
          "8.94B",
          "4.76B",
          "13.71B",
          "26.99B",
          "14.64B",
          "12.47B",
          "25.41B",
          "11.95B",
          "14.13B",
          "10.13B",
          "8.5B",
          "9.46B",
          "9.37B",
          "12.6B",
          "6.91B",
          "28.96B",
          "12.84B",
          "10.7B",
          "12.51B",
          "7.94B",
          "21.05B",
          "19.49B",
          "17.37B",
          "12.86B",
          "9.91B",
          "6.53B",
          "19.06B",
          "5.38B",
          "7.32B",
          "6.81B",
          "18.21B",
          "9.12B",
          "8.69B",
          "6.1B",
          "3B",
          "12.14B",
          "11.27B",
          "61.01B",
          "9.89B",
          "3.19B",
          "12.96B",
          "11.73B",
          "2.72B",
          "22.63B",
          "8.66B",
          "7.49B",
          "2.47B",
          "5.58B",
          "4.69B",
          "22.22B",
          "11.9B",
          "4.38B",
          "2.67B",
          "15.2B",
          "15.07B",
          "13.18B",
          "6.01B",
          "24.93B",
          "14.7B",
          "9.99B",
          "6.35B",
          "9.95B",
          "8.03B",
          "17.41B",
          "10.43B",
          "5.68B",
          "20.72B",
          "6.03B",
          "20.51B",
          "11.55B",
          "13.83B",
          "16.96B",
          "14.12B",
          "9.34B",
          "4.04B",
          "6.84B",
          "23.49B",
          "19.28B",
          "11.29B",
          "11.2B",
          "9.15B",
          "16.36B",
          "6.45B",
          "8.81B",
          "5.14B",
          "4.87B",
          "4.66B",
          "15.1B",
          "8.46B",
          "6.21B",
          "16.33B",
          "14.51B",
          "6.52B",
          "4.4B",
          "4.07B",
          "12.11B",
          "9.7B",
          "5B",
          "4.63B",
          "3.56B",
          "2.73B",
          "2.64B",
          "15.8B",
          "14.38B",
          "3.2B",
          "7.63B",
          "6.01B"
         ],
         "xaxis": "x",
         "y": [
          "MrBeast",
          "SET India",
          "PewDiePie",
          "Sony SAB",
          "Zee TV",
          "Colors TV",
          "Stokes Twins",
          "ZAMZAM ELECTRONICS TRADING",
          "A4",
          "HAR PAL GEO",
          "ARY Digital HD",
          "PANDA BOI",
          "Fede Vigevani",
          "Mikecrack",
          "KL BRO Biju Rithvik",
          "आचार्य प्रशान्त - Acharya Prashant",
          "ABS-CBN Entertainment",
          "Voot Kids",
          "Fernanfloo",
          "Felipe Neto",
          "Ishtar Music",
          "Katy Perry",
          "whinderssonnunes",
          "HolaSoyGerman.",
          "Like Nastya Show",
          "Sony PAL",
          "Saregama Music",
          "Dushyant kukreja",
          "GR6 EXPLODE",
          "YouTube",
          "Real fools shorts official",
          "ช่อง one31",
          "elrubiusOMG",
          "MR. INDIAN HACKER",
          "Daddy Yankee",
          "Akshay Nagwadiya",
          "Frost Diamond",
          "LankyBox",
          "Bruno Mars",
          "Maroon 5",
          "WowKidz",
          "KAROL G",
          "Rajshri",
          "CVS 3D Rhymes & Kids Songs",
          "Zee News",
          "Geet MP3",
          "The Weeknd",
          "Lucas and Marcus",
          "SSSniperWolf",
          "J Balvin",
          "Eros Now Music",
          null,
          "Zach King",
          "Beast Reacts",
          "Juan De Dios Pantoja",
          "Dangal TV Channel",
          "rezendeevil",
          "mujjuu___14",
          "DONA 도나",
          "Aditya Movies",
          "Jason Derulo",
          "Shemaroo Movies",
          "ImagineDragons",
          "Talking Tom",
          "infobells - Tamil",
          "The Tonight Show Starring Jimmy Fallon",
          "unknown boy varun",
          "قناة طيور الجنة | toyoraljanahtv",
          "JustinBieberVEVO",
          "AH",
          "Adele",
          "Brent Rivera",
          "NichLmao",
          "Spinnin' Records",
          "Boram Tube Vlog [보람튜브 브이로그]",
          "Indosiar",
          "Goldmines Bollywood",
          "Tsuriki Show",
          "Michael Jackson",
          "Crazy XYZ",
          "ashish chanchlani vines",
          "Shawn Mendes",
          "MaviGadget",
          "Kids TV - Nursery Rhymes And Baby Songs",
          "The Lallantop",
          "Mr DegrEE",
          "Kids Channel India - Hindi Rhymes and Baby Songs",
          "Wiz Khalifa",
          "The Late Late Show with James Corden",
          "Netflix",
          "ABPLIVE",
          "Zach Choi ASMR",
          "Diana and Roma ARA",
          "Alan Becker",
          "Sun TV",
          "Danny Fitt",
          "enchufetv",
          "Diana and Roma HIN",
          "Pen Movies",
          "WORLDSTARHIPHOP",
          "David Guetta",
          "Anuel AA",
          "Vania Mania Kids",
          "Preston",
          "Goldmines Movies",
          "Coldplay",
          "Ultra Movie Parlour",
          "Maya and Mary",
          "Rans Entertainment",
          "_vector_",
          "Peppa Pig Español Latino - Canal Oficial",
          "FaZe Rug",
          "Venus Entertainment",
          "MrBeast en Español",
          "News18 India",
          "BigSchool",
          "netd müzik",
          "Las Ratitas",
          "Chloe Ting",
          "Caín Guzmán",
          "Vlad and Niki Arabic",
          "TED",
          "Koray Zeynep",
          "Valentina Pontes ofc",
          "Sidhu Moose Wala",
          "Amit Bhadana",
          "Narendra Modi",
          "Unbox Therapy",
          "Disney Latinoamérica",
          "Ishtar Punjabi",
          "James Charles",
          "Ninja",
          "SSundee",
          "Jake Fellman",
          "Dua Lipa",
          "Logan Paul",
          "FGTeeV",
          "GMA Public  Affairs",
          "Susy Mouriz",
          "DrossRotzank",
          "Pragati Verma Shorts",
          "Jordan Matter",
          "Taarak Mehta Ka Ooltah Chashmah",
          "Panda Shorts",
          "Infinite",
          "Younes Zarou",
          "Deddy Corbuzier",
          "Justin Flom",
          "Pink Shirt Girl",
          "Rubén Tuesta oficial",
          "Kritika Channel",
          "Ajay Sharma",
          "Busy Fun Ltd",
          "Triggered Insaan",
          "MiawAug",
          "El Payaso Plim Plim",
          "Romeo Santos",
          "News 24",
          "Nasya Official",
          "Tappu Honey Parmar",
          "GH'S",
          "ElTrollino",
          "Ravi sagar88",
          "Brave Wilderness",
          "the Ludo facts",
          "Baim Paula",
          "Linkin Park",
          "CookieSwirlC",
          "Sidemen",
          "Mnet K-POP",
          "Natan por Aí",
          "FIFA",
          "nigahiga",
          "BigChungus",
          "Salman Noman",
          "SCTV",
          "SlivkiShow",
          "Mau McMahon",
          "Chuster",
          "DLS News",
          "Got Talent Global",
          "Gusttavo Lima Oficial",
          "ToRung",
          null,
          "Smile Family Spanish",
          "Marvel Entertainment"
         ],
         "yaxis": "y"
        },
        {
         "hovertemplate": "CATEGORY= Music                  <br>VIEWS=%{x}<br>NAME_OF_CHANNEL=%{y}<extra></extra>",
         "legendgroup": " Music                  ",
         "marker": {
          "color": "#EF553B",
          "symbol": "circle"
         },
         "mode": "markers",
         "name": " Music                  ",
         "orientation": "v",
         "showlegend": true,
         "type": "scatter",
         "x": [
          "257.16B",
          "66.84B",
          "36.02B",
          "22.97B",
          "34.26B",
          "32.31B",
          "29.3B",
          "34.04B",
          "38.29B",
          "38.83B",
          "42.76B",
          "31.93B",
          "29.73B",
          "41.11B",
          "35.44B",
          "15.74B",
          "32.44B",
          "26.21B",
          "15.72B",
          "32.93B",
          "40.38B",
          "19.75B",
          "30.35B",
          "14.12B",
          "8.11B",
          "39.1B",
          "17.05B",
          "7.34B",
          "4.21B",
          "7.88B",
          "21.55B",
          "11.76B",
          "33.12B",
          "13B",
          "23.15B",
          "30.01B",
          "57.67B",
          "16.42B",
          "28.69B",
          "25.89B",
          "37.65B",
          "22.81B",
          "31.98B",
          "18.11B",
          "14B",
          "20.45B",
          "15.79B",
          "10.61B",
          "11.12B",
          "3.42B",
          "19.17B",
          "29.45B",
          "17.21B",
          "15.79B",
          "9.75B",
          "25.04B",
          "12.54B",
          "16.77B",
          "7.79B",
          "17.01B",
          "18.97B",
          "38.77B",
          "23.94B",
          "17.89B",
          "27.35B",
          "2.43B",
          "28.22B",
          "18.76B",
          "17.97B",
          "12.72B",
          "11.26B",
          "17.2B",
          "19.04B",
          "10.8B",
          "4.97B",
          "9.42B",
          "11.2B",
          "28.31B",
          "11.14B",
          "7.33B",
          "8.06B",
          "2.59B",
          "22.01B",
          "15.62B",
          "12.4B",
          "24.65B",
          "797.36M",
          "9.02B",
          "40.34B",
          "29.44B",
          "11.13B",
          "6.81B",
          "23.92B",
          "13.31B",
          "15.09B",
          "3.68B",
          "9.12B",
          "15.02B",
          "8.64B",
          "10.81B",
          "9.24B",
          "6.35B",
          "14.06B",
          "14.09B",
          "4.11B",
          "12.63B",
          "18.08B",
          "9.9B",
          "25.78B",
          "11.01B",
          "1.91B"
         ],
         "xaxis": "x",
         "y": [
          "T-Series",
          "Zee Music Company",
          "BLACKPINK",
          "BANGTANTV",
          "HYBE LABELS",
          "Justin Bieber",
          "Shemaroo Filmi Gaane",
          "T-Series Bhakti Sagar",
          "Canal KondZilla",
          "Tips Official",
          "Wave Music",
          "Sony Music India",
          "EminemMusic",
          "YRF",
          "Taylor Swift",
          "Marshmello",
          "Ed Sheeran",
          "Ariana Grande",
          "Billie Eilish",
          null,
          null,
          "Badabun",
          "Shakira",
          "Alan Walker",
          "Você Sabia?",
          "Alan Chikin Chow",
          "ABP NEWS",
          "MrBeast 2",
          "Total Gaming",
          "TEDx Talks",
          "PowerKids TV",
          "Techno Gamerz",
          "HUM TV",
          "Jingle Toons",
          "TheEllenShow",
          "Alfredo Larin",
          "Ryan's World",
          "Gulshan Kalra",
          "BabyBus - Kids Songs and Cartoons",
          "Peppa Pig - Official Channel",
          "LeoNata Family",
          "Ch3Thailand",
          "DisneyMusicVEVO",
          "Worldwide Records Bhojpuri",
          "Selena Gomez",
          "Priyal Kukreja",
          "VEGETTA777",
          "Desi Music Factory",
          "NoCopyrightSounds",
          "Round2hell",
          "व्लाद और निकिता",
          "SMTOWN",
          "infobells - Telugu",
          "Luis Fonsi",
          "Goldmines Dishoom",
          "Sagawa /さがわ",
          "Tilak",
          "jacksepticeye",
          "Karla Bustillos",
          "Daniel LaBelle",
          "Topper Guild",
          "D Billions",
          "Nick Jr.",
          "Drake",
          "ISSEI / いっせい",
          "Sandeep Maheshwari",
          "dednahype",
          "Beyoncé",
          "shfa show India",
          "Sourav Joshi Vlogs",
          "Nicki Minaj",
          "Chris Brown",
          "Neetu Bisht",
          "Smosh",
          "BB Ki Vines",
          "Rafa & Luiz",
          "jaanvi patel",
          "TaylorSwiftVEVO",
          "Pawan Sahu",
          "Village Cooking Channel",
          "The Royalty Family",
          "Yuya",
          "EminemVEVO",
          "Miss Katy",
          "DUDU e CAROL",
          "KatyPerryVEVO",
          "Beast Philanthropy",
          "DJ Snake",
          "Vijay Television",
          "ViralHog",
          "Eva Bravo Play",
          "Collins Key",
          "Sesame Street",
          "طارق الحلبي tarik alhalapi",
          "Jelly",
          "Technical Guruji",
          "Nick Pro",
          "The Chainsmokers",
          "Paulo Londra",
          "Charlie Puth",
          "Bizarrap",
          "Tekashi 6ix9ine",
          null,
          "NBA",
          "Vsauce",
          "OneDirectionVEVO",
          "XO TEAM",
          "MSA previously My Story Animated",
          "etvteluguindia",
          "Robin Hood Gamer",
          "Canal Canalha"
         ],
         "yaxis": "y"
        },
        {
         "hovertemplate": "CATEGORY= Kids                   <br>VIEWS=%{x}<br>NAME_OF_CHANNEL=%{y}<extra></extra>",
         "legendgroup": " Kids                   ",
         "marker": {
          "color": "#00cc96",
          "symbol": "circle"
         },
         "mode": "markers",
         "name": " Kids                   ",
         "orientation": "v",
         "showlegend": true,
         "type": "scatter",
         "x": [
          "182.88B",
          "103.5B",
          "90.94B",
          "100.9B",
          "51.03B",
          "60.42B",
          "36.12B",
          "65.66B",
          "35.01B",
          "11.15B",
          "27.62B",
          "43.07B",
          "24.34B",
          "9.74B",
          "3.76B",
          "30.66B",
          "16.82B",
          "5.83B",
          "16.93B",
          "21.48B",
          "23.62B",
          "15.58B",
          "21.74B",
          "12.91B",
          "27.37B",
          "19.5B",
          "11.72B",
          "27.35B",
          "3.11B",
          "26.42B",
          "14.45B",
          "12.41B",
          "23.15B",
          "26.33B",
          "22.52B",
          "16.26B",
          "6.56B",
          "3.27B",
          "16.2B",
          "18.79B",
          "19.72B",
          "15.27B",
          "13.42B",
          "8.66B",
          "16.02B",
          "16.85B",
          "25.61B",
          "25.22B",
          "19.06B",
          "14.33B",
          "23.01B",
          "27.12B",
          "17.27B",
          "9.82B",
          "18.2B",
          "9.98B",
          "16.95B",
          "1.39K",
          "13.58B",
          "12.12B",
          "11.42B",
          "5.46B",
          "2.86B",
          "488.84M",
          "10.9B",
          "9.52B",
          "9.38B",
          "4.55B"
         ],
         "xaxis": "x",
         "y": [
          "Cocomelon - Nursery Rhymes",
          "✿ Kids Diana Show",
          "Vlad and Niki",
          "Like Nastya",
          "ChuChu TV Nursery Rhymes & Kids Songs",
          "El Reino Infantil",
          "Infobells - Hindi",
          "Toys and Colors",
          "Bad Bunny",
          "BRIGHT SIDE",
          "shfa2 - شفا",
          "StarPlus",
          "Rihanna",
          "Luisito Comunica",
          "CarryMinati",
          "Genevieve's Playhouse - Learning Videos for Kids",
          "Alejo Igoa",
          "AboFlah",
          "Jkk Entertainment",
          "Markiplier",
          "T-Series Apna Punjab",
          "Enaldinho",
          "Junya.じゅんや",
          "Heroindori",
          "GMA  Network",
          "Spider Slack",
          "KHANDESHI MOVIES",
          "Marta and Rustam",
          "Dream",
          "That Little Puff",
          "Trap Nation",
          "Azhan5star",
          "Maluma",
          "Yoeslan",
          "JYP Entertainment",
          "Raffy Tulfo in Action",
          "Ben Azelart",
          "ZHC",
          "ToyPuddingTV",
          "Dan Rhodes",
          "Marília Mendonça",
          "TRANS7 OFFICIAL",
          "Kidibli (Kinder Spielzeug Kanal)",
          "Diana and Roma EN",
          "VanossGaming",
          "WatchMojo.com",
          "SMOL",
          "1theK (원더케이)",
          "Enrique Iglesias",
          "Wave Music Bhojpuri",
          null,
          "GMM GRAMMY OFFICIAL",
          "Lady Gaga",
          "Netflix India",
          "mmoshaya",
          "Wow Kidz Action",
          "승비니 Seungbini",
          "Happy Monkey",
          "BabyBus - Cerita & Lagu Anak-anak",
          "हिंदी - Genevieve's Playhouse",
          "Lyrical Lemonade",
          "Bispo Bruno Leonardo",
          "Dhruv Rathee",
          "Naisa Alifia Yuriza (N.A.Y)",
          "Avicii",
          "شبكة العاب العرب | Arab Games Network",
          null,
          "Clash of Clans"
         ],
         "yaxis": "y"
        },
        {
         "hovertemplate": "CATEGORY= Sports/Entertainment   <br>VIEWS=%{x}<br>NAME_OF_CHANNEL=%{y}<extra></extra>",
         "legendgroup": " Sports/Entertainment   ",
         "marker": {
          "color": "#ab63fa",
          "symbol": "circle"
         },
         "mode": "markers",
         "name": " Sports/Entertainment   ",
         "orientation": "v",
         "showlegend": true,
         "type": "scatter",
         "x": [
          "84.98B",
          "17.42B"
         ],
         "xaxis": "x",
         "y": [
          "WWE",
          "Dude Perfect"
         ],
         "yaxis": "y"
        },
        {
         "hovertemplate": "CATEGORY= Movies                 <br>VIEWS=%{x}<br>NAME_OF_CHANNEL=%{y}<extra></extra>",
         "legendgroup": " Movies                 ",
         "marker": {
          "color": "#FFA15A",
          "symbol": "circle"
         },
         "mode": "markers",
         "name": " Movies                 ",
         "orientation": "v",
         "showlegend": true,
         "type": "scatter",
         "x": [
          "29.04B",
          "62.2B",
          "24.55B",
          "27.61B",
          "11.21B",
          "27.4B",
          "17.34B",
          "17.59B",
          "16.31B",
          "7.95B",
          "8.22B",
          "24.98B",
          "5.72B",
          "6.28B"
         ],
         "xaxis": "x",
         "y": [
          "Goldmines",
          "Movieclips",
          "Shemaroo",
          "Shorts Break",
          "Mr Bean",
          "Anaya Kandhal",
          "Celine Dept",
          "Ultra Records",
          "Post Malone",
          "LosPolinesios",
          "1MILLION Dance Studio",
          "Filaretiki",
          "RKD Studios",
          "Goldmines Great Indian Comedy"
         ],
         "yaxis": "y"
        },
        {
         "hovertemplate": "CATEGORY= DIY/Education          <br>VIEWS=%{x}<br>NAME_OF_CHANNEL=%{y}<extra></extra>",
         "legendgroup": " DIY/Education          ",
         "marker": {
          "color": "#19d3f3",
          "symbol": "circle"
         },
         "mode": "markers",
         "name": " DIY/Education          ",
         "orientation": "v",
         "showlegend": true,
         "type": "scatter",
         "x": [
          "27.39B"
         ],
         "xaxis": "x",
         "y": [
          "5-Minute Crafts"
         ],
         "yaxis": "y"
        },
        {
         "hovertemplate": "CATEGORY= Kids                <br>VIEWS=%{x}<br>NAME_OF_CHANNEL=%{y}<extra></extra>",
         "legendgroup": " Kids                ",
         "marker": {
          "color": "#FF6692",
          "symbol": "circle"
         },
         "mode": "markers",
         "name": " Kids                ",
         "orientation": "v",
         "showlegend": true,
         "type": "scatter",
         "x": [
          "43.81B",
          "15.33B"
         ],
         "xaxis": "x",
         "y": [
          "Baby Shark - Pinkfong Kids’ Songs & Stories",
          "Bayashi TV"
         ],
         "yaxis": "y"
        },
        {
         "hovertemplate": "CATEGORY= News                   <br>VIEWS=%{x}<br>NAME_OF_CHANNEL=%{y}<extra></extra>",
         "legendgroup": " News                   ",
         "marker": {
          "color": "#B6E880",
          "symbol": "circle"
         },
         "mode": "markers",
         "name": " News                   ",
         "orientation": "v",
         "showlegend": true,
         "type": "scatter",
         "x": [
          "31.73B",
          "7.86B",
          "50.79B",
          "32.4B",
          "13.71B",
          "8.71B",
          "4.77B",
          "13.55B",
          "10.36B",
          "14.48B",
          "12.16B",
          "4.19B",
          "19.19B",
          "3.88B",
          "2.93B"
         ],
         "xaxis": "x",
         "y": [
          "Aaj Tak",
          "MrBeast Gaming",
          "Super Simple Songs - Kids Songs",
          "Galinha Pintadinha",
          "Chotanawab",
          "Renato Garcia YT",
          "America's Got Talent",
          "LIV Crime",
          "Troom Troom",
          "Sia",
          "Republic Bharat",
          "Fatos Desconhecidos",
          "And TV",
          "Emiway Bantai",
          "Noor Stars"
         ],
         "yaxis": "y"
        },
        {
         "hovertemplate": "CATEGORY= Kids          <br>VIEWS=%{x}<br>NAME_OF_CHANNEL=%{y}<extra></extra>",
         "legendgroup": " Kids          ",
         "marker": {
          "color": "#FF97FF",
          "symbol": "circle"
         },
         "mode": "markers",
         "name": " Kids          ",
         "orientation": "v",
         "showlegend": true,
         "type": "scatter",
         "x": [
          "34.45B",
          "4.13B"
         ],
         "xaxis": "x",
         "y": [
          "LooLoo Kids - Nursery Rhymes and Children's Songs",
          "AuronPlay"
         ],
         "yaxis": "y"
        },
        {
         "hovertemplate": "CATEGORY= Kids            <br>VIEWS=%{x}<br>NAME_OF_CHANNEL=%{y}<extra></extra>",
         "legendgroup": " Kids            ",
         "marker": {
          "color": "#FECB52",
          "symbol": "circle"
         },
         "mode": "markers",
         "name": " Kids            ",
         "orientation": "v",
         "showlegend": true,
         "type": "scatter",
         "x": [
          "11.6B"
         ],
         "xaxis": "x",
         "y": [
          "BillionSurpriseToys  - Nursery Rhymes & Cartoons"
         ],
         "yaxis": "y"
        },
        {
         "hovertemplate": "CATEGORY= Education              <br>VIEWS=%{x}<br>NAME_OF_CHANNEL=%{y}<extra></extra>",
         "legendgroup": " Education              ",
         "marker": {
          "color": "#636efa",
          "symbol": "circle"
         },
         "mode": "markers",
         "name": " Education              ",
         "orientation": "v",
         "showlegend": true,
         "type": "scatter",
         "x": [
          "6.32B",
          "7.71B",
          "6.57B",
          "7.54B",
          "15.96B",
          "24.35B",
          "22.54B",
          "19.83B",
          "11.85B",
          "18.81B",
          "2.34B",
          "6.01B",
          "2.78B",
          "20.79B",
          "9.41B",
          "11.65B",
          "6.13B",
          "2.17B",
          "8.28B"
         ],
         "xaxis": "x",
         "y": [
          "Mark Rober",
          "Ricis Official",
          "Kimberly Loaiza",
          "TheDonato",
          "Ultra Bollywood",
          "Little Angel: Nursery Rhymes & Kids Songs",
          "Bounce Patrol - Kids Songs",
          "DanTDM",
          "Filmy Suraj Actor",
          "The geeta gurjar",
          "Khan GS Research Centre",
          "National Geographic",
          "Kurzgesagt – In a Nutshell",
          "ANNA KOVA",
          "LazarBeam",
          "Becky G",
          "Tasty",
          "José Comilão",
          "SUPER SLICK SLIME SAM"
         ],
         "yaxis": "y"
        },
        {
         "hovertemplate": "CATEGORY= Gaming/Entertainment   <br>VIEWS=%{x}<br>NAME_OF_CHANNEL=%{y}<extra></extra>",
         "legendgroup": " Gaming/Entertainment   ",
         "marker": {
          "color": "#EF553B",
          "symbol": "circle"
         },
         "mode": "markers",
         "name": " Gaming/Entertainment   ",
         "orientation": "v",
         "showlegend": true,
         "type": "scatter",
         "x": [
          "30.91B",
          "15.44B",
          "16.18B",
          "28.4B",
          "28.89B",
          "25.3B",
          "27.61B",
          "40.51B",
          "11.07B",
          "31.12B",
          "14.34B",
          "24.96B",
          "13.92B",
          "16.84B",
          "16.49B",
          "6.98B",
          "17.84B",
          "17.52B",
          "4.75B",
          "2.14B",
          "13.53B",
          "5.23B",
          "10.53B",
          "14.64B",
          "12.88B",
          "16.02B",
          "17.57B",
          "9.87B",
          "17.32B",
          "7.16B",
          "8.87B",
          "12.21B",
          "12.38B",
          "7.25B",
          "11.27B",
          "4.13B",
          "9.23B"
         ],
         "xaxis": "x",
         "y": [
          "SonyMusicIndiaVEVO",
          "JuegaGerman",
          "YOLO AVENTURAS",
          "BETER BÖCÜK",
          "Speed Records",
          "LUCCAS NETO - LUCCAS TOON",
          "Maria Clara & JP",
          "Little Baby Bum - Nursery Rhymes & Kids Songs",
          "XXXTENTACION",
          "La Granja de Zenón",
          "One Direction",
          "Ozuna",
          "★ Kids Roma Show",
          "Zhong",
          "Masha y el Oso",
          "GENIAL",
          "Ishaan Ali 11",
          "toycantando",
          "Ami Rodriguez",
          "YOLO",
          "Bobby chourasiya",
          "Sujal Thakral",
          "Vlad and Niki ESP",
          "BabyBus - Canciones Infantiles & Videos para Niños",
          "Like Nastya PRT",
          "SOMOY TV",
          "Sony AATH",
          "deepesh zo",
          "Tlnovelas",
          "DeGoBooM",
          "Smile Family",
          "Ninja Kidz TV",
          "How Ridiculous",
          "Noman Official",
          "Prime Video India",
          "Gordon Ramsay",
          "ZappyToons - Hindi Nursery Rhymes and Stories"
         ],
         "yaxis": "y"
        },
        {
         "hovertemplate": "CATEGORY= Education          <br>VIEWS=%{x}<br>NAME_OF_CHANNEL=%{y}<extra></extra>",
         "legendgroup": " Education          ",
         "marker": {
          "color": "#00cc96",
          "symbol": "circle"
         },
         "mode": "markers",
         "name": " Education          ",
         "orientation": "v",
         "showlegend": true,
         "type": "scatter",
         "x": [
          "6.46B"
         ],
         "xaxis": "x",
         "y": [
          "Jess No Limit"
         ],
         "yaxis": "y"
        },
        {
         "hovertemplate": "CATEGORY= Travel/Entertainment   <br>VIEWS=%{x}<br>NAME_OF_CHANNEL=%{y}<extra></extra>",
         "legendgroup": " Travel/Entertainment   ",
         "marker": {
          "color": "#ab63fa",
          "symbol": "circle"
         },
         "mode": "markers",
         "name": " Travel/Entertainment   ",
         "orientation": "v",
         "showlegend": true,
         "type": "scatter",
         "x": [
          "25.02B"
         ],
         "xaxis": "x",
         "y": [
          "shfa"
         ],
         "yaxis": "y"
        },
        {
         "hovertemplate": "CATEGORY= Animation              <br>VIEWS=%{x}<br>NAME_OF_CHANNEL=%{y}<extra></extra>",
         "legendgroup": " Animation              ",
         "marker": {
          "color": "#FFA15A",
          "symbol": "circle"
         },
         "mode": "markers",
         "name": " Animation              ",
         "orientation": "v",
         "showlegend": true,
         "type": "scatter",
         "x": [
          "18.94B",
          "12.6B",
          "22.43B",
          "1.94B",
          "11.87B"
         ],
         "xaxis": "x",
         "y": [
          "Goldmines Gaane Sune Ansune",
          "WB Kids",
          "Rotana",
          "Dr. Vivek Bindra: Motivational Speaker",
          "Official Pink Panther"
         ],
         "yaxis": "y"
        },
        {
         "hovertemplate": "CATEGORY= Gaming                 <br>VIEWS=%{x}<br>NAME_OF_CHANNEL=%{y}<extra></extra>",
         "legendgroup": " Gaming                 ",
         "marker": {
          "color": "#19d3f3",
          "symbol": "circle"
         },
         "mode": "markers",
         "name": " Gaming                 ",
         "orientation": "v",
         "showlegend": true,
         "type": "scatter",
         "x": [
          "16.6B",
          "26.49B"
         ],
         "xaxis": "x",
         "y": [
          "DaFuq!?Boom!",
          "T-Series Bollywood Classics"
         ],
         "yaxis": "y"
        },
        {
         "hovertemplate": "CATEGORY= Kids             <br>VIEWS=%{x}<br>NAME_OF_CHANNEL=%{y}<extra></extra>",
         "legendgroup": " Kids             ",
         "marker": {
          "color": "#FF6692",
          "symbol": "circle"
         },
         "mode": "markers",
         "name": " Kids             ",
         "orientation": "v",
         "showlegend": true,
         "type": "scatter",
         "x": [
          "20.1B",
          "8.06B",
          "22.28B"
         ],
         "xaxis": "x",
         "y": [
          "IndiaTV",
          "Kiddiestv Hindi - Nursery Rhymes & Kids Songs",
          "Aphmau"
         ],
         "yaxis": "y"
        },
        {
         "hovertemplate": "CATEGORY= Kids           <br>VIEWS=%{x}<br>NAME_OF_CHANNEL=%{y}<extra></extra>",
         "legendgroup": " Kids           ",
         "marker": {
          "color": "#B6E880",
          "symbol": "circle"
         },
         "mode": "markers",
         "name": " Kids           ",
         "orientation": "v",
         "showlegend": true,
         "type": "scatter",
         "x": [
          "38.44B"
         ],
         "xaxis": "x",
         "y": [
          "WorkpointOfficial"
         ],
         "yaxis": "y"
        },
        {
         "hovertemplate": "CATEGORY= Platform               <br>VIEWS=%{x}<br>NAME_OF_CHANNEL=%{y}<extra></extra>",
         "legendgroup": " Platform               ",
         "marker": {
          "color": "#FF97FF",
          "symbol": "circle"
         },
         "mode": "markers",
         "name": " Platform               ",
         "orientation": "v",
         "showlegend": true,
         "type": "scatter",
         "x": [
          "39.28B"
         ],
         "xaxis": "x",
         "y": [
          "김프로KIMPRO"
         ],
         "yaxis": "y"
        },
        {
         "hovertemplate": "CATEGORY= toyoraljanahtv <br>VIEWS=%{x}<br>NAME_OF_CHANNEL=%{y}<extra></extra>",
         "legendgroup": " toyoraljanahtv ",
         "marker": {
          "color": "#636efa",
          "symbol": "circle"
         },
         "mode": "markers",
         "name": " toyoraljanahtv ",
         "orientation": "v",
         "showlegend": true,
         "type": "scatter",
         "x": [
          "5.15B"
         ],
         "xaxis": "x",
         "y": [
          "Willie Salim"
         ],
         "yaxis": "y"
        },
        {
         "hovertemplate": "CATEGORY= Kids               <br>VIEWS=%{x}<br>NAME_OF_CHANNEL=%{y}<extra></extra>",
         "legendgroup": " Kids               ",
         "marker": {
          "color": "#EF553B",
          "symbol": "circle"
         },
         "mode": "markers",
         "name": " Kids               ",
         "orientation": "v",
         "showlegend": true,
         "type": "scatter",
         "x": [
          "13.82B"
         ],
         "xaxis": "x",
         "y": [
          "BeatboxJCOP"
         ],
         "yaxis": "y"
        },
        {
         "hovertemplate": "CATEGORY= Fitness/Health         <br>VIEWS=%{x}<br>NAME_OF_CHANNEL=%{y}<extra></extra>",
         "legendgroup": " Fitness/Health         ",
         "marker": {
          "color": "#00cc96",
          "symbol": "circle"
         },
         "mode": "markers",
         "name": " Fitness/Health         ",
         "orientation": "v",
         "showlegend": true,
         "type": "scatter",
         "x": [
          "18.5B"
         ],
         "xaxis": "x",
         "y": [
          "toyorbabytv"
         ],
         "yaxis": "y"
        },
        {
         "hovertemplate": "CATEGORY= Kids         <br>VIEWS=%{x}<br>NAME_OF_CHANNEL=%{y}<extra></extra>",
         "legendgroup": " Kids         ",
         "marker": {
          "color": "#ab63fa",
          "symbol": "circle"
         },
         "mode": "markers",
         "name": " Kids         ",
         "orientation": "v",
         "showlegend": true,
         "type": "scatter",
         "x": [
          "20.45B"
         ],
         "xaxis": "x",
         "y": [
          "RihannaVEVO"
         ],
         "yaxis": "y"
        },
        {
         "hovertemplate": "CATEGORY= Food                   <br>VIEWS=%{x}<br>NAME_OF_CHANNEL=%{y}<extra></extra>",
         "legendgroup": " Food                   ",
         "marker": {
          "color": "#FFA15A",
          "symbol": "circle"
         },
         "mode": "markers",
         "name": " Food                   ",
         "orientation": "v",
         "showlegend": true,
         "type": "scatter",
         "x": [
          "2.5B",
          "15.25B",
          "8.58B",
          "7.59B"
         ],
         "xaxis": "x",
         "y": [
          "IShowSpeed",
          "Aja Kitchen",
          "Yudist Ardhana",
          "Jake Paul"
         ],
         "yaxis": "y"
        },
        {
         "hovertemplate": "CATEGORY= Beauty/Lifestyle       <br>VIEWS=%{x}<br>NAME_OF_CHANNEL=%{y}<extra></extra>",
         "legendgroup": " Beauty/Lifestyle       ",
         "marker": {
          "color": "#19d3f3",
          "symbol": "circle"
         },
         "mode": "markers",
         "name": " Beauty/Lifestyle       ",
         "orientation": "v",
         "showlegend": true,
         "type": "scatter",
         "x": [
          "3.19B",
          "4.16B"
         ],
         "xaxis": "x",
         "y": [
          "Goldmines Cineplex",
          "Soy Suco"
         ],
         "yaxis": "y"
        },
        {
         "hovertemplate": "CATEGORY= Charity/Non-profit     <br>VIEWS=%{x}<br>NAME_OF_CHANNEL=%{y}<extra></extra>",
         "legendgroup": " Charity/Non-profit     ",
         "marker": {
          "color": "#FF6692",
          "symbol": "circle"
         },
         "mode": "markers",
         "name": " Charity/Non-profit     ",
         "orientation": "v",
         "showlegend": true,
         "type": "scatter",
         "x": [
          "16.07B"
         ],
         "xaxis": "x",
         "y": [
          "Mister Max"
         ],
         "yaxis": "y"
        },
        {
         "hovertemplate": "CATEGORY= Politics               <br>VIEWS=%{x}<br>NAME_OF_CHANNEL=%{y}<extra></extra>",
         "legendgroup": " Politics               ",
         "marker": {
          "color": "#B6E880",
          "symbol": "circle"
         },
         "mode": "markers",
         "name": " Politics               ",
         "orientation": "v",
         "showlegend": true,
         "type": "scatter",
         "x": [
          "9.44B"
         ],
         "xaxis": "x",
         "y": [
          "invictor"
         ],
         "yaxis": "y"
        },
        {
         "hovertemplate": "CATEGORY= Technology             <br>VIEWS=%{x}<br>NAME_OF_CHANNEL=%{y}<extra></extra>",
         "legendgroup": " Technology             ",
         "marker": {
          "color": "#FF97FF",
          "symbol": "circle"
         },
         "mode": "markers",
         "name": " Technology             ",
         "orientation": "v",
         "showlegend": true,
         "type": "scatter",
         "x": [
          "6.02B",
          "11.5B"
         ],
         "xaxis": "x",
         "y": [
          "KSI",
          "BEN EAGLE"
         ],
         "yaxis": "y"
        },
        {
         "hovertemplate": "CATEGORY= DIY                    <br>VIEWS=%{x}<br>NAME_OF_CHANNEL=%{y}<extra></extra>",
         "legendgroup": " DIY                    ",
         "marker": {
          "color": "#FECB52",
          "symbol": "circle"
         },
         "mode": "markers",
         "name": " DIY                    ",
         "orientation": "v",
         "showlegend": true,
         "type": "scatter",
         "x": [
          "16.58B",
          "1.91B"
         ],
         "xaxis": "x",
         "y": [
          "NickyJamTV",
          "What's Idea"
         ],
         "yaxis": "y"
        },
        {
         "hovertemplate": "CATEGORY= Music                 <br>VIEWS=%{x}<br>NAME_OF_CHANNEL=%{y}<extra></extra>",
         "legendgroup": " Music                 ",
         "marker": {
          "color": "#636efa",
          "symbol": "circle"
         },
         "mode": "markers",
         "name": " Music                 ",
         "orientation": "v",
         "showlegend": true,
         "type": "scatter",
         "x": [
          "15.9B"
         ],
         "xaxis": "x",
         "y": [
          "CuRe 구래"
         ],
         "yaxis": "y"
        },
        {
         "hovertemplate": "CATEGORY= Sports                 <br>VIEWS=%{x}<br>NAME_OF_CHANNEL=%{y}<extra></extra>",
         "legendgroup": " Sports                 ",
         "marker": {
          "color": "#EF553B",
          "symbol": "circle"
         },
         "mode": "markers",
         "name": " Sports                 ",
         "orientation": "v",
         "showlegend": true,
         "type": "scatter",
         "x": [
          "14.69B",
          "9.46B"
         ],
         "xaxis": "x",
         "y": [
          "Dhar Mann Studios",
          "Masha e o Urso"
         ],
         "yaxis": "y"
        },
        {
         "hovertemplate": "CATEGORY= Arab Games Network <br>VIEWS=%{x}<br>NAME_OF_CHANNEL=%{y}<extra></extra>",
         "legendgroup": " Arab Games Network ",
         "marker": {
          "color": "#00cc96",
          "symbol": "circle"
         },
         "mode": "markers",
         "name": " Arab Games Network ",
         "orientation": "v",
         "showlegend": true,
         "type": "scatter",
         "x": [
          "10.12B"
         ],
         "xaxis": "x",
         "y": [
          "Green Gold TV - Official Channel"
         ],
         "yaxis": "y"
        }
       ],
       "layout": {
        "legend": {
         "title": {
          "text": "CATEGORY"
         },
         "tracegroupgap": 0
        },
        "margin": {
         "t": 60
        },
        "template": {
         "data": {
          "bar": [
           {
            "error_x": {
             "color": "#2a3f5f"
            },
            "error_y": {
             "color": "#2a3f5f"
            },
            "marker": {
             "line": {
              "color": "#E5ECF6",
              "width": 0.5
             },
             "pattern": {
              "fillmode": "overlay",
              "size": 10,
              "solidity": 0.2
             }
            },
            "type": "bar"
           }
          ],
          "barpolar": [
           {
            "marker": {
             "line": {
              "color": "#E5ECF6",
              "width": 0.5
             },
             "pattern": {
              "fillmode": "overlay",
              "size": 10,
              "solidity": 0.2
             }
            },
            "type": "barpolar"
           }
          ],
          "carpet": [
           {
            "aaxis": {
             "endlinecolor": "#2a3f5f",
             "gridcolor": "white",
             "linecolor": "white",
             "minorgridcolor": "white",
             "startlinecolor": "#2a3f5f"
            },
            "baxis": {
             "endlinecolor": "#2a3f5f",
             "gridcolor": "white",
             "linecolor": "white",
             "minorgridcolor": "white",
             "startlinecolor": "#2a3f5f"
            },
            "type": "carpet"
           }
          ],
          "choropleth": [
           {
            "colorbar": {
             "outlinewidth": 0,
             "ticks": ""
            },
            "type": "choropleth"
           }
          ],
          "contour": [
           {
            "colorbar": {
             "outlinewidth": 0,
             "ticks": ""
            },
            "colorscale": [
             [
              0,
              "#0d0887"
             ],
             [
              0.1111111111111111,
              "#46039f"
             ],
             [
              0.2222222222222222,
              "#7201a8"
             ],
             [
              0.3333333333333333,
              "#9c179e"
             ],
             [
              0.4444444444444444,
              "#bd3786"
             ],
             [
              0.5555555555555556,
              "#d8576b"
             ],
             [
              0.6666666666666666,
              "#ed7953"
             ],
             [
              0.7777777777777778,
              "#fb9f3a"
             ],
             [
              0.8888888888888888,
              "#fdca26"
             ],
             [
              1,
              "#f0f921"
             ]
            ],
            "type": "contour"
           }
          ],
          "contourcarpet": [
           {
            "colorbar": {
             "outlinewidth": 0,
             "ticks": ""
            },
            "type": "contourcarpet"
           }
          ],
          "heatmap": [
           {
            "colorbar": {
             "outlinewidth": 0,
             "ticks": ""
            },
            "colorscale": [
             [
              0,
              "#0d0887"
             ],
             [
              0.1111111111111111,
              "#46039f"
             ],
             [
              0.2222222222222222,
              "#7201a8"
             ],
             [
              0.3333333333333333,
              "#9c179e"
             ],
             [
              0.4444444444444444,
              "#bd3786"
             ],
             [
              0.5555555555555556,
              "#d8576b"
             ],
             [
              0.6666666666666666,
              "#ed7953"
             ],
             [
              0.7777777777777778,
              "#fb9f3a"
             ],
             [
              0.8888888888888888,
              "#fdca26"
             ],
             [
              1,
              "#f0f921"
             ]
            ],
            "type": "heatmap"
           }
          ],
          "heatmapgl": [
           {
            "colorbar": {
             "outlinewidth": 0,
             "ticks": ""
            },
            "colorscale": [
             [
              0,
              "#0d0887"
             ],
             [
              0.1111111111111111,
              "#46039f"
             ],
             [
              0.2222222222222222,
              "#7201a8"
             ],
             [
              0.3333333333333333,
              "#9c179e"
             ],
             [
              0.4444444444444444,
              "#bd3786"
             ],
             [
              0.5555555555555556,
              "#d8576b"
             ],
             [
              0.6666666666666666,
              "#ed7953"
             ],
             [
              0.7777777777777778,
              "#fb9f3a"
             ],
             [
              0.8888888888888888,
              "#fdca26"
             ],
             [
              1,
              "#f0f921"
             ]
            ],
            "type": "heatmapgl"
           }
          ],
          "histogram": [
           {
            "marker": {
             "pattern": {
              "fillmode": "overlay",
              "size": 10,
              "solidity": 0.2
             }
            },
            "type": "histogram"
           }
          ],
          "histogram2d": [
           {
            "colorbar": {
             "outlinewidth": 0,
             "ticks": ""
            },
            "colorscale": [
             [
              0,
              "#0d0887"
             ],
             [
              0.1111111111111111,
              "#46039f"
             ],
             [
              0.2222222222222222,
              "#7201a8"
             ],
             [
              0.3333333333333333,
              "#9c179e"
             ],
             [
              0.4444444444444444,
              "#bd3786"
             ],
             [
              0.5555555555555556,
              "#d8576b"
             ],
             [
              0.6666666666666666,
              "#ed7953"
             ],
             [
              0.7777777777777778,
              "#fb9f3a"
             ],
             [
              0.8888888888888888,
              "#fdca26"
             ],
             [
              1,
              "#f0f921"
             ]
            ],
            "type": "histogram2d"
           }
          ],
          "histogram2dcontour": [
           {
            "colorbar": {
             "outlinewidth": 0,
             "ticks": ""
            },
            "colorscale": [
             [
              0,
              "#0d0887"
             ],
             [
              0.1111111111111111,
              "#46039f"
             ],
             [
              0.2222222222222222,
              "#7201a8"
             ],
             [
              0.3333333333333333,
              "#9c179e"
             ],
             [
              0.4444444444444444,
              "#bd3786"
             ],
             [
              0.5555555555555556,
              "#d8576b"
             ],
             [
              0.6666666666666666,
              "#ed7953"
             ],
             [
              0.7777777777777778,
              "#fb9f3a"
             ],
             [
              0.8888888888888888,
              "#fdca26"
             ],
             [
              1,
              "#f0f921"
             ]
            ],
            "type": "histogram2dcontour"
           }
          ],
          "mesh3d": [
           {
            "colorbar": {
             "outlinewidth": 0,
             "ticks": ""
            },
            "type": "mesh3d"
           }
          ],
          "parcoords": [
           {
            "line": {
             "colorbar": {
              "outlinewidth": 0,
              "ticks": ""
             }
            },
            "type": "parcoords"
           }
          ],
          "pie": [
           {
            "automargin": true,
            "type": "pie"
           }
          ],
          "scatter": [
           {
            "fillpattern": {
             "fillmode": "overlay",
             "size": 10,
             "solidity": 0.2
            },
            "type": "scatter"
           }
          ],
          "scatter3d": [
           {
            "line": {
             "colorbar": {
              "outlinewidth": 0,
              "ticks": ""
             }
            },
            "marker": {
             "colorbar": {
              "outlinewidth": 0,
              "ticks": ""
             }
            },
            "type": "scatter3d"
           }
          ],
          "scattercarpet": [
           {
            "marker": {
             "colorbar": {
              "outlinewidth": 0,
              "ticks": ""
             }
            },
            "type": "scattercarpet"
           }
          ],
          "scattergeo": [
           {
            "marker": {
             "colorbar": {
              "outlinewidth": 0,
              "ticks": ""
             }
            },
            "type": "scattergeo"
           }
          ],
          "scattergl": [
           {
            "marker": {
             "colorbar": {
              "outlinewidth": 0,
              "ticks": ""
             }
            },
            "type": "scattergl"
           }
          ],
          "scattermapbox": [
           {
            "marker": {
             "colorbar": {
              "outlinewidth": 0,
              "ticks": ""
             }
            },
            "type": "scattermapbox"
           }
          ],
          "scatterpolar": [
           {
            "marker": {
             "colorbar": {
              "outlinewidth": 0,
              "ticks": ""
             }
            },
            "type": "scatterpolar"
           }
          ],
          "scatterpolargl": [
           {
            "marker": {
             "colorbar": {
              "outlinewidth": 0,
              "ticks": ""
             }
            },
            "type": "scatterpolargl"
           }
          ],
          "scatterternary": [
           {
            "marker": {
             "colorbar": {
              "outlinewidth": 0,
              "ticks": ""
             }
            },
            "type": "scatterternary"
           }
          ],
          "surface": [
           {
            "colorbar": {
             "outlinewidth": 0,
             "ticks": ""
            },
            "colorscale": [
             [
              0,
              "#0d0887"
             ],
             [
              0.1111111111111111,
              "#46039f"
             ],
             [
              0.2222222222222222,
              "#7201a8"
             ],
             [
              0.3333333333333333,
              "#9c179e"
             ],
             [
              0.4444444444444444,
              "#bd3786"
             ],
             [
              0.5555555555555556,
              "#d8576b"
             ],
             [
              0.6666666666666666,
              "#ed7953"
             ],
             [
              0.7777777777777778,
              "#fb9f3a"
             ],
             [
              0.8888888888888888,
              "#fdca26"
             ],
             [
              1,
              "#f0f921"
             ]
            ],
            "type": "surface"
           }
          ],
          "table": [
           {
            "cells": {
             "fill": {
              "color": "#EBF0F8"
             },
             "line": {
              "color": "white"
             }
            },
            "header": {
             "fill": {
              "color": "#C8D4E3"
             },
             "line": {
              "color": "white"
             }
            },
            "type": "table"
           }
          ]
         },
         "layout": {
          "annotationdefaults": {
           "arrowcolor": "#2a3f5f",
           "arrowhead": 0,
           "arrowwidth": 1
          },
          "autotypenumbers": "strict",
          "coloraxis": {
           "colorbar": {
            "outlinewidth": 0,
            "ticks": ""
           }
          },
          "colorscale": {
           "diverging": [
            [
             0,
             "#8e0152"
            ],
            [
             0.1,
             "#c51b7d"
            ],
            [
             0.2,
             "#de77ae"
            ],
            [
             0.3,
             "#f1b6da"
            ],
            [
             0.4,
             "#fde0ef"
            ],
            [
             0.5,
             "#f7f7f7"
            ],
            [
             0.6,
             "#e6f5d0"
            ],
            [
             0.7,
             "#b8e186"
            ],
            [
             0.8,
             "#7fbc41"
            ],
            [
             0.9,
             "#4d9221"
            ],
            [
             1,
             "#276419"
            ]
           ],
           "sequential": [
            [
             0,
             "#0d0887"
            ],
            [
             0.1111111111111111,
             "#46039f"
            ],
            [
             0.2222222222222222,
             "#7201a8"
            ],
            [
             0.3333333333333333,
             "#9c179e"
            ],
            [
             0.4444444444444444,
             "#bd3786"
            ],
            [
             0.5555555555555556,
             "#d8576b"
            ],
            [
             0.6666666666666666,
             "#ed7953"
            ],
            [
             0.7777777777777778,
             "#fb9f3a"
            ],
            [
             0.8888888888888888,
             "#fdca26"
            ],
            [
             1,
             "#f0f921"
            ]
           ],
           "sequentialminus": [
            [
             0,
             "#0d0887"
            ],
            [
             0.1111111111111111,
             "#46039f"
            ],
            [
             0.2222222222222222,
             "#7201a8"
            ],
            [
             0.3333333333333333,
             "#9c179e"
            ],
            [
             0.4444444444444444,
             "#bd3786"
            ],
            [
             0.5555555555555556,
             "#d8576b"
            ],
            [
             0.6666666666666666,
             "#ed7953"
            ],
            [
             0.7777777777777778,
             "#fb9f3a"
            ],
            [
             0.8888888888888888,
             "#fdca26"
            ],
            [
             1,
             "#f0f921"
            ]
           ]
          },
          "colorway": [
           "#636efa",
           "#EF553B",
           "#00cc96",
           "#ab63fa",
           "#FFA15A",
           "#19d3f3",
           "#FF6692",
           "#B6E880",
           "#FF97FF",
           "#FECB52"
          ],
          "font": {
           "color": "#2a3f5f"
          },
          "geo": {
           "bgcolor": "white",
           "lakecolor": "white",
           "landcolor": "#E5ECF6",
           "showlakes": true,
           "showland": true,
           "subunitcolor": "white"
          },
          "hoverlabel": {
           "align": "left"
          },
          "hovermode": "closest",
          "mapbox": {
           "style": "light"
          },
          "paper_bgcolor": "white",
          "plot_bgcolor": "#E5ECF6",
          "polar": {
           "angularaxis": {
            "gridcolor": "white",
            "linecolor": "white",
            "ticks": ""
           },
           "bgcolor": "#E5ECF6",
           "radialaxis": {
            "gridcolor": "white",
            "linecolor": "white",
            "ticks": ""
           }
          },
          "scene": {
           "xaxis": {
            "backgroundcolor": "#E5ECF6",
            "gridcolor": "white",
            "gridwidth": 2,
            "linecolor": "white",
            "showbackground": true,
            "ticks": "",
            "zerolinecolor": "white"
           },
           "yaxis": {
            "backgroundcolor": "#E5ECF6",
            "gridcolor": "white",
            "gridwidth": 2,
            "linecolor": "white",
            "showbackground": true,
            "ticks": "",
            "zerolinecolor": "white"
           },
           "zaxis": {
            "backgroundcolor": "#E5ECF6",
            "gridcolor": "white",
            "gridwidth": 2,
            "linecolor": "white",
            "showbackground": true,
            "ticks": "",
            "zerolinecolor": "white"
           }
          },
          "shapedefaults": {
           "line": {
            "color": "#2a3f5f"
           }
          },
          "ternary": {
           "aaxis": {
            "gridcolor": "white",
            "linecolor": "white",
            "ticks": ""
           },
           "baxis": {
            "gridcolor": "white",
            "linecolor": "white",
            "ticks": ""
           },
           "bgcolor": "#E5ECF6",
           "caxis": {
            "gridcolor": "white",
            "linecolor": "white",
            "ticks": ""
           }
          },
          "title": {
           "x": 0.05
          },
          "xaxis": {
           "automargin": true,
           "gridcolor": "white",
           "linecolor": "white",
           "ticks": "",
           "title": {
            "standoff": 15
           },
           "zerolinecolor": "white",
           "zerolinewidth": 2
          },
          "yaxis": {
           "automargin": true,
           "gridcolor": "white",
           "linecolor": "white",
           "ticks": "",
           "title": {
            "standoff": 15
           },
           "zerolinecolor": "white",
           "zerolinewidth": 2
          }
         }
        },
        "title": {
         "text": "Scatter plot"
        },
        "xaxis": {
         "anchor": "y",
         "domain": [
          0,
          1
         ],
         "title": {
          "text": "Number of views"
         }
        },
        "yaxis": {
         "anchor": "x",
         "domain": [
          0,
          1
         ],
         "title": {
          "text": "Name of channels"
         }
        }
       }
      }
     },
     "metadata": {},
     "output_type": "display_data"
    }
   ],
   "source": [
    "# Scatter Plot:\n",
    "fig = px.scatter(df, x='VIEWS', y='NAME_OF_CHANNEL', color='CATEGORY')\n",
    "fig.update_layout(\n",
    "xaxis_title = 'Number of views',\n",
    "yaxis_title = 'Name of channels',\n",
    "title = 'Scatter plot'\n",
    ")\n",
    "fig.show()\n",
    "# Saving of Plot:\n",
    "fig.write_html('./Plots/Scatter plot.html')"
   ]
  },
  {
   "cell_type": "code",
   "execution_count": 8,
   "metadata": {},
   "outputs": [
    {
     "data": {
      "application/vnd.plotly.v1+json": {
       "config": {
        "plotlyServerURL": "https://plot.ly"
       },
       "data": [
        {
         "hovertemplate": "CATEGORY= Entertainment          <br>SUBSCRIBERS=%{x}<br>NAME_OF_CHANNEL=%{y}<extra></extra>",
         "legendgroup": " Entertainment          ",
         "line": {
          "color": "#636efa",
          "dash": "solid"
         },
         "marker": {
          "symbol": "circle"
         },
         "mode": "lines",
         "name": " Entertainment          ",
         "orientation": "v",
         "showlegend": true,
         "type": "scatter",
         "x": [
          "274M",
          "173M",
          "111M",
          "92.5M",
          "80.7M",
          "73M",
          "63.3M",
          "56.8M",
          "54.8M",
          "54.5M",
          "53.8M",
          "52M",
          "51.1M",
          "50.1M",
          "49.5M",
          "48.5M",
          "48.1M",
          "47.6M",
          "47.5M",
          "46.3M",
          "45.2M",
          "45M",
          "44.7M",
          "43.8M",
          "43.2M",
          "42.9M",
          "41.1M",
          "41M",
          "40.8M",
          "40.6M",
          "40.4M",
          "40.3M",
          "40.3M",
          "39.8M",
          "39M",
          "38.3M",
          "38.3M",
          "38M",
          "38M",
          "37M",
          "36.5M",
          "36.4M",
          "36.2M",
          "35.8M",
          "35.8M",
          "35.3M",
          "35.2M",
          "35M",
          "34.4M",
          "34.3M",
          "34M",
          "33.9M",
          "33.8M",
          "33.7M",
          "33.5M",
          "33.4M",
          "33.4M",
          "33.3M",
          "32.8M",
          "32.8M",
          "32.7M",
          "32.5M",
          "31.7M",
          "31.7M",
          "31.6M",
          "31.6M",
          "31.6M",
          "31.5M",
          "31.4M",
          "31.4M",
          "31.3M",
          "31.3M",
          "31.2M",
          "31.1M",
          "30.7M",
          "30.7M",
          "30.5M",
          "30.4M",
          "30.4M",
          "30.4M",
          "30.4M",
          "30.2M",
          "30.1M",
          "29.8M",
          "29.8M",
          "29.2M",
          "28.8M",
          "28.4M",
          "28.4M",
          "28.4M",
          "28.2M",
          "28.1M",
          "27.8M",
          "27.6M",
          "27.4M",
          "27.4M",
          "27.4M",
          "27.2M",
          "27.1M",
          "26.9M",
          "26.6M",
          "26.6M",
          "26.5M",
          "26.4M",
          "26.4M",
          "26.3M",
          "26.3M",
          "26.1M",
          "26.1M",
          "26M",
          "26M",
          "25.8M",
          "25.7M",
          "25.7M",
          "25.6M",
          "25.6M",
          "25.4M",
          "25.4M",
          "25.3M",
          "25.1M",
          "24.8M",
          "24.5M",
          "24.4M",
          "24.4M",
          "24.4M",
          "24.4M",
          "24.1M",
          "24.1M",
          "24M",
          "23.9M",
          "23.8M",
          "23.8M",
          "23.7M",
          "23.6M",
          "23.6M",
          "23.5M",
          "23.3M",
          "23.3M",
          "23.3M",
          "23.3M",
          "23.1M",
          "23M",
          "22.9M",
          "22.9M",
          "22.9M",
          "22.8M",
          "22.8M",
          "22.7M",
          "22.7M",
          "22.4M",
          "22.3M",
          "22.3M",
          "22.3M",
          "22.2M",
          "22.1M",
          "21.8M",
          "21.6M",
          "21.6M",
          "21.6M",
          "21.6M",
          "21.5M",
          "21.5M",
          "21.4M",
          "21.4M",
          "21.4M",
          "21.4M",
          "21.3M",
          "21.2M",
          "21.2M",
          "21M",
          "20.9M",
          "20.9M",
          "20.9M",
          "20.9M",
          "20.8M",
          "20.8M",
          "20.8M",
          "20.8M",
          "20.8M",
          "20.8M",
          "20.8M",
          "20.7M",
          "20.7M",
          "20.6M",
          "20.5M",
          "20.5M"
         ],
         "xaxis": "x",
         "y": [
          "MrBeast",
          "SET India",
          "PewDiePie",
          "Sony SAB",
          "Zee TV",
          "Colors TV",
          "Stokes Twins",
          "ZAMZAM ELECTRONICS TRADING",
          "A4",
          "HAR PAL GEO",
          "ARY Digital HD",
          "PANDA BOI",
          "Fede Vigevani",
          "Mikecrack",
          "KL BRO Biju Rithvik",
          "आचार्य प्रशान्त - Acharya Prashant",
          "ABS-CBN Entertainment",
          "Voot Kids",
          "Fernanfloo",
          "Felipe Neto",
          "Ishtar Music",
          "Katy Perry",
          "whinderssonnunes",
          "HolaSoyGerman.",
          "Like Nastya Show",
          "Sony PAL",
          "Saregama Music",
          "Dushyant kukreja",
          "GR6 EXPLODE",
          "YouTube",
          "Real fools shorts official",
          "ช่อง one31",
          "elrubiusOMG",
          "MR. INDIAN HACKER",
          "Daddy Yankee",
          "Akshay Nagwadiya",
          "Frost Diamond",
          "LankyBox",
          "Bruno Mars",
          "Maroon 5",
          "WowKidz",
          "KAROL G",
          "Rajshri",
          "CVS 3D Rhymes & Kids Songs",
          "Zee News",
          "Geet MP3",
          "The Weeknd",
          "Lucas and Marcus",
          "SSSniperWolf",
          "J Balvin",
          "Eros Now Music",
          null,
          "Zach King",
          "Beast Reacts",
          "Juan De Dios Pantoja",
          "Dangal TV Channel",
          "rezendeevil",
          "mujjuu___14",
          "DONA 도나",
          "Aditya Movies",
          "Jason Derulo",
          "Shemaroo Movies",
          "ImagineDragons",
          "Talking Tom",
          "infobells - Tamil",
          "The Tonight Show Starring Jimmy Fallon",
          "unknown boy varun",
          "قناة طيور الجنة | toyoraljanahtv",
          "JustinBieberVEVO",
          "AH",
          "Adele",
          "Brent Rivera",
          "NichLmao",
          "Spinnin' Records",
          "Boram Tube Vlog [보람튜브 브이로그]",
          "Indosiar",
          "Goldmines Bollywood",
          "Tsuriki Show",
          "Michael Jackson",
          "Crazy XYZ",
          "ashish chanchlani vines",
          "Shawn Mendes",
          "MaviGadget",
          "Kids TV - Nursery Rhymes And Baby Songs",
          "The Lallantop",
          "Mr DegrEE",
          "Kids Channel India - Hindi Rhymes and Baby Songs",
          "Wiz Khalifa",
          "The Late Late Show with James Corden",
          "Netflix",
          "ABPLIVE",
          "Zach Choi ASMR",
          "Diana and Roma ARA",
          "Alan Becker",
          "Sun TV",
          "Danny Fitt",
          "enchufetv",
          "Diana and Roma HIN",
          "Pen Movies",
          "WORLDSTARHIPHOP",
          "David Guetta",
          "Anuel AA",
          "Vania Mania Kids",
          "Preston",
          "Goldmines Movies",
          "Coldplay",
          "Ultra Movie Parlour",
          "Maya and Mary",
          "Rans Entertainment",
          "_vector_",
          "Peppa Pig Español Latino - Canal Oficial",
          "FaZe Rug",
          "Venus Entertainment",
          "MrBeast en Español",
          "News18 India",
          "BigSchool",
          "netd müzik",
          "Las Ratitas",
          "Chloe Ting",
          "Caín Guzmán",
          "Vlad and Niki Arabic",
          "TED",
          "Koray Zeynep",
          "Valentina Pontes ofc",
          "Sidhu Moose Wala",
          "Amit Bhadana",
          "Narendra Modi",
          "Unbox Therapy",
          "Disney Latinoamérica",
          "Ishtar Punjabi",
          "James Charles",
          "Ninja",
          "SSundee",
          "Jake Fellman",
          "Dua Lipa",
          "Logan Paul",
          "FGTeeV",
          "GMA Public  Affairs",
          "Susy Mouriz",
          "DrossRotzank",
          "Pragati Verma Shorts",
          "Jordan Matter",
          "Taarak Mehta Ka Ooltah Chashmah",
          "Panda Shorts",
          "Infinite",
          "Younes Zarou",
          "Deddy Corbuzier",
          "Justin Flom",
          "Pink Shirt Girl",
          "Rubén Tuesta oficial",
          "Kritika Channel",
          "Ajay Sharma",
          "Busy Fun Ltd",
          "Triggered Insaan",
          "MiawAug",
          "El Payaso Plim Plim",
          "Romeo Santos",
          "News 24",
          "Nasya Official",
          "Tappu Honey Parmar",
          "GH'S",
          "ElTrollino",
          "Ravi sagar88",
          "Brave Wilderness",
          "the Ludo facts",
          "Baim Paula",
          "Linkin Park",
          "CookieSwirlC",
          "Sidemen",
          "Mnet K-POP",
          "Natan por Aí",
          "FIFA",
          "nigahiga",
          "BigChungus",
          "Salman Noman",
          "SCTV",
          "SlivkiShow",
          "Mau McMahon",
          "Chuster",
          "DLS News",
          "Got Talent Global",
          "Gusttavo Lima Oficial",
          "ToRung",
          null,
          "Smile Family Spanish",
          "Marvel Entertainment"
         ],
         "yaxis": "y"
        },
        {
         "hovertemplate": "CATEGORY= Music                  <br>SUBSCRIBERS=%{x}<br>NAME_OF_CHANNEL=%{y}<extra></extra>",
         "legendgroup": " Music                  ",
         "line": {
          "color": "#EF553B",
          "dash": "solid"
         },
         "marker": {
          "symbol": "circle"
         },
         "mode": "lines",
         "name": " Music                  ",
         "orientation": "v",
         "showlegend": true,
         "type": "scatter",
         "x": [
          "267M",
          "107M",
          "93.9M",
          "78.1M",
          "74.9M",
          "73M",
          "68.5M",
          "67.8M",
          "67.1M",
          "66.2M",
          "62M",
          "60.5M",
          "60.3M",
          "60.1M",
          "59.2M",
          "57.1M",
          "54.7M",
          "54.2M",
          "51.7M",
          "51M",
          "48.4M",
          "47.4M",
          "46.2M",
          "45.5M",
          "45.5M",
          "44.5M",
          "43.6M",
          "42.6M",
          "41.8M",
          "40.9M",
          "40.7M",
          "40.5M",
          "39.2M",
          "39.2M",
          "38.2M",
          "37.5M",
          "37.1M",
          "36.8M",
          "36.5M",
          "35.4M",
          "35.3M",
          "35M",
          "34.8M",
          "34.7M",
          "34.6M",
          "34.1M",
          "34.1M",
          "33.9M",
          "33.7M",
          "33.3M",
          "32.7M",
          "32.5M",
          "31.8M",
          "31.8M",
          "31.5M",
          "31.3M",
          "31.2M",
          "30.7M",
          "30.6M",
          "30.4M",
          "30.3M",
          "30.2M",
          "30M",
          "30M",
          "29.1M",
          "28.5M",
          "27.1M",
          "27.1M",
          "27M",
          "26.8M",
          "26.8M",
          "26.7M",
          "26.6M",
          "26.6M",
          "26.4M",
          "26.3M",
          "25.6M",
          "25.5M",
          "25.1M",
          "24.9M",
          "24.8M",
          "24.7M",
          "24.6M",
          "24.6M",
          "24.6M",
          "24.5M",
          "24.5M",
          "24.4M",
          "24.1M",
          "24.1M",
          "24.1M",
          "24M",
          "23.9M",
          "23.7M",
          "23.6M",
          "23.5M",
          "23.3M",
          "22.7M",
          "22.6M",
          "22.5M",
          "22.2M",
          "22.2M",
          "22.1M",
          "21.8M",
          "21.8M",
          "21.7M",
          "21.3M",
          "21.1M",
          "21M",
          "20.9M",
          "20.8M"
         ],
         "xaxis": "x",
         "y": [
          "T-Series",
          "Zee Music Company",
          "BLACKPINK",
          "BANGTANTV",
          "HYBE LABELS",
          "Justin Bieber",
          "Shemaroo Filmi Gaane",
          "T-Series Bhakti Sagar",
          "Canal KondZilla",
          "Tips Official",
          "Wave Music",
          "Sony Music India",
          "EminemMusic",
          "YRF",
          "Taylor Swift",
          "Marshmello",
          "Ed Sheeran",
          "Ariana Grande",
          "Billie Eilish",
          null,
          null,
          "Badabun",
          "Shakira",
          "Alan Walker",
          "Você Sabia?",
          "Alan Chikin Chow",
          "ABP NEWS",
          "MrBeast 2",
          "Total Gaming",
          "TEDx Talks",
          "PowerKids TV",
          "Techno Gamerz",
          "HUM TV",
          "Jingle Toons",
          "TheEllenShow",
          "Alfredo Larin",
          "Ryan's World",
          "Gulshan Kalra",
          "BabyBus - Kids Songs and Cartoons",
          "Peppa Pig - Official Channel",
          "LeoNata Family",
          "Ch3Thailand",
          "DisneyMusicVEVO",
          "Worldwide Records Bhojpuri",
          "Selena Gomez",
          "Priyal Kukreja",
          "VEGETTA777",
          "Desi Music Factory",
          "NoCopyrightSounds",
          "Round2hell",
          "व्लाद और निकिता",
          "SMTOWN",
          "infobells - Telugu",
          "Luis Fonsi",
          "Goldmines Dishoom",
          "Sagawa /さがわ",
          "Tilak",
          "jacksepticeye",
          "Karla Bustillos",
          "Daniel LaBelle",
          "Topper Guild",
          "D Billions",
          "Nick Jr.",
          "Drake",
          "ISSEI / いっせい",
          "Sandeep Maheshwari",
          "dednahype",
          "Beyoncé",
          "shfa show India",
          "Sourav Joshi Vlogs",
          "Nicki Minaj",
          "Chris Brown",
          "Neetu Bisht",
          "Smosh",
          "BB Ki Vines",
          "Rafa & Luiz",
          "jaanvi patel",
          "TaylorSwiftVEVO",
          "Pawan Sahu",
          "Village Cooking Channel",
          "The Royalty Family",
          "Yuya",
          "EminemVEVO",
          "Miss Katy",
          "DUDU e CAROL",
          "KatyPerryVEVO",
          "Beast Philanthropy",
          "DJ Snake",
          "Vijay Television",
          "ViralHog",
          "Eva Bravo Play",
          "Collins Key",
          "Sesame Street",
          "طارق الحلبي tarik alhalapi",
          "Jelly",
          "Technical Guruji",
          "Nick Pro",
          "The Chainsmokers",
          "Paulo Londra",
          "Charlie Puth",
          "Bizarrap",
          "Tekashi 6ix9ine",
          null,
          "NBA",
          "Vsauce",
          "OneDirectionVEVO",
          "XO TEAM",
          "MSA previously My Story Animated",
          "etvteluguindia",
          "Robin Hood Gamer",
          "Canal Canalha"
         ],
         "yaxis": "y"
        },
        {
         "hovertemplate": "CATEGORY= Kids                   <br>SUBSCRIBERS=%{x}<br>NAME_OF_CHANNEL=%{y}<extra></extra>",
         "legendgroup": " Kids                   ",
         "line": {
          "color": "#00cc96",
          "dash": "solid"
         },
         "marker": {
          "symbol": "circle"
         },
         "mode": "lines",
         "name": " Kids                   ",
         "orientation": "v",
         "showlegend": true,
         "type": "scatter",
         "x": [
          "176M",
          "123M",
          "119M",
          "116M",
          "91.3M",
          "64.4M",
          "62.3M",
          "56.7M",
          "47.9M",
          "44.6M",
          "44.4M",
          "43.3M",
          "43.2M",
          "42.7M",
          "42.1M",
          "40.8M",
          "40M",
          "39.4M",
          "37.9M",
          "36.7M",
          "36.6M",
          "36.2M",
          "36M",
          "35.8M",
          "35.4M",
          "34.8M",
          "33.8M",
          "32.6M",
          "31.9M",
          "31.6M",
          "30.3M",
          "30.1M",
          "29.9M",
          "29.4M",
          "29.1M",
          "27.9M",
          "27.8M",
          "27.3M",
          "27.2M",
          "27M",
          "26.5M",
          "26.2M",
          "26.2M",
          "26.2M",
          "25.9M",
          "25.4M",
          "25.3M",
          "24.8M",
          "24.6M",
          "24.6M",
          "24.5M",
          "24.1M",
          "24.1M",
          "24M",
          "23M",
          "23M",
          "22.9M",
          "22.9M",
          "22.8M",
          "22.4M",
          "22.1M",
          "22M",
          "21.9M",
          "21.3M",
          "20.9M",
          "20.9M",
          "20.6M",
          "20.6M"
         ],
         "xaxis": "x",
         "y": [
          "Cocomelon - Nursery Rhymes",
          "✿ Kids Diana Show",
          "Vlad and Niki",
          "Like Nastya",
          "ChuChu TV Nursery Rhymes & Kids Songs",
          "El Reino Infantil",
          "Infobells - Hindi",
          "Toys and Colors",
          "Bad Bunny",
          "BRIGHT SIDE",
          "shfa2 - شفا",
          "StarPlus",
          "Rihanna",
          "Luisito Comunica",
          "CarryMinati",
          "Genevieve's Playhouse - Learning Videos for Kids",
          "Alejo Igoa",
          "AboFlah",
          "Jkk Entertainment",
          "Markiplier",
          "T-Series Apna Punjab",
          "Enaldinho",
          "Junya.じゅんや",
          "Heroindori",
          "GMA  Network",
          "Spider Slack",
          "KHANDESHI MOVIES",
          "Marta and Rustam",
          "Dream",
          "That Little Puff",
          "Trap Nation",
          "Azhan5star",
          "Maluma",
          "Yoeslan",
          "JYP Entertainment",
          "Raffy Tulfo in Action",
          "Ben Azelart",
          "ZHC",
          "ToyPuddingTV",
          "Dan Rhodes",
          "Marília Mendonça",
          "TRANS7 OFFICIAL",
          "Kidibli (Kinder Spielzeug Kanal)",
          "Diana and Roma EN",
          "VanossGaming",
          "WatchMojo.com",
          "SMOL",
          "1theK (원더케이)",
          "Enrique Iglesias",
          "Wave Music Bhojpuri",
          null,
          "GMM GRAMMY OFFICIAL",
          "Lady Gaga",
          "Netflix India",
          "mmoshaya",
          "Wow Kidz Action",
          "승비니 Seungbini",
          "Happy Monkey",
          "BabyBus - Cerita & Lagu Anak-anak",
          "हिंदी - Genevieve's Playhouse",
          "Lyrical Lemonade",
          "Bispo Bruno Leonardo",
          "Dhruv Rathee",
          "Naisa Alifia Yuriza (N.A.Y)",
          "Avicii",
          "شبكة العاب العرب | Arab Games Network",
          null,
          "Clash of Clans"
         ],
         "yaxis": "y"
        },
        {
         "hovertemplate": "CATEGORY= Sports/Entertainment   <br>SUBSCRIBERS=%{x}<br>NAME_OF_CHANNEL=%{y}<extra></extra>",
         "legendgroup": " Sports/Entertainment   ",
         "line": {
          "color": "#ab63fa",
          "dash": "solid"
         },
         "marker": {
          "symbol": "circle"
         },
         "mode": "lines",
         "name": " Sports/Entertainment   ",
         "orientation": "v",
         "showlegend": true,
         "type": "scatter",
         "x": [
          "102M",
          "60.2M"
         ],
         "xaxis": "x",
         "y": [
          "WWE",
          "Dude Perfect"
         ],
         "yaxis": "y"
        },
        {
         "hovertemplate": "CATEGORY= Movies                 <br>SUBSCRIBERS=%{x}<br>NAME_OF_CHANNEL=%{y}<extra></extra>",
         "legendgroup": " Movies                 ",
         "line": {
          "color": "#FFA15A",
          "dash": "solid"
         },
         "marker": {
          "symbol": "circle"
         },
         "mode": "lines",
         "name": " Movies                 ",
         "orientation": "v",
         "showlegend": true,
         "type": "scatter",
         "x": [
          "97.2M",
          "61.4M",
          "53.5M",
          "40.1M",
          "33.3M",
          "32.6M",
          "31.5M",
          "30.5M",
          "27.1M",
          "26.4M",
          "26.3M",
          "24.7M",
          "22.9M",
          "22.6M"
         ],
         "xaxis": "x",
         "y": [
          "Goldmines",
          "Movieclips",
          "Shemaroo",
          "Shorts Break",
          "Mr Bean",
          "Anaya Kandhal",
          "Celine Dept",
          "Ultra Records",
          "Post Malone",
          "LosPolinesios",
          "1MILLION Dance Studio",
          "Filaretiki",
          "RKD Studios",
          "Goldmines Great Indian Comedy"
         ],
         "yaxis": "y"
        },
        {
         "hovertemplate": "CATEGORY= DIY/Education          <br>SUBSCRIBERS=%{x}<br>NAME_OF_CHANNEL=%{y}<extra></extra>",
         "legendgroup": " DIY/Education          ",
         "line": {
          "color": "#19d3f3",
          "dash": "solid"
         },
         "marker": {
          "symbol": "circle"
         },
         "mode": "lines",
         "name": " DIY/Education          ",
         "orientation": "v",
         "showlegend": true,
         "type": "scatter",
         "x": [
          "80.7M"
         ],
         "xaxis": "x",
         "y": [
          "5-Minute Crafts"
         ],
         "yaxis": "y"
        },
        {
         "hovertemplate": "CATEGORY= Kids                <br>SUBSCRIBERS=%{x}<br>NAME_OF_CHANNEL=%{y}<extra></extra>",
         "legendgroup": " Kids                ",
         "line": {
          "color": "#FF6692",
          "dash": "solid"
         },
         "marker": {
          "symbol": "circle"
         },
         "mode": "lines",
         "name": " Kids                ",
         "orientation": "v",
         "showlegend": true,
         "type": "scatter",
         "x": [
          "75.3M",
          "26M"
         ],
         "xaxis": "x",
         "y": [
          "Baby Shark - Pinkfong Kids’ Songs & Stories",
          "Bayashi TV"
         ],
         "yaxis": "y"
        },
        {
         "hovertemplate": "CATEGORY= News                   <br>SUBSCRIBERS=%{x}<br>NAME_OF_CHANNEL=%{y}<extra></extra>",
         "legendgroup": " News                   ",
         "line": {
          "color": "#B6E880",
          "dash": "solid"
         },
         "marker": {
          "symbol": "circle"
         },
         "mode": "lines",
         "name": " News                   ",
         "orientation": "v",
         "showlegend": true,
         "type": "scatter",
         "x": [
          "65.2M",
          "43.8M",
          "41.9M",
          "35.9M",
          "29.8M",
          "28.3M",
          "28M",
          "25.6M",
          "23.9M",
          "23.4M",
          "22.5M",
          "21.9M",
          "21.6M",
          "21.1M",
          "20.8M"
         ],
         "xaxis": "x",
         "y": [
          "Aaj Tak",
          "MrBeast Gaming",
          "Super Simple Songs - Kids Songs",
          "Galinha Pintadinha",
          "Chotanawab",
          "Renato Garcia YT",
          "America's Got Talent",
          "LIV Crime",
          "Troom Troom",
          "Sia",
          "Republic Bharat",
          "Fatos Desconhecidos",
          "And TV",
          "Emiway Bantai",
          "Noor Stars"
         ],
         "yaxis": "y"
        },
        {
         "hovertemplate": "CATEGORY= Kids          <br>SUBSCRIBERS=%{x}<br>NAME_OF_CHANNEL=%{y}<extra></extra>",
         "legendgroup": " Kids          ",
         "line": {
          "color": "#FF97FF",
          "dash": "solid"
         },
         "marker": {
          "symbol": "circle"
         },
         "mode": "lines",
         "name": " Kids          ",
         "orientation": "v",
         "showlegend": true,
         "type": "scatter",
         "x": [
          "56.9M",
          "29.1M"
         ],
         "xaxis": "x",
         "y": [
          "LooLoo Kids - Nursery Rhymes and Children's Songs",
          "AuronPlay"
         ],
         "yaxis": "y"
        },
        {
         "hovertemplate": "CATEGORY= Kids            <br>SUBSCRIBERS=%{x}<br>NAME_OF_CHANNEL=%{y}<extra></extra>",
         "legendgroup": " Kids            ",
         "line": {
          "color": "#FECB52",
          "dash": "solid"
         },
         "marker": {
          "symbol": "circle"
         },
         "mode": "lines",
         "name": " Kids            ",
         "orientation": "v",
         "showlegend": true,
         "type": "scatter",
         "x": [
          "56.8M"
         ],
         "xaxis": "x",
         "y": [
          "BillionSurpriseToys  - Nursery Rhymes & Cartoons"
         ],
         "yaxis": "y"
        },
        {
         "hovertemplate": "CATEGORY= Education              <br>SUBSCRIBERS=%{x}<br>NAME_OF_CHANNEL=%{y}<extra></extra>",
         "legendgroup": " Education              ",
         "line": {
          "color": "#636efa",
          "dash": "solid"
         },
         "marker": {
          "symbol": "circle"
         },
         "mode": "lines",
         "name": " Education              ",
         "orientation": "v",
         "showlegend": true,
         "type": "scatter",
         "x": [
          "53.4M",
          "45.8M",
          "45M",
          "41M",
          "39.9M",
          "31.9M",
          "29.3M",
          "28.7M",
          "25.6M",
          "24.5M",
          "23.2M",
          "23.1M",
          "22.4M",
          "22M",
          "21.9M",
          "21.8M",
          "21.4M",
          "21.2M",
          "20.6M"
         ],
         "xaxis": "x",
         "y": [
          "Mark Rober",
          "Ricis Official",
          "Kimberly Loaiza",
          "TheDonato",
          "Ultra Bollywood",
          "Little Angel: Nursery Rhymes & Kids Songs",
          "Bounce Patrol - Kids Songs",
          "DanTDM",
          "Filmy Suraj Actor",
          "The geeta gurjar",
          "Khan GS Research Centre",
          "National Geographic",
          "Kurzgesagt – In a Nutshell",
          "ANNA KOVA",
          "LazarBeam",
          "Becky G",
          "Tasty",
          "José Comilão",
          "SUPER SLICK SLIME SAM"
         ],
         "yaxis": "y"
        },
        {
         "hovertemplate": "CATEGORY= Gaming/Entertainment   <br>SUBSCRIBERS=%{x}<br>NAME_OF_CHANNEL=%{y}<extra></extra>",
         "legendgroup": " Gaming/Entertainment   ",
         "line": {
          "color": "#EF553B",
          "dash": "solid"
         },
         "marker": {
          "symbol": "circle"
         },
         "mode": "lines",
         "name": " Gaming/Entertainment   ",
         "orientation": "v",
         "showlegend": true,
         "type": "scatter",
         "x": [
          "50.5M",
          "50.2M",
          "49.5M",
          "47.6M",
          "44.1M",
          "44M",
          "42.3M",
          "41M",
          "40.4M",
          "39.8M",
          "38.6M",
          "36.8M",
          "34.7M",
          "34.3M",
          "33.5M",
          "31.9M",
          "30.7M",
          "29.1M",
          "28.8M",
          "28.4M",
          "26.4M",
          "26M",
          "25.8M",
          "25M",
          "24.1M",
          "23.8M",
          "23.7M",
          "23.7M",
          "23.4M",
          "22.6M",
          "22.1M",
          "21.9M",
          "21.5M",
          "21.2M",
          "20.9M",
          "20.7M",
          "20.6M"
         ],
         "xaxis": "x",
         "y": [
          "SonyMusicIndiaVEVO",
          "JuegaGerman",
          "YOLO AVENTURAS",
          "BETER BÖCÜK",
          "Speed Records",
          "LUCCAS NETO - LUCCAS TOON",
          "Maria Clara & JP",
          "Little Baby Bum - Nursery Rhymes & Kids Songs",
          "XXXTENTACION",
          "La Granja de Zenón",
          "One Direction",
          "Ozuna",
          "★ Kids Roma Show",
          "Zhong",
          "Masha y el Oso",
          "GENIAL",
          "Ishaan Ali 11",
          "toycantando",
          "Ami Rodriguez",
          "YOLO",
          "Bobby chourasiya",
          "Sujal Thakral",
          "Vlad and Niki ESP",
          "BabyBus - Canciones Infantiles & Videos para Niños",
          "Like Nastya PRT",
          "SOMOY TV",
          "Sony AATH",
          "deepesh zo",
          "Tlnovelas",
          "DeGoBooM",
          "Smile Family",
          "Ninja Kidz TV",
          "How Ridiculous",
          "Noman Official",
          "Prime Video India",
          "Gordon Ramsay",
          "ZappyToons - Hindi Nursery Rhymes and Stories"
         ],
         "yaxis": "y"
        },
        {
         "hovertemplate": "CATEGORY= Education          <br>SUBSCRIBERS=%{x}<br>NAME_OF_CHANNEL=%{y}<extra></extra>",
         "legendgroup": " Education          ",
         "line": {
          "color": "#00cc96",
          "dash": "solid"
         },
         "marker": {
          "symbol": "circle"
         },
         "mode": "lines",
         "name": " Education          ",
         "orientation": "v",
         "showlegend": true,
         "type": "scatter",
         "x": [
          "49.4M"
         ],
         "xaxis": "x",
         "y": [
          "Jess No Limit"
         ],
         "yaxis": "y"
        },
        {
         "hovertemplate": "CATEGORY= Travel/Entertainment   <br>SUBSCRIBERS=%{x}<br>NAME_OF_CHANNEL=%{y}<extra></extra>",
         "legendgroup": " Travel/Entertainment   ",
         "line": {
          "color": "#ab63fa",
          "dash": "solid"
         },
         "marker": {
          "symbol": "circle"
         },
         "mode": "lines",
         "name": " Travel/Entertainment   ",
         "orientation": "v",
         "showlegend": true,
         "type": "scatter",
         "x": [
          "43M"
         ],
         "xaxis": "x",
         "y": [
          "shfa"
         ],
         "yaxis": "y"
        },
        {
         "hovertemplate": "CATEGORY= Animation              <br>SUBSCRIBERS=%{x}<br>NAME_OF_CHANNEL=%{y}<extra></extra>",
         "legendgroup": " Animation              ",
         "line": {
          "color": "#FFA15A",
          "dash": "solid"
         },
         "marker": {
          "symbol": "circle"
         },
         "mode": "lines",
         "name": " Animation              ",
         "orientation": "v",
         "showlegend": true,
         "type": "scatter",
         "x": [
          "42.1M",
          "27.7M",
          "23.6M",
          "21.2M",
          "21.1M"
         ],
         "xaxis": "x",
         "y": [
          "Goldmines Gaane Sune Ansune",
          "WB Kids",
          "Rotana",
          "Dr. Vivek Bindra: Motivational Speaker",
          "Official Pink Panther"
         ],
         "yaxis": "y"
        },
        {
         "hovertemplate": "CATEGORY= Gaming                 <br>SUBSCRIBERS=%{x}<br>NAME_OF_CHANNEL=%{y}<extra></extra>",
         "legendgroup": " Gaming                 ",
         "line": {
          "color": "#19d3f3",
          "dash": "solid"
         },
         "marker": {
          "symbol": "circle"
         },
         "mode": "lines",
         "name": " Gaming                 ",
         "orientation": "v",
         "showlegend": true,
         "type": "scatter",
         "x": [
          "42M",
          "40.6M"
         ],
         "xaxis": "x",
         "y": [
          "DaFuq!?Boom!",
          "T-Series Bollywood Classics"
         ],
         "yaxis": "y"
        },
        {
         "hovertemplate": "CATEGORY= Kids             <br>SUBSCRIBERS=%{x}<br>NAME_OF_CHANNEL=%{y}<extra></extra>",
         "legendgroup": " Kids             ",
         "line": {
          "color": "#FF6692",
          "dash": "solid"
         },
         "marker": {
          "symbol": "circle"
         },
         "mode": "lines",
         "name": " Kids             ",
         "orientation": "v",
         "showlegend": true,
         "type": "scatter",
         "x": [
          "41.5M",
          "22.4M",
          "20.6M"
         ],
         "xaxis": "x",
         "y": [
          "IndiaTV",
          "Kiddiestv Hindi - Nursery Rhymes & Kids Songs",
          "Aphmau"
         ],
         "yaxis": "y"
        },
        {
         "hovertemplate": "CATEGORY= Kids           <br>SUBSCRIBERS=%{x}<br>NAME_OF_CHANNEL=%{y}<extra></extra>",
         "legendgroup": " Kids           ",
         "line": {
          "color": "#B6E880",
          "dash": "solid"
         },
         "marker": {
          "symbol": "circle"
         },
         "mode": "lines",
         "name": " Kids           ",
         "orientation": "v",
         "showlegend": true,
         "type": "scatter",
         "x": [
          "40.9M"
         ],
         "xaxis": "x",
         "y": [
          "WorkpointOfficial"
         ],
         "yaxis": "y"
        },
        {
         "hovertemplate": "CATEGORY= Platform               <br>SUBSCRIBERS=%{x}<br>NAME_OF_CHANNEL=%{y}<extra></extra>",
         "legendgroup": " Platform               ",
         "line": {
          "color": "#FF97FF",
          "dash": "solid"
         },
         "marker": {
          "symbol": "circle"
         },
         "mode": "lines",
         "name": " Platform               ",
         "orientation": "v",
         "showlegend": true,
         "type": "scatter",
         "x": [
          "40.6M"
         ],
         "xaxis": "x",
         "y": [
          "김프로KIMPRO"
         ],
         "yaxis": "y"
        },
        {
         "hovertemplate": "CATEGORY= toyoraljanahtv <br>SUBSCRIBERS=%{x}<br>NAME_OF_CHANNEL=%{y}<extra></extra>",
         "legendgroup": " toyoraljanahtv ",
         "line": {
          "color": "#636efa",
          "dash": "solid"
         },
         "marker": {
          "symbol": "circle"
         },
         "mode": "lines",
         "name": " toyoraljanahtv ",
         "orientation": "v",
         "showlegend": true,
         "type": "scatter",
         "x": [
          "31.6M"
         ],
         "xaxis": "x",
         "y": [
          "Willie Salim"
         ],
         "yaxis": "y"
        },
        {
         "hovertemplate": "CATEGORY= Kids               <br>SUBSCRIBERS=%{x}<br>NAME_OF_CHANNEL=%{y}<extra></extra>",
         "legendgroup": " Kids               ",
         "line": {
          "color": "#EF553B",
          "dash": "solid"
         },
         "marker": {
          "symbol": "circle"
         },
         "mode": "lines",
         "name": " Kids               ",
         "orientation": "v",
         "showlegend": true,
         "type": "scatter",
         "x": [
          "30.7M"
         ],
         "xaxis": "x",
         "y": [
          "BeatboxJCOP"
         ],
         "yaxis": "y"
        },
        {
         "hovertemplate": "CATEGORY= Fitness/Health         <br>SUBSCRIBERS=%{x}<br>NAME_OF_CHANNEL=%{y}<extra></extra>",
         "legendgroup": " Fitness/Health         ",
         "line": {
          "color": "#00cc96",
          "dash": "solid"
         },
         "marker": {
          "symbol": "circle"
         },
         "mode": "lines",
         "name": " Fitness/Health         ",
         "orientation": "v",
         "showlegend": true,
         "type": "scatter",
         "x": [
          "25.3M"
         ],
         "xaxis": "x",
         "y": [
          "toyorbabytv"
         ],
         "yaxis": "y"
        },
        {
         "hovertemplate": "CATEGORY= Kids         <br>SUBSCRIBERS=%{x}<br>NAME_OF_CHANNEL=%{y}<extra></extra>",
         "legendgroup": " Kids         ",
         "line": {
          "color": "#ab63fa",
          "dash": "solid"
         },
         "marker": {
          "symbol": "circle"
         },
         "mode": "lines",
         "name": " Kids         ",
         "orientation": "v",
         "showlegend": true,
         "type": "scatter",
         "x": [
          "25M"
         ],
         "xaxis": "x",
         "y": [
          "RihannaVEVO"
         ],
         "yaxis": "y"
        },
        {
         "hovertemplate": "CATEGORY= Food                   <br>SUBSCRIBERS=%{x}<br>NAME_OF_CHANNEL=%{y}<extra></extra>",
         "legendgroup": " Food                   ",
         "line": {
          "color": "#FFA15A",
          "dash": "solid"
         },
         "marker": {
          "symbol": "circle"
         },
         "mode": "lines",
         "name": " Food                   ",
         "orientation": "v",
         "showlegend": true,
         "type": "scatter",
         "x": [
          "25M",
          "24.9M",
          "21.4M",
          "20.7M"
         ],
         "xaxis": "x",
         "y": [
          "IShowSpeed",
          "Aja Kitchen",
          "Yudist Ardhana",
          "Jake Paul"
         ],
         "yaxis": "y"
        },
        {
         "hovertemplate": "CATEGORY= Beauty/Lifestyle       <br>SUBSCRIBERS=%{x}<br>NAME_OF_CHANNEL=%{y}<extra></extra>",
         "legendgroup": " Beauty/Lifestyle       ",
         "line": {
          "color": "#19d3f3",
          "dash": "solid"
         },
         "marker": {
          "symbol": "circle"
         },
         "mode": "lines",
         "name": " Beauty/Lifestyle       ",
         "orientation": "v",
         "showlegend": true,
         "type": "scatter",
         "x": [
          "24.7M",
          "23.9M"
         ],
         "xaxis": "x",
         "y": [
          "Goldmines Cineplex",
          "Soy Suco"
         ],
         "yaxis": "y"
        },
        {
         "hovertemplate": "CATEGORY= Charity/Non-profit     <br>SUBSCRIBERS=%{x}<br>NAME_OF_CHANNEL=%{y}<extra></extra>",
         "legendgroup": " Charity/Non-profit     ",
         "line": {
          "color": "#FF6692",
          "dash": "solid"
         },
         "marker": {
          "symbol": "circle"
         },
         "mode": "lines",
         "name": " Charity/Non-profit     ",
         "orientation": "v",
         "showlegend": true,
         "type": "scatter",
         "x": [
          "24.5M"
         ],
         "xaxis": "x",
         "y": [
          "Mister Max"
         ],
         "yaxis": "y"
        },
        {
         "hovertemplate": "CATEGORY= Politics               <br>SUBSCRIBERS=%{x}<br>NAME_OF_CHANNEL=%{y}<extra></extra>",
         "legendgroup": " Politics               ",
         "line": {
          "color": "#B6E880",
          "dash": "solid"
         },
         "marker": {
          "symbol": "circle"
         },
         "mode": "lines",
         "name": " Politics               ",
         "orientation": "v",
         "showlegend": true,
         "type": "scatter",
         "x": [
          "24.1M"
         ],
         "xaxis": "x",
         "y": [
          "invictor"
         ],
         "yaxis": "y"
        },
        {
         "hovertemplate": "CATEGORY= Technology             <br>SUBSCRIBERS=%{x}<br>NAME_OF_CHANNEL=%{y}<extra></extra>",
         "legendgroup": " Technology             ",
         "line": {
          "color": "#FF97FF",
          "dash": "solid"
         },
         "marker": {
          "symbol": "circle"
         },
         "mode": "lines",
         "name": " Technology             ",
         "orientation": "v",
         "showlegend": true,
         "type": "scatter",
         "x": [
          "24.1M",
          "23.6M"
         ],
         "xaxis": "x",
         "y": [
          "KSI",
          "BEN EAGLE"
         ],
         "yaxis": "y"
        },
        {
         "hovertemplate": "CATEGORY= DIY                    <br>SUBSCRIBERS=%{x}<br>NAME_OF_CHANNEL=%{y}<extra></extra>",
         "legendgroup": " DIY                    ",
         "line": {
          "color": "#FECB52",
          "dash": "solid"
         },
         "marker": {
          "symbol": "circle"
         },
         "mode": "lines",
         "name": " DIY                    ",
         "orientation": "v",
         "showlegend": true,
         "type": "scatter",
         "x": [
          "23.9M",
          "20.6M"
         ],
         "xaxis": "x",
         "y": [
          "NickyJamTV",
          "What's Idea"
         ],
         "yaxis": "y"
        },
        {
         "hovertemplate": "CATEGORY= Music                 <br>SUBSCRIBERS=%{x}<br>NAME_OF_CHANNEL=%{y}<extra></extra>",
         "legendgroup": " Music                 ",
         "line": {
          "color": "#636efa",
          "dash": "solid"
         },
         "marker": {
          "symbol": "circle"
         },
         "mode": "lines",
         "name": " Music                 ",
         "orientation": "v",
         "showlegend": true,
         "type": "scatter",
         "x": [
          "23.7M"
         ],
         "xaxis": "x",
         "y": [
          "CuRe 구래"
         ],
         "yaxis": "y"
        },
        {
         "hovertemplate": "CATEGORY= Sports                 <br>SUBSCRIBERS=%{x}<br>NAME_OF_CHANNEL=%{y}<extra></extra>",
         "legendgroup": " Sports                 ",
         "line": {
          "color": "#EF553B",
          "dash": "solid"
         },
         "marker": {
          "symbol": "circle"
         },
         "mode": "lines",
         "name": " Sports                 ",
         "orientation": "v",
         "showlegend": true,
         "type": "scatter",
         "x": [
          "21.8M",
          "20.9M"
         ],
         "xaxis": "x",
         "y": [
          "Dhar Mann Studios",
          "Masha e o Urso"
         ],
         "yaxis": "y"
        },
        {
         "hovertemplate": "CATEGORY= Arab Games Network <br>SUBSCRIBERS=%{x}<br>NAME_OF_CHANNEL=%{y}<extra></extra>",
         "legendgroup": " Arab Games Network ",
         "line": {
          "color": "#00cc96",
          "dash": "solid"
         },
         "marker": {
          "symbol": "circle"
         },
         "mode": "lines",
         "name": " Arab Games Network ",
         "orientation": "v",
         "showlegend": true,
         "type": "scatter",
         "x": [
          "20.9M"
         ],
         "xaxis": "x",
         "y": [
          "Green Gold TV - Official Channel"
         ],
         "yaxis": "y"
        }
       ],
       "layout": {
        "legend": {
         "title": {
          "text": "CATEGORY"
         },
         "tracegroupgap": 0
        },
        "margin": {
         "t": 60
        },
        "template": {
         "data": {
          "bar": [
           {
            "error_x": {
             "color": "#2a3f5f"
            },
            "error_y": {
             "color": "#2a3f5f"
            },
            "marker": {
             "line": {
              "color": "#E5ECF6",
              "width": 0.5
             },
             "pattern": {
              "fillmode": "overlay",
              "size": 10,
              "solidity": 0.2
             }
            },
            "type": "bar"
           }
          ],
          "barpolar": [
           {
            "marker": {
             "line": {
              "color": "#E5ECF6",
              "width": 0.5
             },
             "pattern": {
              "fillmode": "overlay",
              "size": 10,
              "solidity": 0.2
             }
            },
            "type": "barpolar"
           }
          ],
          "carpet": [
           {
            "aaxis": {
             "endlinecolor": "#2a3f5f",
             "gridcolor": "white",
             "linecolor": "white",
             "minorgridcolor": "white",
             "startlinecolor": "#2a3f5f"
            },
            "baxis": {
             "endlinecolor": "#2a3f5f",
             "gridcolor": "white",
             "linecolor": "white",
             "minorgridcolor": "white",
             "startlinecolor": "#2a3f5f"
            },
            "type": "carpet"
           }
          ],
          "choropleth": [
           {
            "colorbar": {
             "outlinewidth": 0,
             "ticks": ""
            },
            "type": "choropleth"
           }
          ],
          "contour": [
           {
            "colorbar": {
             "outlinewidth": 0,
             "ticks": ""
            },
            "colorscale": [
             [
              0,
              "#0d0887"
             ],
             [
              0.1111111111111111,
              "#46039f"
             ],
             [
              0.2222222222222222,
              "#7201a8"
             ],
             [
              0.3333333333333333,
              "#9c179e"
             ],
             [
              0.4444444444444444,
              "#bd3786"
             ],
             [
              0.5555555555555556,
              "#d8576b"
             ],
             [
              0.6666666666666666,
              "#ed7953"
             ],
             [
              0.7777777777777778,
              "#fb9f3a"
             ],
             [
              0.8888888888888888,
              "#fdca26"
             ],
             [
              1,
              "#f0f921"
             ]
            ],
            "type": "contour"
           }
          ],
          "contourcarpet": [
           {
            "colorbar": {
             "outlinewidth": 0,
             "ticks": ""
            },
            "type": "contourcarpet"
           }
          ],
          "heatmap": [
           {
            "colorbar": {
             "outlinewidth": 0,
             "ticks": ""
            },
            "colorscale": [
             [
              0,
              "#0d0887"
             ],
             [
              0.1111111111111111,
              "#46039f"
             ],
             [
              0.2222222222222222,
              "#7201a8"
             ],
             [
              0.3333333333333333,
              "#9c179e"
             ],
             [
              0.4444444444444444,
              "#bd3786"
             ],
             [
              0.5555555555555556,
              "#d8576b"
             ],
             [
              0.6666666666666666,
              "#ed7953"
             ],
             [
              0.7777777777777778,
              "#fb9f3a"
             ],
             [
              0.8888888888888888,
              "#fdca26"
             ],
             [
              1,
              "#f0f921"
             ]
            ],
            "type": "heatmap"
           }
          ],
          "heatmapgl": [
           {
            "colorbar": {
             "outlinewidth": 0,
             "ticks": ""
            },
            "colorscale": [
             [
              0,
              "#0d0887"
             ],
             [
              0.1111111111111111,
              "#46039f"
             ],
             [
              0.2222222222222222,
              "#7201a8"
             ],
             [
              0.3333333333333333,
              "#9c179e"
             ],
             [
              0.4444444444444444,
              "#bd3786"
             ],
             [
              0.5555555555555556,
              "#d8576b"
             ],
             [
              0.6666666666666666,
              "#ed7953"
             ],
             [
              0.7777777777777778,
              "#fb9f3a"
             ],
             [
              0.8888888888888888,
              "#fdca26"
             ],
             [
              1,
              "#f0f921"
             ]
            ],
            "type": "heatmapgl"
           }
          ],
          "histogram": [
           {
            "marker": {
             "pattern": {
              "fillmode": "overlay",
              "size": 10,
              "solidity": 0.2
             }
            },
            "type": "histogram"
           }
          ],
          "histogram2d": [
           {
            "colorbar": {
             "outlinewidth": 0,
             "ticks": ""
            },
            "colorscale": [
             [
              0,
              "#0d0887"
             ],
             [
              0.1111111111111111,
              "#46039f"
             ],
             [
              0.2222222222222222,
              "#7201a8"
             ],
             [
              0.3333333333333333,
              "#9c179e"
             ],
             [
              0.4444444444444444,
              "#bd3786"
             ],
             [
              0.5555555555555556,
              "#d8576b"
             ],
             [
              0.6666666666666666,
              "#ed7953"
             ],
             [
              0.7777777777777778,
              "#fb9f3a"
             ],
             [
              0.8888888888888888,
              "#fdca26"
             ],
             [
              1,
              "#f0f921"
             ]
            ],
            "type": "histogram2d"
           }
          ],
          "histogram2dcontour": [
           {
            "colorbar": {
             "outlinewidth": 0,
             "ticks": ""
            },
            "colorscale": [
             [
              0,
              "#0d0887"
             ],
             [
              0.1111111111111111,
              "#46039f"
             ],
             [
              0.2222222222222222,
              "#7201a8"
             ],
             [
              0.3333333333333333,
              "#9c179e"
             ],
             [
              0.4444444444444444,
              "#bd3786"
             ],
             [
              0.5555555555555556,
              "#d8576b"
             ],
             [
              0.6666666666666666,
              "#ed7953"
             ],
             [
              0.7777777777777778,
              "#fb9f3a"
             ],
             [
              0.8888888888888888,
              "#fdca26"
             ],
             [
              1,
              "#f0f921"
             ]
            ],
            "type": "histogram2dcontour"
           }
          ],
          "mesh3d": [
           {
            "colorbar": {
             "outlinewidth": 0,
             "ticks": ""
            },
            "type": "mesh3d"
           }
          ],
          "parcoords": [
           {
            "line": {
             "colorbar": {
              "outlinewidth": 0,
              "ticks": ""
             }
            },
            "type": "parcoords"
           }
          ],
          "pie": [
           {
            "automargin": true,
            "type": "pie"
           }
          ],
          "scatter": [
           {
            "fillpattern": {
             "fillmode": "overlay",
             "size": 10,
             "solidity": 0.2
            },
            "type": "scatter"
           }
          ],
          "scatter3d": [
           {
            "line": {
             "colorbar": {
              "outlinewidth": 0,
              "ticks": ""
             }
            },
            "marker": {
             "colorbar": {
              "outlinewidth": 0,
              "ticks": ""
             }
            },
            "type": "scatter3d"
           }
          ],
          "scattercarpet": [
           {
            "marker": {
             "colorbar": {
              "outlinewidth": 0,
              "ticks": ""
             }
            },
            "type": "scattercarpet"
           }
          ],
          "scattergeo": [
           {
            "marker": {
             "colorbar": {
              "outlinewidth": 0,
              "ticks": ""
             }
            },
            "type": "scattergeo"
           }
          ],
          "scattergl": [
           {
            "marker": {
             "colorbar": {
              "outlinewidth": 0,
              "ticks": ""
             }
            },
            "type": "scattergl"
           }
          ],
          "scattermapbox": [
           {
            "marker": {
             "colorbar": {
              "outlinewidth": 0,
              "ticks": ""
             }
            },
            "type": "scattermapbox"
           }
          ],
          "scatterpolar": [
           {
            "marker": {
             "colorbar": {
              "outlinewidth": 0,
              "ticks": ""
             }
            },
            "type": "scatterpolar"
           }
          ],
          "scatterpolargl": [
           {
            "marker": {
             "colorbar": {
              "outlinewidth": 0,
              "ticks": ""
             }
            },
            "type": "scatterpolargl"
           }
          ],
          "scatterternary": [
           {
            "marker": {
             "colorbar": {
              "outlinewidth": 0,
              "ticks": ""
             }
            },
            "type": "scatterternary"
           }
          ],
          "surface": [
           {
            "colorbar": {
             "outlinewidth": 0,
             "ticks": ""
            },
            "colorscale": [
             [
              0,
              "#0d0887"
             ],
             [
              0.1111111111111111,
              "#46039f"
             ],
             [
              0.2222222222222222,
              "#7201a8"
             ],
             [
              0.3333333333333333,
              "#9c179e"
             ],
             [
              0.4444444444444444,
              "#bd3786"
             ],
             [
              0.5555555555555556,
              "#d8576b"
             ],
             [
              0.6666666666666666,
              "#ed7953"
             ],
             [
              0.7777777777777778,
              "#fb9f3a"
             ],
             [
              0.8888888888888888,
              "#fdca26"
             ],
             [
              1,
              "#f0f921"
             ]
            ],
            "type": "surface"
           }
          ],
          "table": [
           {
            "cells": {
             "fill": {
              "color": "#EBF0F8"
             },
             "line": {
              "color": "white"
             }
            },
            "header": {
             "fill": {
              "color": "#C8D4E3"
             },
             "line": {
              "color": "white"
             }
            },
            "type": "table"
           }
          ]
         },
         "layout": {
          "annotationdefaults": {
           "arrowcolor": "#2a3f5f",
           "arrowhead": 0,
           "arrowwidth": 1
          },
          "autotypenumbers": "strict",
          "coloraxis": {
           "colorbar": {
            "outlinewidth": 0,
            "ticks": ""
           }
          },
          "colorscale": {
           "diverging": [
            [
             0,
             "#8e0152"
            ],
            [
             0.1,
             "#c51b7d"
            ],
            [
             0.2,
             "#de77ae"
            ],
            [
             0.3,
             "#f1b6da"
            ],
            [
             0.4,
             "#fde0ef"
            ],
            [
             0.5,
             "#f7f7f7"
            ],
            [
             0.6,
             "#e6f5d0"
            ],
            [
             0.7,
             "#b8e186"
            ],
            [
             0.8,
             "#7fbc41"
            ],
            [
             0.9,
             "#4d9221"
            ],
            [
             1,
             "#276419"
            ]
           ],
           "sequential": [
            [
             0,
             "#0d0887"
            ],
            [
             0.1111111111111111,
             "#46039f"
            ],
            [
             0.2222222222222222,
             "#7201a8"
            ],
            [
             0.3333333333333333,
             "#9c179e"
            ],
            [
             0.4444444444444444,
             "#bd3786"
            ],
            [
             0.5555555555555556,
             "#d8576b"
            ],
            [
             0.6666666666666666,
             "#ed7953"
            ],
            [
             0.7777777777777778,
             "#fb9f3a"
            ],
            [
             0.8888888888888888,
             "#fdca26"
            ],
            [
             1,
             "#f0f921"
            ]
           ],
           "sequentialminus": [
            [
             0,
             "#0d0887"
            ],
            [
             0.1111111111111111,
             "#46039f"
            ],
            [
             0.2222222222222222,
             "#7201a8"
            ],
            [
             0.3333333333333333,
             "#9c179e"
            ],
            [
             0.4444444444444444,
             "#bd3786"
            ],
            [
             0.5555555555555556,
             "#d8576b"
            ],
            [
             0.6666666666666666,
             "#ed7953"
            ],
            [
             0.7777777777777778,
             "#fb9f3a"
            ],
            [
             0.8888888888888888,
             "#fdca26"
            ],
            [
             1,
             "#f0f921"
            ]
           ]
          },
          "colorway": [
           "#636efa",
           "#EF553B",
           "#00cc96",
           "#ab63fa",
           "#FFA15A",
           "#19d3f3",
           "#FF6692",
           "#B6E880",
           "#FF97FF",
           "#FECB52"
          ],
          "font": {
           "color": "#2a3f5f"
          },
          "geo": {
           "bgcolor": "white",
           "lakecolor": "white",
           "landcolor": "#E5ECF6",
           "showlakes": true,
           "showland": true,
           "subunitcolor": "white"
          },
          "hoverlabel": {
           "align": "left"
          },
          "hovermode": "closest",
          "mapbox": {
           "style": "light"
          },
          "paper_bgcolor": "white",
          "plot_bgcolor": "#E5ECF6",
          "polar": {
           "angularaxis": {
            "gridcolor": "white",
            "linecolor": "white",
            "ticks": ""
           },
           "bgcolor": "#E5ECF6",
           "radialaxis": {
            "gridcolor": "white",
            "linecolor": "white",
            "ticks": ""
           }
          },
          "scene": {
           "xaxis": {
            "backgroundcolor": "#E5ECF6",
            "gridcolor": "white",
            "gridwidth": 2,
            "linecolor": "white",
            "showbackground": true,
            "ticks": "",
            "zerolinecolor": "white"
           },
           "yaxis": {
            "backgroundcolor": "#E5ECF6",
            "gridcolor": "white",
            "gridwidth": 2,
            "linecolor": "white",
            "showbackground": true,
            "ticks": "",
            "zerolinecolor": "white"
           },
           "zaxis": {
            "backgroundcolor": "#E5ECF6",
            "gridcolor": "white",
            "gridwidth": 2,
            "linecolor": "white",
            "showbackground": true,
            "ticks": "",
            "zerolinecolor": "white"
           }
          },
          "shapedefaults": {
           "line": {
            "color": "#2a3f5f"
           }
          },
          "ternary": {
           "aaxis": {
            "gridcolor": "white",
            "linecolor": "white",
            "ticks": ""
           },
           "baxis": {
            "gridcolor": "white",
            "linecolor": "white",
            "ticks": ""
           },
           "bgcolor": "#E5ECF6",
           "caxis": {
            "gridcolor": "white",
            "linecolor": "white",
            "ticks": ""
           }
          },
          "title": {
           "x": 0.05
          },
          "xaxis": {
           "automargin": true,
           "gridcolor": "white",
           "linecolor": "white",
           "ticks": "",
           "title": {
            "standoff": 15
           },
           "zerolinecolor": "white",
           "zerolinewidth": 2
          },
          "yaxis": {
           "automargin": true,
           "gridcolor": "white",
           "linecolor": "white",
           "ticks": "",
           "title": {
            "standoff": 15
           },
           "zerolinecolor": "white",
           "zerolinewidth": 2
          }
         }
        },
        "title": {
         "text": "A Line plot"
        },
        "xaxis": {
         "anchor": "y",
         "domain": [
          0,
          1
         ],
         "title": {
          "text": "Number of subscribers"
         }
        },
        "yaxis": {
         "anchor": "x",
         "domain": [
          0,
          1
         ],
         "title": {
          "text": "Name of channels"
         }
        }
       }
      }
     },
     "metadata": {},
     "output_type": "display_data"
    }
   ],
   "source": [
    "# Line Plot:\n",
    "fig = px.line(df, x='SUBSCRIBERS', y='NAME_OF_CHANNEL', color='CATEGORY')\n",
    "fig.update_layout(\n",
    "xaxis_title = 'Number of subscribers',\n",
    "yaxis_title = 'Name of channels',\n",
    "title = 'A Line plot'\n",
    ")\n",
    "fig.show()\n",
    "# Saving of Plot:\n",
    "fig.write_image('./Plots/Line plot.png')"
   ]
  },
  {
   "cell_type": "code",
   "execution_count": 10,
   "metadata": {},
   "outputs": [],
   "source": [
    "import plotly.graph_objects as go"
   ]
  },
  {
   "cell_type": "code",
   "execution_count": 34,
   "metadata": {},
   "outputs": [
    {
     "data": {
      "application/vnd.plotly.v1+json": {
       "config": {
        "plotlyServerURL": "https://plot.ly"
       },
       "data": [
        {
         "hovertemplate": "CATEGORY= Entertainment          <br>VIEWS=%{x}<br>SUBSCRIBERS=%{y}<br>TOTAL_NUMBER_OF_VIDEOS=%{z}<extra></extra>",
         "legendgroup": " Entertainment          ",
         "marker": {
          "color": "#636efa",
          "symbol": "circle"
         },
         "mode": "markers",
         "name": " Entertainment          ",
         "scene": "scene",
         "showlegend": true,
         "type": "scatter3d",
         "x": [
          "50.98B",
          "164.71B",
          "29.31B",
          "115.24B",
          "89.41B",
          "70.94B",
          "9.28B",
          "26.05B",
          "28.7B",
          "53.63B",
          "51.02B",
          "24.22B",
          "14.16B",
          "18.53B",
          "39.21B",
          "2.65B",
          "54.86B",
          "22.8B",
          "10.6B",
          "17.67B",
          "19.29B",
          "26.8B",
          "4.51B",
          "4.89B",
          "20.45B",
          "32.75B",
          "19.56B",
          "24.95B",
          "28.12B",
          "3.03B",
          "17.34B",
          "28.29B",
          "7.45B",
          "7B",
          "24.37B",
          "12.1B",
          "9.31B",
          "43.11B",
          "21.03B",
          "24.1B",
          "19.09B",
          "23.88B",
          "16.56B",
          "21.71B",
          "21.2B",
          "13.72B",
          "27.43B",
          "14.32B",
          "25.06B",
          "24B",
          "17.72B",
          "13.72B",
          "13.06B",
          "6.07B",
          "3.78B",
          "22.77B",
          "13.46B",
          "18.66B",
          "22.29B",
          "12.62B",
          "23.4B",
          "8.92B",
          "18.71B",
          "16.21B",
          "19.71B",
          "17.63B",
          "12.73B",
          "28.95B",
          "27.79B",
          "5.17B",
          "15.6B",
          "8.46B",
          "17.07B",
          "20.73B",
          "13.77B",
          "5.99B",
          "10B",
          "37.99B",
          "16.03B",
          "8.94B",
          "4.76B",
          "13.71B",
          "26.99B",
          "14.64B",
          "12.47B",
          "25.41B",
          "11.95B",
          "14.13B",
          "10.13B",
          "8.5B",
          "9.46B",
          "9.37B",
          "12.6B",
          "6.91B",
          "28.96B",
          "12.84B",
          "10.7B",
          "12.51B",
          "7.94B",
          "21.05B",
          "19.49B",
          "17.37B",
          "12.86B",
          "9.91B",
          "6.53B",
          "19.06B",
          "5.38B",
          "7.32B",
          "6.81B",
          "18.21B",
          "9.12B",
          "8.69B",
          "6.1B",
          "3B",
          "12.14B",
          "11.27B",
          "61.01B",
          "9.89B",
          "3.19B",
          "12.96B",
          "11.73B",
          "2.72B",
          "22.63B",
          "8.66B",
          "7.49B",
          "2.47B",
          "5.58B",
          "4.69B",
          "22.22B",
          "11.9B",
          "4.38B",
          "2.67B",
          "15.2B",
          "15.07B",
          "13.18B",
          "6.01B",
          "24.93B",
          "14.7B",
          "9.99B",
          "6.35B",
          "9.95B",
          "8.03B",
          "17.41B",
          "10.43B",
          "5.68B",
          "20.72B",
          "6.03B",
          "20.51B",
          "11.55B",
          "13.83B",
          "16.96B",
          "14.12B",
          "9.34B",
          "4.04B",
          "6.84B",
          "23.49B",
          "19.28B",
          "11.29B",
          "11.2B",
          "9.15B",
          "16.36B",
          "6.45B",
          "8.81B",
          "5.14B",
          "4.87B",
          "4.66B",
          "15.1B",
          "8.46B",
          "6.21B",
          "16.33B",
          "14.51B",
          "6.52B",
          "4.4B",
          "4.07B",
          "12.11B",
          "9.7B",
          "5B",
          "4.63B",
          "3.56B",
          "2.73B",
          "2.64B",
          "15.8B",
          "14.38B",
          "3.2B",
          "7.63B",
          "6.01B"
         ],
         "y": [
          "274M",
          "173M",
          "111M",
          "92.5M",
          "80.7M",
          "73M",
          "63.3M",
          "56.8M",
          "54.8M",
          "54.5M",
          "53.8M",
          "52M",
          "51.1M",
          "50.1M",
          "49.5M",
          "48.5M",
          "48.1M",
          "47.6M",
          "47.5M",
          "46.3M",
          "45.2M",
          "45M",
          "44.7M",
          "43.8M",
          "43.2M",
          "42.9M",
          "41.1M",
          "41M",
          "40.8M",
          "40.6M",
          "40.4M",
          "40.3M",
          "40.3M",
          "39.8M",
          "39M",
          "38.3M",
          "38.3M",
          "38M",
          "38M",
          "37M",
          "36.5M",
          "36.4M",
          "36.2M",
          "35.8M",
          "35.8M",
          "35.3M",
          "35.2M",
          "35M",
          "34.4M",
          "34.3M",
          "34M",
          "33.9M",
          "33.8M",
          "33.7M",
          "33.5M",
          "33.4M",
          "33.4M",
          "33.3M",
          "32.8M",
          "32.8M",
          "32.7M",
          "32.5M",
          "31.7M",
          "31.7M",
          "31.6M",
          "31.6M",
          "31.6M",
          "31.5M",
          "31.4M",
          "31.4M",
          "31.3M",
          "31.3M",
          "31.2M",
          "31.1M",
          "30.7M",
          "30.7M",
          "30.5M",
          "30.4M",
          "30.4M",
          "30.4M",
          "30.4M",
          "30.2M",
          "30.1M",
          "29.8M",
          "29.8M",
          "29.2M",
          "28.8M",
          "28.4M",
          "28.4M",
          "28.4M",
          "28.2M",
          "28.1M",
          "27.8M",
          "27.6M",
          "27.4M",
          "27.4M",
          "27.4M",
          "27.2M",
          "27.1M",
          "26.9M",
          "26.6M",
          "26.6M",
          "26.5M",
          "26.4M",
          "26.4M",
          "26.3M",
          "26.3M",
          "26.1M",
          "26.1M",
          "26M",
          "26M",
          "25.8M",
          "25.7M",
          "25.7M",
          "25.6M",
          "25.6M",
          "25.4M",
          "25.4M",
          "25.3M",
          "25.1M",
          "24.8M",
          "24.5M",
          "24.4M",
          "24.4M",
          "24.4M",
          "24.4M",
          "24.1M",
          "24.1M",
          "24M",
          "23.9M",
          "23.8M",
          "23.8M",
          "23.7M",
          "23.6M",
          "23.6M",
          "23.5M",
          "23.3M",
          "23.3M",
          "23.3M",
          "23.3M",
          "23.1M",
          "23M",
          "22.9M",
          "22.9M",
          "22.9M",
          "22.8M",
          "22.8M",
          "22.7M",
          "22.7M",
          "22.4M",
          "22.3M",
          "22.3M",
          "22.3M",
          "22.2M",
          "22.1M",
          "21.8M",
          "21.6M",
          "21.6M",
          "21.6M",
          "21.6M",
          "21.5M",
          "21.5M",
          "21.4M",
          "21.4M",
          "21.4M",
          "21.4M",
          "21.3M",
          "21.2M",
          "21.2M",
          "21M",
          "20.9M",
          "20.9M",
          "20.9M",
          "20.9M",
          "20.8M",
          "20.8M",
          "20.8M",
          "20.8M",
          "20.8M",
          "20.8M",
          "20.8M",
          "20.7M",
          "20.7M",
          "20.6M",
          "20.5M",
          "20.5M"
         ],
         "z": [
          "799",
          "138.97K",
          "4.77K",
          "85.72K",
          "175.68K",
          "151.75K",
          "304",
          "17.66K",
          "915",
          "133.64K",
          "139.17K",
          "1.1K",
          "1.33K",
          "2.04K",
          "2.53K",
          "10.26K",
          "225.08K",
          "5.83K",
          "546",
          "4.89K",
          "4.61K",
          "142",
          "779",
          "136",
          "709",
          "28.32K",
          "8.72K",
          "1.19K",
          "3.36K",
          "723",
          "549",
          "143.73K",
          "702",
          "1.03K",
          "558",
          "902",
          "3.35K",
          "11.57K",
          "100",
          "182",
          "7.67K",
          "161",
          "4.37K",
          "338",
          "174.48K",
          "739",
          "172",
          "1.77K",
          "3.58K",
          "210",
          "9.73K",
          "1.06K",
          "643",
          "238",
          "376",
          "31.1K",
          "12.17K",
          "1.07K",
          "173",
          "7.7K",
          "3.19K",
          "3.39K",
          "139",
          "650",
          "649",
          "10.28K",
          "697",
          "3.34K",
          "204",
          "3.91K",
          "15",
          "658",
          "1.07K",
          "12.23K",
          "232",
          "7.69K",
          "4.74K",
          "3.99K",
          "17",
          "1.36K",
          "157",
          "133",
          "4.95K",
          "4.07K",
          "55.65K",
          "1.68K",
          "1.33K",
          "747",
          "5.79K",
          "7.31K",
          "221.76K",
          "1.33K",
          "672",
          "199",
          "90.87K",
          "2.69K",
          "2.06K",
          "662",
          "1.75K",
          "7.11K",
          "853",
          "155",
          "1.23K",
          "4.12K",
          "5.77K",
          "424",
          "1.97K",
          "561",
          "4.22K",
          "540",
          "1.56K",
          "2.31K",
          "1.98K",
          "67",
          "256.22K",
          "3.67K",
          "25.6K",
          "225",
          "440",
          "3.64K",
          "612",
          "4.73K",
          "3.19K",
          "1.84K",
          "116",
          "110",
          "26.82K",
          "2.32K",
          "8.29K",
          "6.42K",
          "581",
          "2.03K",
          "3.53K",
          "441",
          "270",
          "717",
          "1.82K",
          "46.62K",
          "1.65K",
          "1.7K",
          "1.17K",
          "464",
          "9.73K",
          "954",
          "1.67K",
          "3.2K",
          "1.62K",
          "933",
          "1.08K",
          "1.17K",
          "4.39K",
          "1.17K",
          "251",
          "342",
          "4.07K",
          "1.62K",
          "56",
          "294.08K",
          "944",
          "2.18K",
          "849",
          "1.56K",
          "1.92K",
          "1.01K",
          "1.27K",
          "2.47K",
          "807",
          "1.38K",
          "358",
          "37.67K",
          "1.52K",
          "11.33K",
          "403",
          "691",
          "1.05K",
          "53.69K",
          "485",
          "868",
          "870",
          "5.7K",
          "1.46K",
          "568",
          "260",
          "587",
          "563",
          "8.97K"
         ]
        },
        {
         "hovertemplate": "CATEGORY= Music                  <br>VIEWS=%{x}<br>SUBSCRIBERS=%{y}<br>TOTAL_NUMBER_OF_VIDEOS=%{z}<extra></extra>",
         "legendgroup": " Music                  ",
         "marker": {
          "color": "#EF553B",
          "symbol": "circle"
         },
         "mode": "markers",
         "name": " Music                  ",
         "scene": "scene",
         "showlegend": true,
         "type": "scatter3d",
         "x": [
          "257.16B",
          "66.84B",
          "36.02B",
          "22.97B",
          "34.26B",
          "32.31B",
          "29.3B",
          "34.04B",
          "38.29B",
          "38.83B",
          "42.76B",
          "31.93B",
          "29.73B",
          "41.11B",
          "35.44B",
          "15.74B",
          "32.44B",
          "26.21B",
          "15.72B",
          "32.93B",
          "40.38B",
          "19.75B",
          "30.35B",
          "14.12B",
          "8.11B",
          "39.1B",
          "17.05B",
          "7.34B",
          "4.21B",
          "7.88B",
          "21.55B",
          "11.76B",
          "33.12B",
          "13B",
          "23.15B",
          "30.01B",
          "57.67B",
          "16.42B",
          "28.69B",
          "25.89B",
          "37.65B",
          "22.81B",
          "31.98B",
          "18.11B",
          "14B",
          "20.45B",
          "15.79B",
          "10.61B",
          "11.12B",
          "3.42B",
          "19.17B",
          "29.45B",
          "17.21B",
          "15.79B",
          "9.75B",
          "25.04B",
          "12.54B",
          "16.77B",
          "7.79B",
          "17.01B",
          "18.97B",
          "38.77B",
          "23.94B",
          "17.89B",
          "27.35B",
          "2.43B",
          "28.22B",
          "18.76B",
          "17.97B",
          "12.72B",
          "11.26B",
          "17.2B",
          "19.04B",
          "10.8B",
          "4.97B",
          "9.42B",
          "11.2B",
          "28.31B",
          "11.14B",
          "7.33B",
          "8.06B",
          "2.59B",
          "22.01B",
          "15.62B",
          "12.4B",
          "24.65B",
          "797.36M",
          "9.02B",
          "40.34B",
          "29.44B",
          "11.13B",
          "6.81B",
          "23.92B",
          "13.31B",
          "15.09B",
          "3.68B",
          "9.12B",
          "15.02B",
          "8.64B",
          "10.81B",
          "9.24B",
          "6.35B",
          "14.06B",
          "14.09B",
          "4.11B",
          "12.63B",
          "18.08B",
          "9.9B",
          "25.78B",
          "11.01B",
          "1.91B"
         ],
         "y": [
          "267M",
          "107M",
          "93.9M",
          "78.1M",
          "74.9M",
          "73M",
          "68.5M",
          "67.8M",
          "67.1M",
          "66.2M",
          "62M",
          "60.5M",
          "60.3M",
          "60.1M",
          "59.2M",
          "57.1M",
          "54.7M",
          "54.2M",
          "51.7M",
          "51M",
          "48.4M",
          "47.4M",
          "46.2M",
          "45.5M",
          "45.5M",
          "44.5M",
          "43.6M",
          "42.6M",
          "41.8M",
          "40.9M",
          "40.7M",
          "40.5M",
          "39.2M",
          "39.2M",
          "38.2M",
          "37.5M",
          "37.1M",
          "36.8M",
          "36.5M",
          "35.4M",
          "35.3M",
          "35M",
          "34.8M",
          "34.7M",
          "34.6M",
          "34.1M",
          "34.1M",
          "33.9M",
          "33.7M",
          "33.3M",
          "32.7M",
          "32.5M",
          "31.8M",
          "31.8M",
          "31.5M",
          "31.3M",
          "31.2M",
          "30.7M",
          "30.6M",
          "30.4M",
          "30.3M",
          "30.2M",
          "30M",
          "30M",
          "29.1M",
          "28.5M",
          "27.1M",
          "27.1M",
          "27M",
          "26.8M",
          "26.8M",
          "26.7M",
          "26.6M",
          "26.6M",
          "26.4M",
          "26.3M",
          "25.6M",
          "25.5M",
          "25.1M",
          "24.9M",
          "24.8M",
          "24.7M",
          "24.6M",
          "24.6M",
          "24.6M",
          "24.5M",
          "24.5M",
          "24.4M",
          "24.1M",
          "24.1M",
          "24.1M",
          "24M",
          "23.9M",
          "23.7M",
          "23.6M",
          "23.5M",
          "23.3M",
          "22.7M",
          "22.6M",
          "22.5M",
          "22.2M",
          "22.2M",
          "22.1M",
          "21.8M",
          "21.8M",
          "21.7M",
          "21.3M",
          "21.1M",
          "21M",
          "20.9M",
          "20.8M"
         ],
         "z": [
          "21.12K",
          "11.22K",
          "596",
          "2.51K",
          "1.85K",
          "249",
          "8.58K",
          "28.01K",
          "2.81K",
          "5.82K",
          "20.15K",
          "4.69K",
          "165",
          "4.1K",
          "268",
          "484",
          "474",
          "190",
          "122",
          "3.5K",
          "1.73K",
          "21.79K",
          "358",
          "579",
          "1.69K",
          "1.23K",
          "379.59K",
          "118",
          "501",
          "216.91K",
          "8.08K",
          "1.04K",
          "142.19K",
          "252",
          "16.91K",
          "1.8K",
          "2.82K",
          "668",
          "2.44K",
          "6.45K",
          "3.32K",
          "79.37K",
          "2.3K",
          "7.19K",
          "193",
          "1.07K",
          "7.98K",
          "193",
          "1.67K",
          "68",
          "618",
          "4.36K",
          "599",
          "290",
          "4.91K",
          "8.42K",
          "10.01K",
          "5.2K",
          "1.13K",
          "335",
          "992",
          "1.05K",
          "5.48K",
          "64",
          "2.72K",
          "635",
          "3.08K",
          "254",
          "553",
          "1.71K",
          "72",
          "56",
          "2.25K",
          "1.85K",
          "192",
          "3.52K",
          "637",
          "307",
          "1.92K",
          "236",
          "777",
          "672",
          "106",
          "1.09K",
          "3.04K",
          "167",
          "42",
          "297",
          "73.13K",
          "46.69K",
          "318",
          "257",
          "3.73K",
          "1.12K",
          "6.43K",
          "5.46K",
          "727",
          "218",
          "63",
          "163",
          "89",
          "61",
          "2.6K",
          "58.31K",
          "530",
          "266",
          "5.42K",
          "912",
          "141.1K",
          "4.31K",
          "299"
         ]
        },
        {
         "hovertemplate": "CATEGORY= Kids                   <br>VIEWS=%{x}<br>SUBSCRIBERS=%{y}<br>TOTAL_NUMBER_OF_VIDEOS=%{z}<extra></extra>",
         "legendgroup": " Kids                   ",
         "marker": {
          "color": "#00cc96",
          "symbol": "circle"
         },
         "mode": "markers",
         "name": " Kids                   ",
         "scene": "scene",
         "showlegend": true,
         "type": "scatter3d",
         "x": [
          "182.88B",
          "103.5B",
          "90.94B",
          "100.9B",
          "51.03B",
          "60.42B",
          "36.12B",
          "65.66B",
          "35.01B",
          "11.15B",
          "27.62B",
          "43.07B",
          "24.34B",
          "9.74B",
          "3.76B",
          "30.66B",
          "16.82B",
          "5.83B",
          "16.93B",
          "21.48B",
          "23.62B",
          "15.58B",
          "21.74B",
          "12.91B",
          "27.37B",
          "19.5B",
          "11.72B",
          "27.35B",
          "3.11B",
          "26.42B",
          "14.45B",
          "12.41B",
          "23.15B",
          "26.33B",
          "22.52B",
          "16.26B",
          "6.56B",
          "3.27B",
          "16.2B",
          "18.79B",
          "19.72B",
          "15.27B",
          "13.42B",
          "8.66B",
          "16.02B",
          "16.85B",
          "25.61B",
          "25.22B",
          "19.06B",
          "14.33B",
          "23.01B",
          "27.12B",
          "17.27B",
          "9.82B",
          "18.2B",
          "9.98B",
          "16.95B",
          "1.39K",
          "13.58B",
          "12.12B",
          "11.42B",
          "5.46B",
          "2.86B",
          "488.84M",
          "10.9B",
          "9.52B",
          "9.38B",
          "4.55B"
         ],
         "y": [
          "176M",
          "123M",
          "119M",
          "116M",
          "91.3M",
          "64.4M",
          "62.3M",
          "56.7M",
          "47.9M",
          "44.6M",
          "44.4M",
          "43.3M",
          "43.2M",
          "42.7M",
          "42.1M",
          "40.8M",
          "40M",
          "39.4M",
          "37.9M",
          "36.7M",
          "36.6M",
          "36.2M",
          "36M",
          "35.8M",
          "35.4M",
          "34.8M",
          "33.8M",
          "32.6M",
          "31.9M",
          "31.6M",
          "30.3M",
          "30.1M",
          "29.9M",
          "29.4M",
          "29.1M",
          "27.9M",
          "27.8M",
          "27.3M",
          "27.2M",
          "27M",
          "26.5M",
          "26.2M",
          "26.2M",
          "26.2M",
          "25.9M",
          "25.4M",
          "25.3M",
          "24.8M",
          "24.6M",
          "24.6M",
          "24.5M",
          "24.1M",
          "24.1M",
          "24M",
          "23M",
          "23M",
          "22.9M",
          "22.9M",
          "22.8M",
          "22.4M",
          "22.1M",
          "22M",
          "21.9M",
          "21.3M",
          "20.9M",
          "20.9M",
          "20.6M",
          "20.6M"
         ],
         "z": [
          "1.18K",
          "1.22K",
          "721",
          "885",
          "792",
          "1.48K",
          "674",
          "1.24K",
          "155",
          "7.95K",
          "1.76K",
          "90.19K",
          "85",
          "1.36K",
          "197",
          "642",
          "1.07K",
          "705",
          "236",
          "5.6K",
          "8.5K",
          "4.3K",
          "8.34K",
          "653",
          "137.83K",
          "1.24K",
          "234",
          "1.09K",
          "116",
          "924",
          "2.88K",
          "886",
          "45",
          "989",
          "2.09K",
          "11.23K",
          "343",
          "319",
          "2.42K",
          "1.67K",
          "200",
          "97.68K",
          "1.19K",
          "591",
          "1.91K",
          "27.11K",
          "5.34K",
          "20.08K",
          "525",
          "23.8K",
          "3.81K",
          "17.12K",
          "179",
          "4.59K",
          "1.22K",
          "3.76K",
          "470",
          "1",
          "1.17K",
          "120",
          "440",
          "6.21K",
          "622",
          "180",
          "178",
          "7.24K",
          "606",
          "868"
         ]
        },
        {
         "hovertemplate": "CATEGORY= Sports/Entertainment   <br>VIEWS=%{x}<br>SUBSCRIBERS=%{y}<br>TOTAL_NUMBER_OF_VIDEOS=%{z}<extra></extra>",
         "legendgroup": " Sports/Entertainment   ",
         "marker": {
          "color": "#ab63fa",
          "symbol": "circle"
         },
         "mode": "markers",
         "name": " Sports/Entertainment   ",
         "scene": "scene",
         "showlegend": true,
         "type": "scatter3d",
         "x": [
          "84.98B",
          "17.42B"
         ],
         "y": [
          "102M",
          "60.2M"
         ],
         "z": [
          "76.61K",
          "437"
         ]
        },
        {
         "hovertemplate": "CATEGORY= Movies                 <br>VIEWS=%{x}<br>SUBSCRIBERS=%{y}<br>TOTAL_NUMBER_OF_VIDEOS=%{z}<extra></extra>",
         "legendgroup": " Movies                 ",
         "marker": {
          "color": "#FFA15A",
          "symbol": "circle"
         },
         "mode": "markers",
         "name": " Movies                 ",
         "scene": "scene",
         "showlegend": true,
         "type": "scatter3d",
         "x": [
          "29.04B",
          "62.2B",
          "24.55B",
          "27.61B",
          "11.21B",
          "27.4B",
          "17.34B",
          "17.59B",
          "16.31B",
          "7.95B",
          "8.22B",
          "24.98B",
          "5.72B",
          "6.28B"
         ],
         "y": [
          "97.2M",
          "61.4M",
          "53.5M",
          "40.1M",
          "33.3M",
          "32.6M",
          "31.5M",
          "30.5M",
          "27.1M",
          "26.4M",
          "26.3M",
          "24.7M",
          "22.9M",
          "22.6M"
         ],
         "z": [
          "8.55K",
          "40.61K",
          "12.25K",
          "615",
          "3.48K",
          "1.35K",
          "768",
          "5.06K",
          "108",
          "1.07K",
          "7.47K",
          "3.42K",
          "928",
          "4.1K"
         ]
        },
        {
         "hovertemplate": "CATEGORY= DIY/Education          <br>VIEWS=%{x}<br>SUBSCRIBERS=%{y}<br>TOTAL_NUMBER_OF_VIDEOS=%{z}<extra></extra>",
         "legendgroup": " DIY/Education          ",
         "marker": {
          "color": "#19d3f3",
          "symbol": "circle"
         },
         "mode": "markers",
         "name": " DIY/Education          ",
         "scene": "scene",
         "showlegend": true,
         "type": "scatter3d",
         "x": [
          "27.39B"
         ],
         "y": [
          "80.7M"
         ],
         "z": [
          "7.05K"
         ]
        },
        {
         "hovertemplate": "CATEGORY= Kids                <br>VIEWS=%{x}<br>SUBSCRIBERS=%{y}<br>TOTAL_NUMBER_OF_VIDEOS=%{z}<extra></extra>",
         "legendgroup": " Kids                ",
         "marker": {
          "color": "#FF6692",
          "symbol": "circle"
         },
         "mode": "markers",
         "name": " Kids                ",
         "scene": "scene",
         "showlegend": true,
         "type": "scatter3d",
         "x": [
          "43.81B",
          "15.33B"
         ],
         "y": [
          "75.3M",
          "26M"
         ],
         "z": [
          "3.24K",
          "1.32K"
         ]
        },
        {
         "hovertemplate": "CATEGORY= News                   <br>VIEWS=%{x}<br>SUBSCRIBERS=%{y}<br>TOTAL_NUMBER_OF_VIDEOS=%{z}<extra></extra>",
         "legendgroup": " News                   ",
         "marker": {
          "color": "#B6E880",
          "symbol": "circle"
         },
         "mode": "markers",
         "name": " News                   ",
         "scene": "scene",
         "showlegend": true,
         "type": "scatter3d",
         "x": [
          "31.73B",
          "7.86B",
          "50.79B",
          "32.4B",
          "13.71B",
          "8.71B",
          "4.77B",
          "13.55B",
          "10.36B",
          "14.48B",
          "12.16B",
          "4.19B",
          "19.19B",
          "3.88B",
          "2.93B"
         ],
         "y": [
          "65.2M",
          "43.8M",
          "41.9M",
          "35.9M",
          "29.8M",
          "28.3M",
          "28M",
          "25.6M",
          "23.9M",
          "23.4M",
          "22.5M",
          "21.9M",
          "21.6M",
          "21.1M",
          "20.8M"
         ],
         "z": [
          "365.35K",
          "141",
          "791",
          "65",
          "2.05K",
          "4.38K",
          "2.12K",
          "15.27K",
          "2.72K",
          "268",
          "169.4K",
          "7.05K",
          "47.93K",
          "266",
          "710"
         ]
        },
        {
         "hovertemplate": "CATEGORY= Kids          <br>VIEWS=%{x}<br>SUBSCRIBERS=%{y}<br>TOTAL_NUMBER_OF_VIDEOS=%{z}<extra></extra>",
         "legendgroup": " Kids          ",
         "marker": {
          "color": "#FF97FF",
          "symbol": "circle"
         },
         "mode": "markers",
         "name": " Kids          ",
         "scene": "scene",
         "showlegend": true,
         "type": "scatter3d",
         "x": [
          "34.45B",
          "4.13B"
         ],
         "y": [
          "56.9M",
          "29.1M"
         ],
         "z": [
          "842",
          "402"
         ]
        },
        {
         "hovertemplate": "CATEGORY= Kids            <br>VIEWS=%{x}<br>SUBSCRIBERS=%{y}<br>TOTAL_NUMBER_OF_VIDEOS=%{z}<extra></extra>",
         "legendgroup": " Kids            ",
         "marker": {
          "color": "#FECB52",
          "symbol": "circle"
         },
         "mode": "markers",
         "name": " Kids            ",
         "scene": "scene",
         "showlegend": true,
         "type": "scatter3d",
         "x": [
          "11.6B"
         ],
         "y": [
          "56.8M"
         ],
         "z": [
          "1.05K"
         ]
        },
        {
         "hovertemplate": "CATEGORY= Education              <br>VIEWS=%{x}<br>SUBSCRIBERS=%{y}<br>TOTAL_NUMBER_OF_VIDEOS=%{z}<extra></extra>",
         "legendgroup": " Education              ",
         "marker": {
          "color": "#636efa",
          "symbol": "circle"
         },
         "mode": "markers",
         "name": " Education              ",
         "scene": "scene",
         "showlegend": true,
         "type": "scatter3d",
         "x": [
          "6.32B",
          "7.71B",
          "6.57B",
          "7.54B",
          "15.96B",
          "24.35B",
          "22.54B",
          "19.83B",
          "11.85B",
          "18.81B",
          "2.34B",
          "6.01B",
          "2.78B",
          "20.79B",
          "9.41B",
          "11.65B",
          "6.13B",
          "2.17B",
          "8.28B"
         ],
         "y": [
          "53.4M",
          "45.8M",
          "45M",
          "41M",
          "39.9M",
          "31.9M",
          "29.3M",
          "28.7M",
          "25.6M",
          "24.5M",
          "23.2M",
          "23.1M",
          "22.4M",
          "22M",
          "21.9M",
          "21.8M",
          "21.4M",
          "21.2M",
          "20.6M"
         ],
         "z": [
          "156",
          "4.32K",
          "316",
          "3.51K",
          "9.36K",
          "1.53K",
          "373",
          "3.71K",
          "308",
          "1.64K",
          "380",
          "10.46K",
          "230",
          "3.91K",
          "1.34K",
          "90",
          "5.35K",
          "288",
          "1.18K"
         ]
        },
        {
         "hovertemplate": "CATEGORY= Gaming/Entertainment   <br>VIEWS=%{x}<br>SUBSCRIBERS=%{y}<br>TOTAL_NUMBER_OF_VIDEOS=%{z}<extra></extra>",
         "legendgroup": " Gaming/Entertainment   ",
         "marker": {
          "color": "#EF553B",
          "symbol": "circle"
         },
         "mode": "markers",
         "name": " Gaming/Entertainment   ",
         "scene": "scene",
         "showlegend": true,
         "type": "scatter3d",
         "x": [
          "30.91B",
          "15.44B",
          "16.18B",
          "28.4B",
          "28.89B",
          "25.3B",
          "27.61B",
          "40.51B",
          "11.07B",
          "31.12B",
          "14.34B",
          "24.96B",
          "13.92B",
          "16.84B",
          "16.49B",
          "6.98B",
          "17.84B",
          "17.52B",
          "4.75B",
          "2.14B",
          "13.53B",
          "5.23B",
          "10.53B",
          "14.64B",
          "12.88B",
          "16.02B",
          "17.57B",
          "9.87B",
          "17.32B",
          "7.16B",
          "8.87B",
          "12.21B",
          "12.38B",
          "7.25B",
          "11.27B",
          "4.13B",
          "9.23B"
         ],
         "y": [
          "50.5M",
          "50.2M",
          "49.5M",
          "47.6M",
          "44.1M",
          "44M",
          "42.3M",
          "41M",
          "40.4M",
          "39.8M",
          "38.6M",
          "36.8M",
          "34.7M",
          "34.3M",
          "33.5M",
          "31.9M",
          "30.7M",
          "29.1M",
          "28.8M",
          "28.4M",
          "26.4M",
          "26M",
          "25.8M",
          "25M",
          "24.1M",
          "23.8M",
          "23.7M",
          "23.7M",
          "23.4M",
          "22.6M",
          "22.1M",
          "21.9M",
          "21.5M",
          "21.2M",
          "20.9M",
          "20.7M",
          "20.6M"
         ],
         "z": [
          "3.75K",
          "2.17K",
          "2.37K",
          "4.74K",
          "11.49K",
          "2.73K",
          "821",
          "2.65K",
          "135",
          "737",
          "157",
          "233",
          "713",
          "1.74K",
          "1.37K",
          "8.18K",
          "1.29K",
          "796",
          "617",
          "292",
          "539",
          "615",
          "601",
          "1.49K",
          "738",
          "196.75K",
          "21.95K",
          "860",
          "53.86K",
          "5.46K",
          "746",
          "324",
          "721",
          "815",
          "10.21K",
          "1.72K",
          "532"
         ]
        },
        {
         "hovertemplate": "CATEGORY= Education          <br>VIEWS=%{x}<br>SUBSCRIBERS=%{y}<br>TOTAL_NUMBER_OF_VIDEOS=%{z}<extra></extra>",
         "legendgroup": " Education          ",
         "marker": {
          "color": "#00cc96",
          "symbol": "circle"
         },
         "mode": "markers",
         "name": " Education          ",
         "scene": "scene",
         "showlegend": true,
         "type": "scatter3d",
         "x": [
          "6.46B"
         ],
         "y": [
          "49.4M"
         ],
         "z": [
          "2.92K"
         ]
        },
        {
         "hovertemplate": "CATEGORY= Travel/Entertainment   <br>VIEWS=%{x}<br>SUBSCRIBERS=%{y}<br>TOTAL_NUMBER_OF_VIDEOS=%{z}<extra></extra>",
         "legendgroup": " Travel/Entertainment   ",
         "marker": {
          "color": "#ab63fa",
          "symbol": "circle"
         },
         "mode": "markers",
         "name": " Travel/Entertainment   ",
         "scene": "scene",
         "showlegend": true,
         "type": "scatter3d",
         "x": [
          "25.02B"
         ],
         "y": [
          "43M"
         ],
         "z": [
          "1.12K"
         ]
        },
        {
         "hovertemplate": "CATEGORY= Animation              <br>VIEWS=%{x}<br>SUBSCRIBERS=%{y}<br>TOTAL_NUMBER_OF_VIDEOS=%{z}<extra></extra>",
         "legendgroup": " Animation              ",
         "marker": {
          "color": "#FFA15A",
          "symbol": "circle"
         },
         "mode": "markers",
         "name": " Animation              ",
         "scene": "scene",
         "showlegend": true,
         "type": "scatter3d",
         "x": [
          "18.94B",
          "12.6B",
          "22.43B",
          "1.94B",
          "11.87B"
         ],
         "y": [
          "42.1M",
          "27.7M",
          "23.6M",
          "21.2M",
          "21.1M"
         ],
         "z": [
          "3.79K",
          "2.26K",
          "8.7K",
          "1.31K",
          "815"
         ]
        },
        {
         "hovertemplate": "CATEGORY= Gaming                 <br>VIEWS=%{x}<br>SUBSCRIBERS=%{y}<br>TOTAL_NUMBER_OF_VIDEOS=%{z}<extra></extra>",
         "legendgroup": " Gaming                 ",
         "marker": {
          "color": "#19d3f3",
          "symbol": "circle"
         },
         "mode": "markers",
         "name": " Gaming                 ",
         "scene": "scene",
         "showlegend": true,
         "type": "scatter3d",
         "x": [
          "16.6B",
          "26.49B"
         ],
         "y": [
          "42M",
          "40.6M"
         ],
         "z": [
          "294",
          "2.06K"
         ]
        },
        {
         "hovertemplate": "CATEGORY= Kids             <br>VIEWS=%{x}<br>SUBSCRIBERS=%{y}<br>TOTAL_NUMBER_OF_VIDEOS=%{z}<extra></extra>",
         "legendgroup": " Kids             ",
         "marker": {
          "color": "#FF6692",
          "symbol": "circle"
         },
         "mode": "markers",
         "name": " Kids             ",
         "scene": "scene",
         "showlegend": true,
         "type": "scatter3d",
         "x": [
          "20.1B",
          "8.06B",
          "22.28B"
         ],
         "y": [
          "41.5M",
          "22.4M",
          "20.6M"
         ],
         "z": [
          "304.44K",
          "257",
          "4.94K"
         ]
        },
        {
         "hovertemplate": "CATEGORY= Kids           <br>VIEWS=%{x}<br>SUBSCRIBERS=%{y}<br>TOTAL_NUMBER_OF_VIDEOS=%{z}<extra></extra>",
         "legendgroup": " Kids           ",
         "marker": {
          "color": "#B6E880",
          "symbol": "circle"
         },
         "mode": "markers",
         "name": " Kids           ",
         "scene": "scene",
         "showlegend": true,
         "type": "scatter3d",
         "x": [
          "38.44B"
         ],
         "y": [
          "40.9M"
         ],
         "z": [
          "83.9K"
         ]
        },
        {
         "hovertemplate": "CATEGORY= Platform               <br>VIEWS=%{x}<br>SUBSCRIBERS=%{y}<br>TOTAL_NUMBER_OF_VIDEOS=%{z}<extra></extra>",
         "legendgroup": " Platform               ",
         "marker": {
          "color": "#FF97FF",
          "symbol": "circle"
         },
         "mode": "markers",
         "name": " Platform               ",
         "scene": "scene",
         "showlegend": true,
         "type": "scatter3d",
         "x": [
          "39.28B"
         ],
         "y": [
          "40.6M"
         ],
         "z": [
          "3.16K"
         ]
        },
        {
         "hovertemplate": "CATEGORY= toyoraljanahtv <br>VIEWS=%{x}<br>SUBSCRIBERS=%{y}<br>TOTAL_NUMBER_OF_VIDEOS=%{z}<extra></extra>",
         "legendgroup": " toyoraljanahtv ",
         "marker": {
          "color": "#636efa",
          "symbol": "circle"
         },
         "mode": "markers",
         "name": " toyoraljanahtv ",
         "scene": "scene",
         "showlegend": true,
         "type": "scatter3d",
         "x": [
          "5.15B"
         ],
         "y": [
          "31.6M"
         ],
         "z": [
          "941"
         ]
        },
        {
         "hovertemplate": "CATEGORY= Kids               <br>VIEWS=%{x}<br>SUBSCRIBERS=%{y}<br>TOTAL_NUMBER_OF_VIDEOS=%{z}<extra></extra>",
         "legendgroup": " Kids               ",
         "marker": {
          "color": "#EF553B",
          "symbol": "circle"
         },
         "mode": "markers",
         "name": " Kids               ",
         "scene": "scene",
         "showlegend": true,
         "type": "scatter3d",
         "x": [
          "13.82B"
         ],
         "y": [
          "30.7M"
         ],
         "z": [
          "977"
         ]
        },
        {
         "hovertemplate": "CATEGORY= Fitness/Health         <br>VIEWS=%{x}<br>SUBSCRIBERS=%{y}<br>TOTAL_NUMBER_OF_VIDEOS=%{z}<extra></extra>",
         "legendgroup": " Fitness/Health         ",
         "marker": {
          "color": "#00cc96",
          "symbol": "circle"
         },
         "mode": "markers",
         "name": " Fitness/Health         ",
         "scene": "scene",
         "showlegend": true,
         "type": "scatter3d",
         "x": [
          "18.5B"
         ],
         "y": [
          "25.3M"
         ],
         "z": [
          "1.3K"
         ]
        },
        {
         "hovertemplate": "CATEGORY= Kids         <br>VIEWS=%{x}<br>SUBSCRIBERS=%{y}<br>TOTAL_NUMBER_OF_VIDEOS=%{z}<extra></extra>",
         "legendgroup": " Kids         ",
         "marker": {
          "color": "#ab63fa",
          "symbol": "circle"
         },
         "mode": "markers",
         "name": " Kids         ",
         "scene": "scene",
         "showlegend": true,
         "type": "scatter3d",
         "x": [
          "20.45B"
         ],
         "y": [
          "25M"
         ],
         "z": [
          "118"
         ]
        },
        {
         "hovertemplate": "CATEGORY= Food                   <br>VIEWS=%{x}<br>SUBSCRIBERS=%{y}<br>TOTAL_NUMBER_OF_VIDEOS=%{z}<extra></extra>",
         "legendgroup": " Food                   ",
         "marker": {
          "color": "#FFA15A",
          "symbol": "circle"
         },
         "mode": "markers",
         "name": " Food                   ",
         "scene": "scene",
         "showlegend": true,
         "type": "scatter3d",
         "x": [
          "2.5B",
          "15.25B",
          "8.58B",
          "7.59B"
         ],
         "y": [
          "25M",
          "24.9M",
          "21.4M",
          "20.7M"
         ],
         "z": [
          "1.4K",
          "1.85K",
          "3.95K",
          "1.32K"
         ]
        },
        {
         "hovertemplate": "CATEGORY= Beauty/Lifestyle       <br>VIEWS=%{x}<br>SUBSCRIBERS=%{y}<br>TOTAL_NUMBER_OF_VIDEOS=%{z}<extra></extra>",
         "legendgroup": " Beauty/Lifestyle       ",
         "marker": {
          "color": "#19d3f3",
          "symbol": "circle"
         },
         "mode": "markers",
         "name": " Beauty/Lifestyle       ",
         "scene": "scene",
         "showlegend": true,
         "type": "scatter3d",
         "x": [
          "3.19B",
          "4.16B"
         ],
         "y": [
          "24.7M",
          "23.9M"
         ],
         "z": [
          "4.37K",
          "756"
         ]
        },
        {
         "hovertemplate": "CATEGORY= Charity/Non-profit     <br>VIEWS=%{x}<br>SUBSCRIBERS=%{y}<br>TOTAL_NUMBER_OF_VIDEOS=%{z}<extra></extra>",
         "legendgroup": " Charity/Non-profit     ",
         "marker": {
          "color": "#FF6692",
          "symbol": "circle"
         },
         "mode": "markers",
         "name": " Charity/Non-profit     ",
         "scene": "scene",
         "showlegend": true,
         "type": "scatter3d",
         "x": [
          "16.07B"
         ],
         "y": [
          "24.5M"
         ],
         "z": [
          "1.15K"
         ]
        },
        {
         "hovertemplate": "CATEGORY= Politics               <br>VIEWS=%{x}<br>SUBSCRIBERS=%{y}<br>TOTAL_NUMBER_OF_VIDEOS=%{z}<extra></extra>",
         "legendgroup": " Politics               ",
         "marker": {
          "color": "#B6E880",
          "symbol": "circle"
         },
         "mode": "markers",
         "name": " Politics               ",
         "scene": "scene",
         "showlegend": true,
         "type": "scatter3d",
         "x": [
          "9.44B"
         ],
         "y": [
          "24.1M"
         ],
         "z": [
          "2.58K"
         ]
        },
        {
         "hovertemplate": "CATEGORY= Technology             <br>VIEWS=%{x}<br>SUBSCRIBERS=%{y}<br>TOTAL_NUMBER_OF_VIDEOS=%{z}<extra></extra>",
         "legendgroup": " Technology             ",
         "marker": {
          "color": "#FF97FF",
          "symbol": "circle"
         },
         "mode": "markers",
         "name": " Technology             ",
         "scene": "scene",
         "showlegend": true,
         "type": "scatter3d",
         "x": [
          "6.02B",
          "11.5B"
         ],
         "y": [
          "24.1M",
          "23.6M"
         ],
         "z": [
          "1.25K",
          "4.27K"
         ]
        },
        {
         "hovertemplate": "CATEGORY= DIY                    <br>VIEWS=%{x}<br>SUBSCRIBERS=%{y}<br>TOTAL_NUMBER_OF_VIDEOS=%{z}<extra></extra>",
         "legendgroup": " DIY                    ",
         "marker": {
          "color": "#FECB52",
          "symbol": "circle"
         },
         "mode": "markers",
         "name": " DIY                    ",
         "scene": "scene",
         "showlegend": true,
         "type": "scatter3d",
         "x": [
          "16.58B",
          "1.91B"
         ],
         "y": [
          "23.9M",
          "20.6M"
         ],
         "z": [
          "468",
          "205"
         ]
        },
        {
         "hovertemplate": "CATEGORY= Music                 <br>VIEWS=%{x}<br>SUBSCRIBERS=%{y}<br>TOTAL_NUMBER_OF_VIDEOS=%{z}<extra></extra>",
         "legendgroup": " Music                 ",
         "marker": {
          "color": "#636efa",
          "symbol": "circle"
         },
         "mode": "markers",
         "name": " Music                 ",
         "scene": "scene",
         "showlegend": true,
         "type": "scatter3d",
         "x": [
          "15.9B"
         ],
         "y": [
          "23.7M"
         ],
         "z": [
          "475"
         ]
        },
        {
         "hovertemplate": "CATEGORY= Sports                 <br>VIEWS=%{x}<br>SUBSCRIBERS=%{y}<br>TOTAL_NUMBER_OF_VIDEOS=%{z}<extra></extra>",
         "legendgroup": " Sports                 ",
         "marker": {
          "color": "#EF553B",
          "symbol": "circle"
         },
         "mode": "markers",
         "name": " Sports                 ",
         "scene": "scene",
         "showlegend": true,
         "type": "scatter3d",
         "x": [
          "14.69B",
          "9.46B"
         ],
         "y": [
          "21.8M",
          "20.9M"
         ],
         "z": [
          "1.28K",
          "1.38K"
         ]
        },
        {
         "hovertemplate": "CATEGORY= Arab Games Network <br>VIEWS=%{x}<br>SUBSCRIBERS=%{y}<br>TOTAL_NUMBER_OF_VIDEOS=%{z}<extra></extra>",
         "legendgroup": " Arab Games Network ",
         "marker": {
          "color": "#00cc96",
          "symbol": "circle"
         },
         "mode": "markers",
         "name": " Arab Games Network ",
         "scene": "scene",
         "showlegend": true,
         "type": "scatter3d",
         "x": [
          "10.12B"
         ],
         "y": [
          "20.9M"
         ],
         "z": [
          "1.81K"
         ]
        }
       ],
       "layout": {
        "legend": {
         "title": {
          "text": "CATEGORY"
         },
         "tracegroupgap": 0
        },
        "margin": {
         "t": 60
        },
        "scene": {
         "domain": {
          "x": [
           0,
           1
          ],
          "y": [
           0,
           1
          ]
         },
         "xaxis": {
          "title": {
           "text": "VIEWS"
          }
         },
         "yaxis": {
          "title": {
           "text": "SUBSCRIBERS"
          }
         },
         "zaxis": {
          "title": {
           "text": "Total number of Videos"
          }
         }
        },
        "template": {
         "data": {
          "bar": [
           {
            "error_x": {
             "color": "#2a3f5f"
            },
            "error_y": {
             "color": "#2a3f5f"
            },
            "marker": {
             "line": {
              "color": "#E5ECF6",
              "width": 0.5
             },
             "pattern": {
              "fillmode": "overlay",
              "size": 10,
              "solidity": 0.2
             }
            },
            "type": "bar"
           }
          ],
          "barpolar": [
           {
            "marker": {
             "line": {
              "color": "#E5ECF6",
              "width": 0.5
             },
             "pattern": {
              "fillmode": "overlay",
              "size": 10,
              "solidity": 0.2
             }
            },
            "type": "barpolar"
           }
          ],
          "carpet": [
           {
            "aaxis": {
             "endlinecolor": "#2a3f5f",
             "gridcolor": "white",
             "linecolor": "white",
             "minorgridcolor": "white",
             "startlinecolor": "#2a3f5f"
            },
            "baxis": {
             "endlinecolor": "#2a3f5f",
             "gridcolor": "white",
             "linecolor": "white",
             "minorgridcolor": "white",
             "startlinecolor": "#2a3f5f"
            },
            "type": "carpet"
           }
          ],
          "choropleth": [
           {
            "colorbar": {
             "outlinewidth": 0,
             "ticks": ""
            },
            "type": "choropleth"
           }
          ],
          "contour": [
           {
            "colorbar": {
             "outlinewidth": 0,
             "ticks": ""
            },
            "colorscale": [
             [
              0,
              "#0d0887"
             ],
             [
              0.1111111111111111,
              "#46039f"
             ],
             [
              0.2222222222222222,
              "#7201a8"
             ],
             [
              0.3333333333333333,
              "#9c179e"
             ],
             [
              0.4444444444444444,
              "#bd3786"
             ],
             [
              0.5555555555555556,
              "#d8576b"
             ],
             [
              0.6666666666666666,
              "#ed7953"
             ],
             [
              0.7777777777777778,
              "#fb9f3a"
             ],
             [
              0.8888888888888888,
              "#fdca26"
             ],
             [
              1,
              "#f0f921"
             ]
            ],
            "type": "contour"
           }
          ],
          "contourcarpet": [
           {
            "colorbar": {
             "outlinewidth": 0,
             "ticks": ""
            },
            "type": "contourcarpet"
           }
          ],
          "heatmap": [
           {
            "colorbar": {
             "outlinewidth": 0,
             "ticks": ""
            },
            "colorscale": [
             [
              0,
              "#0d0887"
             ],
             [
              0.1111111111111111,
              "#46039f"
             ],
             [
              0.2222222222222222,
              "#7201a8"
             ],
             [
              0.3333333333333333,
              "#9c179e"
             ],
             [
              0.4444444444444444,
              "#bd3786"
             ],
             [
              0.5555555555555556,
              "#d8576b"
             ],
             [
              0.6666666666666666,
              "#ed7953"
             ],
             [
              0.7777777777777778,
              "#fb9f3a"
             ],
             [
              0.8888888888888888,
              "#fdca26"
             ],
             [
              1,
              "#f0f921"
             ]
            ],
            "type": "heatmap"
           }
          ],
          "heatmapgl": [
           {
            "colorbar": {
             "outlinewidth": 0,
             "ticks": ""
            },
            "colorscale": [
             [
              0,
              "#0d0887"
             ],
             [
              0.1111111111111111,
              "#46039f"
             ],
             [
              0.2222222222222222,
              "#7201a8"
             ],
             [
              0.3333333333333333,
              "#9c179e"
             ],
             [
              0.4444444444444444,
              "#bd3786"
             ],
             [
              0.5555555555555556,
              "#d8576b"
             ],
             [
              0.6666666666666666,
              "#ed7953"
             ],
             [
              0.7777777777777778,
              "#fb9f3a"
             ],
             [
              0.8888888888888888,
              "#fdca26"
             ],
             [
              1,
              "#f0f921"
             ]
            ],
            "type": "heatmapgl"
           }
          ],
          "histogram": [
           {
            "marker": {
             "pattern": {
              "fillmode": "overlay",
              "size": 10,
              "solidity": 0.2
             }
            },
            "type": "histogram"
           }
          ],
          "histogram2d": [
           {
            "colorbar": {
             "outlinewidth": 0,
             "ticks": ""
            },
            "colorscale": [
             [
              0,
              "#0d0887"
             ],
             [
              0.1111111111111111,
              "#46039f"
             ],
             [
              0.2222222222222222,
              "#7201a8"
             ],
             [
              0.3333333333333333,
              "#9c179e"
             ],
             [
              0.4444444444444444,
              "#bd3786"
             ],
             [
              0.5555555555555556,
              "#d8576b"
             ],
             [
              0.6666666666666666,
              "#ed7953"
             ],
             [
              0.7777777777777778,
              "#fb9f3a"
             ],
             [
              0.8888888888888888,
              "#fdca26"
             ],
             [
              1,
              "#f0f921"
             ]
            ],
            "type": "histogram2d"
           }
          ],
          "histogram2dcontour": [
           {
            "colorbar": {
             "outlinewidth": 0,
             "ticks": ""
            },
            "colorscale": [
             [
              0,
              "#0d0887"
             ],
             [
              0.1111111111111111,
              "#46039f"
             ],
             [
              0.2222222222222222,
              "#7201a8"
             ],
             [
              0.3333333333333333,
              "#9c179e"
             ],
             [
              0.4444444444444444,
              "#bd3786"
             ],
             [
              0.5555555555555556,
              "#d8576b"
             ],
             [
              0.6666666666666666,
              "#ed7953"
             ],
             [
              0.7777777777777778,
              "#fb9f3a"
             ],
             [
              0.8888888888888888,
              "#fdca26"
             ],
             [
              1,
              "#f0f921"
             ]
            ],
            "type": "histogram2dcontour"
           }
          ],
          "mesh3d": [
           {
            "colorbar": {
             "outlinewidth": 0,
             "ticks": ""
            },
            "type": "mesh3d"
           }
          ],
          "parcoords": [
           {
            "line": {
             "colorbar": {
              "outlinewidth": 0,
              "ticks": ""
             }
            },
            "type": "parcoords"
           }
          ],
          "pie": [
           {
            "automargin": true,
            "type": "pie"
           }
          ],
          "scatter": [
           {
            "fillpattern": {
             "fillmode": "overlay",
             "size": 10,
             "solidity": 0.2
            },
            "type": "scatter"
           }
          ],
          "scatter3d": [
           {
            "line": {
             "colorbar": {
              "outlinewidth": 0,
              "ticks": ""
             }
            },
            "marker": {
             "colorbar": {
              "outlinewidth": 0,
              "ticks": ""
             }
            },
            "type": "scatter3d"
           }
          ],
          "scattercarpet": [
           {
            "marker": {
             "colorbar": {
              "outlinewidth": 0,
              "ticks": ""
             }
            },
            "type": "scattercarpet"
           }
          ],
          "scattergeo": [
           {
            "marker": {
             "colorbar": {
              "outlinewidth": 0,
              "ticks": ""
             }
            },
            "type": "scattergeo"
           }
          ],
          "scattergl": [
           {
            "marker": {
             "colorbar": {
              "outlinewidth": 0,
              "ticks": ""
             }
            },
            "type": "scattergl"
           }
          ],
          "scattermapbox": [
           {
            "marker": {
             "colorbar": {
              "outlinewidth": 0,
              "ticks": ""
             }
            },
            "type": "scattermapbox"
           }
          ],
          "scatterpolar": [
           {
            "marker": {
             "colorbar": {
              "outlinewidth": 0,
              "ticks": ""
             }
            },
            "type": "scatterpolar"
           }
          ],
          "scatterpolargl": [
           {
            "marker": {
             "colorbar": {
              "outlinewidth": 0,
              "ticks": ""
             }
            },
            "type": "scatterpolargl"
           }
          ],
          "scatterternary": [
           {
            "marker": {
             "colorbar": {
              "outlinewidth": 0,
              "ticks": ""
             }
            },
            "type": "scatterternary"
           }
          ],
          "surface": [
           {
            "colorbar": {
             "outlinewidth": 0,
             "ticks": ""
            },
            "colorscale": [
             [
              0,
              "#0d0887"
             ],
             [
              0.1111111111111111,
              "#46039f"
             ],
             [
              0.2222222222222222,
              "#7201a8"
             ],
             [
              0.3333333333333333,
              "#9c179e"
             ],
             [
              0.4444444444444444,
              "#bd3786"
             ],
             [
              0.5555555555555556,
              "#d8576b"
             ],
             [
              0.6666666666666666,
              "#ed7953"
             ],
             [
              0.7777777777777778,
              "#fb9f3a"
             ],
             [
              0.8888888888888888,
              "#fdca26"
             ],
             [
              1,
              "#f0f921"
             ]
            ],
            "type": "surface"
           }
          ],
          "table": [
           {
            "cells": {
             "fill": {
              "color": "#EBF0F8"
             },
             "line": {
              "color": "white"
             }
            },
            "header": {
             "fill": {
              "color": "#C8D4E3"
             },
             "line": {
              "color": "white"
             }
            },
            "type": "table"
           }
          ]
         },
         "layout": {
          "annotationdefaults": {
           "arrowcolor": "#2a3f5f",
           "arrowhead": 0,
           "arrowwidth": 1
          },
          "autotypenumbers": "strict",
          "coloraxis": {
           "colorbar": {
            "outlinewidth": 0,
            "ticks": ""
           }
          },
          "colorscale": {
           "diverging": [
            [
             0,
             "#8e0152"
            ],
            [
             0.1,
             "#c51b7d"
            ],
            [
             0.2,
             "#de77ae"
            ],
            [
             0.3,
             "#f1b6da"
            ],
            [
             0.4,
             "#fde0ef"
            ],
            [
             0.5,
             "#f7f7f7"
            ],
            [
             0.6,
             "#e6f5d0"
            ],
            [
             0.7,
             "#b8e186"
            ],
            [
             0.8,
             "#7fbc41"
            ],
            [
             0.9,
             "#4d9221"
            ],
            [
             1,
             "#276419"
            ]
           ],
           "sequential": [
            [
             0,
             "#0d0887"
            ],
            [
             0.1111111111111111,
             "#46039f"
            ],
            [
             0.2222222222222222,
             "#7201a8"
            ],
            [
             0.3333333333333333,
             "#9c179e"
            ],
            [
             0.4444444444444444,
             "#bd3786"
            ],
            [
             0.5555555555555556,
             "#d8576b"
            ],
            [
             0.6666666666666666,
             "#ed7953"
            ],
            [
             0.7777777777777778,
             "#fb9f3a"
            ],
            [
             0.8888888888888888,
             "#fdca26"
            ],
            [
             1,
             "#f0f921"
            ]
           ],
           "sequentialminus": [
            [
             0,
             "#0d0887"
            ],
            [
             0.1111111111111111,
             "#46039f"
            ],
            [
             0.2222222222222222,
             "#7201a8"
            ],
            [
             0.3333333333333333,
             "#9c179e"
            ],
            [
             0.4444444444444444,
             "#bd3786"
            ],
            [
             0.5555555555555556,
             "#d8576b"
            ],
            [
             0.6666666666666666,
             "#ed7953"
            ],
            [
             0.7777777777777778,
             "#fb9f3a"
            ],
            [
             0.8888888888888888,
             "#fdca26"
            ],
            [
             1,
             "#f0f921"
            ]
           ]
          },
          "colorway": [
           "#636efa",
           "#EF553B",
           "#00cc96",
           "#ab63fa",
           "#FFA15A",
           "#19d3f3",
           "#FF6692",
           "#B6E880",
           "#FF97FF",
           "#FECB52"
          ],
          "font": {
           "color": "#2a3f5f"
          },
          "geo": {
           "bgcolor": "white",
           "lakecolor": "white",
           "landcolor": "#E5ECF6",
           "showlakes": true,
           "showland": true,
           "subunitcolor": "white"
          },
          "hoverlabel": {
           "align": "left"
          },
          "hovermode": "closest",
          "mapbox": {
           "style": "light"
          },
          "paper_bgcolor": "white",
          "plot_bgcolor": "#E5ECF6",
          "polar": {
           "angularaxis": {
            "gridcolor": "white",
            "linecolor": "white",
            "ticks": ""
           },
           "bgcolor": "#E5ECF6",
           "radialaxis": {
            "gridcolor": "white",
            "linecolor": "white",
            "ticks": ""
           }
          },
          "scene": {
           "xaxis": {
            "backgroundcolor": "#E5ECF6",
            "gridcolor": "white",
            "gridwidth": 2,
            "linecolor": "white",
            "showbackground": true,
            "ticks": "",
            "zerolinecolor": "white"
           },
           "yaxis": {
            "backgroundcolor": "#E5ECF6",
            "gridcolor": "white",
            "gridwidth": 2,
            "linecolor": "white",
            "showbackground": true,
            "ticks": "",
            "zerolinecolor": "white"
           },
           "zaxis": {
            "backgroundcolor": "#E5ECF6",
            "gridcolor": "white",
            "gridwidth": 2,
            "linecolor": "white",
            "showbackground": true,
            "ticks": "",
            "zerolinecolor": "white"
           }
          },
          "shapedefaults": {
           "line": {
            "color": "#2a3f5f"
           }
          },
          "ternary": {
           "aaxis": {
            "gridcolor": "white",
            "linecolor": "white",
            "ticks": ""
           },
           "baxis": {
            "gridcolor": "white",
            "linecolor": "white",
            "ticks": ""
           },
           "bgcolor": "#E5ECF6",
           "caxis": {
            "gridcolor": "white",
            "linecolor": "white",
            "ticks": ""
           }
          },
          "title": {
           "x": 0.05
          },
          "xaxis": {
           "automargin": true,
           "gridcolor": "white",
           "linecolor": "white",
           "ticks": "",
           "title": {
            "standoff": 15
           },
           "zerolinecolor": "white",
           "zerolinewidth": 2
          },
          "yaxis": {
           "automargin": true,
           "gridcolor": "white",
           "linecolor": "white",
           "ticks": "",
           "title": {
            "standoff": 15
           },
           "zerolinecolor": "white",
           "zerolinewidth": 2
          }
         }
        },
        "title": {
         "text": "A 3D Plot"
        },
        "xaxis": {
         "title": {
          "text": "Number of Views"
         }
        },
        "yaxis": {
         "title": {
          "text": "Number of Subscribers"
         }
        }
       }
      }
     },
     "metadata": {},
     "output_type": "display_data"
    }
   ],
   "source": [
    "# 3D Plot :\n",
    "fig = px.scatter_3d(df, x='VIEWS', y='SUBSCRIBERS', z='TOTAL_NUMBER_OF_VIDEOS', color='CATEGORY')\n",
    "fig.update_layout(\n",
    "    title = 'A 3D Plot',\n",
    "    xaxis_title = 'Number of Views',\n",
    "    yaxis_title = 'Number of Subscribers',\n",
    "    scene = dict(\n",
    "    zaxis_title = 'Total number of Videos'\n",
    "    )\n",
    ")\n",
    "# Save the plot:\n",
    "fig.write_html('./Plots/3D plot.html')\n",
    "fig.write_image('./Plots/3D Plot.png')\n",
    "fig.show()"
   ]
  },
  {
   "cell_type": "code",
   "execution_count": 67,
   "metadata": {},
   "outputs": [
    {
     "data": {
      "application/vnd.plotly.v1+json": {
       "config": {
        "plotlyServerURL": "https://plot.ly"
       },
       "data": [
        {
         "alignmentgroup": "True",
         "hovertemplate": "CATEGORY=%{x}<br>VIEWS=%{y}<extra></extra>",
         "legendgroup": "",
         "marker": {
          "color": "#636efa"
         },
         "name": "",
         "notched": false,
         "offsetgroup": "",
         "orientation": "v",
         "showlegend": false,
         "type": "box",
         "x": [
          " Entertainment          ",
          " Music                  ",
          " Kids                   ",
          " Entertainment          ",
          " Kids                   ",
          " Kids                   ",
          " Kids                   ",
          " Entertainment          ",
          " Music                  ",
          " Sports/Entertainment   ",
          " Movies                 ",
          " Music                  ",
          " Entertainment          ",
          " Kids                   ",
          " Entertainment          ",
          " DIY/Education          ",
          " Music                  ",
          " Kids                ",
          " Music                  ",
          " Entertainment          ",
          " Music                  ",
          " Music                  ",
          " Music                  ",
          " Music                  ",
          " Music                  ",
          " News                   ",
          " Kids                   ",
          " Entertainment          ",
          " Kids                   ",
          " Music                  ",
          " Movies                 ",
          " Music                  ",
          " Music                  ",
          " Sports/Entertainment   ",
          " Music                  ",
          " Music                  ",
          " Music                  ",
          " Kids          ",
          " Entertainment          ",
          " Kids            ",
          " Kids                   ",
          " Entertainment          ",
          " Music                  ",
          " Entertainment          ",
          " Music                  ",
          " Entertainment          ",
          " Movies                 ",
          " Education              ",
          " Entertainment          ",
          " Music                  ",
          " Entertainment          ",
          " Music                  ",
          " Gaming/Entertainment   ",
          " Gaming/Entertainment   ",
          " Entertainment          ",
          " Entertainment          ",
          " Gaming/Entertainment   ",
          " Education          ",
          " Entertainment          ",
          " Music                  ",
          " Entertainment          ",
          " Kids                   ",
          " Gaming/Entertainment   ",
          " Entertainment          ",
          " Entertainment          ",
          " Music                  ",
          " Entertainment          ",
          " Music                  ",
          " Education              ",
          " Music                  ",
          " Music                  ",
          " Entertainment          ",
          " Entertainment          ",
          " Education              ",
          " Entertainment          ",
          " Kids                   ",
          " Music                  ",
          " Kids                   ",
          " Gaming/Entertainment   ",
          " Gaming/Entertainment   ",
          " News                   ",
          " Entertainment          ",
          " Music                  ",
          " Kids                   ",
          " Kids                   ",
          " Entertainment          ",
          " Travel/Entertainment   ",
          " Entertainment          ",
          " Kids                   ",
          " Music                  ",
          " Gaming/Entertainment   ",
          " Animation              ",
          " Kids                   ",
          " Gaming                 ",
          " News                   ",
          " Music                  ",
          " Kids             ",
          " Entertainment          ",
          " Gaming/Entertainment   ",
          " Entertainment          ",
          " Education              ",
          " Kids           ",
          " Music                  ",
          " Kids                   ",
          " Entertainment          ",
          " Music                  ",
          " Platform               ",
          " Gaming                 ",
          " Entertainment          ",
          " Music                  ",
          " Entertainment          ",
          " Gaming/Entertainment   ",
          " Entertainment          ",
          " Entertainment          ",
          " Movies                 ",
          " Kids                   ",
          " Education              ",
          " Gaming/Entertainment   ",
          " Entertainment          ",
          " Kids                   ",
          " Music                  ",
          " Music                  ",
          " Entertainment          ",
          " Gaming/Entertainment   ",
          " Entertainment          ",
          " Entertainment          ",
          " Music                  ",
          " Entertainment          ",
          " Entertainment          ",
          " Kids                   ",
          " Music                  ",
          " Music                  ",
          " Entertainment          ",
          " Gaming/Entertainment   ",
          " Music                  ",
          " Kids                   ",
          " Kids                   ",
          " Music                  ",
          " Entertainment          ",
          " Entertainment          ",
          " Entertainment          ",
          " Kids                   ",
          " Kids                   ",
          " News                   ",
          " Entertainment          ",
          " Entertainment          ",
          " Kids                   ",
          " Kids                   ",
          " Music                  ",
          " Music                  ",
          " Entertainment          ",
          " Entertainment          ",
          " Music                  ",
          " Entertainment          ",
          " Music                  ",
          " Kids                   ",
          " Music                  ",
          " Gaming/Entertainment   ",
          " Music                  ",
          " Entertainment          ",
          " Entertainment          ",
          " Gaming/Entertainment   ",
          " Music                  ",
          " Music                  ",
          " Entertainment          ",
          " Entertainment          ",
          " Music                  ",
          " Entertainment          ",
          " Kids                   ",
          " Music                  ",
          " Entertainment          ",
          " Gaming/Entertainment   ",
          " Entertainment          ",
          " Entertainment          ",
          " Entertainment          ",
          " Entertainment          ",
          " Movies                 ",
          " Music                  ",
          " Entertainment          ",
          " Entertainment          ",
          " Entertainment          ",
          " Music                  ",
          " Movies                 ",
          " Kids                   ",
          " Music                  ",
          " Entertainment          ",
          null,
          null,
          null,
          " Education              ",
          " Gaming/Entertainment   ",
          " Kids                   ",
          " Music                  ",
          " Music                  ",
          " Entertainment          ",
          " Entertainment          ",
          " Kids                   ",
          " Entertainment          ",
          " Entertainment          ",
          " Entertainment          ",
          " toyoraljanahtv ",
          " Entertainment          ",
          " Movies                 ",
          " Music                  ",
          " Entertainment          ",
          " Entertainment          ",
          " Music                  ",
          " Entertainment          ",
          " Entertainment          ",
          " Entertainment          ",
          " Music                  ",
          " Entertainment          ",
          " Gaming/Entertainment   ",
          " Music                  ",
          " Kids               ",
          " Entertainment          ",
          " Entertainment          ",
          " Music                  ",
          " Movies                 ",
          " Entertainment          ",
          " Entertainment          ",
          " Music                  ",
          " Entertainment          ",
          " Entertainment          ",
          " Entertainment          ",
          " Music                  ",
          " Kids                   ",
          " Music                  ",
          " Entertainment          ",
          " Entertainment          ",
          " Kids                   ",
          " Music                  ",
          " Music                  ",
          " Kids                   ",
          " Entertainment          ",
          " News                   ",
          " Entertainment          ",
          " Kids                   ",
          " Education              ",
          " Entertainment          ",
          " Music                  ",
          " Kids                   ",
          " Gaming/Entertainment   ",
          " Kids          ",
          " Entertainment          ",
          " Gaming/Entertainment   ",
          " Education              ",
          " Music                  ",
          " Entertainment          ",
          " Entertainment          ",
          " Entertainment          ",
          " Gaming/Entertainment   ",
          " News                   ",
          " Entertainment          ",
          " Entertainment          ",
          " News                   ",
          " Kids                   ",
          " Entertainment          ",
          " Kids                   ",
          " Animation              ",
          " Entertainment          ",
          " Entertainment          ",
          " Entertainment          ",
          " Entertainment          ",
          " Kids                   ",
          " Kids                   ",
          " Entertainment          ",
          " Music                  ",
          " Music                  ",
          " Movies                 ",
          " Entertainment          ",
          " Kids                   ",
          " Music                  ",
          " Entertainment          ",
          " Music                  ",
          " Music                  ",
          " Music                  ",
          " Entertainment          ",
          " Music                  ",
          " Entertainment          ",
          " Music                  ",
          " Kids                   ",
          " Entertainment          ",
          " Gaming/Entertainment   ",
          " Entertainment          ",
          " Movies                 ",
          " Entertainment          ",
          " Music                  ",
          " Entertainment          ",
          " Music                  ",
          " Movies                 ",
          " Entertainment          ",
          " Kids                   ",
          " Kids                   ",
          " Kids                   ",
          " Entertainment          ",
          " Entertainment          ",
          " Entertainment          ",
          " Kids                ",
          " Entertainment          ",
          " Gaming/Entertainment   ",
          " Kids                   ",
          " Gaming/Entertainment   ",
          " Entertainment          ",
          " Entertainment          ",
          " Entertainment          ",
          " News                   ",
          " Entertainment          ",
          " Education              ",
          " Entertainment          ",
          " Music                  ",
          " Music                  ",
          " Entertainment          ",
          " Kids                   ",
          " Entertainment          ",
          " Kids                   ",
          " Fitness/Health         ",
          " Entertainment          ",
          " Entertainment          ",
          " Music                  ",
          " Kids         ",
          " Gaming/Entertainment   ",
          " Food                   ",
          " Food                   ",
          " Music                  ",
          " Kids                   ",
          " Entertainment          ",
          " Music                  ",
          " Movies                 ",
          " Beauty/Lifestyle       ",
          " Music                  ",
          " Music                  ",
          " Kids                   ",
          " Music                  ",
          " Kids                   ",
          " Music                  ",
          " Music                  ",
          " Kids                   ",
          " Education              ",
          " Charity/Non-profit     ",
          " Entertainment          ",
          " Music                  ",
          " Entertainment          ",
          " Music                  ",
          " Entertainment          ",
          " Entertainment          ",
          " Entertainment          ",
          " Music                  ",
          " Music                  ",
          " Kids                   ",
          " Kids                   ",
          " Gaming/Entertainment   ",
          " Music                  ",
          " Politics               ",
          " Technology             ",
          " Entertainment          ",
          " Entertainment          ",
          " Entertainment          ",
          " Kids                   ",
          " Music                  ",
          " Music                  ",
          " DIY                    ",
          " Entertainment          ",
          " News                   ",
          " Beauty/Lifestyle       ",
          " Gaming/Entertainment   ",
          " Entertainment          ",
          " Entertainment          ",
          " Gaming/Entertainment   ",
          " Music                 ",
          " Entertainment          ",
          " Music                  ",
          " Gaming/Entertainment   ",
          " Animation              ",
          " Music                  ",
          " Entertainment          ",
          " Entertainment          ",
          " Technology             ",
          " Entertainment          ",
          " Music                  ",
          " Gaming/Entertainment   ",
          " News                   ",
          " Entertainment          ",
          " Entertainment          ",
          " Entertainment          ",
          " Music                  ",
          " Entertainment          ",
          null,
          null,
          " Education              ",
          " Entertainment          ",
          " Education              ",
          " Kids                   ",
          " Kids                   ",
          " Entertainment          ",
          " Entertainment          ",
          " Kids                   ",
          " Entertainment          ",
          " Movies                 ",
          " Entertainment          ",
          " Kids                   ",
          " Entertainment          ",
          " Kids                   ",
          " Entertainment          ",
          " Entertainment          ",
          " Music                  ",
          " Entertainment          ",
          " Music                  ",
          " Gaming/Entertainment   ",
          " Movies                 ",
          " News                   ",
          " Music                  ",
          " Entertainment          ",
          " Kids                   ",
          " Kids             ",
          " Education              ",
          " Entertainment          ",
          " Entertainment          ",
          " Entertainment          ",
          " Music                  ",
          " Music                  ",
          " Entertainment          ",
          " Music                  ",
          " Kids                   ",
          " Gaming/Entertainment   ",
          " Entertainment          ",
          " Education              ",
          " Kids                   ",
          " Gaming/Entertainment   ",
          " Education              ",
          " News                   ",
          " Kids                   ",
          " Entertainment          ",
          " Sports                 ",
          " Music                  ",
          " Education              ",
          " Music                  ",
          " Music                  ",
          " Entertainment          ",
          " News                   ",
          " Entertainment          ",
          " Entertainment          ",
          " Entertainment          ",
          " Entertainment          ",
          " Gaming/Entertainment   ",
          " Entertainment          ",
          " Entertainment          ",
          " Food                   ",
          " Education              ",
          " Entertainment          ",
          " Entertainment          ",
          " Entertainment          ",
          " Music                  ",
          " Entertainment          ",
          " Kids                   ",
          " Entertainment          ",
          " Gaming/Entertainment   ",
          " Entertainment          ",
          " Education              ",
          " Animation              ",
          " Animation              ",
          " Music                  ",
          " News                   ",
          " Music                  ",
          " Entertainment          ",
          " Entertainment          ",
          " Gaming/Entertainment   ",
          " Music                  ",
          " Kids                   ",
          " Arab Games Network ",
          " Kids                   ",
          " Sports                 ",
          " Entertainment          ",
          " Entertainment          ",
          " Entertainment          ",
          " Entertainment          ",
          " Entertainment          ",
          " Entertainment          ",
          " Entertainment          ",
          " Entertainment          ",
          " News                   ",
          " Entertainment          ",
          " Entertainment          ",
          " Music                  ",
          " Entertainment          ",
          " Entertainment          ",
          " Food                   ",
          " Gaming/Entertainment   ",
          " Kids             ",
          " Kids                   ",
          " Gaming/Entertainment   ",
          " Education              ",
          " Kids                   ",
          " Entertainment          ",
          " DIY                    ",
          " Entertainment          ",
          " Entertainment          ",
          null,
          null,
          null
         ],
         "x0": " ",
         "xaxis": "x",
         "y": [
          "50.98B",
          "257.16B",
          "182.88B",
          "164.71B",
          "103.5B",
          "90.94B",
          "100.9B",
          "29.31B",
          "66.84B",
          "84.98B",
          "29.04B",
          "36.02B",
          "115.24B",
          "51.03B",
          "89.41B",
          "27.39B",
          "22.97B",
          "43.81B",
          "34.26B",
          "70.94B",
          "32.31B",
          "29.3B",
          "34.04B",
          "38.29B",
          "38.83B",
          "31.73B",
          "60.42B",
          "9.28B",
          "36.12B",
          "42.76B",
          "62.2B",
          "31.93B",
          "29.73B",
          "17.42B",
          "41.11B",
          "35.44B",
          "15.74B",
          "34.45B",
          "26.05B",
          "11.6B",
          "65.66B",
          "28.7B",
          "32.44B",
          "53.63B",
          "26.21B",
          "51.02B",
          "24.55B",
          "6.32B",
          "24.22B",
          "15.72B",
          "14.16B",
          "32.93B",
          "30.91B",
          "15.44B",
          "18.53B",
          "39.21B",
          "16.18B",
          "6.46B",
          "2.65B",
          "40.38B",
          "54.86B",
          "35.01B",
          "28.4B",
          "22.8B",
          "10.6B",
          "19.75B",
          "17.67B",
          "30.35B",
          "7.71B",
          "14.12B",
          "8.11B",
          "19.29B",
          "26.8B",
          "6.57B",
          "4.51B",
          "11.15B",
          "39.1B",
          "27.62B",
          "28.89B",
          "25.3B",
          "7.86B",
          "4.89B",
          "17.05B",
          "43.07B",
          "24.34B",
          "20.45B",
          "25.02B",
          "32.75B",
          "9.74B",
          "7.34B",
          "27.61B",
          "18.94B",
          "3.76B",
          "16.6B",
          "50.79B",
          "4.21B",
          "20.1B",
          "19.56B",
          "40.51B",
          "24.95B",
          "7.54B",
          "38.44B",
          "7.88B",
          "30.66B",
          "28.12B",
          "21.55B",
          "39.28B",
          "26.49B",
          "3.03B",
          "11.76B",
          "17.34B",
          "11.07B",
          "28.29B",
          "7.45B",
          "27.61B",
          "16.82B",
          "15.96B",
          "31.12B",
          "7B",
          "5.83B",
          "33.12B",
          "13B",
          "24.37B",
          "14.34B",
          "12.1B",
          "9.31B",
          "23.15B",
          "43.11B",
          "21.03B",
          "16.93B",
          "30.01B",
          "57.67B",
          "24.1B",
          "24.96B",
          "16.42B",
          "21.48B",
          "23.62B",
          "28.69B",
          "19.09B",
          "23.88B",
          "16.56B",
          "15.58B",
          "21.74B",
          "32.4B",
          "21.71B",
          "21.2B",
          "12.91B",
          "27.37B",
          "25.89B",
          "37.65B",
          "13.72B",
          "27.43B",
          "22.81B",
          "14.32B",
          "31.98B",
          "19.5B",
          "18.11B",
          "13.92B",
          "14B",
          "25.06B",
          "24B",
          "16.84B",
          "20.45B",
          "15.79B",
          "17.72B",
          "13.72B",
          "10.61B",
          "13.06B",
          "11.72B",
          "11.12B",
          "6.07B",
          "16.49B",
          "3.78B",
          "22.77B",
          "13.46B",
          "18.66B",
          "11.21B",
          "3.42B",
          "22.29B",
          "12.62B",
          "23.4B",
          "19.17B",
          "27.4B",
          "27.35B",
          "29.45B",
          "8.92B",
          "1.66B",
          "29.83B",
          "3.45B",
          "24.35B",
          "6.98B",
          "3.11B",
          "17.21B",
          "15.79B",
          "18.71B",
          "16.21B",
          "26.42B",
          "19.71B",
          "17.63B",
          "12.73B",
          "5.15B",
          "28.95B",
          "17.34B",
          "9.75B",
          "27.79B",
          "5.17B",
          "25.04B",
          "15.6B",
          "8.46B",
          "17.07B",
          "12.54B",
          "20.73B",
          "17.84B",
          "16.77B",
          "13.82B",
          "13.77B",
          "5.99B",
          "7.79B",
          "17.59B",
          "10B",
          "37.99B",
          "17.01B",
          "16.03B",
          "8.94B",
          "4.76B",
          "18.97B",
          "14.45B",
          "38.77B",
          "13.71B",
          "26.99B",
          "12.41B",
          "23.94B",
          "17.89B",
          "23.15B",
          "14.64B",
          "13.71B",
          "12.47B",
          "26.33B",
          "22.54B",
          "25.41B",
          "27.35B",
          "22.52B",
          "17.52B",
          "4.13B",
          "11.95B",
          "4.75B",
          "19.83B",
          "2.43B",
          "14.13B",
          "10.13B",
          "8.5B",
          "2.14B",
          "8.71B",
          "9.46B",
          "9.37B",
          "4.77B",
          "16.26B",
          "12.6B",
          "6.56B",
          "12.6B",
          "6.91B",
          "28.96B",
          "12.84B",
          "10.7B",
          "3.27B",
          "16.2B",
          "12.51B",
          "28.22B",
          "18.76B",
          "16.31B",
          "7.94B",
          "18.79B",
          "17.97B",
          "21.05B",
          "12.72B",
          "11.26B",
          "17.2B",
          "19.49B",
          "19.04B",
          "17.37B",
          "10.8B",
          "19.72B",
          "12.86B",
          "13.53B",
          "9.91B",
          "7.95B",
          "6.53B",
          "4.97B",
          "19.06B",
          "9.42B",
          "8.22B",
          "5.38B",
          "15.27B",
          "13.42B",
          "8.66B",
          "7.32B",
          "6.81B",
          "18.21B",
          "15.33B",
          "9.12B",
          "5.23B",
          "16.02B",
          "10.53B",
          "8.69B",
          "6.1B",
          "3B",
          "13.55B",
          "12.14B",
          "11.85B",
          "11.27B",
          "11.2B",
          "28.31B",
          "61.01B",
          "16.85B",
          "9.89B",
          "25.61B",
          "18.5B",
          "3.19B",
          "12.96B",
          "11.14B",
          "20.45B",
          "14.64B",
          "2.5B",
          "15.25B",
          "7.33B",
          "25.22B",
          "11.73B",
          "8.06B",
          "24.98B",
          "3.19B",
          "2.59B",
          "22.01B",
          "19.06B",
          "15.62B",
          "14.33B",
          "12.4B",
          "24.65B",
          "23.01B",
          "18.81B",
          "16.07B",
          "2.72B",
          "797.36M",
          "22.63B",
          "9.02B",
          "8.66B",
          "7.49B",
          "2.47B",
          "40.34B",
          "29.44B",
          "27.12B",
          "17.27B",
          "12.88B",
          "11.13B",
          "9.44B",
          "6.02B",
          "5.58B",
          "4.69B",
          "22.22B",
          "9.82B",
          "6.81B",
          "23.92B",
          "16.58B",
          "11.9B",
          "10.36B",
          "4.16B",
          "16.02B",
          "4.38B",
          "2.67B",
          "17.57B",
          "15.9B",
          "15.2B",
          "13.31B",
          "9.87B",
          "22.43B",
          "15.09B",
          "15.07B",
          "13.18B",
          "11.5B",
          "6.01B",
          "3.68B",
          "17.32B",
          "14.48B",
          "24.93B",
          "14.7B",
          "9.99B",
          "9.12B",
          "6.35B",
          "17.86B",
          "11.86B",
          "2.34B",
          "9.95B",
          "6.01B",
          "18.2B",
          "9.98B",
          "8.03B",
          "17.41B",
          "16.95B",
          "10.43B",
          "5.72B",
          "5.68B",
          "1.39K",
          "20.72B",
          "13.58B",
          "6.03B",
          "20.51B",
          "15.02B",
          "11.55B",
          "8.64B",
          "7.16B",
          "6.28B",
          "12.16B",
          "10.81B",
          "13.83B",
          "12.12B",
          "8.06B",
          "2.78B",
          "16.96B",
          "14.12B",
          "9.34B",
          "9.24B",
          "6.35B",
          "4.04B",
          "14.06B",
          "11.42B",
          "8.87B",
          "6.84B",
          "20.79B",
          "5.46B",
          "12.21B",
          "9.41B",
          "4.19B",
          "2.86B",
          "23.49B",
          "14.69B",
          "14.09B",
          "11.65B",
          "4.11B",
          "12.63B",
          "19.28B",
          "19.19B",
          "11.29B",
          "11.2B",
          "9.15B",
          "16.36B",
          "12.38B",
          "6.45B",
          "8.81B",
          "8.58B",
          "6.13B",
          "5.14B",
          "4.87B",
          "4.66B",
          "18.08B",
          "15.1B",
          "488.84M",
          "8.46B",
          "7.25B",
          "6.21B",
          "2.17B",
          "1.94B",
          "11.87B",
          "9.9B",
          "3.88B",
          "25.78B",
          "16.33B",
          "14.51B",
          "11.27B",
          "11.01B",
          "10.9B",
          "10.12B",
          "9.52B",
          "9.46B",
          "6.52B",
          "4.4B",
          "4.07B",
          "12.11B",
          "9.7B",
          "5B",
          "4.63B",
          "3.56B",
          "2.93B",
          "2.73B",
          "2.64B",
          "1.91B",
          "15.8B",
          "14.38B",
          "7.59B",
          "4.13B",
          "22.28B",
          "9.38B",
          "9.23B",
          "8.28B",
          "4.55B",
          "3.2B",
          "1.91B",
          "7.63B",
          "6.01B",
          "5.16B",
          "1.55M",
          "11.76B"
         ],
         "y0": " ",
         "yaxis": "y"
        }
       ],
       "layout": {
        "boxmode": "group",
        "legend": {
         "tracegroupgap": 0
        },
        "margin": {
         "t": 60
        },
        "template": {
         "data": {
          "bar": [
           {
            "error_x": {
             "color": "#2a3f5f"
            },
            "error_y": {
             "color": "#2a3f5f"
            },
            "marker": {
             "line": {
              "color": "#E5ECF6",
              "width": 0.5
             },
             "pattern": {
              "fillmode": "overlay",
              "size": 10,
              "solidity": 0.2
             }
            },
            "type": "bar"
           }
          ],
          "barpolar": [
           {
            "marker": {
             "line": {
              "color": "#E5ECF6",
              "width": 0.5
             },
             "pattern": {
              "fillmode": "overlay",
              "size": 10,
              "solidity": 0.2
             }
            },
            "type": "barpolar"
           }
          ],
          "carpet": [
           {
            "aaxis": {
             "endlinecolor": "#2a3f5f",
             "gridcolor": "white",
             "linecolor": "white",
             "minorgridcolor": "white",
             "startlinecolor": "#2a3f5f"
            },
            "baxis": {
             "endlinecolor": "#2a3f5f",
             "gridcolor": "white",
             "linecolor": "white",
             "minorgridcolor": "white",
             "startlinecolor": "#2a3f5f"
            },
            "type": "carpet"
           }
          ],
          "choropleth": [
           {
            "colorbar": {
             "outlinewidth": 0,
             "ticks": ""
            },
            "type": "choropleth"
           }
          ],
          "contour": [
           {
            "colorbar": {
             "outlinewidth": 0,
             "ticks": ""
            },
            "colorscale": [
             [
              0,
              "#0d0887"
             ],
             [
              0.1111111111111111,
              "#46039f"
             ],
             [
              0.2222222222222222,
              "#7201a8"
             ],
             [
              0.3333333333333333,
              "#9c179e"
             ],
             [
              0.4444444444444444,
              "#bd3786"
             ],
             [
              0.5555555555555556,
              "#d8576b"
             ],
             [
              0.6666666666666666,
              "#ed7953"
             ],
             [
              0.7777777777777778,
              "#fb9f3a"
             ],
             [
              0.8888888888888888,
              "#fdca26"
             ],
             [
              1,
              "#f0f921"
             ]
            ],
            "type": "contour"
           }
          ],
          "contourcarpet": [
           {
            "colorbar": {
             "outlinewidth": 0,
             "ticks": ""
            },
            "type": "contourcarpet"
           }
          ],
          "heatmap": [
           {
            "colorbar": {
             "outlinewidth": 0,
             "ticks": ""
            },
            "colorscale": [
             [
              0,
              "#0d0887"
             ],
             [
              0.1111111111111111,
              "#46039f"
             ],
             [
              0.2222222222222222,
              "#7201a8"
             ],
             [
              0.3333333333333333,
              "#9c179e"
             ],
             [
              0.4444444444444444,
              "#bd3786"
             ],
             [
              0.5555555555555556,
              "#d8576b"
             ],
             [
              0.6666666666666666,
              "#ed7953"
             ],
             [
              0.7777777777777778,
              "#fb9f3a"
             ],
             [
              0.8888888888888888,
              "#fdca26"
             ],
             [
              1,
              "#f0f921"
             ]
            ],
            "type": "heatmap"
           }
          ],
          "heatmapgl": [
           {
            "colorbar": {
             "outlinewidth": 0,
             "ticks": ""
            },
            "colorscale": [
             [
              0,
              "#0d0887"
             ],
             [
              0.1111111111111111,
              "#46039f"
             ],
             [
              0.2222222222222222,
              "#7201a8"
             ],
             [
              0.3333333333333333,
              "#9c179e"
             ],
             [
              0.4444444444444444,
              "#bd3786"
             ],
             [
              0.5555555555555556,
              "#d8576b"
             ],
             [
              0.6666666666666666,
              "#ed7953"
             ],
             [
              0.7777777777777778,
              "#fb9f3a"
             ],
             [
              0.8888888888888888,
              "#fdca26"
             ],
             [
              1,
              "#f0f921"
             ]
            ],
            "type": "heatmapgl"
           }
          ],
          "histogram": [
           {
            "marker": {
             "pattern": {
              "fillmode": "overlay",
              "size": 10,
              "solidity": 0.2
             }
            },
            "type": "histogram"
           }
          ],
          "histogram2d": [
           {
            "colorbar": {
             "outlinewidth": 0,
             "ticks": ""
            },
            "colorscale": [
             [
              0,
              "#0d0887"
             ],
             [
              0.1111111111111111,
              "#46039f"
             ],
             [
              0.2222222222222222,
              "#7201a8"
             ],
             [
              0.3333333333333333,
              "#9c179e"
             ],
             [
              0.4444444444444444,
              "#bd3786"
             ],
             [
              0.5555555555555556,
              "#d8576b"
             ],
             [
              0.6666666666666666,
              "#ed7953"
             ],
             [
              0.7777777777777778,
              "#fb9f3a"
             ],
             [
              0.8888888888888888,
              "#fdca26"
             ],
             [
              1,
              "#f0f921"
             ]
            ],
            "type": "histogram2d"
           }
          ],
          "histogram2dcontour": [
           {
            "colorbar": {
             "outlinewidth": 0,
             "ticks": ""
            },
            "colorscale": [
             [
              0,
              "#0d0887"
             ],
             [
              0.1111111111111111,
              "#46039f"
             ],
             [
              0.2222222222222222,
              "#7201a8"
             ],
             [
              0.3333333333333333,
              "#9c179e"
             ],
             [
              0.4444444444444444,
              "#bd3786"
             ],
             [
              0.5555555555555556,
              "#d8576b"
             ],
             [
              0.6666666666666666,
              "#ed7953"
             ],
             [
              0.7777777777777778,
              "#fb9f3a"
             ],
             [
              0.8888888888888888,
              "#fdca26"
             ],
             [
              1,
              "#f0f921"
             ]
            ],
            "type": "histogram2dcontour"
           }
          ],
          "mesh3d": [
           {
            "colorbar": {
             "outlinewidth": 0,
             "ticks": ""
            },
            "type": "mesh3d"
           }
          ],
          "parcoords": [
           {
            "line": {
             "colorbar": {
              "outlinewidth": 0,
              "ticks": ""
             }
            },
            "type": "parcoords"
           }
          ],
          "pie": [
           {
            "automargin": true,
            "type": "pie"
           }
          ],
          "scatter": [
           {
            "fillpattern": {
             "fillmode": "overlay",
             "size": 10,
             "solidity": 0.2
            },
            "type": "scatter"
           }
          ],
          "scatter3d": [
           {
            "line": {
             "colorbar": {
              "outlinewidth": 0,
              "ticks": ""
             }
            },
            "marker": {
             "colorbar": {
              "outlinewidth": 0,
              "ticks": ""
             }
            },
            "type": "scatter3d"
           }
          ],
          "scattercarpet": [
           {
            "marker": {
             "colorbar": {
              "outlinewidth": 0,
              "ticks": ""
             }
            },
            "type": "scattercarpet"
           }
          ],
          "scattergeo": [
           {
            "marker": {
             "colorbar": {
              "outlinewidth": 0,
              "ticks": ""
             }
            },
            "type": "scattergeo"
           }
          ],
          "scattergl": [
           {
            "marker": {
             "colorbar": {
              "outlinewidth": 0,
              "ticks": ""
             }
            },
            "type": "scattergl"
           }
          ],
          "scattermapbox": [
           {
            "marker": {
             "colorbar": {
              "outlinewidth": 0,
              "ticks": ""
             }
            },
            "type": "scattermapbox"
           }
          ],
          "scatterpolar": [
           {
            "marker": {
             "colorbar": {
              "outlinewidth": 0,
              "ticks": ""
             }
            },
            "type": "scatterpolar"
           }
          ],
          "scatterpolargl": [
           {
            "marker": {
             "colorbar": {
              "outlinewidth": 0,
              "ticks": ""
             }
            },
            "type": "scatterpolargl"
           }
          ],
          "scatterternary": [
           {
            "marker": {
             "colorbar": {
              "outlinewidth": 0,
              "ticks": ""
             }
            },
            "type": "scatterternary"
           }
          ],
          "surface": [
           {
            "colorbar": {
             "outlinewidth": 0,
             "ticks": ""
            },
            "colorscale": [
             [
              0,
              "#0d0887"
             ],
             [
              0.1111111111111111,
              "#46039f"
             ],
             [
              0.2222222222222222,
              "#7201a8"
             ],
             [
              0.3333333333333333,
              "#9c179e"
             ],
             [
              0.4444444444444444,
              "#bd3786"
             ],
             [
              0.5555555555555556,
              "#d8576b"
             ],
             [
              0.6666666666666666,
              "#ed7953"
             ],
             [
              0.7777777777777778,
              "#fb9f3a"
             ],
             [
              0.8888888888888888,
              "#fdca26"
             ],
             [
              1,
              "#f0f921"
             ]
            ],
            "type": "surface"
           }
          ],
          "table": [
           {
            "cells": {
             "fill": {
              "color": "#EBF0F8"
             },
             "line": {
              "color": "white"
             }
            },
            "header": {
             "fill": {
              "color": "#C8D4E3"
             },
             "line": {
              "color": "white"
             }
            },
            "type": "table"
           }
          ]
         },
         "layout": {
          "annotationdefaults": {
           "arrowcolor": "#2a3f5f",
           "arrowhead": 0,
           "arrowwidth": 1
          },
          "autotypenumbers": "strict",
          "coloraxis": {
           "colorbar": {
            "outlinewidth": 0,
            "ticks": ""
           }
          },
          "colorscale": {
           "diverging": [
            [
             0,
             "#8e0152"
            ],
            [
             0.1,
             "#c51b7d"
            ],
            [
             0.2,
             "#de77ae"
            ],
            [
             0.3,
             "#f1b6da"
            ],
            [
             0.4,
             "#fde0ef"
            ],
            [
             0.5,
             "#f7f7f7"
            ],
            [
             0.6,
             "#e6f5d0"
            ],
            [
             0.7,
             "#b8e186"
            ],
            [
             0.8,
             "#7fbc41"
            ],
            [
             0.9,
             "#4d9221"
            ],
            [
             1,
             "#276419"
            ]
           ],
           "sequential": [
            [
             0,
             "#0d0887"
            ],
            [
             0.1111111111111111,
             "#46039f"
            ],
            [
             0.2222222222222222,
             "#7201a8"
            ],
            [
             0.3333333333333333,
             "#9c179e"
            ],
            [
             0.4444444444444444,
             "#bd3786"
            ],
            [
             0.5555555555555556,
             "#d8576b"
            ],
            [
             0.6666666666666666,
             "#ed7953"
            ],
            [
             0.7777777777777778,
             "#fb9f3a"
            ],
            [
             0.8888888888888888,
             "#fdca26"
            ],
            [
             1,
             "#f0f921"
            ]
           ],
           "sequentialminus": [
            [
             0,
             "#0d0887"
            ],
            [
             0.1111111111111111,
             "#46039f"
            ],
            [
             0.2222222222222222,
             "#7201a8"
            ],
            [
             0.3333333333333333,
             "#9c179e"
            ],
            [
             0.4444444444444444,
             "#bd3786"
            ],
            [
             0.5555555555555556,
             "#d8576b"
            ],
            [
             0.6666666666666666,
             "#ed7953"
            ],
            [
             0.7777777777777778,
             "#fb9f3a"
            ],
            [
             0.8888888888888888,
             "#fdca26"
            ],
            [
             1,
             "#f0f921"
            ]
           ]
          },
          "colorway": [
           "#636efa",
           "#EF553B",
           "#00cc96",
           "#ab63fa",
           "#FFA15A",
           "#19d3f3",
           "#FF6692",
           "#B6E880",
           "#FF97FF",
           "#FECB52"
          ],
          "font": {
           "color": "#2a3f5f"
          },
          "geo": {
           "bgcolor": "white",
           "lakecolor": "white",
           "landcolor": "#E5ECF6",
           "showlakes": true,
           "showland": true,
           "subunitcolor": "white"
          },
          "hoverlabel": {
           "align": "left"
          },
          "hovermode": "closest",
          "mapbox": {
           "style": "light"
          },
          "paper_bgcolor": "white",
          "plot_bgcolor": "#E5ECF6",
          "polar": {
           "angularaxis": {
            "gridcolor": "white",
            "linecolor": "white",
            "ticks": ""
           },
           "bgcolor": "#E5ECF6",
           "radialaxis": {
            "gridcolor": "white",
            "linecolor": "white",
            "ticks": ""
           }
          },
          "scene": {
           "xaxis": {
            "backgroundcolor": "#E5ECF6",
            "gridcolor": "white",
            "gridwidth": 2,
            "linecolor": "white",
            "showbackground": true,
            "ticks": "",
            "zerolinecolor": "white"
           },
           "yaxis": {
            "backgroundcolor": "#E5ECF6",
            "gridcolor": "white",
            "gridwidth": 2,
            "linecolor": "white",
            "showbackground": true,
            "ticks": "",
            "zerolinecolor": "white"
           },
           "zaxis": {
            "backgroundcolor": "#E5ECF6",
            "gridcolor": "white",
            "gridwidth": 2,
            "linecolor": "white",
            "showbackground": true,
            "ticks": "",
            "zerolinecolor": "white"
           }
          },
          "shapedefaults": {
           "line": {
            "color": "#2a3f5f"
           }
          },
          "ternary": {
           "aaxis": {
            "gridcolor": "white",
            "linecolor": "white",
            "ticks": ""
           },
           "baxis": {
            "gridcolor": "white",
            "linecolor": "white",
            "ticks": ""
           },
           "bgcolor": "#E5ECF6",
           "caxis": {
            "gridcolor": "white",
            "linecolor": "white",
            "ticks": ""
           }
          },
          "title": {
           "x": 0.05
          },
          "xaxis": {
           "automargin": true,
           "gridcolor": "white",
           "linecolor": "white",
           "ticks": "",
           "title": {
            "standoff": 15
           },
           "zerolinecolor": "white",
           "zerolinewidth": 2
          },
          "yaxis": {
           "automargin": true,
           "gridcolor": "white",
           "linecolor": "white",
           "ticks": "",
           "title": {
            "standoff": 15
           },
           "zerolinecolor": "white",
           "zerolinewidth": 2
          }
         }
        },
        "title": {
         "text": "A box plot distribution"
        },
        "xaxis": {
         "anchor": "y",
         "domain": [
          0,
          1
         ],
         "title": {
          "text": "CATEGORY"
         }
        },
        "yaxis": {
         "anchor": "x",
         "domain": [
          0,
          1
         ],
         "title": {
          "text": "VIEWS"
         }
        }
       }
      }
     },
     "metadata": {},
     "output_type": "display_data"
    }
   ],
   "source": [
    "# Box plot:\n",
    "fig = px.box(df, x='CATEGORY', y='VIEWS')\n",
    "# Update the fig:\n",
    "fig.update_layout(\n",
    "    title = 'A box plot distribution'\n",
    ")\n",
    "# Save the plot:\n",
    "fig.write_html('./Plots/Line Plot.html')\n",
    "\n",
    "fig.show()"
   ]
  },
  {
   "cell_type": "code",
   "execution_count": 71,
   "metadata": {},
   "outputs": [
    {
     "data": {
      "application/vnd.plotly.v1+json": {
       "config": {
        "plotlyServerURL": "https://plot.ly"
       },
       "data": [
        {
         "domain": {
          "x": [
           0,
           1
          ],
          "y": [
           0,
           1
          ]
         },
         "hovertemplate": "CATEGORY=%{label}<br>VIEWS=%{value}<extra></extra>",
         "labels": [
          " Entertainment          ",
          " Music                  ",
          " Kids                   ",
          " Entertainment          ",
          " Kids                   ",
          " Kids                   ",
          " Kids                   ",
          " Entertainment          ",
          " Music                  ",
          " Sports/Entertainment   ",
          " Movies                 ",
          " Music                  ",
          " Entertainment          ",
          " Kids                   ",
          " Entertainment          ",
          " DIY/Education          ",
          " Music                  ",
          " Kids                ",
          " Music                  ",
          " Entertainment          ",
          " Music                  ",
          " Music                  ",
          " Music                  ",
          " Music                  ",
          " Music                  ",
          " News                   ",
          " Kids                   ",
          " Entertainment          ",
          " Kids                   ",
          " Music                  ",
          " Movies                 ",
          " Music                  ",
          " Music                  ",
          " Sports/Entertainment   ",
          " Music                  ",
          " Music                  ",
          " Music                  ",
          " Kids          ",
          " Entertainment          ",
          " Kids            ",
          " Kids                   ",
          " Entertainment          ",
          " Music                  ",
          " Entertainment          ",
          " Music                  ",
          " Entertainment          ",
          " Movies                 ",
          " Education              ",
          " Entertainment          ",
          " Music                  ",
          " Entertainment          ",
          " Music                  ",
          " Gaming/Entertainment   ",
          " Gaming/Entertainment   ",
          " Entertainment          ",
          " Entertainment          ",
          " Gaming/Entertainment   ",
          " Education          ",
          " Entertainment          ",
          " Music                  ",
          " Entertainment          ",
          " Kids                   ",
          " Gaming/Entertainment   ",
          " Entertainment          ",
          " Entertainment          ",
          " Music                  ",
          " Entertainment          ",
          " Music                  ",
          " Education              ",
          " Music                  ",
          " Music                  ",
          " Entertainment          ",
          " Entertainment          ",
          " Education              ",
          " Entertainment          ",
          " Kids                   ",
          " Music                  ",
          " Kids                   ",
          " Gaming/Entertainment   ",
          " Gaming/Entertainment   ",
          " News                   ",
          " Entertainment          ",
          " Music                  ",
          " Kids                   ",
          " Kids                   ",
          " Entertainment          ",
          " Travel/Entertainment   ",
          " Entertainment          ",
          " Kids                   ",
          " Music                  ",
          " Gaming/Entertainment   ",
          " Animation              ",
          " Kids                   ",
          " Gaming                 ",
          " News                   ",
          " Music                  ",
          " Kids             ",
          " Entertainment          ",
          " Gaming/Entertainment   ",
          " Entertainment          ",
          " Education              ",
          " Kids           ",
          " Music                  ",
          " Kids                   ",
          " Entertainment          ",
          " Music                  ",
          " Platform               ",
          " Gaming                 ",
          " Entertainment          ",
          " Music                  ",
          " Entertainment          ",
          " Gaming/Entertainment   ",
          " Entertainment          ",
          " Entertainment          ",
          " Movies                 ",
          " Kids                   ",
          " Education              ",
          " Gaming/Entertainment   ",
          " Entertainment          ",
          " Kids                   ",
          " Music                  ",
          " Music                  ",
          " Entertainment          ",
          " Gaming/Entertainment   ",
          " Entertainment          ",
          " Entertainment          ",
          " Music                  ",
          " Entertainment          ",
          " Entertainment          ",
          " Kids                   ",
          " Music                  ",
          " Music                  ",
          " Entertainment          ",
          " Gaming/Entertainment   ",
          " Music                  ",
          " Kids                   ",
          " Kids                   ",
          " Music                  ",
          " Entertainment          ",
          " Entertainment          ",
          " Entertainment          ",
          " Kids                   ",
          " Kids                   ",
          " News                   ",
          " Entertainment          ",
          " Entertainment          ",
          " Kids                   ",
          " Kids                   ",
          " Music                  ",
          " Music                  ",
          " Entertainment          ",
          " Entertainment          ",
          " Music                  ",
          " Entertainment          ",
          " Music                  ",
          " Kids                   ",
          " Music                  ",
          " Gaming/Entertainment   ",
          " Music                  ",
          " Entertainment          ",
          " Entertainment          ",
          " Gaming/Entertainment   ",
          " Music                  ",
          " Music                  ",
          " Entertainment          ",
          " Entertainment          ",
          " Music                  ",
          " Entertainment          ",
          " Kids                   ",
          " Music                  ",
          " Entertainment          ",
          " Gaming/Entertainment   ",
          " Entertainment          ",
          " Entertainment          ",
          " Entertainment          ",
          " Entertainment          ",
          " Movies                 ",
          " Music                  ",
          " Entertainment          ",
          " Entertainment          ",
          " Entertainment          ",
          " Music                  ",
          " Movies                 ",
          " Kids                   ",
          " Music                  ",
          " Entertainment          ",
          null,
          null,
          null,
          " Education              ",
          " Gaming/Entertainment   ",
          " Kids                   ",
          " Music                  ",
          " Music                  ",
          " Entertainment          ",
          " Entertainment          ",
          " Kids                   ",
          " Entertainment          ",
          " Entertainment          ",
          " Entertainment          ",
          " toyoraljanahtv ",
          " Entertainment          ",
          " Movies                 ",
          " Music                  ",
          " Entertainment          ",
          " Entertainment          ",
          " Music                  ",
          " Entertainment          ",
          " Entertainment          ",
          " Entertainment          ",
          " Music                  ",
          " Entertainment          ",
          " Gaming/Entertainment   ",
          " Music                  ",
          " Kids               ",
          " Entertainment          ",
          " Entertainment          ",
          " Music                  ",
          " Movies                 ",
          " Entertainment          ",
          " Entertainment          ",
          " Music                  ",
          " Entertainment          ",
          " Entertainment          ",
          " Entertainment          ",
          " Music                  ",
          " Kids                   ",
          " Music                  ",
          " Entertainment          ",
          " Entertainment          ",
          " Kids                   ",
          " Music                  ",
          " Music                  ",
          " Kids                   ",
          " Entertainment          ",
          " News                   ",
          " Entertainment          ",
          " Kids                   ",
          " Education              ",
          " Entertainment          ",
          " Music                  ",
          " Kids                   ",
          " Gaming/Entertainment   ",
          " Kids          ",
          " Entertainment          ",
          " Gaming/Entertainment   ",
          " Education              ",
          " Music                  ",
          " Entertainment          ",
          " Entertainment          ",
          " Entertainment          ",
          " Gaming/Entertainment   ",
          " News                   ",
          " Entertainment          ",
          " Entertainment          ",
          " News                   ",
          " Kids                   ",
          " Entertainment          ",
          " Kids                   ",
          " Animation              ",
          " Entertainment          ",
          " Entertainment          ",
          " Entertainment          ",
          " Entertainment          ",
          " Kids                   ",
          " Kids                   ",
          " Entertainment          ",
          " Music                  ",
          " Music                  ",
          " Movies                 ",
          " Entertainment          ",
          " Kids                   ",
          " Music                  ",
          " Entertainment          ",
          " Music                  ",
          " Music                  ",
          " Music                  ",
          " Entertainment          ",
          " Music                  ",
          " Entertainment          ",
          " Music                  ",
          " Kids                   ",
          " Entertainment          ",
          " Gaming/Entertainment   ",
          " Entertainment          ",
          " Movies                 ",
          " Entertainment          ",
          " Music                  ",
          " Entertainment          ",
          " Music                  ",
          " Movies                 ",
          " Entertainment          ",
          " Kids                   ",
          " Kids                   ",
          " Kids                   ",
          " Entertainment          ",
          " Entertainment          ",
          " Entertainment          ",
          " Kids                ",
          " Entertainment          ",
          " Gaming/Entertainment   ",
          " Kids                   ",
          " Gaming/Entertainment   ",
          " Entertainment          ",
          " Entertainment          ",
          " Entertainment          ",
          " News                   ",
          " Entertainment          ",
          " Education              ",
          " Entertainment          ",
          " Music                  ",
          " Music                  ",
          " Entertainment          ",
          " Kids                   ",
          " Entertainment          ",
          " Kids                   ",
          " Fitness/Health         ",
          " Entertainment          ",
          " Entertainment          ",
          " Music                  ",
          " Kids         ",
          " Gaming/Entertainment   ",
          " Food                   ",
          " Food                   ",
          " Music                  ",
          " Kids                   ",
          " Entertainment          ",
          " Music                  ",
          " Movies                 ",
          " Beauty/Lifestyle       ",
          " Music                  ",
          " Music                  ",
          " Kids                   ",
          " Music                  ",
          " Kids                   ",
          " Music                  ",
          " Music                  ",
          " Kids                   ",
          " Education              ",
          " Charity/Non-profit     ",
          " Entertainment          ",
          " Music                  ",
          " Entertainment          ",
          " Music                  ",
          " Entertainment          ",
          " Entertainment          ",
          " Entertainment          ",
          " Music                  ",
          " Music                  ",
          " Kids                   ",
          " Kids                   ",
          " Gaming/Entertainment   ",
          " Music                  ",
          " Politics               ",
          " Technology             ",
          " Entertainment          ",
          " Entertainment          ",
          " Entertainment          ",
          " Kids                   ",
          " Music                  ",
          " Music                  ",
          " DIY                    ",
          " Entertainment          ",
          " News                   ",
          " Beauty/Lifestyle       ",
          " Gaming/Entertainment   ",
          " Entertainment          ",
          " Entertainment          ",
          " Gaming/Entertainment   ",
          " Music                 ",
          " Entertainment          ",
          " Music                  ",
          " Gaming/Entertainment   ",
          " Animation              ",
          " Music                  ",
          " Entertainment          ",
          " Entertainment          ",
          " Technology             ",
          " Entertainment          ",
          " Music                  ",
          " Gaming/Entertainment   ",
          " News                   ",
          " Entertainment          ",
          " Entertainment          ",
          " Entertainment          ",
          " Music                  ",
          " Entertainment          ",
          null,
          null,
          " Education              ",
          " Entertainment          ",
          " Education              ",
          " Kids                   ",
          " Kids                   ",
          " Entertainment          ",
          " Entertainment          ",
          " Kids                   ",
          " Entertainment          ",
          " Movies                 ",
          " Entertainment          ",
          " Kids                   ",
          " Entertainment          ",
          " Kids                   ",
          " Entertainment          ",
          " Entertainment          ",
          " Music                  ",
          " Entertainment          ",
          " Music                  ",
          " Gaming/Entertainment   ",
          " Movies                 ",
          " News                   ",
          " Music                  ",
          " Entertainment          ",
          " Kids                   ",
          " Kids             ",
          " Education              ",
          " Entertainment          ",
          " Entertainment          ",
          " Entertainment          ",
          " Music                  ",
          " Music                  ",
          " Entertainment          ",
          " Music                  ",
          " Kids                   ",
          " Gaming/Entertainment   ",
          " Entertainment          ",
          " Education              ",
          " Kids                   ",
          " Gaming/Entertainment   ",
          " Education              ",
          " News                   ",
          " Kids                   ",
          " Entertainment          ",
          " Sports                 ",
          " Music                  ",
          " Education              ",
          " Music                  ",
          " Music                  ",
          " Entertainment          ",
          " News                   ",
          " Entertainment          ",
          " Entertainment          ",
          " Entertainment          ",
          " Entertainment          ",
          " Gaming/Entertainment   ",
          " Entertainment          ",
          " Entertainment          ",
          " Food                   ",
          " Education              ",
          " Entertainment          ",
          " Entertainment          ",
          " Entertainment          ",
          " Music                  ",
          " Entertainment          ",
          " Kids                   ",
          " Entertainment          ",
          " Gaming/Entertainment   ",
          " Entertainment          ",
          " Education              ",
          " Animation              ",
          " Animation              ",
          " Music                  ",
          " News                   ",
          " Music                  ",
          " Entertainment          ",
          " Entertainment          ",
          " Gaming/Entertainment   ",
          " Music                  ",
          " Kids                   ",
          " Arab Games Network ",
          " Kids                   ",
          " Sports                 ",
          " Entertainment          ",
          " Entertainment          ",
          " Entertainment          ",
          " Entertainment          ",
          " Entertainment          ",
          " Entertainment          ",
          " Entertainment          ",
          " Entertainment          ",
          " News                   ",
          " Entertainment          ",
          " Entertainment          ",
          " Music                  ",
          " Entertainment          ",
          " Entertainment          ",
          " Food                   ",
          " Gaming/Entertainment   ",
          " Kids             ",
          " Kids                   ",
          " Gaming/Entertainment   ",
          " Education              ",
          " Kids                   ",
          " Entertainment          ",
          " DIY                    ",
          " Entertainment          ",
          " Entertainment          ",
          null,
          null,
          null
         ],
         "legendgroup": "",
         "name": "",
         "showlegend": true,
         "type": "pie",
         "values": [
          "50.98B",
          "257.16B",
          "182.88B",
          "164.71B",
          "103.5B",
          "90.94B",
          "100.9B",
          "29.31B",
          "66.84B",
          "84.98B",
          "29.04B",
          "36.02B",
          "115.24B",
          "51.03B",
          "89.41B",
          "27.39B",
          "22.97B",
          "43.81B",
          "34.26B",
          "70.94B",
          "32.31B",
          "29.3B",
          "34.04B",
          "38.29B",
          "38.83B",
          "31.73B",
          "60.42B",
          "9.28B",
          "36.12B",
          "42.76B",
          "62.2B",
          "31.93B",
          "29.73B",
          "17.42B",
          "41.11B",
          "35.44B",
          "15.74B",
          "34.45B",
          "26.05B",
          "11.6B",
          "65.66B",
          "28.7B",
          "32.44B",
          "53.63B",
          "26.21B",
          "51.02B",
          "24.55B",
          "6.32B",
          "24.22B",
          "15.72B",
          "14.16B",
          "32.93B",
          "30.91B",
          "15.44B",
          "18.53B",
          "39.21B",
          "16.18B",
          "6.46B",
          "2.65B",
          "40.38B",
          "54.86B",
          "35.01B",
          "28.4B",
          "22.8B",
          "10.6B",
          "19.75B",
          "17.67B",
          "30.35B",
          "7.71B",
          "14.12B",
          "8.11B",
          "19.29B",
          "26.8B",
          "6.57B",
          "4.51B",
          "11.15B",
          "39.1B",
          "27.62B",
          "28.89B",
          "25.3B",
          "7.86B",
          "4.89B",
          "17.05B",
          "43.07B",
          "24.34B",
          "20.45B",
          "25.02B",
          "32.75B",
          "9.74B",
          "7.34B",
          "27.61B",
          "18.94B",
          "3.76B",
          "16.6B",
          "50.79B",
          "4.21B",
          "20.1B",
          "19.56B",
          "40.51B",
          "24.95B",
          "7.54B",
          "38.44B",
          "7.88B",
          "30.66B",
          "28.12B",
          "21.55B",
          "39.28B",
          "26.49B",
          "3.03B",
          "11.76B",
          "17.34B",
          "11.07B",
          "28.29B",
          "7.45B",
          "27.61B",
          "16.82B",
          "15.96B",
          "31.12B",
          "7B",
          "5.83B",
          "33.12B",
          "13B",
          "24.37B",
          "14.34B",
          "12.1B",
          "9.31B",
          "23.15B",
          "43.11B",
          "21.03B",
          "16.93B",
          "30.01B",
          "57.67B",
          "24.1B",
          "24.96B",
          "16.42B",
          "21.48B",
          "23.62B",
          "28.69B",
          "19.09B",
          "23.88B",
          "16.56B",
          "15.58B",
          "21.74B",
          "32.4B",
          "21.71B",
          "21.2B",
          "12.91B",
          "27.37B",
          "25.89B",
          "37.65B",
          "13.72B",
          "27.43B",
          "22.81B",
          "14.32B",
          "31.98B",
          "19.5B",
          "18.11B",
          "13.92B",
          "14B",
          "25.06B",
          "24B",
          "16.84B",
          "20.45B",
          "15.79B",
          "17.72B",
          "13.72B",
          "10.61B",
          "13.06B",
          "11.72B",
          "11.12B",
          "6.07B",
          "16.49B",
          "3.78B",
          "22.77B",
          "13.46B",
          "18.66B",
          "11.21B",
          "3.42B",
          "22.29B",
          "12.62B",
          "23.4B",
          "19.17B",
          "27.4B",
          "27.35B",
          "29.45B",
          "8.92B",
          "1.66B",
          "29.83B",
          "3.45B",
          "24.35B",
          "6.98B",
          "3.11B",
          "17.21B",
          "15.79B",
          "18.71B",
          "16.21B",
          "26.42B",
          "19.71B",
          "17.63B",
          "12.73B",
          "5.15B",
          "28.95B",
          "17.34B",
          "9.75B",
          "27.79B",
          "5.17B",
          "25.04B",
          "15.6B",
          "8.46B",
          "17.07B",
          "12.54B",
          "20.73B",
          "17.84B",
          "16.77B",
          "13.82B",
          "13.77B",
          "5.99B",
          "7.79B",
          "17.59B",
          "10B",
          "37.99B",
          "17.01B",
          "16.03B",
          "8.94B",
          "4.76B",
          "18.97B",
          "14.45B",
          "38.77B",
          "13.71B",
          "26.99B",
          "12.41B",
          "23.94B",
          "17.89B",
          "23.15B",
          "14.64B",
          "13.71B",
          "12.47B",
          "26.33B",
          "22.54B",
          "25.41B",
          "27.35B",
          "22.52B",
          "17.52B",
          "4.13B",
          "11.95B",
          "4.75B",
          "19.83B",
          "2.43B",
          "14.13B",
          "10.13B",
          "8.5B",
          "2.14B",
          "8.71B",
          "9.46B",
          "9.37B",
          "4.77B",
          "16.26B",
          "12.6B",
          "6.56B",
          "12.6B",
          "6.91B",
          "28.96B",
          "12.84B",
          "10.7B",
          "3.27B",
          "16.2B",
          "12.51B",
          "28.22B",
          "18.76B",
          "16.31B",
          "7.94B",
          "18.79B",
          "17.97B",
          "21.05B",
          "12.72B",
          "11.26B",
          "17.2B",
          "19.49B",
          "19.04B",
          "17.37B",
          "10.8B",
          "19.72B",
          "12.86B",
          "13.53B",
          "9.91B",
          "7.95B",
          "6.53B",
          "4.97B",
          "19.06B",
          "9.42B",
          "8.22B",
          "5.38B",
          "15.27B",
          "13.42B",
          "8.66B",
          "7.32B",
          "6.81B",
          "18.21B",
          "15.33B",
          "9.12B",
          "5.23B",
          "16.02B",
          "10.53B",
          "8.69B",
          "6.1B",
          "3B",
          "13.55B",
          "12.14B",
          "11.85B",
          "11.27B",
          "11.2B",
          "28.31B",
          "61.01B",
          "16.85B",
          "9.89B",
          "25.61B",
          "18.5B",
          "3.19B",
          "12.96B",
          "11.14B",
          "20.45B",
          "14.64B",
          "2.5B",
          "15.25B",
          "7.33B",
          "25.22B",
          "11.73B",
          "8.06B",
          "24.98B",
          "3.19B",
          "2.59B",
          "22.01B",
          "19.06B",
          "15.62B",
          "14.33B",
          "12.4B",
          "24.65B",
          "23.01B",
          "18.81B",
          "16.07B",
          "2.72B",
          "797.36M",
          "22.63B",
          "9.02B",
          "8.66B",
          "7.49B",
          "2.47B",
          "40.34B",
          "29.44B",
          "27.12B",
          "17.27B",
          "12.88B",
          "11.13B",
          "9.44B",
          "6.02B",
          "5.58B",
          "4.69B",
          "22.22B",
          "9.82B",
          "6.81B",
          "23.92B",
          "16.58B",
          "11.9B",
          "10.36B",
          "4.16B",
          "16.02B",
          "4.38B",
          "2.67B",
          "17.57B",
          "15.9B",
          "15.2B",
          "13.31B",
          "9.87B",
          "22.43B",
          "15.09B",
          "15.07B",
          "13.18B",
          "11.5B",
          "6.01B",
          "3.68B",
          "17.32B",
          "14.48B",
          "24.93B",
          "14.7B",
          "9.99B",
          "9.12B",
          "6.35B",
          "17.86B",
          "11.86B",
          "2.34B",
          "9.95B",
          "6.01B",
          "18.2B",
          "9.98B",
          "8.03B",
          "17.41B",
          "16.95B",
          "10.43B",
          "5.72B",
          "5.68B",
          "1.39K",
          "20.72B",
          "13.58B",
          "6.03B",
          "20.51B",
          "15.02B",
          "11.55B",
          "8.64B",
          "7.16B",
          "6.28B",
          "12.16B",
          "10.81B",
          "13.83B",
          "12.12B",
          "8.06B",
          "2.78B",
          "16.96B",
          "14.12B",
          "9.34B",
          "9.24B",
          "6.35B",
          "4.04B",
          "14.06B",
          "11.42B",
          "8.87B",
          "6.84B",
          "20.79B",
          "5.46B",
          "12.21B",
          "9.41B",
          "4.19B",
          "2.86B",
          "23.49B",
          "14.69B",
          "14.09B",
          "11.65B",
          "4.11B",
          "12.63B",
          "19.28B",
          "19.19B",
          "11.29B",
          "11.2B",
          "9.15B",
          "16.36B",
          "12.38B",
          "6.45B",
          "8.81B",
          "8.58B",
          "6.13B",
          "5.14B",
          "4.87B",
          "4.66B",
          "18.08B",
          "15.1B",
          "488.84M",
          "8.46B",
          "7.25B",
          "6.21B",
          "2.17B",
          "1.94B",
          "11.87B",
          "9.9B",
          "3.88B",
          "25.78B",
          "16.33B",
          "14.51B",
          "11.27B",
          "11.01B",
          "10.9B",
          "10.12B",
          "9.52B",
          "9.46B",
          "6.52B",
          "4.4B",
          "4.07B",
          "12.11B",
          "9.7B",
          "5B",
          "4.63B",
          "3.56B",
          "2.93B",
          "2.73B",
          "2.64B",
          "1.91B",
          "15.8B",
          "14.38B",
          "7.59B",
          "4.13B",
          "22.28B",
          "9.38B",
          "9.23B",
          "8.28B",
          "4.55B",
          "3.2B",
          "1.91B",
          "7.63B",
          "6.01B",
          "5.16B",
          "1.55M",
          "11.76B"
         ]
        }
       ],
       "layout": {
        "legend": {
         "tracegroupgap": 0
        },
        "margin": {
         "t": 60
        },
        "template": {
         "data": {
          "bar": [
           {
            "error_x": {
             "color": "#2a3f5f"
            },
            "error_y": {
             "color": "#2a3f5f"
            },
            "marker": {
             "line": {
              "color": "#E5ECF6",
              "width": 0.5
             },
             "pattern": {
              "fillmode": "overlay",
              "size": 10,
              "solidity": 0.2
             }
            },
            "type": "bar"
           }
          ],
          "barpolar": [
           {
            "marker": {
             "line": {
              "color": "#E5ECF6",
              "width": 0.5
             },
             "pattern": {
              "fillmode": "overlay",
              "size": 10,
              "solidity": 0.2
             }
            },
            "type": "barpolar"
           }
          ],
          "carpet": [
           {
            "aaxis": {
             "endlinecolor": "#2a3f5f",
             "gridcolor": "white",
             "linecolor": "white",
             "minorgridcolor": "white",
             "startlinecolor": "#2a3f5f"
            },
            "baxis": {
             "endlinecolor": "#2a3f5f",
             "gridcolor": "white",
             "linecolor": "white",
             "minorgridcolor": "white",
             "startlinecolor": "#2a3f5f"
            },
            "type": "carpet"
           }
          ],
          "choropleth": [
           {
            "colorbar": {
             "outlinewidth": 0,
             "ticks": ""
            },
            "type": "choropleth"
           }
          ],
          "contour": [
           {
            "colorbar": {
             "outlinewidth": 0,
             "ticks": ""
            },
            "colorscale": [
             [
              0,
              "#0d0887"
             ],
             [
              0.1111111111111111,
              "#46039f"
             ],
             [
              0.2222222222222222,
              "#7201a8"
             ],
             [
              0.3333333333333333,
              "#9c179e"
             ],
             [
              0.4444444444444444,
              "#bd3786"
             ],
             [
              0.5555555555555556,
              "#d8576b"
             ],
             [
              0.6666666666666666,
              "#ed7953"
             ],
             [
              0.7777777777777778,
              "#fb9f3a"
             ],
             [
              0.8888888888888888,
              "#fdca26"
             ],
             [
              1,
              "#f0f921"
             ]
            ],
            "type": "contour"
           }
          ],
          "contourcarpet": [
           {
            "colorbar": {
             "outlinewidth": 0,
             "ticks": ""
            },
            "type": "contourcarpet"
           }
          ],
          "heatmap": [
           {
            "colorbar": {
             "outlinewidth": 0,
             "ticks": ""
            },
            "colorscale": [
             [
              0,
              "#0d0887"
             ],
             [
              0.1111111111111111,
              "#46039f"
             ],
             [
              0.2222222222222222,
              "#7201a8"
             ],
             [
              0.3333333333333333,
              "#9c179e"
             ],
             [
              0.4444444444444444,
              "#bd3786"
             ],
             [
              0.5555555555555556,
              "#d8576b"
             ],
             [
              0.6666666666666666,
              "#ed7953"
             ],
             [
              0.7777777777777778,
              "#fb9f3a"
             ],
             [
              0.8888888888888888,
              "#fdca26"
             ],
             [
              1,
              "#f0f921"
             ]
            ],
            "type": "heatmap"
           }
          ],
          "heatmapgl": [
           {
            "colorbar": {
             "outlinewidth": 0,
             "ticks": ""
            },
            "colorscale": [
             [
              0,
              "#0d0887"
             ],
             [
              0.1111111111111111,
              "#46039f"
             ],
             [
              0.2222222222222222,
              "#7201a8"
             ],
             [
              0.3333333333333333,
              "#9c179e"
             ],
             [
              0.4444444444444444,
              "#bd3786"
             ],
             [
              0.5555555555555556,
              "#d8576b"
             ],
             [
              0.6666666666666666,
              "#ed7953"
             ],
             [
              0.7777777777777778,
              "#fb9f3a"
             ],
             [
              0.8888888888888888,
              "#fdca26"
             ],
             [
              1,
              "#f0f921"
             ]
            ],
            "type": "heatmapgl"
           }
          ],
          "histogram": [
           {
            "marker": {
             "pattern": {
              "fillmode": "overlay",
              "size": 10,
              "solidity": 0.2
             }
            },
            "type": "histogram"
           }
          ],
          "histogram2d": [
           {
            "colorbar": {
             "outlinewidth": 0,
             "ticks": ""
            },
            "colorscale": [
             [
              0,
              "#0d0887"
             ],
             [
              0.1111111111111111,
              "#46039f"
             ],
             [
              0.2222222222222222,
              "#7201a8"
             ],
             [
              0.3333333333333333,
              "#9c179e"
             ],
             [
              0.4444444444444444,
              "#bd3786"
             ],
             [
              0.5555555555555556,
              "#d8576b"
             ],
             [
              0.6666666666666666,
              "#ed7953"
             ],
             [
              0.7777777777777778,
              "#fb9f3a"
             ],
             [
              0.8888888888888888,
              "#fdca26"
             ],
             [
              1,
              "#f0f921"
             ]
            ],
            "type": "histogram2d"
           }
          ],
          "histogram2dcontour": [
           {
            "colorbar": {
             "outlinewidth": 0,
             "ticks": ""
            },
            "colorscale": [
             [
              0,
              "#0d0887"
             ],
             [
              0.1111111111111111,
              "#46039f"
             ],
             [
              0.2222222222222222,
              "#7201a8"
             ],
             [
              0.3333333333333333,
              "#9c179e"
             ],
             [
              0.4444444444444444,
              "#bd3786"
             ],
             [
              0.5555555555555556,
              "#d8576b"
             ],
             [
              0.6666666666666666,
              "#ed7953"
             ],
             [
              0.7777777777777778,
              "#fb9f3a"
             ],
             [
              0.8888888888888888,
              "#fdca26"
             ],
             [
              1,
              "#f0f921"
             ]
            ],
            "type": "histogram2dcontour"
           }
          ],
          "mesh3d": [
           {
            "colorbar": {
             "outlinewidth": 0,
             "ticks": ""
            },
            "type": "mesh3d"
           }
          ],
          "parcoords": [
           {
            "line": {
             "colorbar": {
              "outlinewidth": 0,
              "ticks": ""
             }
            },
            "type": "parcoords"
           }
          ],
          "pie": [
           {
            "automargin": true,
            "type": "pie"
           }
          ],
          "scatter": [
           {
            "fillpattern": {
             "fillmode": "overlay",
             "size": 10,
             "solidity": 0.2
            },
            "type": "scatter"
           }
          ],
          "scatter3d": [
           {
            "line": {
             "colorbar": {
              "outlinewidth": 0,
              "ticks": ""
             }
            },
            "marker": {
             "colorbar": {
              "outlinewidth": 0,
              "ticks": ""
             }
            },
            "type": "scatter3d"
           }
          ],
          "scattercarpet": [
           {
            "marker": {
             "colorbar": {
              "outlinewidth": 0,
              "ticks": ""
             }
            },
            "type": "scattercarpet"
           }
          ],
          "scattergeo": [
           {
            "marker": {
             "colorbar": {
              "outlinewidth": 0,
              "ticks": ""
             }
            },
            "type": "scattergeo"
           }
          ],
          "scattergl": [
           {
            "marker": {
             "colorbar": {
              "outlinewidth": 0,
              "ticks": ""
             }
            },
            "type": "scattergl"
           }
          ],
          "scattermapbox": [
           {
            "marker": {
             "colorbar": {
              "outlinewidth": 0,
              "ticks": ""
             }
            },
            "type": "scattermapbox"
           }
          ],
          "scatterpolar": [
           {
            "marker": {
             "colorbar": {
              "outlinewidth": 0,
              "ticks": ""
             }
            },
            "type": "scatterpolar"
           }
          ],
          "scatterpolargl": [
           {
            "marker": {
             "colorbar": {
              "outlinewidth": 0,
              "ticks": ""
             }
            },
            "type": "scatterpolargl"
           }
          ],
          "scatterternary": [
           {
            "marker": {
             "colorbar": {
              "outlinewidth": 0,
              "ticks": ""
             }
            },
            "type": "scatterternary"
           }
          ],
          "surface": [
           {
            "colorbar": {
             "outlinewidth": 0,
             "ticks": ""
            },
            "colorscale": [
             [
              0,
              "#0d0887"
             ],
             [
              0.1111111111111111,
              "#46039f"
             ],
             [
              0.2222222222222222,
              "#7201a8"
             ],
             [
              0.3333333333333333,
              "#9c179e"
             ],
             [
              0.4444444444444444,
              "#bd3786"
             ],
             [
              0.5555555555555556,
              "#d8576b"
             ],
             [
              0.6666666666666666,
              "#ed7953"
             ],
             [
              0.7777777777777778,
              "#fb9f3a"
             ],
             [
              0.8888888888888888,
              "#fdca26"
             ],
             [
              1,
              "#f0f921"
             ]
            ],
            "type": "surface"
           }
          ],
          "table": [
           {
            "cells": {
             "fill": {
              "color": "#EBF0F8"
             },
             "line": {
              "color": "white"
             }
            },
            "header": {
             "fill": {
              "color": "#C8D4E3"
             },
             "line": {
              "color": "white"
             }
            },
            "type": "table"
           }
          ]
         },
         "layout": {
          "annotationdefaults": {
           "arrowcolor": "#2a3f5f",
           "arrowhead": 0,
           "arrowwidth": 1
          },
          "autotypenumbers": "strict",
          "coloraxis": {
           "colorbar": {
            "outlinewidth": 0,
            "ticks": ""
           }
          },
          "colorscale": {
           "diverging": [
            [
             0,
             "#8e0152"
            ],
            [
             0.1,
             "#c51b7d"
            ],
            [
             0.2,
             "#de77ae"
            ],
            [
             0.3,
             "#f1b6da"
            ],
            [
             0.4,
             "#fde0ef"
            ],
            [
             0.5,
             "#f7f7f7"
            ],
            [
             0.6,
             "#e6f5d0"
            ],
            [
             0.7,
             "#b8e186"
            ],
            [
             0.8,
             "#7fbc41"
            ],
            [
             0.9,
             "#4d9221"
            ],
            [
             1,
             "#276419"
            ]
           ],
           "sequential": [
            [
             0,
             "#0d0887"
            ],
            [
             0.1111111111111111,
             "#46039f"
            ],
            [
             0.2222222222222222,
             "#7201a8"
            ],
            [
             0.3333333333333333,
             "#9c179e"
            ],
            [
             0.4444444444444444,
             "#bd3786"
            ],
            [
             0.5555555555555556,
             "#d8576b"
            ],
            [
             0.6666666666666666,
             "#ed7953"
            ],
            [
             0.7777777777777778,
             "#fb9f3a"
            ],
            [
             0.8888888888888888,
             "#fdca26"
            ],
            [
             1,
             "#f0f921"
            ]
           ],
           "sequentialminus": [
            [
             0,
             "#0d0887"
            ],
            [
             0.1111111111111111,
             "#46039f"
            ],
            [
             0.2222222222222222,
             "#7201a8"
            ],
            [
             0.3333333333333333,
             "#9c179e"
            ],
            [
             0.4444444444444444,
             "#bd3786"
            ],
            [
             0.5555555555555556,
             "#d8576b"
            ],
            [
             0.6666666666666666,
             "#ed7953"
            ],
            [
             0.7777777777777778,
             "#fb9f3a"
            ],
            [
             0.8888888888888888,
             "#fdca26"
            ],
            [
             1,
             "#f0f921"
            ]
           ]
          },
          "colorway": [
           "#636efa",
           "#EF553B",
           "#00cc96",
           "#ab63fa",
           "#FFA15A",
           "#19d3f3",
           "#FF6692",
           "#B6E880",
           "#FF97FF",
           "#FECB52"
          ],
          "font": {
           "color": "#2a3f5f"
          },
          "geo": {
           "bgcolor": "white",
           "lakecolor": "white",
           "landcolor": "#E5ECF6",
           "showlakes": true,
           "showland": true,
           "subunitcolor": "white"
          },
          "hoverlabel": {
           "align": "left"
          },
          "hovermode": "closest",
          "mapbox": {
           "style": "light"
          },
          "paper_bgcolor": "white",
          "plot_bgcolor": "#E5ECF6",
          "polar": {
           "angularaxis": {
            "gridcolor": "white",
            "linecolor": "white",
            "ticks": ""
           },
           "bgcolor": "#E5ECF6",
           "radialaxis": {
            "gridcolor": "white",
            "linecolor": "white",
            "ticks": ""
           }
          },
          "scene": {
           "xaxis": {
            "backgroundcolor": "#E5ECF6",
            "gridcolor": "white",
            "gridwidth": 2,
            "linecolor": "white",
            "showbackground": true,
            "ticks": "",
            "zerolinecolor": "white"
           },
           "yaxis": {
            "backgroundcolor": "#E5ECF6",
            "gridcolor": "white",
            "gridwidth": 2,
            "linecolor": "white",
            "showbackground": true,
            "ticks": "",
            "zerolinecolor": "white"
           },
           "zaxis": {
            "backgroundcolor": "#E5ECF6",
            "gridcolor": "white",
            "gridwidth": 2,
            "linecolor": "white",
            "showbackground": true,
            "ticks": "",
            "zerolinecolor": "white"
           }
          },
          "shapedefaults": {
           "line": {
            "color": "#2a3f5f"
           }
          },
          "ternary": {
           "aaxis": {
            "gridcolor": "white",
            "linecolor": "white",
            "ticks": ""
           },
           "baxis": {
            "gridcolor": "white",
            "linecolor": "white",
            "ticks": ""
           },
           "bgcolor": "#E5ECF6",
           "caxis": {
            "gridcolor": "white",
            "linecolor": "white",
            "ticks": ""
           }
          },
          "title": {
           "x": 0.05
          },
          "xaxis": {
           "automargin": true,
           "gridcolor": "white",
           "linecolor": "white",
           "ticks": "",
           "title": {
            "standoff": 15
           },
           "zerolinecolor": "white",
           "zerolinewidth": 2
          },
          "yaxis": {
           "automargin": true,
           "gridcolor": "white",
           "linecolor": "white",
           "ticks": "",
           "title": {
            "standoff": 15
           },
           "zerolinecolor": "white",
           "zerolinewidth": 2
          }
         }
        }
       }
      }
     },
     "metadata": {},
     "output_type": "display_data"
    }
   ],
   "source": [
    "fig = px.pie(df, values='VIEWS', names='CATEGORY')\n",
    "fig.show()"
   ]
  },
  {
   "cell_type": "code",
   "execution_count": 82,
   "metadata": {},
   "outputs": [
    {
     "data": {
      "application/vnd.plotly.v1+json": {
       "config": {
        "plotlyServerURL": "https://plot.ly"
       },
       "data": [
        {
         "alignmentgroup": "True",
         "hovertemplate": "CATEGORY=%{x}<br>VIEWS=%{y}<extra></extra>",
         "legendgroup": " Entertainment          ",
         "marker": {
          "color": "#636efa",
          "pattern": {
           "shape": ""
          }
         },
         "name": " Entertainment          ",
         "offsetgroup": " Entertainment          ",
         "orientation": "v",
         "showlegend": true,
         "textposition": "auto",
         "type": "bar",
         "x": [
          " Entertainment          ",
          " Entertainment          ",
          " Entertainment          ",
          " Entertainment          ",
          " Entertainment          ",
          " Entertainment          ",
          " Entertainment          ",
          " Entertainment          ",
          " Entertainment          ",
          " Entertainment          ",
          " Entertainment          ",
          " Entertainment          ",
          " Entertainment          ",
          " Entertainment          ",
          " Entertainment          ",
          " Entertainment          ",
          " Entertainment          ",
          " Entertainment          ",
          " Entertainment          ",
          " Entertainment          ",
          " Entertainment          ",
          " Entertainment          ",
          " Entertainment          ",
          " Entertainment          ",
          " Entertainment          ",
          " Entertainment          ",
          " Entertainment          ",
          " Entertainment          ",
          " Entertainment          ",
          " Entertainment          ",
          " Entertainment          ",
          " Entertainment          ",
          " Entertainment          ",
          " Entertainment          ",
          " Entertainment          ",
          " Entertainment          ",
          " Entertainment          ",
          " Entertainment          ",
          " Entertainment          ",
          " Entertainment          ",
          " Entertainment          ",
          " Entertainment          ",
          " Entertainment          ",
          " Entertainment          ",
          " Entertainment          ",
          " Entertainment          ",
          " Entertainment          ",
          " Entertainment          ",
          " Entertainment          ",
          " Entertainment          ",
          " Entertainment          ",
          " Entertainment          ",
          " Entertainment          ",
          " Entertainment          ",
          " Entertainment          ",
          " Entertainment          ",
          " Entertainment          ",
          " Entertainment          ",
          " Entertainment          ",
          " Entertainment          ",
          " Entertainment          ",
          " Entertainment          ",
          " Entertainment          ",
          " Entertainment          ",
          " Entertainment          ",
          " Entertainment          ",
          " Entertainment          ",
          " Entertainment          ",
          " Entertainment          ",
          " Entertainment          ",
          " Entertainment          ",
          " Entertainment          ",
          " Entertainment          ",
          " Entertainment          ",
          " Entertainment          ",
          " Entertainment          ",
          " Entertainment          ",
          " Entertainment          ",
          " Entertainment          ",
          " Entertainment          ",
          " Entertainment          ",
          " Entertainment          ",
          " Entertainment          ",
          " Entertainment          ",
          " Entertainment          ",
          " Entertainment          ",
          " Entertainment          ",
          " Entertainment          ",
          " Entertainment          ",
          " Entertainment          ",
          " Entertainment          ",
          " Entertainment          ",
          " Entertainment          ",
          " Entertainment          ",
          " Entertainment          ",
          " Entertainment          ",
          " Entertainment          ",
          " Entertainment          ",
          " Entertainment          ",
          " Entertainment          ",
          " Entertainment          ",
          " Entertainment          ",
          " Entertainment          ",
          " Entertainment          ",
          " Entertainment          ",
          " Entertainment          ",
          " Entertainment          ",
          " Entertainment          ",
          " Entertainment          ",
          " Entertainment          ",
          " Entertainment          ",
          " Entertainment          ",
          " Entertainment          ",
          " Entertainment          ",
          " Entertainment          ",
          " Entertainment          ",
          " Entertainment          ",
          " Entertainment          ",
          " Entertainment          ",
          " Entertainment          ",
          " Entertainment          ",
          " Entertainment          ",
          " Entertainment          ",
          " Entertainment          ",
          " Entertainment          ",
          " Entertainment          ",
          " Entertainment          ",
          " Entertainment          ",
          " Entertainment          ",
          " Entertainment          ",
          " Entertainment          ",
          " Entertainment          ",
          " Entertainment          ",
          " Entertainment          ",
          " Entertainment          ",
          " Entertainment          ",
          " Entertainment          ",
          " Entertainment          ",
          " Entertainment          ",
          " Entertainment          ",
          " Entertainment          ",
          " Entertainment          ",
          " Entertainment          ",
          " Entertainment          ",
          " Entertainment          ",
          " Entertainment          ",
          " Entertainment          ",
          " Entertainment          ",
          " Entertainment          ",
          " Entertainment          ",
          " Entertainment          ",
          " Entertainment          ",
          " Entertainment          ",
          " Entertainment          ",
          " Entertainment          ",
          " Entertainment          ",
          " Entertainment          ",
          " Entertainment          ",
          " Entertainment          ",
          " Entertainment          ",
          " Entertainment          ",
          " Entertainment          ",
          " Entertainment          ",
          " Entertainment          ",
          " Entertainment          ",
          " Entertainment          ",
          " Entertainment          ",
          " Entertainment          ",
          " Entertainment          ",
          " Entertainment          ",
          " Entertainment          ",
          " Entertainment          ",
          " Entertainment          ",
          " Entertainment          ",
          " Entertainment          ",
          " Entertainment          ",
          " Entertainment          ",
          " Entertainment          ",
          " Entertainment          ",
          " Entertainment          ",
          " Entertainment          ",
          " Entertainment          ",
          " Entertainment          ",
          " Entertainment          ",
          " Entertainment          ",
          " Entertainment          "
         ],
         "xaxis": "x",
         "y": [
          "50.98B",
          "164.71B",
          "29.31B",
          "115.24B",
          "89.41B",
          "70.94B",
          "9.28B",
          "26.05B",
          "28.7B",
          "53.63B",
          "51.02B",
          "24.22B",
          "14.16B",
          "18.53B",
          "39.21B",
          "2.65B",
          "54.86B",
          "22.8B",
          "10.6B",
          "17.67B",
          "19.29B",
          "26.8B",
          "4.51B",
          "4.89B",
          "20.45B",
          "32.75B",
          "19.56B",
          "24.95B",
          "28.12B",
          "3.03B",
          "17.34B",
          "28.29B",
          "7.45B",
          "7B",
          "24.37B",
          "12.1B",
          "9.31B",
          "43.11B",
          "21.03B",
          "24.1B",
          "19.09B",
          "23.88B",
          "16.56B",
          "21.71B",
          "21.2B",
          "13.72B",
          "27.43B",
          "14.32B",
          "25.06B",
          "24B",
          "17.72B",
          "13.72B",
          "13.06B",
          "6.07B",
          "3.78B",
          "22.77B",
          "13.46B",
          "18.66B",
          "22.29B",
          "12.62B",
          "23.4B",
          "8.92B",
          "18.71B",
          "16.21B",
          "19.71B",
          "17.63B",
          "12.73B",
          "28.95B",
          "27.79B",
          "5.17B",
          "15.6B",
          "8.46B",
          "17.07B",
          "20.73B",
          "13.77B",
          "5.99B",
          "10B",
          "37.99B",
          "16.03B",
          "8.94B",
          "4.76B",
          "13.71B",
          "26.99B",
          "14.64B",
          "12.47B",
          "25.41B",
          "11.95B",
          "14.13B",
          "10.13B",
          "8.5B",
          "9.46B",
          "9.37B",
          "12.6B",
          "6.91B",
          "28.96B",
          "12.84B",
          "10.7B",
          "12.51B",
          "7.94B",
          "21.05B",
          "19.49B",
          "17.37B",
          "12.86B",
          "9.91B",
          "6.53B",
          "19.06B",
          "5.38B",
          "7.32B",
          "6.81B",
          "18.21B",
          "9.12B",
          "8.69B",
          "6.1B",
          "3B",
          "12.14B",
          "11.27B",
          "61.01B",
          "9.89B",
          "3.19B",
          "12.96B",
          "11.73B",
          "2.72B",
          "22.63B",
          "8.66B",
          "7.49B",
          "2.47B",
          "5.58B",
          "4.69B",
          "22.22B",
          "11.9B",
          "4.38B",
          "2.67B",
          "15.2B",
          "15.07B",
          "13.18B",
          "6.01B",
          "24.93B",
          "14.7B",
          "9.99B",
          "6.35B",
          "9.95B",
          "8.03B",
          "17.41B",
          "10.43B",
          "5.68B",
          "20.72B",
          "6.03B",
          "20.51B",
          "11.55B",
          "13.83B",
          "16.96B",
          "14.12B",
          "9.34B",
          "4.04B",
          "6.84B",
          "23.49B",
          "19.28B",
          "11.29B",
          "11.2B",
          "9.15B",
          "16.36B",
          "6.45B",
          "8.81B",
          "5.14B",
          "4.87B",
          "4.66B",
          "15.1B",
          "8.46B",
          "6.21B",
          "16.33B",
          "14.51B",
          "6.52B",
          "4.4B",
          "4.07B",
          "12.11B",
          "9.7B",
          "5B",
          "4.63B",
          "3.56B",
          "2.73B",
          "2.64B",
          "15.8B",
          "14.38B",
          "3.2B",
          "7.63B",
          "6.01B"
         ],
         "yaxis": "y"
        },
        {
         "alignmentgroup": "True",
         "hovertemplate": "CATEGORY=%{x}<br>VIEWS=%{y}<extra></extra>",
         "legendgroup": " Music                  ",
         "marker": {
          "color": "#EF553B",
          "pattern": {
           "shape": ""
          }
         },
         "name": " Music                  ",
         "offsetgroup": " Music                  ",
         "orientation": "v",
         "showlegend": true,
         "textposition": "auto",
         "type": "bar",
         "x": [
          " Music                  ",
          " Music                  ",
          " Music                  ",
          " Music                  ",
          " Music                  ",
          " Music                  ",
          " Music                  ",
          " Music                  ",
          " Music                  ",
          " Music                  ",
          " Music                  ",
          " Music                  ",
          " Music                  ",
          " Music                  ",
          " Music                  ",
          " Music                  ",
          " Music                  ",
          " Music                  ",
          " Music                  ",
          " Music                  ",
          " Music                  ",
          " Music                  ",
          " Music                  ",
          " Music                  ",
          " Music                  ",
          " Music                  ",
          " Music                  ",
          " Music                  ",
          " Music                  ",
          " Music                  ",
          " Music                  ",
          " Music                  ",
          " Music                  ",
          " Music                  ",
          " Music                  ",
          " Music                  ",
          " Music                  ",
          " Music                  ",
          " Music                  ",
          " Music                  ",
          " Music                  ",
          " Music                  ",
          " Music                  ",
          " Music                  ",
          " Music                  ",
          " Music                  ",
          " Music                  ",
          " Music                  ",
          " Music                  ",
          " Music                  ",
          " Music                  ",
          " Music                  ",
          " Music                  ",
          " Music                  ",
          " Music                  ",
          " Music                  ",
          " Music                  ",
          " Music                  ",
          " Music                  ",
          " Music                  ",
          " Music                  ",
          " Music                  ",
          " Music                  ",
          " Music                  ",
          " Music                  ",
          " Music                  ",
          " Music                  ",
          " Music                  ",
          " Music                  ",
          " Music                  ",
          " Music                  ",
          " Music                  ",
          " Music                  ",
          " Music                  ",
          " Music                  ",
          " Music                  ",
          " Music                  ",
          " Music                  ",
          " Music                  ",
          " Music                  ",
          " Music                  ",
          " Music                  ",
          " Music                  ",
          " Music                  ",
          " Music                  ",
          " Music                  ",
          " Music                  ",
          " Music                  ",
          " Music                  ",
          " Music                  ",
          " Music                  ",
          " Music                  ",
          " Music                  ",
          " Music                  ",
          " Music                  ",
          " Music                  ",
          " Music                  ",
          " Music                  ",
          " Music                  ",
          " Music                  ",
          " Music                  ",
          " Music                  ",
          " Music                  ",
          " Music                  ",
          " Music                  ",
          " Music                  ",
          " Music                  ",
          " Music                  ",
          " Music                  ",
          " Music                  ",
          " Music                  "
         ],
         "xaxis": "x",
         "y": [
          "257.16B",
          "66.84B",
          "36.02B",
          "22.97B",
          "34.26B",
          "32.31B",
          "29.3B",
          "34.04B",
          "38.29B",
          "38.83B",
          "42.76B",
          "31.93B",
          "29.73B",
          "41.11B",
          "35.44B",
          "15.74B",
          "32.44B",
          "26.21B",
          "15.72B",
          "32.93B",
          "40.38B",
          "19.75B",
          "30.35B",
          "14.12B",
          "8.11B",
          "39.1B",
          "17.05B",
          "7.34B",
          "4.21B",
          "7.88B",
          "21.55B",
          "11.76B",
          "33.12B",
          "13B",
          "23.15B",
          "30.01B",
          "57.67B",
          "16.42B",
          "28.69B",
          "25.89B",
          "37.65B",
          "22.81B",
          "31.98B",
          "18.11B",
          "14B",
          "20.45B",
          "15.79B",
          "10.61B",
          "11.12B",
          "3.42B",
          "19.17B",
          "29.45B",
          "17.21B",
          "15.79B",
          "9.75B",
          "25.04B",
          "12.54B",
          "16.77B",
          "7.79B",
          "17.01B",
          "18.97B",
          "38.77B",
          "23.94B",
          "17.89B",
          "27.35B",
          "2.43B",
          "28.22B",
          "18.76B",
          "17.97B",
          "12.72B",
          "11.26B",
          "17.2B",
          "19.04B",
          "10.8B",
          "4.97B",
          "9.42B",
          "11.2B",
          "28.31B",
          "11.14B",
          "7.33B",
          "8.06B",
          "2.59B",
          "22.01B",
          "15.62B",
          "12.4B",
          "24.65B",
          "797.36M",
          "9.02B",
          "40.34B",
          "29.44B",
          "11.13B",
          "6.81B",
          "23.92B",
          "13.31B",
          "15.09B",
          "3.68B",
          "9.12B",
          "15.02B",
          "8.64B",
          "10.81B",
          "9.24B",
          "6.35B",
          "14.06B",
          "14.09B",
          "4.11B",
          "12.63B",
          "18.08B",
          "9.9B",
          "25.78B",
          "11.01B",
          "1.91B"
         ],
         "yaxis": "y"
        },
        {
         "alignmentgroup": "True",
         "hovertemplate": "CATEGORY=%{x}<br>VIEWS=%{y}<extra></extra>",
         "legendgroup": " Kids                   ",
         "marker": {
          "color": "#00cc96",
          "pattern": {
           "shape": ""
          }
         },
         "name": " Kids                   ",
         "offsetgroup": " Kids                   ",
         "orientation": "v",
         "showlegend": true,
         "textposition": "auto",
         "type": "bar",
         "x": [
          " Kids                   ",
          " Kids                   ",
          " Kids                   ",
          " Kids                   ",
          " Kids                   ",
          " Kids                   ",
          " Kids                   ",
          " Kids                   ",
          " Kids                   ",
          " Kids                   ",
          " Kids                   ",
          " Kids                   ",
          " Kids                   ",
          " Kids                   ",
          " Kids                   ",
          " Kids                   ",
          " Kids                   ",
          " Kids                   ",
          " Kids                   ",
          " Kids                   ",
          " Kids                   ",
          " Kids                   ",
          " Kids                   ",
          " Kids                   ",
          " Kids                   ",
          " Kids                   ",
          " Kids                   ",
          " Kids                   ",
          " Kids                   ",
          " Kids                   ",
          " Kids                   ",
          " Kids                   ",
          " Kids                   ",
          " Kids                   ",
          " Kids                   ",
          " Kids                   ",
          " Kids                   ",
          " Kids                   ",
          " Kids                   ",
          " Kids                   ",
          " Kids                   ",
          " Kids                   ",
          " Kids                   ",
          " Kids                   ",
          " Kids                   ",
          " Kids                   ",
          " Kids                   ",
          " Kids                   ",
          " Kids                   ",
          " Kids                   ",
          " Kids                   ",
          " Kids                   ",
          " Kids                   ",
          " Kids                   ",
          " Kids                   ",
          " Kids                   ",
          " Kids                   ",
          " Kids                   ",
          " Kids                   ",
          " Kids                   ",
          " Kids                   ",
          " Kids                   ",
          " Kids                   ",
          " Kids                   ",
          " Kids                   ",
          " Kids                   ",
          " Kids                   ",
          " Kids                   "
         ],
         "xaxis": "x",
         "y": [
          "182.88B",
          "103.5B",
          "90.94B",
          "100.9B",
          "51.03B",
          "60.42B",
          "36.12B",
          "65.66B",
          "35.01B",
          "11.15B",
          "27.62B",
          "43.07B",
          "24.34B",
          "9.74B",
          "3.76B",
          "30.66B",
          "16.82B",
          "5.83B",
          "16.93B",
          "21.48B",
          "23.62B",
          "15.58B",
          "21.74B",
          "12.91B",
          "27.37B",
          "19.5B",
          "11.72B",
          "27.35B",
          "3.11B",
          "26.42B",
          "14.45B",
          "12.41B",
          "23.15B",
          "26.33B",
          "22.52B",
          "16.26B",
          "6.56B",
          "3.27B",
          "16.2B",
          "18.79B",
          "19.72B",
          "15.27B",
          "13.42B",
          "8.66B",
          "16.02B",
          "16.85B",
          "25.61B",
          "25.22B",
          "19.06B",
          "14.33B",
          "23.01B",
          "27.12B",
          "17.27B",
          "9.82B",
          "18.2B",
          "9.98B",
          "16.95B",
          "1.39K",
          "13.58B",
          "12.12B",
          "11.42B",
          "5.46B",
          "2.86B",
          "488.84M",
          "10.9B",
          "9.52B",
          "9.38B",
          "4.55B"
         ],
         "yaxis": "y"
        },
        {
         "alignmentgroup": "True",
         "hovertemplate": "CATEGORY=%{x}<br>VIEWS=%{y}<extra></extra>",
         "legendgroup": " Sports/Entertainment   ",
         "marker": {
          "color": "#ab63fa",
          "pattern": {
           "shape": ""
          }
         },
         "name": " Sports/Entertainment   ",
         "offsetgroup": " Sports/Entertainment   ",
         "orientation": "v",
         "showlegend": true,
         "textposition": "auto",
         "type": "bar",
         "x": [
          " Sports/Entertainment   ",
          " Sports/Entertainment   "
         ],
         "xaxis": "x",
         "y": [
          "84.98B",
          "17.42B"
         ],
         "yaxis": "y"
        },
        {
         "alignmentgroup": "True",
         "hovertemplate": "CATEGORY=%{x}<br>VIEWS=%{y}<extra></extra>",
         "legendgroup": " Movies                 ",
         "marker": {
          "color": "#FFA15A",
          "pattern": {
           "shape": ""
          }
         },
         "name": " Movies                 ",
         "offsetgroup": " Movies                 ",
         "orientation": "v",
         "showlegend": true,
         "textposition": "auto",
         "type": "bar",
         "x": [
          " Movies                 ",
          " Movies                 ",
          " Movies                 ",
          " Movies                 ",
          " Movies                 ",
          " Movies                 ",
          " Movies                 ",
          " Movies                 ",
          " Movies                 ",
          " Movies                 ",
          " Movies                 ",
          " Movies                 ",
          " Movies                 ",
          " Movies                 "
         ],
         "xaxis": "x",
         "y": [
          "29.04B",
          "62.2B",
          "24.55B",
          "27.61B",
          "11.21B",
          "27.4B",
          "17.34B",
          "17.59B",
          "16.31B",
          "7.95B",
          "8.22B",
          "24.98B",
          "5.72B",
          "6.28B"
         ],
         "yaxis": "y"
        },
        {
         "alignmentgroup": "True",
         "hovertemplate": "CATEGORY=%{x}<br>VIEWS=%{y}<extra></extra>",
         "legendgroup": " DIY/Education          ",
         "marker": {
          "color": "#19d3f3",
          "pattern": {
           "shape": ""
          }
         },
         "name": " DIY/Education          ",
         "offsetgroup": " DIY/Education          ",
         "orientation": "v",
         "showlegend": true,
         "textposition": "auto",
         "type": "bar",
         "x": [
          " DIY/Education          "
         ],
         "xaxis": "x",
         "y": [
          "27.39B"
         ],
         "yaxis": "y"
        },
        {
         "alignmentgroup": "True",
         "hovertemplate": "CATEGORY=%{x}<br>VIEWS=%{y}<extra></extra>",
         "legendgroup": " Kids                ",
         "marker": {
          "color": "#FF6692",
          "pattern": {
           "shape": ""
          }
         },
         "name": " Kids                ",
         "offsetgroup": " Kids                ",
         "orientation": "v",
         "showlegend": true,
         "textposition": "auto",
         "type": "bar",
         "x": [
          " Kids                ",
          " Kids                "
         ],
         "xaxis": "x",
         "y": [
          "43.81B",
          "15.33B"
         ],
         "yaxis": "y"
        },
        {
         "alignmentgroup": "True",
         "hovertemplate": "CATEGORY=%{x}<br>VIEWS=%{y}<extra></extra>",
         "legendgroup": " News                   ",
         "marker": {
          "color": "#B6E880",
          "pattern": {
           "shape": ""
          }
         },
         "name": " News                   ",
         "offsetgroup": " News                   ",
         "orientation": "v",
         "showlegend": true,
         "textposition": "auto",
         "type": "bar",
         "x": [
          " News                   ",
          " News                   ",
          " News                   ",
          " News                   ",
          " News                   ",
          " News                   ",
          " News                   ",
          " News                   ",
          " News                   ",
          " News                   ",
          " News                   ",
          " News                   ",
          " News                   ",
          " News                   ",
          " News                   "
         ],
         "xaxis": "x",
         "y": [
          "31.73B",
          "7.86B",
          "50.79B",
          "32.4B",
          "13.71B",
          "8.71B",
          "4.77B",
          "13.55B",
          "10.36B",
          "14.48B",
          "12.16B",
          "4.19B",
          "19.19B",
          "3.88B",
          "2.93B"
         ],
         "yaxis": "y"
        },
        {
         "alignmentgroup": "True",
         "hovertemplate": "CATEGORY=%{x}<br>VIEWS=%{y}<extra></extra>",
         "legendgroup": " Kids          ",
         "marker": {
          "color": "#FF97FF",
          "pattern": {
           "shape": ""
          }
         },
         "name": " Kids          ",
         "offsetgroup": " Kids          ",
         "orientation": "v",
         "showlegend": true,
         "textposition": "auto",
         "type": "bar",
         "x": [
          " Kids          ",
          " Kids          "
         ],
         "xaxis": "x",
         "y": [
          "34.45B",
          "4.13B"
         ],
         "yaxis": "y"
        },
        {
         "alignmentgroup": "True",
         "hovertemplate": "CATEGORY=%{x}<br>VIEWS=%{y}<extra></extra>",
         "legendgroup": " Kids            ",
         "marker": {
          "color": "#FECB52",
          "pattern": {
           "shape": ""
          }
         },
         "name": " Kids            ",
         "offsetgroup": " Kids            ",
         "orientation": "v",
         "showlegend": true,
         "textposition": "auto",
         "type": "bar",
         "x": [
          " Kids            "
         ],
         "xaxis": "x",
         "y": [
          "11.6B"
         ],
         "yaxis": "y"
        },
        {
         "alignmentgroup": "True",
         "hovertemplate": "CATEGORY=%{x}<br>VIEWS=%{y}<extra></extra>",
         "legendgroup": " Education              ",
         "marker": {
          "color": "#636efa",
          "pattern": {
           "shape": ""
          }
         },
         "name": " Education              ",
         "offsetgroup": " Education              ",
         "orientation": "v",
         "showlegend": true,
         "textposition": "auto",
         "type": "bar",
         "x": [
          " Education              ",
          " Education              ",
          " Education              ",
          " Education              ",
          " Education              ",
          " Education              ",
          " Education              ",
          " Education              ",
          " Education              ",
          " Education              ",
          " Education              ",
          " Education              ",
          " Education              ",
          " Education              ",
          " Education              ",
          " Education              ",
          " Education              ",
          " Education              ",
          " Education              "
         ],
         "xaxis": "x",
         "y": [
          "6.32B",
          "7.71B",
          "6.57B",
          "7.54B",
          "15.96B",
          "24.35B",
          "22.54B",
          "19.83B",
          "11.85B",
          "18.81B",
          "2.34B",
          "6.01B",
          "2.78B",
          "20.79B",
          "9.41B",
          "11.65B",
          "6.13B",
          "2.17B",
          "8.28B"
         ],
         "yaxis": "y"
        },
        {
         "alignmentgroup": "True",
         "hovertemplate": "CATEGORY=%{x}<br>VIEWS=%{y}<extra></extra>",
         "legendgroup": " Gaming/Entertainment   ",
         "marker": {
          "color": "#EF553B",
          "pattern": {
           "shape": ""
          }
         },
         "name": " Gaming/Entertainment   ",
         "offsetgroup": " Gaming/Entertainment   ",
         "orientation": "v",
         "showlegend": true,
         "textposition": "auto",
         "type": "bar",
         "x": [
          " Gaming/Entertainment   ",
          " Gaming/Entertainment   ",
          " Gaming/Entertainment   ",
          " Gaming/Entertainment   ",
          " Gaming/Entertainment   ",
          " Gaming/Entertainment   ",
          " Gaming/Entertainment   ",
          " Gaming/Entertainment   ",
          " Gaming/Entertainment   ",
          " Gaming/Entertainment   ",
          " Gaming/Entertainment   ",
          " Gaming/Entertainment   ",
          " Gaming/Entertainment   ",
          " Gaming/Entertainment   ",
          " Gaming/Entertainment   ",
          " Gaming/Entertainment   ",
          " Gaming/Entertainment   ",
          " Gaming/Entertainment   ",
          " Gaming/Entertainment   ",
          " Gaming/Entertainment   ",
          " Gaming/Entertainment   ",
          " Gaming/Entertainment   ",
          " Gaming/Entertainment   ",
          " Gaming/Entertainment   ",
          " Gaming/Entertainment   ",
          " Gaming/Entertainment   ",
          " Gaming/Entertainment   ",
          " Gaming/Entertainment   ",
          " Gaming/Entertainment   ",
          " Gaming/Entertainment   ",
          " Gaming/Entertainment   ",
          " Gaming/Entertainment   ",
          " Gaming/Entertainment   ",
          " Gaming/Entertainment   ",
          " Gaming/Entertainment   ",
          " Gaming/Entertainment   ",
          " Gaming/Entertainment   "
         ],
         "xaxis": "x",
         "y": [
          "30.91B",
          "15.44B",
          "16.18B",
          "28.4B",
          "28.89B",
          "25.3B",
          "27.61B",
          "40.51B",
          "11.07B",
          "31.12B",
          "14.34B",
          "24.96B",
          "13.92B",
          "16.84B",
          "16.49B",
          "6.98B",
          "17.84B",
          "17.52B",
          "4.75B",
          "2.14B",
          "13.53B",
          "5.23B",
          "10.53B",
          "14.64B",
          "12.88B",
          "16.02B",
          "17.57B",
          "9.87B",
          "17.32B",
          "7.16B",
          "8.87B",
          "12.21B",
          "12.38B",
          "7.25B",
          "11.27B",
          "4.13B",
          "9.23B"
         ],
         "yaxis": "y"
        },
        {
         "alignmentgroup": "True",
         "hovertemplate": "CATEGORY=%{x}<br>VIEWS=%{y}<extra></extra>",
         "legendgroup": " Education          ",
         "marker": {
          "color": "#00cc96",
          "pattern": {
           "shape": ""
          }
         },
         "name": " Education          ",
         "offsetgroup": " Education          ",
         "orientation": "v",
         "showlegend": true,
         "textposition": "auto",
         "type": "bar",
         "x": [
          " Education          "
         ],
         "xaxis": "x",
         "y": [
          "6.46B"
         ],
         "yaxis": "y"
        },
        {
         "alignmentgroup": "True",
         "hovertemplate": "CATEGORY=%{x}<br>VIEWS=%{y}<extra></extra>",
         "legendgroup": " Travel/Entertainment   ",
         "marker": {
          "color": "#ab63fa",
          "pattern": {
           "shape": ""
          }
         },
         "name": " Travel/Entertainment   ",
         "offsetgroup": " Travel/Entertainment   ",
         "orientation": "v",
         "showlegend": true,
         "textposition": "auto",
         "type": "bar",
         "x": [
          " Travel/Entertainment   "
         ],
         "xaxis": "x",
         "y": [
          "25.02B"
         ],
         "yaxis": "y"
        },
        {
         "alignmentgroup": "True",
         "hovertemplate": "CATEGORY=%{x}<br>VIEWS=%{y}<extra></extra>",
         "legendgroup": " Animation              ",
         "marker": {
          "color": "#FFA15A",
          "pattern": {
           "shape": ""
          }
         },
         "name": " Animation              ",
         "offsetgroup": " Animation              ",
         "orientation": "v",
         "showlegend": true,
         "textposition": "auto",
         "type": "bar",
         "x": [
          " Animation              ",
          " Animation              ",
          " Animation              ",
          " Animation              ",
          " Animation              "
         ],
         "xaxis": "x",
         "y": [
          "18.94B",
          "12.6B",
          "22.43B",
          "1.94B",
          "11.87B"
         ],
         "yaxis": "y"
        },
        {
         "alignmentgroup": "True",
         "hovertemplate": "CATEGORY=%{x}<br>VIEWS=%{y}<extra></extra>",
         "legendgroup": " Gaming                 ",
         "marker": {
          "color": "#19d3f3",
          "pattern": {
           "shape": ""
          }
         },
         "name": " Gaming                 ",
         "offsetgroup": " Gaming                 ",
         "orientation": "v",
         "showlegend": true,
         "textposition": "auto",
         "type": "bar",
         "x": [
          " Gaming                 ",
          " Gaming                 "
         ],
         "xaxis": "x",
         "y": [
          "16.6B",
          "26.49B"
         ],
         "yaxis": "y"
        },
        {
         "alignmentgroup": "True",
         "hovertemplate": "CATEGORY=%{x}<br>VIEWS=%{y}<extra></extra>",
         "legendgroup": " Kids             ",
         "marker": {
          "color": "#FF6692",
          "pattern": {
           "shape": ""
          }
         },
         "name": " Kids             ",
         "offsetgroup": " Kids             ",
         "orientation": "v",
         "showlegend": true,
         "textposition": "auto",
         "type": "bar",
         "x": [
          " Kids             ",
          " Kids             ",
          " Kids             "
         ],
         "xaxis": "x",
         "y": [
          "20.1B",
          "8.06B",
          "22.28B"
         ],
         "yaxis": "y"
        },
        {
         "alignmentgroup": "True",
         "hovertemplate": "CATEGORY=%{x}<br>VIEWS=%{y}<extra></extra>",
         "legendgroup": " Kids           ",
         "marker": {
          "color": "#B6E880",
          "pattern": {
           "shape": ""
          }
         },
         "name": " Kids           ",
         "offsetgroup": " Kids           ",
         "orientation": "v",
         "showlegend": true,
         "textposition": "auto",
         "type": "bar",
         "x": [
          " Kids           "
         ],
         "xaxis": "x",
         "y": [
          "38.44B"
         ],
         "yaxis": "y"
        },
        {
         "alignmentgroup": "True",
         "hovertemplate": "CATEGORY=%{x}<br>VIEWS=%{y}<extra></extra>",
         "legendgroup": " Platform               ",
         "marker": {
          "color": "#FF97FF",
          "pattern": {
           "shape": ""
          }
         },
         "name": " Platform               ",
         "offsetgroup": " Platform               ",
         "orientation": "v",
         "showlegend": true,
         "textposition": "auto",
         "type": "bar",
         "x": [
          " Platform               "
         ],
         "xaxis": "x",
         "y": [
          "39.28B"
         ],
         "yaxis": "y"
        },
        {
         "alignmentgroup": "True",
         "hovertemplate": "CATEGORY=%{x}<br>VIEWS=%{y}<extra></extra>",
         "legendgroup": " toyoraljanahtv ",
         "marker": {
          "color": "#636efa",
          "pattern": {
           "shape": ""
          }
         },
         "name": " toyoraljanahtv ",
         "offsetgroup": " toyoraljanahtv ",
         "orientation": "v",
         "showlegend": true,
         "textposition": "auto",
         "type": "bar",
         "x": [
          " toyoraljanahtv "
         ],
         "xaxis": "x",
         "y": [
          "5.15B"
         ],
         "yaxis": "y"
        },
        {
         "alignmentgroup": "True",
         "hovertemplate": "CATEGORY=%{x}<br>VIEWS=%{y}<extra></extra>",
         "legendgroup": " Kids               ",
         "marker": {
          "color": "#EF553B",
          "pattern": {
           "shape": ""
          }
         },
         "name": " Kids               ",
         "offsetgroup": " Kids               ",
         "orientation": "v",
         "showlegend": true,
         "textposition": "auto",
         "type": "bar",
         "x": [
          " Kids               "
         ],
         "xaxis": "x",
         "y": [
          "13.82B"
         ],
         "yaxis": "y"
        },
        {
         "alignmentgroup": "True",
         "hovertemplate": "CATEGORY=%{x}<br>VIEWS=%{y}<extra></extra>",
         "legendgroup": " Fitness/Health         ",
         "marker": {
          "color": "#00cc96",
          "pattern": {
           "shape": ""
          }
         },
         "name": " Fitness/Health         ",
         "offsetgroup": " Fitness/Health         ",
         "orientation": "v",
         "showlegend": true,
         "textposition": "auto",
         "type": "bar",
         "x": [
          " Fitness/Health         "
         ],
         "xaxis": "x",
         "y": [
          "18.5B"
         ],
         "yaxis": "y"
        },
        {
         "alignmentgroup": "True",
         "hovertemplate": "CATEGORY=%{x}<br>VIEWS=%{y}<extra></extra>",
         "legendgroup": " Kids         ",
         "marker": {
          "color": "#ab63fa",
          "pattern": {
           "shape": ""
          }
         },
         "name": " Kids         ",
         "offsetgroup": " Kids         ",
         "orientation": "v",
         "showlegend": true,
         "textposition": "auto",
         "type": "bar",
         "x": [
          " Kids         "
         ],
         "xaxis": "x",
         "y": [
          "20.45B"
         ],
         "yaxis": "y"
        },
        {
         "alignmentgroup": "True",
         "hovertemplate": "CATEGORY=%{x}<br>VIEWS=%{y}<extra></extra>",
         "legendgroup": " Food                   ",
         "marker": {
          "color": "#FFA15A",
          "pattern": {
           "shape": ""
          }
         },
         "name": " Food                   ",
         "offsetgroup": " Food                   ",
         "orientation": "v",
         "showlegend": true,
         "textposition": "auto",
         "type": "bar",
         "x": [
          " Food                   ",
          " Food                   ",
          " Food                   ",
          " Food                   "
         ],
         "xaxis": "x",
         "y": [
          "2.5B",
          "15.25B",
          "8.58B",
          "7.59B"
         ],
         "yaxis": "y"
        },
        {
         "alignmentgroup": "True",
         "hovertemplate": "CATEGORY=%{x}<br>VIEWS=%{y}<extra></extra>",
         "legendgroup": " Beauty/Lifestyle       ",
         "marker": {
          "color": "#19d3f3",
          "pattern": {
           "shape": ""
          }
         },
         "name": " Beauty/Lifestyle       ",
         "offsetgroup": " Beauty/Lifestyle       ",
         "orientation": "v",
         "showlegend": true,
         "textposition": "auto",
         "type": "bar",
         "x": [
          " Beauty/Lifestyle       ",
          " Beauty/Lifestyle       "
         ],
         "xaxis": "x",
         "y": [
          "3.19B",
          "4.16B"
         ],
         "yaxis": "y"
        },
        {
         "alignmentgroup": "True",
         "hovertemplate": "CATEGORY=%{x}<br>VIEWS=%{y}<extra></extra>",
         "legendgroup": " Charity/Non-profit     ",
         "marker": {
          "color": "#FF6692",
          "pattern": {
           "shape": ""
          }
         },
         "name": " Charity/Non-profit     ",
         "offsetgroup": " Charity/Non-profit     ",
         "orientation": "v",
         "showlegend": true,
         "textposition": "auto",
         "type": "bar",
         "x": [
          " Charity/Non-profit     "
         ],
         "xaxis": "x",
         "y": [
          "16.07B"
         ],
         "yaxis": "y"
        },
        {
         "alignmentgroup": "True",
         "hovertemplate": "CATEGORY=%{x}<br>VIEWS=%{y}<extra></extra>",
         "legendgroup": " Politics               ",
         "marker": {
          "color": "#B6E880",
          "pattern": {
           "shape": ""
          }
         },
         "name": " Politics               ",
         "offsetgroup": " Politics               ",
         "orientation": "v",
         "showlegend": true,
         "textposition": "auto",
         "type": "bar",
         "x": [
          " Politics               "
         ],
         "xaxis": "x",
         "y": [
          "9.44B"
         ],
         "yaxis": "y"
        },
        {
         "alignmentgroup": "True",
         "hovertemplate": "CATEGORY=%{x}<br>VIEWS=%{y}<extra></extra>",
         "legendgroup": " Technology             ",
         "marker": {
          "color": "#FF97FF",
          "pattern": {
           "shape": ""
          }
         },
         "name": " Technology             ",
         "offsetgroup": " Technology             ",
         "orientation": "v",
         "showlegend": true,
         "textposition": "auto",
         "type": "bar",
         "x": [
          " Technology             ",
          " Technology             "
         ],
         "xaxis": "x",
         "y": [
          "6.02B",
          "11.5B"
         ],
         "yaxis": "y"
        },
        {
         "alignmentgroup": "True",
         "hovertemplate": "CATEGORY=%{x}<br>VIEWS=%{y}<extra></extra>",
         "legendgroup": " DIY                    ",
         "marker": {
          "color": "#FECB52",
          "pattern": {
           "shape": ""
          }
         },
         "name": " DIY                    ",
         "offsetgroup": " DIY                    ",
         "orientation": "v",
         "showlegend": true,
         "textposition": "auto",
         "type": "bar",
         "x": [
          " DIY                    ",
          " DIY                    "
         ],
         "xaxis": "x",
         "y": [
          "16.58B",
          "1.91B"
         ],
         "yaxis": "y"
        },
        {
         "alignmentgroup": "True",
         "hovertemplate": "CATEGORY=%{x}<br>VIEWS=%{y}<extra></extra>",
         "legendgroup": " Music                 ",
         "marker": {
          "color": "#636efa",
          "pattern": {
           "shape": ""
          }
         },
         "name": " Music                 ",
         "offsetgroup": " Music                 ",
         "orientation": "v",
         "showlegend": true,
         "textposition": "auto",
         "type": "bar",
         "x": [
          " Music                 "
         ],
         "xaxis": "x",
         "y": [
          "15.9B"
         ],
         "yaxis": "y"
        },
        {
         "alignmentgroup": "True",
         "hovertemplate": "CATEGORY=%{x}<br>VIEWS=%{y}<extra></extra>",
         "legendgroup": " Sports                 ",
         "marker": {
          "color": "#EF553B",
          "pattern": {
           "shape": ""
          }
         },
         "name": " Sports                 ",
         "offsetgroup": " Sports                 ",
         "orientation": "v",
         "showlegend": true,
         "textposition": "auto",
         "type": "bar",
         "x": [
          " Sports                 ",
          " Sports                 "
         ],
         "xaxis": "x",
         "y": [
          "14.69B",
          "9.46B"
         ],
         "yaxis": "y"
        },
        {
         "alignmentgroup": "True",
         "hovertemplate": "CATEGORY=%{x}<br>VIEWS=%{y}<extra></extra>",
         "legendgroup": " Arab Games Network ",
         "marker": {
          "color": "#00cc96",
          "pattern": {
           "shape": ""
          }
         },
         "name": " Arab Games Network ",
         "offsetgroup": " Arab Games Network ",
         "orientation": "v",
         "showlegend": true,
         "textposition": "auto",
         "type": "bar",
         "x": [
          " Arab Games Network "
         ],
         "xaxis": "x",
         "y": [
          "10.12B"
         ],
         "yaxis": "y"
        }
       ],
       "layout": {
        "barmode": "relative",
        "legend": {
         "title": {
          "text": "CATEGORY"
         },
         "tracegroupgap": 0
        },
        "template": {
         "data": {
          "bar": [
           {
            "error_x": {
             "color": "#2a3f5f"
            },
            "error_y": {
             "color": "#2a3f5f"
            },
            "marker": {
             "line": {
              "color": "#E5ECF6",
              "width": 0.5
             },
             "pattern": {
              "fillmode": "overlay",
              "size": 10,
              "solidity": 0.2
             }
            },
            "type": "bar"
           }
          ],
          "barpolar": [
           {
            "marker": {
             "line": {
              "color": "#E5ECF6",
              "width": 0.5
             },
             "pattern": {
              "fillmode": "overlay",
              "size": 10,
              "solidity": 0.2
             }
            },
            "type": "barpolar"
           }
          ],
          "carpet": [
           {
            "aaxis": {
             "endlinecolor": "#2a3f5f",
             "gridcolor": "white",
             "linecolor": "white",
             "minorgridcolor": "white",
             "startlinecolor": "#2a3f5f"
            },
            "baxis": {
             "endlinecolor": "#2a3f5f",
             "gridcolor": "white",
             "linecolor": "white",
             "minorgridcolor": "white",
             "startlinecolor": "#2a3f5f"
            },
            "type": "carpet"
           }
          ],
          "choropleth": [
           {
            "colorbar": {
             "outlinewidth": 0,
             "ticks": ""
            },
            "type": "choropleth"
           }
          ],
          "contour": [
           {
            "colorbar": {
             "outlinewidth": 0,
             "ticks": ""
            },
            "colorscale": [
             [
              0,
              "#0d0887"
             ],
             [
              0.1111111111111111,
              "#46039f"
             ],
             [
              0.2222222222222222,
              "#7201a8"
             ],
             [
              0.3333333333333333,
              "#9c179e"
             ],
             [
              0.4444444444444444,
              "#bd3786"
             ],
             [
              0.5555555555555556,
              "#d8576b"
             ],
             [
              0.6666666666666666,
              "#ed7953"
             ],
             [
              0.7777777777777778,
              "#fb9f3a"
             ],
             [
              0.8888888888888888,
              "#fdca26"
             ],
             [
              1,
              "#f0f921"
             ]
            ],
            "type": "contour"
           }
          ],
          "contourcarpet": [
           {
            "colorbar": {
             "outlinewidth": 0,
             "ticks": ""
            },
            "type": "contourcarpet"
           }
          ],
          "heatmap": [
           {
            "colorbar": {
             "outlinewidth": 0,
             "ticks": ""
            },
            "colorscale": [
             [
              0,
              "#0d0887"
             ],
             [
              0.1111111111111111,
              "#46039f"
             ],
             [
              0.2222222222222222,
              "#7201a8"
             ],
             [
              0.3333333333333333,
              "#9c179e"
             ],
             [
              0.4444444444444444,
              "#bd3786"
             ],
             [
              0.5555555555555556,
              "#d8576b"
             ],
             [
              0.6666666666666666,
              "#ed7953"
             ],
             [
              0.7777777777777778,
              "#fb9f3a"
             ],
             [
              0.8888888888888888,
              "#fdca26"
             ],
             [
              1,
              "#f0f921"
             ]
            ],
            "type": "heatmap"
           }
          ],
          "heatmapgl": [
           {
            "colorbar": {
             "outlinewidth": 0,
             "ticks": ""
            },
            "colorscale": [
             [
              0,
              "#0d0887"
             ],
             [
              0.1111111111111111,
              "#46039f"
             ],
             [
              0.2222222222222222,
              "#7201a8"
             ],
             [
              0.3333333333333333,
              "#9c179e"
             ],
             [
              0.4444444444444444,
              "#bd3786"
             ],
             [
              0.5555555555555556,
              "#d8576b"
             ],
             [
              0.6666666666666666,
              "#ed7953"
             ],
             [
              0.7777777777777778,
              "#fb9f3a"
             ],
             [
              0.8888888888888888,
              "#fdca26"
             ],
             [
              1,
              "#f0f921"
             ]
            ],
            "type": "heatmapgl"
           }
          ],
          "histogram": [
           {
            "marker": {
             "pattern": {
              "fillmode": "overlay",
              "size": 10,
              "solidity": 0.2
             }
            },
            "type": "histogram"
           }
          ],
          "histogram2d": [
           {
            "colorbar": {
             "outlinewidth": 0,
             "ticks": ""
            },
            "colorscale": [
             [
              0,
              "#0d0887"
             ],
             [
              0.1111111111111111,
              "#46039f"
             ],
             [
              0.2222222222222222,
              "#7201a8"
             ],
             [
              0.3333333333333333,
              "#9c179e"
             ],
             [
              0.4444444444444444,
              "#bd3786"
             ],
             [
              0.5555555555555556,
              "#d8576b"
             ],
             [
              0.6666666666666666,
              "#ed7953"
             ],
             [
              0.7777777777777778,
              "#fb9f3a"
             ],
             [
              0.8888888888888888,
              "#fdca26"
             ],
             [
              1,
              "#f0f921"
             ]
            ],
            "type": "histogram2d"
           }
          ],
          "histogram2dcontour": [
           {
            "colorbar": {
             "outlinewidth": 0,
             "ticks": ""
            },
            "colorscale": [
             [
              0,
              "#0d0887"
             ],
             [
              0.1111111111111111,
              "#46039f"
             ],
             [
              0.2222222222222222,
              "#7201a8"
             ],
             [
              0.3333333333333333,
              "#9c179e"
             ],
             [
              0.4444444444444444,
              "#bd3786"
             ],
             [
              0.5555555555555556,
              "#d8576b"
             ],
             [
              0.6666666666666666,
              "#ed7953"
             ],
             [
              0.7777777777777778,
              "#fb9f3a"
             ],
             [
              0.8888888888888888,
              "#fdca26"
             ],
             [
              1,
              "#f0f921"
             ]
            ],
            "type": "histogram2dcontour"
           }
          ],
          "mesh3d": [
           {
            "colorbar": {
             "outlinewidth": 0,
             "ticks": ""
            },
            "type": "mesh3d"
           }
          ],
          "parcoords": [
           {
            "line": {
             "colorbar": {
              "outlinewidth": 0,
              "ticks": ""
             }
            },
            "type": "parcoords"
           }
          ],
          "pie": [
           {
            "automargin": true,
            "type": "pie"
           }
          ],
          "scatter": [
           {
            "fillpattern": {
             "fillmode": "overlay",
             "size": 10,
             "solidity": 0.2
            },
            "type": "scatter"
           }
          ],
          "scatter3d": [
           {
            "line": {
             "colorbar": {
              "outlinewidth": 0,
              "ticks": ""
             }
            },
            "marker": {
             "colorbar": {
              "outlinewidth": 0,
              "ticks": ""
             }
            },
            "type": "scatter3d"
           }
          ],
          "scattercarpet": [
           {
            "marker": {
             "colorbar": {
              "outlinewidth": 0,
              "ticks": ""
             }
            },
            "type": "scattercarpet"
           }
          ],
          "scattergeo": [
           {
            "marker": {
             "colorbar": {
              "outlinewidth": 0,
              "ticks": ""
             }
            },
            "type": "scattergeo"
           }
          ],
          "scattergl": [
           {
            "marker": {
             "colorbar": {
              "outlinewidth": 0,
              "ticks": ""
             }
            },
            "type": "scattergl"
           }
          ],
          "scattermapbox": [
           {
            "marker": {
             "colorbar": {
              "outlinewidth": 0,
              "ticks": ""
             }
            },
            "type": "scattermapbox"
           }
          ],
          "scatterpolar": [
           {
            "marker": {
             "colorbar": {
              "outlinewidth": 0,
              "ticks": ""
             }
            },
            "type": "scatterpolar"
           }
          ],
          "scatterpolargl": [
           {
            "marker": {
             "colorbar": {
              "outlinewidth": 0,
              "ticks": ""
             }
            },
            "type": "scatterpolargl"
           }
          ],
          "scatterternary": [
           {
            "marker": {
             "colorbar": {
              "outlinewidth": 0,
              "ticks": ""
             }
            },
            "type": "scatterternary"
           }
          ],
          "surface": [
           {
            "colorbar": {
             "outlinewidth": 0,
             "ticks": ""
            },
            "colorscale": [
             [
              0,
              "#0d0887"
             ],
             [
              0.1111111111111111,
              "#46039f"
             ],
             [
              0.2222222222222222,
              "#7201a8"
             ],
             [
              0.3333333333333333,
              "#9c179e"
             ],
             [
              0.4444444444444444,
              "#bd3786"
             ],
             [
              0.5555555555555556,
              "#d8576b"
             ],
             [
              0.6666666666666666,
              "#ed7953"
             ],
             [
              0.7777777777777778,
              "#fb9f3a"
             ],
             [
              0.8888888888888888,
              "#fdca26"
             ],
             [
              1,
              "#f0f921"
             ]
            ],
            "type": "surface"
           }
          ],
          "table": [
           {
            "cells": {
             "fill": {
              "color": "#EBF0F8"
             },
             "line": {
              "color": "white"
             }
            },
            "header": {
             "fill": {
              "color": "#C8D4E3"
             },
             "line": {
              "color": "white"
             }
            },
            "type": "table"
           }
          ]
         },
         "layout": {
          "annotationdefaults": {
           "arrowcolor": "#2a3f5f",
           "arrowhead": 0,
           "arrowwidth": 1
          },
          "autotypenumbers": "strict",
          "coloraxis": {
           "colorbar": {
            "outlinewidth": 0,
            "ticks": ""
           }
          },
          "colorscale": {
           "diverging": [
            [
             0,
             "#8e0152"
            ],
            [
             0.1,
             "#c51b7d"
            ],
            [
             0.2,
             "#de77ae"
            ],
            [
             0.3,
             "#f1b6da"
            ],
            [
             0.4,
             "#fde0ef"
            ],
            [
             0.5,
             "#f7f7f7"
            ],
            [
             0.6,
             "#e6f5d0"
            ],
            [
             0.7,
             "#b8e186"
            ],
            [
             0.8,
             "#7fbc41"
            ],
            [
             0.9,
             "#4d9221"
            ],
            [
             1,
             "#276419"
            ]
           ],
           "sequential": [
            [
             0,
             "#0d0887"
            ],
            [
             0.1111111111111111,
             "#46039f"
            ],
            [
             0.2222222222222222,
             "#7201a8"
            ],
            [
             0.3333333333333333,
             "#9c179e"
            ],
            [
             0.4444444444444444,
             "#bd3786"
            ],
            [
             0.5555555555555556,
             "#d8576b"
            ],
            [
             0.6666666666666666,
             "#ed7953"
            ],
            [
             0.7777777777777778,
             "#fb9f3a"
            ],
            [
             0.8888888888888888,
             "#fdca26"
            ],
            [
             1,
             "#f0f921"
            ]
           ],
           "sequentialminus": [
            [
             0,
             "#0d0887"
            ],
            [
             0.1111111111111111,
             "#46039f"
            ],
            [
             0.2222222222222222,
             "#7201a8"
            ],
            [
             0.3333333333333333,
             "#9c179e"
            ],
            [
             0.4444444444444444,
             "#bd3786"
            ],
            [
             0.5555555555555556,
             "#d8576b"
            ],
            [
             0.6666666666666666,
             "#ed7953"
            ],
            [
             0.7777777777777778,
             "#fb9f3a"
            ],
            [
             0.8888888888888888,
             "#fdca26"
            ],
            [
             1,
             "#f0f921"
            ]
           ]
          },
          "colorway": [
           "#636efa",
           "#EF553B",
           "#00cc96",
           "#ab63fa",
           "#FFA15A",
           "#19d3f3",
           "#FF6692",
           "#B6E880",
           "#FF97FF",
           "#FECB52"
          ],
          "font": {
           "color": "#2a3f5f"
          },
          "geo": {
           "bgcolor": "white",
           "lakecolor": "white",
           "landcolor": "#E5ECF6",
           "showlakes": true,
           "showland": true,
           "subunitcolor": "white"
          },
          "hoverlabel": {
           "align": "left"
          },
          "hovermode": "closest",
          "mapbox": {
           "style": "light"
          },
          "paper_bgcolor": "white",
          "plot_bgcolor": "#E5ECF6",
          "polar": {
           "angularaxis": {
            "gridcolor": "white",
            "linecolor": "white",
            "ticks": ""
           },
           "bgcolor": "#E5ECF6",
           "radialaxis": {
            "gridcolor": "white",
            "linecolor": "white",
            "ticks": ""
           }
          },
          "scene": {
           "xaxis": {
            "backgroundcolor": "#E5ECF6",
            "gridcolor": "white",
            "gridwidth": 2,
            "linecolor": "white",
            "showbackground": true,
            "ticks": "",
            "zerolinecolor": "white"
           },
           "yaxis": {
            "backgroundcolor": "#E5ECF6",
            "gridcolor": "white",
            "gridwidth": 2,
            "linecolor": "white",
            "showbackground": true,
            "ticks": "",
            "zerolinecolor": "white"
           },
           "zaxis": {
            "backgroundcolor": "#E5ECF6",
            "gridcolor": "white",
            "gridwidth": 2,
            "linecolor": "white",
            "showbackground": true,
            "ticks": "",
            "zerolinecolor": "white"
           }
          },
          "shapedefaults": {
           "line": {
            "color": "#2a3f5f"
           }
          },
          "ternary": {
           "aaxis": {
            "gridcolor": "white",
            "linecolor": "white",
            "ticks": ""
           },
           "baxis": {
            "gridcolor": "white",
            "linecolor": "white",
            "ticks": ""
           },
           "bgcolor": "#E5ECF6",
           "caxis": {
            "gridcolor": "white",
            "linecolor": "white",
            "ticks": ""
           }
          },
          "title": {
           "x": 0.05
          },
          "xaxis": {
           "automargin": true,
           "gridcolor": "white",
           "linecolor": "white",
           "ticks": "",
           "title": {
            "standoff": 15
           },
           "zerolinecolor": "white",
           "zerolinewidth": 2
          },
          "yaxis": {
           "automargin": true,
           "gridcolor": "white",
           "linecolor": "white",
           "ticks": "",
           "title": {
            "standoff": 15
           },
           "zerolinecolor": "white",
           "zerolinewidth": 2
          }
         }
        },
        "title": {
         "text": "YouTube Video Categories by Views"
        },
        "xaxis": {
         "anchor": "y",
         "categoryarray": [
          " Entertainment          ",
          " Music                  ",
          " Kids                   ",
          " Sports/Entertainment   ",
          " Movies                 ",
          " DIY/Education          ",
          " Kids                ",
          " News                   ",
          " Kids          ",
          " Kids            ",
          " Education              ",
          " Gaming/Entertainment   ",
          " Education          ",
          " Travel/Entertainment   ",
          " Animation              ",
          " Gaming                 ",
          " Kids             ",
          " Kids           ",
          " Platform               ",
          null,
          " toyoraljanahtv ",
          " Kids               ",
          " Fitness/Health         ",
          " Kids         ",
          " Food                   ",
          " Beauty/Lifestyle       ",
          " Charity/Non-profit     ",
          " Politics               ",
          " Technology             ",
          " DIY                    ",
          " Music                 ",
          " Sports                 ",
          " Arab Games Network "
         ],
         "categoryorder": "array",
         "domain": [
          0,
          1
         ],
         "title": {
          "text": "CATEGORY"
         }
        },
        "yaxis": {
         "anchor": "x",
         "domain": [
          0,
          1
         ],
         "title": {
          "text": "VIEWS"
         }
        }
       }
      }
     },
     "metadata": {},
     "output_type": "display_data"
    }
   ],
   "source": [
    "# Create the bar chart with size and color\n",
    "fig = px.bar(df, x='CATEGORY', y='VIEWS', color='CATEGORY' ,title='YouTube Video Categories by Views')\n",
    "# Save the plot:\n",
    "fig.write_html('./Plots/Bar Chart.html')\n",
    "# Display the chart\n",
    "fig.show()"
   ]
  },
  {
   "cell_type": "code",
   "execution_count": 91,
   "metadata": {},
   "outputs": [
    {
     "data": {
      "application/vnd.plotly.v1+json": {
       "config": {
        "plotlyServerURL": "https://plot.ly"
       },
       "data": [
        {
         "a": [
          30,
          40,
          20,
          50,
          30
         ],
         "b": [
          20,
          30,
          50,
          20,
          40
         ],
         "c": [
          5,
          3,
          1,
          4,
          2
         ],
         "hovertemplate": "SUBSCRIBERS=%{a}<br>VIEWS=%{b}<br>RANK=%{c}<extra></extra>",
         "legendgroup": "",
         "marker": {
          "color": "#636efa",
          "symbol": "circle"
         },
         "mode": "markers",
         "name": "",
         "showlegend": false,
         "subplot": "ternary",
         "type": "scatterternary"
        }
       ],
       "layout": {
        "font": {
         "size": 14
        },
        "legend": {
         "tracegroupgap": 0
        },
        "margin": {
         "t": 60
        },
        "template": {
         "data": {
          "bar": [
           {
            "error_x": {
             "color": "#2a3f5f"
            },
            "error_y": {
             "color": "#2a3f5f"
            },
            "marker": {
             "line": {
              "color": "#E5ECF6",
              "width": 0.5
             },
             "pattern": {
              "fillmode": "overlay",
              "size": 10,
              "solidity": 0.2
             }
            },
            "type": "bar"
           }
          ],
          "barpolar": [
           {
            "marker": {
             "line": {
              "color": "#E5ECF6",
              "width": 0.5
             },
             "pattern": {
              "fillmode": "overlay",
              "size": 10,
              "solidity": 0.2
             }
            },
            "type": "barpolar"
           }
          ],
          "carpet": [
           {
            "aaxis": {
             "endlinecolor": "#2a3f5f",
             "gridcolor": "white",
             "linecolor": "white",
             "minorgridcolor": "white",
             "startlinecolor": "#2a3f5f"
            },
            "baxis": {
             "endlinecolor": "#2a3f5f",
             "gridcolor": "white",
             "linecolor": "white",
             "minorgridcolor": "white",
             "startlinecolor": "#2a3f5f"
            },
            "type": "carpet"
           }
          ],
          "choropleth": [
           {
            "colorbar": {
             "outlinewidth": 0,
             "ticks": ""
            },
            "type": "choropleth"
           }
          ],
          "contour": [
           {
            "colorbar": {
             "outlinewidth": 0,
             "ticks": ""
            },
            "colorscale": [
             [
              0,
              "#0d0887"
             ],
             [
              0.1111111111111111,
              "#46039f"
             ],
             [
              0.2222222222222222,
              "#7201a8"
             ],
             [
              0.3333333333333333,
              "#9c179e"
             ],
             [
              0.4444444444444444,
              "#bd3786"
             ],
             [
              0.5555555555555556,
              "#d8576b"
             ],
             [
              0.6666666666666666,
              "#ed7953"
             ],
             [
              0.7777777777777778,
              "#fb9f3a"
             ],
             [
              0.8888888888888888,
              "#fdca26"
             ],
             [
              1,
              "#f0f921"
             ]
            ],
            "type": "contour"
           }
          ],
          "contourcarpet": [
           {
            "colorbar": {
             "outlinewidth": 0,
             "ticks": ""
            },
            "type": "contourcarpet"
           }
          ],
          "heatmap": [
           {
            "colorbar": {
             "outlinewidth": 0,
             "ticks": ""
            },
            "colorscale": [
             [
              0,
              "#0d0887"
             ],
             [
              0.1111111111111111,
              "#46039f"
             ],
             [
              0.2222222222222222,
              "#7201a8"
             ],
             [
              0.3333333333333333,
              "#9c179e"
             ],
             [
              0.4444444444444444,
              "#bd3786"
             ],
             [
              0.5555555555555556,
              "#d8576b"
             ],
             [
              0.6666666666666666,
              "#ed7953"
             ],
             [
              0.7777777777777778,
              "#fb9f3a"
             ],
             [
              0.8888888888888888,
              "#fdca26"
             ],
             [
              1,
              "#f0f921"
             ]
            ],
            "type": "heatmap"
           }
          ],
          "heatmapgl": [
           {
            "colorbar": {
             "outlinewidth": 0,
             "ticks": ""
            },
            "colorscale": [
             [
              0,
              "#0d0887"
             ],
             [
              0.1111111111111111,
              "#46039f"
             ],
             [
              0.2222222222222222,
              "#7201a8"
             ],
             [
              0.3333333333333333,
              "#9c179e"
             ],
             [
              0.4444444444444444,
              "#bd3786"
             ],
             [
              0.5555555555555556,
              "#d8576b"
             ],
             [
              0.6666666666666666,
              "#ed7953"
             ],
             [
              0.7777777777777778,
              "#fb9f3a"
             ],
             [
              0.8888888888888888,
              "#fdca26"
             ],
             [
              1,
              "#f0f921"
             ]
            ],
            "type": "heatmapgl"
           }
          ],
          "histogram": [
           {
            "marker": {
             "pattern": {
              "fillmode": "overlay",
              "size": 10,
              "solidity": 0.2
             }
            },
            "type": "histogram"
           }
          ],
          "histogram2d": [
           {
            "colorbar": {
             "outlinewidth": 0,
             "ticks": ""
            },
            "colorscale": [
             [
              0,
              "#0d0887"
             ],
             [
              0.1111111111111111,
              "#46039f"
             ],
             [
              0.2222222222222222,
              "#7201a8"
             ],
             [
              0.3333333333333333,
              "#9c179e"
             ],
             [
              0.4444444444444444,
              "#bd3786"
             ],
             [
              0.5555555555555556,
              "#d8576b"
             ],
             [
              0.6666666666666666,
              "#ed7953"
             ],
             [
              0.7777777777777778,
              "#fb9f3a"
             ],
             [
              0.8888888888888888,
              "#fdca26"
             ],
             [
              1,
              "#f0f921"
             ]
            ],
            "type": "histogram2d"
           }
          ],
          "histogram2dcontour": [
           {
            "colorbar": {
             "outlinewidth": 0,
             "ticks": ""
            },
            "colorscale": [
             [
              0,
              "#0d0887"
             ],
             [
              0.1111111111111111,
              "#46039f"
             ],
             [
              0.2222222222222222,
              "#7201a8"
             ],
             [
              0.3333333333333333,
              "#9c179e"
             ],
             [
              0.4444444444444444,
              "#bd3786"
             ],
             [
              0.5555555555555556,
              "#d8576b"
             ],
             [
              0.6666666666666666,
              "#ed7953"
             ],
             [
              0.7777777777777778,
              "#fb9f3a"
             ],
             [
              0.8888888888888888,
              "#fdca26"
             ],
             [
              1,
              "#f0f921"
             ]
            ],
            "type": "histogram2dcontour"
           }
          ],
          "mesh3d": [
           {
            "colorbar": {
             "outlinewidth": 0,
             "ticks": ""
            },
            "type": "mesh3d"
           }
          ],
          "parcoords": [
           {
            "line": {
             "colorbar": {
              "outlinewidth": 0,
              "ticks": ""
             }
            },
            "type": "parcoords"
           }
          ],
          "pie": [
           {
            "automargin": true,
            "type": "pie"
           }
          ],
          "scatter": [
           {
            "fillpattern": {
             "fillmode": "overlay",
             "size": 10,
             "solidity": 0.2
            },
            "type": "scatter"
           }
          ],
          "scatter3d": [
           {
            "line": {
             "colorbar": {
              "outlinewidth": 0,
              "ticks": ""
             }
            },
            "marker": {
             "colorbar": {
              "outlinewidth": 0,
              "ticks": ""
             }
            },
            "type": "scatter3d"
           }
          ],
          "scattercarpet": [
           {
            "marker": {
             "colorbar": {
              "outlinewidth": 0,
              "ticks": ""
             }
            },
            "type": "scattercarpet"
           }
          ],
          "scattergeo": [
           {
            "marker": {
             "colorbar": {
              "outlinewidth": 0,
              "ticks": ""
             }
            },
            "type": "scattergeo"
           }
          ],
          "scattergl": [
           {
            "marker": {
             "colorbar": {
              "outlinewidth": 0,
              "ticks": ""
             }
            },
            "type": "scattergl"
           }
          ],
          "scattermapbox": [
           {
            "marker": {
             "colorbar": {
              "outlinewidth": 0,
              "ticks": ""
             }
            },
            "type": "scattermapbox"
           }
          ],
          "scatterpolar": [
           {
            "marker": {
             "colorbar": {
              "outlinewidth": 0,
              "ticks": ""
             }
            },
            "type": "scatterpolar"
           }
          ],
          "scatterpolargl": [
           {
            "marker": {
             "colorbar": {
              "outlinewidth": 0,
              "ticks": ""
             }
            },
            "type": "scatterpolargl"
           }
          ],
          "scatterternary": [
           {
            "marker": {
             "colorbar": {
              "outlinewidth": 0,
              "ticks": ""
             }
            },
            "type": "scatterternary"
           }
          ],
          "surface": [
           {
            "colorbar": {
             "outlinewidth": 0,
             "ticks": ""
            },
            "colorscale": [
             [
              0,
              "#0d0887"
             ],
             [
              0.1111111111111111,
              "#46039f"
             ],
             [
              0.2222222222222222,
              "#7201a8"
             ],
             [
              0.3333333333333333,
              "#9c179e"
             ],
             [
              0.4444444444444444,
              "#bd3786"
             ],
             [
              0.5555555555555556,
              "#d8576b"
             ],
             [
              0.6666666666666666,
              "#ed7953"
             ],
             [
              0.7777777777777778,
              "#fb9f3a"
             ],
             [
              0.8888888888888888,
              "#fdca26"
             ],
             [
              1,
              "#f0f921"
             ]
            ],
            "type": "surface"
           }
          ],
          "table": [
           {
            "cells": {
             "fill": {
              "color": "#EBF0F8"
             },
             "line": {
              "color": "white"
             }
            },
            "header": {
             "fill": {
              "color": "#C8D4E3"
             },
             "line": {
              "color": "white"
             }
            },
            "type": "table"
           }
          ]
         },
         "layout": {
          "annotationdefaults": {
           "arrowcolor": "#2a3f5f",
           "arrowhead": 0,
           "arrowwidth": 1
          },
          "autotypenumbers": "strict",
          "coloraxis": {
           "colorbar": {
            "outlinewidth": 0,
            "ticks": ""
           }
          },
          "colorscale": {
           "diverging": [
            [
             0,
             "#8e0152"
            ],
            [
             0.1,
             "#c51b7d"
            ],
            [
             0.2,
             "#de77ae"
            ],
            [
             0.3,
             "#f1b6da"
            ],
            [
             0.4,
             "#fde0ef"
            ],
            [
             0.5,
             "#f7f7f7"
            ],
            [
             0.6,
             "#e6f5d0"
            ],
            [
             0.7,
             "#b8e186"
            ],
            [
             0.8,
             "#7fbc41"
            ],
            [
             0.9,
             "#4d9221"
            ],
            [
             1,
             "#276419"
            ]
           ],
           "sequential": [
            [
             0,
             "#0d0887"
            ],
            [
             0.1111111111111111,
             "#46039f"
            ],
            [
             0.2222222222222222,
             "#7201a8"
            ],
            [
             0.3333333333333333,
             "#9c179e"
            ],
            [
             0.4444444444444444,
             "#bd3786"
            ],
            [
             0.5555555555555556,
             "#d8576b"
            ],
            [
             0.6666666666666666,
             "#ed7953"
            ],
            [
             0.7777777777777778,
             "#fb9f3a"
            ],
            [
             0.8888888888888888,
             "#fdca26"
            ],
            [
             1,
             "#f0f921"
            ]
           ],
           "sequentialminus": [
            [
             0,
             "#0d0887"
            ],
            [
             0.1111111111111111,
             "#46039f"
            ],
            [
             0.2222222222222222,
             "#7201a8"
            ],
            [
             0.3333333333333333,
             "#9c179e"
            ],
            [
             0.4444444444444444,
             "#bd3786"
            ],
            [
             0.5555555555555556,
             "#d8576b"
            ],
            [
             0.6666666666666666,
             "#ed7953"
            ],
            [
             0.7777777777777778,
             "#fb9f3a"
            ],
            [
             0.8888888888888888,
             "#fdca26"
            ],
            [
             1,
             "#f0f921"
            ]
           ]
          },
          "colorway": [
           "#636efa",
           "#EF553B",
           "#00cc96",
           "#ab63fa",
           "#FFA15A",
           "#19d3f3",
           "#FF6692",
           "#B6E880",
           "#FF97FF",
           "#FECB52"
          ],
          "font": {
           "color": "#2a3f5f"
          },
          "geo": {
           "bgcolor": "white",
           "lakecolor": "white",
           "landcolor": "#E5ECF6",
           "showlakes": true,
           "showland": true,
           "subunitcolor": "white"
          },
          "hoverlabel": {
           "align": "left"
          },
          "hovermode": "closest",
          "mapbox": {
           "style": "light"
          },
          "paper_bgcolor": "white",
          "plot_bgcolor": "#E5ECF6",
          "polar": {
           "angularaxis": {
            "gridcolor": "white",
            "linecolor": "white",
            "ticks": ""
           },
           "bgcolor": "#E5ECF6",
           "radialaxis": {
            "gridcolor": "white",
            "linecolor": "white",
            "ticks": ""
           }
          },
          "scene": {
           "xaxis": {
            "backgroundcolor": "#E5ECF6",
            "gridcolor": "white",
            "gridwidth": 2,
            "linecolor": "white",
            "showbackground": true,
            "ticks": "",
            "zerolinecolor": "white"
           },
           "yaxis": {
            "backgroundcolor": "#E5ECF6",
            "gridcolor": "white",
            "gridwidth": 2,
            "linecolor": "white",
            "showbackground": true,
            "ticks": "",
            "zerolinecolor": "white"
           },
           "zaxis": {
            "backgroundcolor": "#E5ECF6",
            "gridcolor": "white",
            "gridwidth": 2,
            "linecolor": "white",
            "showbackground": true,
            "ticks": "",
            "zerolinecolor": "white"
           }
          },
          "shapedefaults": {
           "line": {
            "color": "#2a3f5f"
           }
          },
          "ternary": {
           "aaxis": {
            "gridcolor": "white",
            "linecolor": "white",
            "ticks": ""
           },
           "baxis": {
            "gridcolor": "white",
            "linecolor": "white",
            "ticks": ""
           },
           "bgcolor": "#E5ECF6",
           "caxis": {
            "gridcolor": "white",
            "linecolor": "white",
            "ticks": ""
           }
          },
          "title": {
           "x": 0.05
          },
          "xaxis": {
           "automargin": true,
           "gridcolor": "white",
           "linecolor": "white",
           "ticks": "",
           "title": {
            "standoff": 15
           },
           "zerolinecolor": "white",
           "zerolinewidth": 2
          },
          "yaxis": {
           "automargin": true,
           "gridcolor": "white",
           "linecolor": "white",
           "ticks": "",
           "title": {
            "standoff": 15
           },
           "zerolinecolor": "white",
           "zerolinewidth": 2
          }
         }
        },
        "ternary": {
         "aaxis": {
          "title": {
           "text": "Subscribers"
          }
         },
         "baxis": {
          "title": {
           "text": "Views"
          }
         },
         "caxis": {
          "title": {
           "text": "Rank"
          }
         },
         "domain": {
          "x": [
           0,
           1
          ],
          "y": [
           0,
           1
          ]
         },
         "sum": 100
        },
        "title": {
         "text": "YouTube Video Subscribers, Views, and Rank"
        }
       }
      }
     },
     "metadata": {},
     "output_type": "display_data"
    }
   ],
   "source": [
    "# Create the ternary scatter plot\n",
    "fig = px.scatter_ternary(df, a='SUBSCRIBERS', b='VIEWS', c='RANK')\n",
    "\n",
    "# Customize the layout\n",
    "fig.update_layout(\n",
    "    title='YouTube Video Subscribers, Views, and Rank',\n",
    "    ternary={\n",
    "        'sum': 100,\n",
    "        'aaxis_title': 'Subscribers',\n",
    "        'baxis_title': 'Views',\n",
    "        'caxis_title': 'Rank'\n",
    "    },\n",
    "    font_size=14\n",
    ")\n",
    "# Save the plot:\n",
    "fig.write_html('./Plots/Ternary Scatter.html')\n",
    "\n",
    "# Display the plot\n",
    "fig.show()"
   ]
  },
  {
   "cell_type": "code",
   "execution_count": 106,
   "metadata": {},
   "outputs": [
    {
     "data": {
      "application/vnd.plotly.v1+json": {
       "config": {
        "plotlyServerURL": "https://plot.ly"
       },
       "data": [
        {
         "alignmentgroup": "True",
         "hovertemplate": "CATEGORY=%{x}<br>VIEWS=%{y}<extra></extra>",
         "legendgroup": " Entertainment          ",
         "marker": {
          "color": "#636efa"
         },
         "name": " Entertainment          ",
         "notched": false,
         "offsetgroup": " Entertainment          ",
         "orientation": "v",
         "showlegend": true,
         "type": "box",
         "x": [
          " Entertainment          ",
          " Entertainment          ",
          " Entertainment          ",
          " Entertainment          ",
          " Entertainment          ",
          " Entertainment          ",
          " Entertainment          ",
          " Entertainment          ",
          " Entertainment          ",
          " Entertainment          ",
          " Entertainment          ",
          " Entertainment          ",
          " Entertainment          ",
          " Entertainment          ",
          " Entertainment          ",
          " Entertainment          ",
          " Entertainment          ",
          " Entertainment          ",
          " Entertainment          ",
          " Entertainment          ",
          " Entertainment          ",
          " Entertainment          ",
          " Entertainment          ",
          " Entertainment          ",
          " Entertainment          ",
          " Entertainment          ",
          " Entertainment          ",
          " Entertainment          ",
          " Entertainment          ",
          " Entertainment          ",
          " Entertainment          ",
          " Entertainment          ",
          " Entertainment          ",
          " Entertainment          ",
          " Entertainment          ",
          " Entertainment          ",
          " Entertainment          ",
          " Entertainment          ",
          " Entertainment          ",
          " Entertainment          ",
          " Entertainment          ",
          " Entertainment          ",
          " Entertainment          ",
          " Entertainment          ",
          " Entertainment          ",
          " Entertainment          ",
          " Entertainment          ",
          " Entertainment          ",
          " Entertainment          ",
          " Entertainment          ",
          " Entertainment          ",
          " Entertainment          ",
          " Entertainment          ",
          " Entertainment          ",
          " Entertainment          ",
          " Entertainment          ",
          " Entertainment          ",
          " Entertainment          ",
          " Entertainment          ",
          " Entertainment          ",
          " Entertainment          ",
          " Entertainment          ",
          " Entertainment          ",
          " Entertainment          ",
          " Entertainment          ",
          " Entertainment          ",
          " Entertainment          ",
          " Entertainment          ",
          " Entertainment          ",
          " Entertainment          ",
          " Entertainment          ",
          " Entertainment          ",
          " Entertainment          ",
          " Entertainment          ",
          " Entertainment          ",
          " Entertainment          ",
          " Entertainment          ",
          " Entertainment          ",
          " Entertainment          ",
          " Entertainment          ",
          " Entertainment          ",
          " Entertainment          ",
          " Entertainment          ",
          " Entertainment          ",
          " Entertainment          ",
          " Entertainment          ",
          " Entertainment          ",
          " Entertainment          ",
          " Entertainment          ",
          " Entertainment          ",
          " Entertainment          ",
          " Entertainment          ",
          " Entertainment          ",
          " Entertainment          ",
          " Entertainment          ",
          " Entertainment          ",
          " Entertainment          ",
          " Entertainment          ",
          " Entertainment          ",
          " Entertainment          ",
          " Entertainment          ",
          " Entertainment          ",
          " Entertainment          ",
          " Entertainment          ",
          " Entertainment          ",
          " Entertainment          ",
          " Entertainment          ",
          " Entertainment          ",
          " Entertainment          ",
          " Entertainment          ",
          " Entertainment          ",
          " Entertainment          ",
          " Entertainment          ",
          " Entertainment          ",
          " Entertainment          ",
          " Entertainment          ",
          " Entertainment          ",
          " Entertainment          ",
          " Entertainment          ",
          " Entertainment          ",
          " Entertainment          ",
          " Entertainment          ",
          " Entertainment          ",
          " Entertainment          ",
          " Entertainment          ",
          " Entertainment          ",
          " Entertainment          ",
          " Entertainment          ",
          " Entertainment          ",
          " Entertainment          ",
          " Entertainment          ",
          " Entertainment          ",
          " Entertainment          ",
          " Entertainment          ",
          " Entertainment          ",
          " Entertainment          ",
          " Entertainment          ",
          " Entertainment          ",
          " Entertainment          ",
          " Entertainment          ",
          " Entertainment          ",
          " Entertainment          ",
          " Entertainment          ",
          " Entertainment          ",
          " Entertainment          ",
          " Entertainment          ",
          " Entertainment          ",
          " Entertainment          ",
          " Entertainment          ",
          " Entertainment          ",
          " Entertainment          ",
          " Entertainment          ",
          " Entertainment          ",
          " Entertainment          ",
          " Entertainment          ",
          " Entertainment          ",
          " Entertainment          ",
          " Entertainment          ",
          " Entertainment          ",
          " Entertainment          ",
          " Entertainment          ",
          " Entertainment          ",
          " Entertainment          ",
          " Entertainment          ",
          " Entertainment          ",
          " Entertainment          ",
          " Entertainment          ",
          " Entertainment          ",
          " Entertainment          ",
          " Entertainment          ",
          " Entertainment          ",
          " Entertainment          ",
          " Entertainment          ",
          " Entertainment          ",
          " Entertainment          ",
          " Entertainment          ",
          " Entertainment          ",
          " Entertainment          ",
          " Entertainment          ",
          " Entertainment          ",
          " Entertainment          ",
          " Entertainment          ",
          " Entertainment          ",
          " Entertainment          ",
          " Entertainment          ",
          " Entertainment          "
         ],
         "x0": " ",
         "xaxis": "x",
         "y": [
          "50.98B",
          "164.71B",
          "29.31B",
          "115.24B",
          "89.41B",
          "70.94B",
          "9.28B",
          "26.05B",
          "28.7B",
          "53.63B",
          "51.02B",
          "24.22B",
          "14.16B",
          "18.53B",
          "39.21B",
          "2.65B",
          "54.86B",
          "22.8B",
          "10.6B",
          "17.67B",
          "19.29B",
          "26.8B",
          "4.51B",
          "4.89B",
          "20.45B",
          "32.75B",
          "19.56B",
          "24.95B",
          "28.12B",
          "3.03B",
          "17.34B",
          "28.29B",
          "7.45B",
          "7B",
          "24.37B",
          "12.1B",
          "9.31B",
          "43.11B",
          "21.03B",
          "24.1B",
          "19.09B",
          "23.88B",
          "16.56B",
          "21.71B",
          "21.2B",
          "13.72B",
          "27.43B",
          "14.32B",
          "25.06B",
          "24B",
          "17.72B",
          "13.72B",
          "13.06B",
          "6.07B",
          "3.78B",
          "22.77B",
          "13.46B",
          "18.66B",
          "22.29B",
          "12.62B",
          "23.4B",
          "8.92B",
          "18.71B",
          "16.21B",
          "19.71B",
          "17.63B",
          "12.73B",
          "28.95B",
          "27.79B",
          "5.17B",
          "15.6B",
          "8.46B",
          "17.07B",
          "20.73B",
          "13.77B",
          "5.99B",
          "10B",
          "37.99B",
          "16.03B",
          "8.94B",
          "4.76B",
          "13.71B",
          "26.99B",
          "14.64B",
          "12.47B",
          "25.41B",
          "11.95B",
          "14.13B",
          "10.13B",
          "8.5B",
          "9.46B",
          "9.37B",
          "12.6B",
          "6.91B",
          "28.96B",
          "12.84B",
          "10.7B",
          "12.51B",
          "7.94B",
          "21.05B",
          "19.49B",
          "17.37B",
          "12.86B",
          "9.91B",
          "6.53B",
          "19.06B",
          "5.38B",
          "7.32B",
          "6.81B",
          "18.21B",
          "9.12B",
          "8.69B",
          "6.1B",
          "3B",
          "12.14B",
          "11.27B",
          "61.01B",
          "9.89B",
          "3.19B",
          "12.96B",
          "11.73B",
          "2.72B",
          "22.63B",
          "8.66B",
          "7.49B",
          "2.47B",
          "5.58B",
          "4.69B",
          "22.22B",
          "11.9B",
          "4.38B",
          "2.67B",
          "15.2B",
          "15.07B",
          "13.18B",
          "6.01B",
          "24.93B",
          "14.7B",
          "9.99B",
          "6.35B",
          "9.95B",
          "8.03B",
          "17.41B",
          "10.43B",
          "5.68B",
          "20.72B",
          "6.03B",
          "20.51B",
          "11.55B",
          "13.83B",
          "16.96B",
          "14.12B",
          "9.34B",
          "4.04B",
          "6.84B",
          "23.49B",
          "19.28B",
          "11.29B",
          "11.2B",
          "9.15B",
          "16.36B",
          "6.45B",
          "8.81B",
          "5.14B",
          "4.87B",
          "4.66B",
          "15.1B",
          "8.46B",
          "6.21B",
          "16.33B",
          "14.51B",
          "6.52B",
          "4.4B",
          "4.07B",
          "12.11B",
          "9.7B",
          "5B",
          "4.63B",
          "3.56B",
          "2.73B",
          "2.64B",
          "15.8B",
          "14.38B",
          "3.2B",
          "7.63B",
          "6.01B"
         ],
         "y0": " ",
         "yaxis": "y"
        },
        {
         "alignmentgroup": "True",
         "hovertemplate": "CATEGORY=%{x}<br>VIEWS=%{y}<extra></extra>",
         "legendgroup": " Music                  ",
         "marker": {
          "color": "#EF553B"
         },
         "name": " Music                  ",
         "notched": false,
         "offsetgroup": " Music                  ",
         "orientation": "v",
         "showlegend": true,
         "type": "box",
         "x": [
          " Music                  ",
          " Music                  ",
          " Music                  ",
          " Music                  ",
          " Music                  ",
          " Music                  ",
          " Music                  ",
          " Music                  ",
          " Music                  ",
          " Music                  ",
          " Music                  ",
          " Music                  ",
          " Music                  ",
          " Music                  ",
          " Music                  ",
          " Music                  ",
          " Music                  ",
          " Music                  ",
          " Music                  ",
          " Music                  ",
          " Music                  ",
          " Music                  ",
          " Music                  ",
          " Music                  ",
          " Music                  ",
          " Music                  ",
          " Music                  ",
          " Music                  ",
          " Music                  ",
          " Music                  ",
          " Music                  ",
          " Music                  ",
          " Music                  ",
          " Music                  ",
          " Music                  ",
          " Music                  ",
          " Music                  ",
          " Music                  ",
          " Music                  ",
          " Music                  ",
          " Music                  ",
          " Music                  ",
          " Music                  ",
          " Music                  ",
          " Music                  ",
          " Music                  ",
          " Music                  ",
          " Music                  ",
          " Music                  ",
          " Music                  ",
          " Music                  ",
          " Music                  ",
          " Music                  ",
          " Music                  ",
          " Music                  ",
          " Music                  ",
          " Music                  ",
          " Music                  ",
          " Music                  ",
          " Music                  ",
          " Music                  ",
          " Music                  ",
          " Music                  ",
          " Music                  ",
          " Music                  ",
          " Music                  ",
          " Music                  ",
          " Music                  ",
          " Music                  ",
          " Music                  ",
          " Music                  ",
          " Music                  ",
          " Music                  ",
          " Music                  ",
          " Music                  ",
          " Music                  ",
          " Music                  ",
          " Music                  ",
          " Music                  ",
          " Music                  ",
          " Music                  ",
          " Music                  ",
          " Music                  ",
          " Music                  ",
          " Music                  ",
          " Music                  ",
          " Music                  ",
          " Music                  ",
          " Music                  ",
          " Music                  ",
          " Music                  ",
          " Music                  ",
          " Music                  ",
          " Music                  ",
          " Music                  ",
          " Music                  ",
          " Music                  ",
          " Music                  ",
          " Music                  ",
          " Music                  ",
          " Music                  ",
          " Music                  ",
          " Music                  ",
          " Music                  ",
          " Music                  ",
          " Music                  ",
          " Music                  ",
          " Music                  ",
          " Music                  ",
          " Music                  ",
          " Music                  "
         ],
         "x0": " ",
         "xaxis": "x",
         "y": [
          "257.16B",
          "66.84B",
          "36.02B",
          "22.97B",
          "34.26B",
          "32.31B",
          "29.3B",
          "34.04B",
          "38.29B",
          "38.83B",
          "42.76B",
          "31.93B",
          "29.73B",
          "41.11B",
          "35.44B",
          "15.74B",
          "32.44B",
          "26.21B",
          "15.72B",
          "32.93B",
          "40.38B",
          "19.75B",
          "30.35B",
          "14.12B",
          "8.11B",
          "39.1B",
          "17.05B",
          "7.34B",
          "4.21B",
          "7.88B",
          "21.55B",
          "11.76B",
          "33.12B",
          "13B",
          "23.15B",
          "30.01B",
          "57.67B",
          "16.42B",
          "28.69B",
          "25.89B",
          "37.65B",
          "22.81B",
          "31.98B",
          "18.11B",
          "14B",
          "20.45B",
          "15.79B",
          "10.61B",
          "11.12B",
          "3.42B",
          "19.17B",
          "29.45B",
          "17.21B",
          "15.79B",
          "9.75B",
          "25.04B",
          "12.54B",
          "16.77B",
          "7.79B",
          "17.01B",
          "18.97B",
          "38.77B",
          "23.94B",
          "17.89B",
          "27.35B",
          "2.43B",
          "28.22B",
          "18.76B",
          "17.97B",
          "12.72B",
          "11.26B",
          "17.2B",
          "19.04B",
          "10.8B",
          "4.97B",
          "9.42B",
          "11.2B",
          "28.31B",
          "11.14B",
          "7.33B",
          "8.06B",
          "2.59B",
          "22.01B",
          "15.62B",
          "12.4B",
          "24.65B",
          "797.36M",
          "9.02B",
          "40.34B",
          "29.44B",
          "11.13B",
          "6.81B",
          "23.92B",
          "13.31B",
          "15.09B",
          "3.68B",
          "9.12B",
          "15.02B",
          "8.64B",
          "10.81B",
          "9.24B",
          "6.35B",
          "14.06B",
          "14.09B",
          "4.11B",
          "12.63B",
          "18.08B",
          "9.9B",
          "25.78B",
          "11.01B",
          "1.91B"
         ],
         "y0": " ",
         "yaxis": "y"
        },
        {
         "alignmentgroup": "True",
         "hovertemplate": "CATEGORY=%{x}<br>VIEWS=%{y}<extra></extra>",
         "legendgroup": " Kids                   ",
         "marker": {
          "color": "#00cc96"
         },
         "name": " Kids                   ",
         "notched": false,
         "offsetgroup": " Kids                   ",
         "orientation": "v",
         "showlegend": true,
         "type": "box",
         "x": [
          " Kids                   ",
          " Kids                   ",
          " Kids                   ",
          " Kids                   ",
          " Kids                   ",
          " Kids                   ",
          " Kids                   ",
          " Kids                   ",
          " Kids                   ",
          " Kids                   ",
          " Kids                   ",
          " Kids                   ",
          " Kids                   ",
          " Kids                   ",
          " Kids                   ",
          " Kids                   ",
          " Kids                   ",
          " Kids                   ",
          " Kids                   ",
          " Kids                   ",
          " Kids                   ",
          " Kids                   ",
          " Kids                   ",
          " Kids                   ",
          " Kids                   ",
          " Kids                   ",
          " Kids                   ",
          " Kids                   ",
          " Kids                   ",
          " Kids                   ",
          " Kids                   ",
          " Kids                   ",
          " Kids                   ",
          " Kids                   ",
          " Kids                   ",
          " Kids                   ",
          " Kids                   ",
          " Kids                   ",
          " Kids                   ",
          " Kids                   ",
          " Kids                   ",
          " Kids                   ",
          " Kids                   ",
          " Kids                   ",
          " Kids                   ",
          " Kids                   ",
          " Kids                   ",
          " Kids                   ",
          " Kids                   ",
          " Kids                   ",
          " Kids                   ",
          " Kids                   ",
          " Kids                   ",
          " Kids                   ",
          " Kids                   ",
          " Kids                   ",
          " Kids                   ",
          " Kids                   ",
          " Kids                   ",
          " Kids                   ",
          " Kids                   ",
          " Kids                   ",
          " Kids                   ",
          " Kids                   ",
          " Kids                   ",
          " Kids                   ",
          " Kids                   ",
          " Kids                   "
         ],
         "x0": " ",
         "xaxis": "x",
         "y": [
          "182.88B",
          "103.5B",
          "90.94B",
          "100.9B",
          "51.03B",
          "60.42B",
          "36.12B",
          "65.66B",
          "35.01B",
          "11.15B",
          "27.62B",
          "43.07B",
          "24.34B",
          "9.74B",
          "3.76B",
          "30.66B",
          "16.82B",
          "5.83B",
          "16.93B",
          "21.48B",
          "23.62B",
          "15.58B",
          "21.74B",
          "12.91B",
          "27.37B",
          "19.5B",
          "11.72B",
          "27.35B",
          "3.11B",
          "26.42B",
          "14.45B",
          "12.41B",
          "23.15B",
          "26.33B",
          "22.52B",
          "16.26B",
          "6.56B",
          "3.27B",
          "16.2B",
          "18.79B",
          "19.72B",
          "15.27B",
          "13.42B",
          "8.66B",
          "16.02B",
          "16.85B",
          "25.61B",
          "25.22B",
          "19.06B",
          "14.33B",
          "23.01B",
          "27.12B",
          "17.27B",
          "9.82B",
          "18.2B",
          "9.98B",
          "16.95B",
          "1.39K",
          "13.58B",
          "12.12B",
          "11.42B",
          "5.46B",
          "2.86B",
          "488.84M",
          "10.9B",
          "9.52B",
          "9.38B",
          "4.55B"
         ],
         "y0": " ",
         "yaxis": "y"
        },
        {
         "alignmentgroup": "True",
         "hovertemplate": "CATEGORY=%{x}<br>VIEWS=%{y}<extra></extra>",
         "legendgroup": " Sports/Entertainment   ",
         "marker": {
          "color": "#ab63fa"
         },
         "name": " Sports/Entertainment   ",
         "notched": false,
         "offsetgroup": " Sports/Entertainment   ",
         "orientation": "v",
         "showlegend": true,
         "type": "box",
         "x": [
          " Sports/Entertainment   ",
          " Sports/Entertainment   "
         ],
         "x0": " ",
         "xaxis": "x",
         "y": [
          "84.98B",
          "17.42B"
         ],
         "y0": " ",
         "yaxis": "y"
        },
        {
         "alignmentgroup": "True",
         "hovertemplate": "CATEGORY=%{x}<br>VIEWS=%{y}<extra></extra>",
         "legendgroup": " Movies                 ",
         "marker": {
          "color": "#FFA15A"
         },
         "name": " Movies                 ",
         "notched": false,
         "offsetgroup": " Movies                 ",
         "orientation": "v",
         "showlegend": true,
         "type": "box",
         "x": [
          " Movies                 ",
          " Movies                 ",
          " Movies                 ",
          " Movies                 ",
          " Movies                 ",
          " Movies                 ",
          " Movies                 ",
          " Movies                 ",
          " Movies                 ",
          " Movies                 ",
          " Movies                 ",
          " Movies                 ",
          " Movies                 ",
          " Movies                 "
         ],
         "x0": " ",
         "xaxis": "x",
         "y": [
          "29.04B",
          "62.2B",
          "24.55B",
          "27.61B",
          "11.21B",
          "27.4B",
          "17.34B",
          "17.59B",
          "16.31B",
          "7.95B",
          "8.22B",
          "24.98B",
          "5.72B",
          "6.28B"
         ],
         "y0": " ",
         "yaxis": "y"
        },
        {
         "alignmentgroup": "True",
         "hovertemplate": "CATEGORY=%{x}<br>VIEWS=%{y}<extra></extra>",
         "legendgroup": " DIY/Education          ",
         "marker": {
          "color": "#19d3f3"
         },
         "name": " DIY/Education          ",
         "notched": false,
         "offsetgroup": " DIY/Education          ",
         "orientation": "v",
         "showlegend": true,
         "type": "box",
         "x": [
          " DIY/Education          "
         ],
         "x0": " ",
         "xaxis": "x",
         "y": [
          "27.39B"
         ],
         "y0": " ",
         "yaxis": "y"
        },
        {
         "alignmentgroup": "True",
         "hovertemplate": "CATEGORY=%{x}<br>VIEWS=%{y}<extra></extra>",
         "legendgroup": " Kids                ",
         "marker": {
          "color": "#FF6692"
         },
         "name": " Kids                ",
         "notched": false,
         "offsetgroup": " Kids                ",
         "orientation": "v",
         "showlegend": true,
         "type": "box",
         "x": [
          " Kids                ",
          " Kids                "
         ],
         "x0": " ",
         "xaxis": "x",
         "y": [
          "43.81B",
          "15.33B"
         ],
         "y0": " ",
         "yaxis": "y"
        },
        {
         "alignmentgroup": "True",
         "hovertemplate": "CATEGORY=%{x}<br>VIEWS=%{y}<extra></extra>",
         "legendgroup": " News                   ",
         "marker": {
          "color": "#B6E880"
         },
         "name": " News                   ",
         "notched": false,
         "offsetgroup": " News                   ",
         "orientation": "v",
         "showlegend": true,
         "type": "box",
         "x": [
          " News                   ",
          " News                   ",
          " News                   ",
          " News                   ",
          " News                   ",
          " News                   ",
          " News                   ",
          " News                   ",
          " News                   ",
          " News                   ",
          " News                   ",
          " News                   ",
          " News                   ",
          " News                   ",
          " News                   "
         ],
         "x0": " ",
         "xaxis": "x",
         "y": [
          "31.73B",
          "7.86B",
          "50.79B",
          "32.4B",
          "13.71B",
          "8.71B",
          "4.77B",
          "13.55B",
          "10.36B",
          "14.48B",
          "12.16B",
          "4.19B",
          "19.19B",
          "3.88B",
          "2.93B"
         ],
         "y0": " ",
         "yaxis": "y"
        },
        {
         "alignmentgroup": "True",
         "hovertemplate": "CATEGORY=%{x}<br>VIEWS=%{y}<extra></extra>",
         "legendgroup": " Kids          ",
         "marker": {
          "color": "#FF97FF"
         },
         "name": " Kids          ",
         "notched": false,
         "offsetgroup": " Kids          ",
         "orientation": "v",
         "showlegend": true,
         "type": "box",
         "x": [
          " Kids          ",
          " Kids          "
         ],
         "x0": " ",
         "xaxis": "x",
         "y": [
          "34.45B",
          "4.13B"
         ],
         "y0": " ",
         "yaxis": "y"
        },
        {
         "alignmentgroup": "True",
         "hovertemplate": "CATEGORY=%{x}<br>VIEWS=%{y}<extra></extra>",
         "legendgroup": " Kids            ",
         "marker": {
          "color": "#FECB52"
         },
         "name": " Kids            ",
         "notched": false,
         "offsetgroup": " Kids            ",
         "orientation": "v",
         "showlegend": true,
         "type": "box",
         "x": [
          " Kids            "
         ],
         "x0": " ",
         "xaxis": "x",
         "y": [
          "11.6B"
         ],
         "y0": " ",
         "yaxis": "y"
        },
        {
         "alignmentgroup": "True",
         "hovertemplate": "CATEGORY=%{x}<br>VIEWS=%{y}<extra></extra>",
         "legendgroup": " Education              ",
         "marker": {
          "color": "#636efa"
         },
         "name": " Education              ",
         "notched": false,
         "offsetgroup": " Education              ",
         "orientation": "v",
         "showlegend": true,
         "type": "box",
         "x": [
          " Education              ",
          " Education              ",
          " Education              ",
          " Education              ",
          " Education              ",
          " Education              ",
          " Education              ",
          " Education              ",
          " Education              ",
          " Education              ",
          " Education              ",
          " Education              ",
          " Education              ",
          " Education              ",
          " Education              ",
          " Education              ",
          " Education              ",
          " Education              ",
          " Education              "
         ],
         "x0": " ",
         "xaxis": "x",
         "y": [
          "6.32B",
          "7.71B",
          "6.57B",
          "7.54B",
          "15.96B",
          "24.35B",
          "22.54B",
          "19.83B",
          "11.85B",
          "18.81B",
          "2.34B",
          "6.01B",
          "2.78B",
          "20.79B",
          "9.41B",
          "11.65B",
          "6.13B",
          "2.17B",
          "8.28B"
         ],
         "y0": " ",
         "yaxis": "y"
        },
        {
         "alignmentgroup": "True",
         "hovertemplate": "CATEGORY=%{x}<br>VIEWS=%{y}<extra></extra>",
         "legendgroup": " Gaming/Entertainment   ",
         "marker": {
          "color": "#EF553B"
         },
         "name": " Gaming/Entertainment   ",
         "notched": false,
         "offsetgroup": " Gaming/Entertainment   ",
         "orientation": "v",
         "showlegend": true,
         "type": "box",
         "x": [
          " Gaming/Entertainment   ",
          " Gaming/Entertainment   ",
          " Gaming/Entertainment   ",
          " Gaming/Entertainment   ",
          " Gaming/Entertainment   ",
          " Gaming/Entertainment   ",
          " Gaming/Entertainment   ",
          " Gaming/Entertainment   ",
          " Gaming/Entertainment   ",
          " Gaming/Entertainment   ",
          " Gaming/Entertainment   ",
          " Gaming/Entertainment   ",
          " Gaming/Entertainment   ",
          " Gaming/Entertainment   ",
          " Gaming/Entertainment   ",
          " Gaming/Entertainment   ",
          " Gaming/Entertainment   ",
          " Gaming/Entertainment   ",
          " Gaming/Entertainment   ",
          " Gaming/Entertainment   ",
          " Gaming/Entertainment   ",
          " Gaming/Entertainment   ",
          " Gaming/Entertainment   ",
          " Gaming/Entertainment   ",
          " Gaming/Entertainment   ",
          " Gaming/Entertainment   ",
          " Gaming/Entertainment   ",
          " Gaming/Entertainment   ",
          " Gaming/Entertainment   ",
          " Gaming/Entertainment   ",
          " Gaming/Entertainment   ",
          " Gaming/Entertainment   ",
          " Gaming/Entertainment   ",
          " Gaming/Entertainment   ",
          " Gaming/Entertainment   ",
          " Gaming/Entertainment   ",
          " Gaming/Entertainment   "
         ],
         "x0": " ",
         "xaxis": "x",
         "y": [
          "30.91B",
          "15.44B",
          "16.18B",
          "28.4B",
          "28.89B",
          "25.3B",
          "27.61B",
          "40.51B",
          "11.07B",
          "31.12B",
          "14.34B",
          "24.96B",
          "13.92B",
          "16.84B",
          "16.49B",
          "6.98B",
          "17.84B",
          "17.52B",
          "4.75B",
          "2.14B",
          "13.53B",
          "5.23B",
          "10.53B",
          "14.64B",
          "12.88B",
          "16.02B",
          "17.57B",
          "9.87B",
          "17.32B",
          "7.16B",
          "8.87B",
          "12.21B",
          "12.38B",
          "7.25B",
          "11.27B",
          "4.13B",
          "9.23B"
         ],
         "y0": " ",
         "yaxis": "y"
        },
        {
         "alignmentgroup": "True",
         "hovertemplate": "CATEGORY=%{x}<br>VIEWS=%{y}<extra></extra>",
         "legendgroup": " Education          ",
         "marker": {
          "color": "#00cc96"
         },
         "name": " Education          ",
         "notched": false,
         "offsetgroup": " Education          ",
         "orientation": "v",
         "showlegend": true,
         "type": "box",
         "x": [
          " Education          "
         ],
         "x0": " ",
         "xaxis": "x",
         "y": [
          "6.46B"
         ],
         "y0": " ",
         "yaxis": "y"
        },
        {
         "alignmentgroup": "True",
         "hovertemplate": "CATEGORY=%{x}<br>VIEWS=%{y}<extra></extra>",
         "legendgroup": " Travel/Entertainment   ",
         "marker": {
          "color": "#ab63fa"
         },
         "name": " Travel/Entertainment   ",
         "notched": false,
         "offsetgroup": " Travel/Entertainment   ",
         "orientation": "v",
         "showlegend": true,
         "type": "box",
         "x": [
          " Travel/Entertainment   "
         ],
         "x0": " ",
         "xaxis": "x",
         "y": [
          "25.02B"
         ],
         "y0": " ",
         "yaxis": "y"
        },
        {
         "alignmentgroup": "True",
         "hovertemplate": "CATEGORY=%{x}<br>VIEWS=%{y}<extra></extra>",
         "legendgroup": " Animation              ",
         "marker": {
          "color": "#FFA15A"
         },
         "name": " Animation              ",
         "notched": false,
         "offsetgroup": " Animation              ",
         "orientation": "v",
         "showlegend": true,
         "type": "box",
         "x": [
          " Animation              ",
          " Animation              ",
          " Animation              ",
          " Animation              ",
          " Animation              "
         ],
         "x0": " ",
         "xaxis": "x",
         "y": [
          "18.94B",
          "12.6B",
          "22.43B",
          "1.94B",
          "11.87B"
         ],
         "y0": " ",
         "yaxis": "y"
        },
        {
         "alignmentgroup": "True",
         "hovertemplate": "CATEGORY=%{x}<br>VIEWS=%{y}<extra></extra>",
         "legendgroup": " Gaming                 ",
         "marker": {
          "color": "#19d3f3"
         },
         "name": " Gaming                 ",
         "notched": false,
         "offsetgroup": " Gaming                 ",
         "orientation": "v",
         "showlegend": true,
         "type": "box",
         "x": [
          " Gaming                 ",
          " Gaming                 "
         ],
         "x0": " ",
         "xaxis": "x",
         "y": [
          "16.6B",
          "26.49B"
         ],
         "y0": " ",
         "yaxis": "y"
        },
        {
         "alignmentgroup": "True",
         "hovertemplate": "CATEGORY=%{x}<br>VIEWS=%{y}<extra></extra>",
         "legendgroup": " Kids             ",
         "marker": {
          "color": "#FF6692"
         },
         "name": " Kids             ",
         "notched": false,
         "offsetgroup": " Kids             ",
         "orientation": "v",
         "showlegend": true,
         "type": "box",
         "x": [
          " Kids             ",
          " Kids             ",
          " Kids             "
         ],
         "x0": " ",
         "xaxis": "x",
         "y": [
          "20.1B",
          "8.06B",
          "22.28B"
         ],
         "y0": " ",
         "yaxis": "y"
        },
        {
         "alignmentgroup": "True",
         "hovertemplate": "CATEGORY=%{x}<br>VIEWS=%{y}<extra></extra>",
         "legendgroup": " Kids           ",
         "marker": {
          "color": "#B6E880"
         },
         "name": " Kids           ",
         "notched": false,
         "offsetgroup": " Kids           ",
         "orientation": "v",
         "showlegend": true,
         "type": "box",
         "x": [
          " Kids           "
         ],
         "x0": " ",
         "xaxis": "x",
         "y": [
          "38.44B"
         ],
         "y0": " ",
         "yaxis": "y"
        },
        {
         "alignmentgroup": "True",
         "hovertemplate": "CATEGORY=%{x}<br>VIEWS=%{y}<extra></extra>",
         "legendgroup": " Platform               ",
         "marker": {
          "color": "#FF97FF"
         },
         "name": " Platform               ",
         "notched": false,
         "offsetgroup": " Platform               ",
         "orientation": "v",
         "showlegend": true,
         "type": "box",
         "x": [
          " Platform               "
         ],
         "x0": " ",
         "xaxis": "x",
         "y": [
          "39.28B"
         ],
         "y0": " ",
         "yaxis": "y"
        },
        {
         "alignmentgroup": "True",
         "hovertemplate": "CATEGORY=%{x}<br>VIEWS=%{y}<extra></extra>",
         "legendgroup": " toyoraljanahtv ",
         "marker": {
          "color": "#636efa"
         },
         "name": " toyoraljanahtv ",
         "notched": false,
         "offsetgroup": " toyoraljanahtv ",
         "orientation": "v",
         "showlegend": true,
         "type": "box",
         "x": [
          " toyoraljanahtv "
         ],
         "x0": " ",
         "xaxis": "x",
         "y": [
          "5.15B"
         ],
         "y0": " ",
         "yaxis": "y"
        },
        {
         "alignmentgroup": "True",
         "hovertemplate": "CATEGORY=%{x}<br>VIEWS=%{y}<extra></extra>",
         "legendgroup": " Kids               ",
         "marker": {
          "color": "#EF553B"
         },
         "name": " Kids               ",
         "notched": false,
         "offsetgroup": " Kids               ",
         "orientation": "v",
         "showlegend": true,
         "type": "box",
         "x": [
          " Kids               "
         ],
         "x0": " ",
         "xaxis": "x",
         "y": [
          "13.82B"
         ],
         "y0": " ",
         "yaxis": "y"
        },
        {
         "alignmentgroup": "True",
         "hovertemplate": "CATEGORY=%{x}<br>VIEWS=%{y}<extra></extra>",
         "legendgroup": " Fitness/Health         ",
         "marker": {
          "color": "#00cc96"
         },
         "name": " Fitness/Health         ",
         "notched": false,
         "offsetgroup": " Fitness/Health         ",
         "orientation": "v",
         "showlegend": true,
         "type": "box",
         "x": [
          " Fitness/Health         "
         ],
         "x0": " ",
         "xaxis": "x",
         "y": [
          "18.5B"
         ],
         "y0": " ",
         "yaxis": "y"
        },
        {
         "alignmentgroup": "True",
         "hovertemplate": "CATEGORY=%{x}<br>VIEWS=%{y}<extra></extra>",
         "legendgroup": " Kids         ",
         "marker": {
          "color": "#ab63fa"
         },
         "name": " Kids         ",
         "notched": false,
         "offsetgroup": " Kids         ",
         "orientation": "v",
         "showlegend": true,
         "type": "box",
         "x": [
          " Kids         "
         ],
         "x0": " ",
         "xaxis": "x",
         "y": [
          "20.45B"
         ],
         "y0": " ",
         "yaxis": "y"
        },
        {
         "alignmentgroup": "True",
         "hovertemplate": "CATEGORY=%{x}<br>VIEWS=%{y}<extra></extra>",
         "legendgroup": " Food                   ",
         "marker": {
          "color": "#FFA15A"
         },
         "name": " Food                   ",
         "notched": false,
         "offsetgroup": " Food                   ",
         "orientation": "v",
         "showlegend": true,
         "type": "box",
         "x": [
          " Food                   ",
          " Food                   ",
          " Food                   ",
          " Food                   "
         ],
         "x0": " ",
         "xaxis": "x",
         "y": [
          "2.5B",
          "15.25B",
          "8.58B",
          "7.59B"
         ],
         "y0": " ",
         "yaxis": "y"
        },
        {
         "alignmentgroup": "True",
         "hovertemplate": "CATEGORY=%{x}<br>VIEWS=%{y}<extra></extra>",
         "legendgroup": " Beauty/Lifestyle       ",
         "marker": {
          "color": "#19d3f3"
         },
         "name": " Beauty/Lifestyle       ",
         "notched": false,
         "offsetgroup": " Beauty/Lifestyle       ",
         "orientation": "v",
         "showlegend": true,
         "type": "box",
         "x": [
          " Beauty/Lifestyle       ",
          " Beauty/Lifestyle       "
         ],
         "x0": " ",
         "xaxis": "x",
         "y": [
          "3.19B",
          "4.16B"
         ],
         "y0": " ",
         "yaxis": "y"
        },
        {
         "alignmentgroup": "True",
         "hovertemplate": "CATEGORY=%{x}<br>VIEWS=%{y}<extra></extra>",
         "legendgroup": " Charity/Non-profit     ",
         "marker": {
          "color": "#FF6692"
         },
         "name": " Charity/Non-profit     ",
         "notched": false,
         "offsetgroup": " Charity/Non-profit     ",
         "orientation": "v",
         "showlegend": true,
         "type": "box",
         "x": [
          " Charity/Non-profit     "
         ],
         "x0": " ",
         "xaxis": "x",
         "y": [
          "16.07B"
         ],
         "y0": " ",
         "yaxis": "y"
        },
        {
         "alignmentgroup": "True",
         "hovertemplate": "CATEGORY=%{x}<br>VIEWS=%{y}<extra></extra>",
         "legendgroup": " Politics               ",
         "marker": {
          "color": "#B6E880"
         },
         "name": " Politics               ",
         "notched": false,
         "offsetgroup": " Politics               ",
         "orientation": "v",
         "showlegend": true,
         "type": "box",
         "x": [
          " Politics               "
         ],
         "x0": " ",
         "xaxis": "x",
         "y": [
          "9.44B"
         ],
         "y0": " ",
         "yaxis": "y"
        },
        {
         "alignmentgroup": "True",
         "hovertemplate": "CATEGORY=%{x}<br>VIEWS=%{y}<extra></extra>",
         "legendgroup": " Technology             ",
         "marker": {
          "color": "#FF97FF"
         },
         "name": " Technology             ",
         "notched": false,
         "offsetgroup": " Technology             ",
         "orientation": "v",
         "showlegend": true,
         "type": "box",
         "x": [
          " Technology             ",
          " Technology             "
         ],
         "x0": " ",
         "xaxis": "x",
         "y": [
          "6.02B",
          "11.5B"
         ],
         "y0": " ",
         "yaxis": "y"
        },
        {
         "alignmentgroup": "True",
         "hovertemplate": "CATEGORY=%{x}<br>VIEWS=%{y}<extra></extra>",
         "legendgroup": " DIY                    ",
         "marker": {
          "color": "#FECB52"
         },
         "name": " DIY                    ",
         "notched": false,
         "offsetgroup": " DIY                    ",
         "orientation": "v",
         "showlegend": true,
         "type": "box",
         "x": [
          " DIY                    ",
          " DIY                    "
         ],
         "x0": " ",
         "xaxis": "x",
         "y": [
          "16.58B",
          "1.91B"
         ],
         "y0": " ",
         "yaxis": "y"
        },
        {
         "alignmentgroup": "True",
         "hovertemplate": "CATEGORY=%{x}<br>VIEWS=%{y}<extra></extra>",
         "legendgroup": " Music                 ",
         "marker": {
          "color": "#636efa"
         },
         "name": " Music                 ",
         "notched": false,
         "offsetgroup": " Music                 ",
         "orientation": "v",
         "showlegend": true,
         "type": "box",
         "x": [
          " Music                 "
         ],
         "x0": " ",
         "xaxis": "x",
         "y": [
          "15.9B"
         ],
         "y0": " ",
         "yaxis": "y"
        },
        {
         "alignmentgroup": "True",
         "hovertemplate": "CATEGORY=%{x}<br>VIEWS=%{y}<extra></extra>",
         "legendgroup": " Sports                 ",
         "marker": {
          "color": "#EF553B"
         },
         "name": " Sports                 ",
         "notched": false,
         "offsetgroup": " Sports                 ",
         "orientation": "v",
         "showlegend": true,
         "type": "box",
         "x": [
          " Sports                 ",
          " Sports                 "
         ],
         "x0": " ",
         "xaxis": "x",
         "y": [
          "14.69B",
          "9.46B"
         ],
         "y0": " ",
         "yaxis": "y"
        },
        {
         "alignmentgroup": "True",
         "hovertemplate": "CATEGORY=%{x}<br>VIEWS=%{y}<extra></extra>",
         "legendgroup": " Arab Games Network ",
         "marker": {
          "color": "#00cc96"
         },
         "name": " Arab Games Network ",
         "notched": false,
         "offsetgroup": " Arab Games Network ",
         "orientation": "v",
         "showlegend": true,
         "type": "box",
         "x": [
          " Arab Games Network "
         ],
         "x0": " ",
         "xaxis": "x",
         "y": [
          "10.12B"
         ],
         "y0": " ",
         "yaxis": "y"
        }
       ],
       "layout": {
        "boxmode": "overlay",
        "legend": {
         "title": {
          "text": "CATEGORY"
         },
         "tracegroupgap": 0
        },
        "template": {
         "data": {
          "bar": [
           {
            "error_x": {
             "color": "#2a3f5f"
            },
            "error_y": {
             "color": "#2a3f5f"
            },
            "marker": {
             "line": {
              "color": "#E5ECF6",
              "width": 0.5
             },
             "pattern": {
              "fillmode": "overlay",
              "size": 10,
              "solidity": 0.2
             }
            },
            "type": "bar"
           }
          ],
          "barpolar": [
           {
            "marker": {
             "line": {
              "color": "#E5ECF6",
              "width": 0.5
             },
             "pattern": {
              "fillmode": "overlay",
              "size": 10,
              "solidity": 0.2
             }
            },
            "type": "barpolar"
           }
          ],
          "carpet": [
           {
            "aaxis": {
             "endlinecolor": "#2a3f5f",
             "gridcolor": "white",
             "linecolor": "white",
             "minorgridcolor": "white",
             "startlinecolor": "#2a3f5f"
            },
            "baxis": {
             "endlinecolor": "#2a3f5f",
             "gridcolor": "white",
             "linecolor": "white",
             "minorgridcolor": "white",
             "startlinecolor": "#2a3f5f"
            },
            "type": "carpet"
           }
          ],
          "choropleth": [
           {
            "colorbar": {
             "outlinewidth": 0,
             "ticks": ""
            },
            "type": "choropleth"
           }
          ],
          "contour": [
           {
            "colorbar": {
             "outlinewidth": 0,
             "ticks": ""
            },
            "colorscale": [
             [
              0,
              "#0d0887"
             ],
             [
              0.1111111111111111,
              "#46039f"
             ],
             [
              0.2222222222222222,
              "#7201a8"
             ],
             [
              0.3333333333333333,
              "#9c179e"
             ],
             [
              0.4444444444444444,
              "#bd3786"
             ],
             [
              0.5555555555555556,
              "#d8576b"
             ],
             [
              0.6666666666666666,
              "#ed7953"
             ],
             [
              0.7777777777777778,
              "#fb9f3a"
             ],
             [
              0.8888888888888888,
              "#fdca26"
             ],
             [
              1,
              "#f0f921"
             ]
            ],
            "type": "contour"
           }
          ],
          "contourcarpet": [
           {
            "colorbar": {
             "outlinewidth": 0,
             "ticks": ""
            },
            "type": "contourcarpet"
           }
          ],
          "heatmap": [
           {
            "colorbar": {
             "outlinewidth": 0,
             "ticks": ""
            },
            "colorscale": [
             [
              0,
              "#0d0887"
             ],
             [
              0.1111111111111111,
              "#46039f"
             ],
             [
              0.2222222222222222,
              "#7201a8"
             ],
             [
              0.3333333333333333,
              "#9c179e"
             ],
             [
              0.4444444444444444,
              "#bd3786"
             ],
             [
              0.5555555555555556,
              "#d8576b"
             ],
             [
              0.6666666666666666,
              "#ed7953"
             ],
             [
              0.7777777777777778,
              "#fb9f3a"
             ],
             [
              0.8888888888888888,
              "#fdca26"
             ],
             [
              1,
              "#f0f921"
             ]
            ],
            "type": "heatmap"
           }
          ],
          "heatmapgl": [
           {
            "colorbar": {
             "outlinewidth": 0,
             "ticks": ""
            },
            "colorscale": [
             [
              0,
              "#0d0887"
             ],
             [
              0.1111111111111111,
              "#46039f"
             ],
             [
              0.2222222222222222,
              "#7201a8"
             ],
             [
              0.3333333333333333,
              "#9c179e"
             ],
             [
              0.4444444444444444,
              "#bd3786"
             ],
             [
              0.5555555555555556,
              "#d8576b"
             ],
             [
              0.6666666666666666,
              "#ed7953"
             ],
             [
              0.7777777777777778,
              "#fb9f3a"
             ],
             [
              0.8888888888888888,
              "#fdca26"
             ],
             [
              1,
              "#f0f921"
             ]
            ],
            "type": "heatmapgl"
           }
          ],
          "histogram": [
           {
            "marker": {
             "pattern": {
              "fillmode": "overlay",
              "size": 10,
              "solidity": 0.2
             }
            },
            "type": "histogram"
           }
          ],
          "histogram2d": [
           {
            "colorbar": {
             "outlinewidth": 0,
             "ticks": ""
            },
            "colorscale": [
             [
              0,
              "#0d0887"
             ],
             [
              0.1111111111111111,
              "#46039f"
             ],
             [
              0.2222222222222222,
              "#7201a8"
             ],
             [
              0.3333333333333333,
              "#9c179e"
             ],
             [
              0.4444444444444444,
              "#bd3786"
             ],
             [
              0.5555555555555556,
              "#d8576b"
             ],
             [
              0.6666666666666666,
              "#ed7953"
             ],
             [
              0.7777777777777778,
              "#fb9f3a"
             ],
             [
              0.8888888888888888,
              "#fdca26"
             ],
             [
              1,
              "#f0f921"
             ]
            ],
            "type": "histogram2d"
           }
          ],
          "histogram2dcontour": [
           {
            "colorbar": {
             "outlinewidth": 0,
             "ticks": ""
            },
            "colorscale": [
             [
              0,
              "#0d0887"
             ],
             [
              0.1111111111111111,
              "#46039f"
             ],
             [
              0.2222222222222222,
              "#7201a8"
             ],
             [
              0.3333333333333333,
              "#9c179e"
             ],
             [
              0.4444444444444444,
              "#bd3786"
             ],
             [
              0.5555555555555556,
              "#d8576b"
             ],
             [
              0.6666666666666666,
              "#ed7953"
             ],
             [
              0.7777777777777778,
              "#fb9f3a"
             ],
             [
              0.8888888888888888,
              "#fdca26"
             ],
             [
              1,
              "#f0f921"
             ]
            ],
            "type": "histogram2dcontour"
           }
          ],
          "mesh3d": [
           {
            "colorbar": {
             "outlinewidth": 0,
             "ticks": ""
            },
            "type": "mesh3d"
           }
          ],
          "parcoords": [
           {
            "line": {
             "colorbar": {
              "outlinewidth": 0,
              "ticks": ""
             }
            },
            "type": "parcoords"
           }
          ],
          "pie": [
           {
            "automargin": true,
            "type": "pie"
           }
          ],
          "scatter": [
           {
            "fillpattern": {
             "fillmode": "overlay",
             "size": 10,
             "solidity": 0.2
            },
            "type": "scatter"
           }
          ],
          "scatter3d": [
           {
            "line": {
             "colorbar": {
              "outlinewidth": 0,
              "ticks": ""
             }
            },
            "marker": {
             "colorbar": {
              "outlinewidth": 0,
              "ticks": ""
             }
            },
            "type": "scatter3d"
           }
          ],
          "scattercarpet": [
           {
            "marker": {
             "colorbar": {
              "outlinewidth": 0,
              "ticks": ""
             }
            },
            "type": "scattercarpet"
           }
          ],
          "scattergeo": [
           {
            "marker": {
             "colorbar": {
              "outlinewidth": 0,
              "ticks": ""
             }
            },
            "type": "scattergeo"
           }
          ],
          "scattergl": [
           {
            "marker": {
             "colorbar": {
              "outlinewidth": 0,
              "ticks": ""
             }
            },
            "type": "scattergl"
           }
          ],
          "scattermapbox": [
           {
            "marker": {
             "colorbar": {
              "outlinewidth": 0,
              "ticks": ""
             }
            },
            "type": "scattermapbox"
           }
          ],
          "scatterpolar": [
           {
            "marker": {
             "colorbar": {
              "outlinewidth": 0,
              "ticks": ""
             }
            },
            "type": "scatterpolar"
           }
          ],
          "scatterpolargl": [
           {
            "marker": {
             "colorbar": {
              "outlinewidth": 0,
              "ticks": ""
             }
            },
            "type": "scatterpolargl"
           }
          ],
          "scatterternary": [
           {
            "marker": {
             "colorbar": {
              "outlinewidth": 0,
              "ticks": ""
             }
            },
            "type": "scatterternary"
           }
          ],
          "surface": [
           {
            "colorbar": {
             "outlinewidth": 0,
             "ticks": ""
            },
            "colorscale": [
             [
              0,
              "#0d0887"
             ],
             [
              0.1111111111111111,
              "#46039f"
             ],
             [
              0.2222222222222222,
              "#7201a8"
             ],
             [
              0.3333333333333333,
              "#9c179e"
             ],
             [
              0.4444444444444444,
              "#bd3786"
             ],
             [
              0.5555555555555556,
              "#d8576b"
             ],
             [
              0.6666666666666666,
              "#ed7953"
             ],
             [
              0.7777777777777778,
              "#fb9f3a"
             ],
             [
              0.8888888888888888,
              "#fdca26"
             ],
             [
              1,
              "#f0f921"
             ]
            ],
            "type": "surface"
           }
          ],
          "table": [
           {
            "cells": {
             "fill": {
              "color": "#EBF0F8"
             },
             "line": {
              "color": "white"
             }
            },
            "header": {
             "fill": {
              "color": "#C8D4E3"
             },
             "line": {
              "color": "white"
             }
            },
            "type": "table"
           }
          ]
         },
         "layout": {
          "annotationdefaults": {
           "arrowcolor": "#2a3f5f",
           "arrowhead": 0,
           "arrowwidth": 1
          },
          "autotypenumbers": "strict",
          "coloraxis": {
           "colorbar": {
            "outlinewidth": 0,
            "ticks": ""
           }
          },
          "colorscale": {
           "diverging": [
            [
             0,
             "#8e0152"
            ],
            [
             0.1,
             "#c51b7d"
            ],
            [
             0.2,
             "#de77ae"
            ],
            [
             0.3,
             "#f1b6da"
            ],
            [
             0.4,
             "#fde0ef"
            ],
            [
             0.5,
             "#f7f7f7"
            ],
            [
             0.6,
             "#e6f5d0"
            ],
            [
             0.7,
             "#b8e186"
            ],
            [
             0.8,
             "#7fbc41"
            ],
            [
             0.9,
             "#4d9221"
            ],
            [
             1,
             "#276419"
            ]
           ],
           "sequential": [
            [
             0,
             "#0d0887"
            ],
            [
             0.1111111111111111,
             "#46039f"
            ],
            [
             0.2222222222222222,
             "#7201a8"
            ],
            [
             0.3333333333333333,
             "#9c179e"
            ],
            [
             0.4444444444444444,
             "#bd3786"
            ],
            [
             0.5555555555555556,
             "#d8576b"
            ],
            [
             0.6666666666666666,
             "#ed7953"
            ],
            [
             0.7777777777777778,
             "#fb9f3a"
            ],
            [
             0.8888888888888888,
             "#fdca26"
            ],
            [
             1,
             "#f0f921"
            ]
           ],
           "sequentialminus": [
            [
             0,
             "#0d0887"
            ],
            [
             0.1111111111111111,
             "#46039f"
            ],
            [
             0.2222222222222222,
             "#7201a8"
            ],
            [
             0.3333333333333333,
             "#9c179e"
            ],
            [
             0.4444444444444444,
             "#bd3786"
            ],
            [
             0.5555555555555556,
             "#d8576b"
            ],
            [
             0.6666666666666666,
             "#ed7953"
            ],
            [
             0.7777777777777778,
             "#fb9f3a"
            ],
            [
             0.8888888888888888,
             "#fdca26"
            ],
            [
             1,
             "#f0f921"
            ]
           ]
          },
          "colorway": [
           "#636efa",
           "#EF553B",
           "#00cc96",
           "#ab63fa",
           "#FFA15A",
           "#19d3f3",
           "#FF6692",
           "#B6E880",
           "#FF97FF",
           "#FECB52"
          ],
          "font": {
           "color": "#2a3f5f"
          },
          "geo": {
           "bgcolor": "white",
           "lakecolor": "white",
           "landcolor": "#E5ECF6",
           "showlakes": true,
           "showland": true,
           "subunitcolor": "white"
          },
          "hoverlabel": {
           "align": "left"
          },
          "hovermode": "closest",
          "mapbox": {
           "style": "light"
          },
          "paper_bgcolor": "white",
          "plot_bgcolor": "#E5ECF6",
          "polar": {
           "angularaxis": {
            "gridcolor": "white",
            "linecolor": "white",
            "ticks": ""
           },
           "bgcolor": "#E5ECF6",
           "radialaxis": {
            "gridcolor": "white",
            "linecolor": "white",
            "ticks": ""
           }
          },
          "scene": {
           "xaxis": {
            "backgroundcolor": "#E5ECF6",
            "gridcolor": "white",
            "gridwidth": 2,
            "linecolor": "white",
            "showbackground": true,
            "ticks": "",
            "zerolinecolor": "white"
           },
           "yaxis": {
            "backgroundcolor": "#E5ECF6",
            "gridcolor": "white",
            "gridwidth": 2,
            "linecolor": "white",
            "showbackground": true,
            "ticks": "",
            "zerolinecolor": "white"
           },
           "zaxis": {
            "backgroundcolor": "#E5ECF6",
            "gridcolor": "white",
            "gridwidth": 2,
            "linecolor": "white",
            "showbackground": true,
            "ticks": "",
            "zerolinecolor": "white"
           }
          },
          "shapedefaults": {
           "line": {
            "color": "#2a3f5f"
           }
          },
          "ternary": {
           "aaxis": {
            "gridcolor": "white",
            "linecolor": "white",
            "ticks": ""
           },
           "baxis": {
            "gridcolor": "white",
            "linecolor": "white",
            "ticks": ""
           },
           "bgcolor": "#E5ECF6",
           "caxis": {
            "gridcolor": "white",
            "linecolor": "white",
            "ticks": ""
           }
          },
          "title": {
           "x": 0.05
          },
          "xaxis": {
           "automargin": true,
           "gridcolor": "white",
           "linecolor": "white",
           "ticks": "",
           "title": {
            "standoff": 15
           },
           "zerolinecolor": "white",
           "zerolinewidth": 2
          },
          "yaxis": {
           "automargin": true,
           "gridcolor": "white",
           "linecolor": "white",
           "ticks": "",
           "title": {
            "standoff": 15
           },
           "zerolinecolor": "white",
           "zerolinewidth": 2
          }
         }
        },
        "title": {
         "text": "YouTube Video Categories by Views"
        },
        "xaxis": {
         "anchor": "y",
         "categoryarray": [
          " Entertainment          ",
          " Music                  ",
          " Kids                   ",
          " Sports/Entertainment   ",
          " Movies                 ",
          " DIY/Education          ",
          " Kids                ",
          " News                   ",
          " Kids          ",
          " Kids            ",
          " Education              ",
          " Gaming/Entertainment   ",
          " Education          ",
          " Travel/Entertainment   ",
          " Animation              ",
          " Gaming                 ",
          " Kids             ",
          " Kids           ",
          " Platform               ",
          null,
          " toyoraljanahtv ",
          " Kids               ",
          " Fitness/Health         ",
          " Kids         ",
          " Food                   ",
          " Beauty/Lifestyle       ",
          " Charity/Non-profit     ",
          " Politics               ",
          " Technology             ",
          " DIY                    ",
          " Music                 ",
          " Sports                 ",
          " Arab Games Network "
         ],
         "categoryorder": "array",
         "domain": [
          0,
          1
         ],
         "title": {
          "text": "CATEGORY"
         }
        },
        "yaxis": {
         "anchor": "x",
         "domain": [
          0,
          1
         ],
         "title": {
          "text": "VIEWS"
         }
        }
       }
      }
     },
     "metadata": {},
     "output_type": "display_data"
    }
   ],
   "source": [
    "# Create the bar chart with size and color\n",
    "fig = px.box(df, x='CATEGORY', y='VIEWS', color='CATEGORY' ,title='YouTube Video Categories by Views')\n",
    "# Save the plot:\n",
    "fig.write_html('./Plots/Box Chart.html')\n",
    "# # Display the chart\n",
    "fig.show()"
   ]
  },
  {
   "cell_type": "code",
   "execution_count": 111,
   "metadata": {},
   "outputs": [
    {
     "data": {
      "application/vnd.plotly.v1+json": {
       "config": {
        "plotlyServerURL": "https://plot.ly"
       },
       "data": [
        {
         "alignmentgroup": "True",
         "box": {
          "visible": false
         },
         "hovertemplate": "CATEGORY=%{x}<br>VIEWS=%{y}<extra></extra>",
         "legendgroup": " Entertainment          ",
         "marker": {
          "color": "#636efa"
         },
         "name": " Entertainment          ",
         "offsetgroup": " Entertainment          ",
         "orientation": "v",
         "scalegroup": "True",
         "showlegend": true,
         "type": "violin",
         "x": [
          " Entertainment          ",
          " Entertainment          ",
          " Entertainment          ",
          " Entertainment          ",
          " Entertainment          ",
          " Entertainment          ",
          " Entertainment          ",
          " Entertainment          ",
          " Entertainment          ",
          " Entertainment          ",
          " Entertainment          ",
          " Entertainment          ",
          " Entertainment          ",
          " Entertainment          ",
          " Entertainment          ",
          " Entertainment          ",
          " Entertainment          ",
          " Entertainment          ",
          " Entertainment          ",
          " Entertainment          ",
          " Entertainment          ",
          " Entertainment          ",
          " Entertainment          ",
          " Entertainment          ",
          " Entertainment          ",
          " Entertainment          ",
          " Entertainment          ",
          " Entertainment          ",
          " Entertainment          ",
          " Entertainment          ",
          " Entertainment          ",
          " Entertainment          ",
          " Entertainment          ",
          " Entertainment          ",
          " Entertainment          ",
          " Entertainment          ",
          " Entertainment          ",
          " Entertainment          ",
          " Entertainment          ",
          " Entertainment          ",
          " Entertainment          ",
          " Entertainment          ",
          " Entertainment          ",
          " Entertainment          ",
          " Entertainment          ",
          " Entertainment          ",
          " Entertainment          ",
          " Entertainment          ",
          " Entertainment          ",
          " Entertainment          ",
          " Entertainment          ",
          " Entertainment          ",
          " Entertainment          ",
          " Entertainment          ",
          " Entertainment          ",
          " Entertainment          ",
          " Entertainment          ",
          " Entertainment          ",
          " Entertainment          ",
          " Entertainment          ",
          " Entertainment          ",
          " Entertainment          ",
          " Entertainment          ",
          " Entertainment          ",
          " Entertainment          ",
          " Entertainment          ",
          " Entertainment          ",
          " Entertainment          ",
          " Entertainment          ",
          " Entertainment          ",
          " Entertainment          ",
          " Entertainment          ",
          " Entertainment          ",
          " Entertainment          ",
          " Entertainment          ",
          " Entertainment          ",
          " Entertainment          ",
          " Entertainment          ",
          " Entertainment          ",
          " Entertainment          ",
          " Entertainment          ",
          " Entertainment          ",
          " Entertainment          ",
          " Entertainment          ",
          " Entertainment          ",
          " Entertainment          ",
          " Entertainment          ",
          " Entertainment          ",
          " Entertainment          ",
          " Entertainment          ",
          " Entertainment          ",
          " Entertainment          ",
          " Entertainment          ",
          " Entertainment          ",
          " Entertainment          ",
          " Entertainment          ",
          " Entertainment          ",
          " Entertainment          ",
          " Entertainment          ",
          " Entertainment          ",
          " Entertainment          ",
          " Entertainment          ",
          " Entertainment          ",
          " Entertainment          ",
          " Entertainment          ",
          " Entertainment          ",
          " Entertainment          ",
          " Entertainment          ",
          " Entertainment          ",
          " Entertainment          ",
          " Entertainment          ",
          " Entertainment          ",
          " Entertainment          ",
          " Entertainment          ",
          " Entertainment          ",
          " Entertainment          ",
          " Entertainment          ",
          " Entertainment          ",
          " Entertainment          ",
          " Entertainment          ",
          " Entertainment          ",
          " Entertainment          ",
          " Entertainment          ",
          " Entertainment          ",
          " Entertainment          ",
          " Entertainment          ",
          " Entertainment          ",
          " Entertainment          ",
          " Entertainment          ",
          " Entertainment          ",
          " Entertainment          ",
          " Entertainment          ",
          " Entertainment          ",
          " Entertainment          ",
          " Entertainment          ",
          " Entertainment          ",
          " Entertainment          ",
          " Entertainment          ",
          " Entertainment          ",
          " Entertainment          ",
          " Entertainment          ",
          " Entertainment          ",
          " Entertainment          ",
          " Entertainment          ",
          " Entertainment          ",
          " Entertainment          ",
          " Entertainment          ",
          " Entertainment          ",
          " Entertainment          ",
          " Entertainment          ",
          " Entertainment          ",
          " Entertainment          ",
          " Entertainment          ",
          " Entertainment          ",
          " Entertainment          ",
          " Entertainment          ",
          " Entertainment          ",
          " Entertainment          ",
          " Entertainment          ",
          " Entertainment          ",
          " Entertainment          ",
          " Entertainment          ",
          " Entertainment          ",
          " Entertainment          ",
          " Entertainment          ",
          " Entertainment          ",
          " Entertainment          ",
          " Entertainment          ",
          " Entertainment          ",
          " Entertainment          ",
          " Entertainment          ",
          " Entertainment          ",
          " Entertainment          ",
          " Entertainment          ",
          " Entertainment          ",
          " Entertainment          ",
          " Entertainment          ",
          " Entertainment          ",
          " Entertainment          ",
          " Entertainment          ",
          " Entertainment          ",
          " Entertainment          ",
          " Entertainment          ",
          " Entertainment          ",
          " Entertainment          ",
          " Entertainment          "
         ],
         "x0": " ",
         "xaxis": "x",
         "y": [
          "50.98B",
          "164.71B",
          "29.31B",
          "115.24B",
          "89.41B",
          "70.94B",
          "9.28B",
          "26.05B",
          "28.7B",
          "53.63B",
          "51.02B",
          "24.22B",
          "14.16B",
          "18.53B",
          "39.21B",
          "2.65B",
          "54.86B",
          "22.8B",
          "10.6B",
          "17.67B",
          "19.29B",
          "26.8B",
          "4.51B",
          "4.89B",
          "20.45B",
          "32.75B",
          "19.56B",
          "24.95B",
          "28.12B",
          "3.03B",
          "17.34B",
          "28.29B",
          "7.45B",
          "7B",
          "24.37B",
          "12.1B",
          "9.31B",
          "43.11B",
          "21.03B",
          "24.1B",
          "19.09B",
          "23.88B",
          "16.56B",
          "21.71B",
          "21.2B",
          "13.72B",
          "27.43B",
          "14.32B",
          "25.06B",
          "24B",
          "17.72B",
          "13.72B",
          "13.06B",
          "6.07B",
          "3.78B",
          "22.77B",
          "13.46B",
          "18.66B",
          "22.29B",
          "12.62B",
          "23.4B",
          "8.92B",
          "18.71B",
          "16.21B",
          "19.71B",
          "17.63B",
          "12.73B",
          "28.95B",
          "27.79B",
          "5.17B",
          "15.6B",
          "8.46B",
          "17.07B",
          "20.73B",
          "13.77B",
          "5.99B",
          "10B",
          "37.99B",
          "16.03B",
          "8.94B",
          "4.76B",
          "13.71B",
          "26.99B",
          "14.64B",
          "12.47B",
          "25.41B",
          "11.95B",
          "14.13B",
          "10.13B",
          "8.5B",
          "9.46B",
          "9.37B",
          "12.6B",
          "6.91B",
          "28.96B",
          "12.84B",
          "10.7B",
          "12.51B",
          "7.94B",
          "21.05B",
          "19.49B",
          "17.37B",
          "12.86B",
          "9.91B",
          "6.53B",
          "19.06B",
          "5.38B",
          "7.32B",
          "6.81B",
          "18.21B",
          "9.12B",
          "8.69B",
          "6.1B",
          "3B",
          "12.14B",
          "11.27B",
          "61.01B",
          "9.89B",
          "3.19B",
          "12.96B",
          "11.73B",
          "2.72B",
          "22.63B",
          "8.66B",
          "7.49B",
          "2.47B",
          "5.58B",
          "4.69B",
          "22.22B",
          "11.9B",
          "4.38B",
          "2.67B",
          "15.2B",
          "15.07B",
          "13.18B",
          "6.01B",
          "24.93B",
          "14.7B",
          "9.99B",
          "6.35B",
          "9.95B",
          "8.03B",
          "17.41B",
          "10.43B",
          "5.68B",
          "20.72B",
          "6.03B",
          "20.51B",
          "11.55B",
          "13.83B",
          "16.96B",
          "14.12B",
          "9.34B",
          "4.04B",
          "6.84B",
          "23.49B",
          "19.28B",
          "11.29B",
          "11.2B",
          "9.15B",
          "16.36B",
          "6.45B",
          "8.81B",
          "5.14B",
          "4.87B",
          "4.66B",
          "15.1B",
          "8.46B",
          "6.21B",
          "16.33B",
          "14.51B",
          "6.52B",
          "4.4B",
          "4.07B",
          "12.11B",
          "9.7B",
          "5B",
          "4.63B",
          "3.56B",
          "2.73B",
          "2.64B",
          "15.8B",
          "14.38B",
          "3.2B",
          "7.63B",
          "6.01B"
         ],
         "y0": " ",
         "yaxis": "y"
        },
        {
         "alignmentgroup": "True",
         "box": {
          "visible": false
         },
         "hovertemplate": "CATEGORY=%{x}<br>VIEWS=%{y}<extra></extra>",
         "legendgroup": " Music                  ",
         "marker": {
          "color": "#EF553B"
         },
         "name": " Music                  ",
         "offsetgroup": " Music                  ",
         "orientation": "v",
         "scalegroup": "True",
         "showlegend": true,
         "type": "violin",
         "x": [
          " Music                  ",
          " Music                  ",
          " Music                  ",
          " Music                  ",
          " Music                  ",
          " Music                  ",
          " Music                  ",
          " Music                  ",
          " Music                  ",
          " Music                  ",
          " Music                  ",
          " Music                  ",
          " Music                  ",
          " Music                  ",
          " Music                  ",
          " Music                  ",
          " Music                  ",
          " Music                  ",
          " Music                  ",
          " Music                  ",
          " Music                  ",
          " Music                  ",
          " Music                  ",
          " Music                  ",
          " Music                  ",
          " Music                  ",
          " Music                  ",
          " Music                  ",
          " Music                  ",
          " Music                  ",
          " Music                  ",
          " Music                  ",
          " Music                  ",
          " Music                  ",
          " Music                  ",
          " Music                  ",
          " Music                  ",
          " Music                  ",
          " Music                  ",
          " Music                  ",
          " Music                  ",
          " Music                  ",
          " Music                  ",
          " Music                  ",
          " Music                  ",
          " Music                  ",
          " Music                  ",
          " Music                  ",
          " Music                  ",
          " Music                  ",
          " Music                  ",
          " Music                  ",
          " Music                  ",
          " Music                  ",
          " Music                  ",
          " Music                  ",
          " Music                  ",
          " Music                  ",
          " Music                  ",
          " Music                  ",
          " Music                  ",
          " Music                  ",
          " Music                  ",
          " Music                  ",
          " Music                  ",
          " Music                  ",
          " Music                  ",
          " Music                  ",
          " Music                  ",
          " Music                  ",
          " Music                  ",
          " Music                  ",
          " Music                  ",
          " Music                  ",
          " Music                  ",
          " Music                  ",
          " Music                  ",
          " Music                  ",
          " Music                  ",
          " Music                  ",
          " Music                  ",
          " Music                  ",
          " Music                  ",
          " Music                  ",
          " Music                  ",
          " Music                  ",
          " Music                  ",
          " Music                  ",
          " Music                  ",
          " Music                  ",
          " Music                  ",
          " Music                  ",
          " Music                  ",
          " Music                  ",
          " Music                  ",
          " Music                  ",
          " Music                  ",
          " Music                  ",
          " Music                  ",
          " Music                  ",
          " Music                  ",
          " Music                  ",
          " Music                  ",
          " Music                  ",
          " Music                  ",
          " Music                  ",
          " Music                  ",
          " Music                  ",
          " Music                  ",
          " Music                  ",
          " Music                  "
         ],
         "x0": " ",
         "xaxis": "x",
         "y": [
          "257.16B",
          "66.84B",
          "36.02B",
          "22.97B",
          "34.26B",
          "32.31B",
          "29.3B",
          "34.04B",
          "38.29B",
          "38.83B",
          "42.76B",
          "31.93B",
          "29.73B",
          "41.11B",
          "35.44B",
          "15.74B",
          "32.44B",
          "26.21B",
          "15.72B",
          "32.93B",
          "40.38B",
          "19.75B",
          "30.35B",
          "14.12B",
          "8.11B",
          "39.1B",
          "17.05B",
          "7.34B",
          "4.21B",
          "7.88B",
          "21.55B",
          "11.76B",
          "33.12B",
          "13B",
          "23.15B",
          "30.01B",
          "57.67B",
          "16.42B",
          "28.69B",
          "25.89B",
          "37.65B",
          "22.81B",
          "31.98B",
          "18.11B",
          "14B",
          "20.45B",
          "15.79B",
          "10.61B",
          "11.12B",
          "3.42B",
          "19.17B",
          "29.45B",
          "17.21B",
          "15.79B",
          "9.75B",
          "25.04B",
          "12.54B",
          "16.77B",
          "7.79B",
          "17.01B",
          "18.97B",
          "38.77B",
          "23.94B",
          "17.89B",
          "27.35B",
          "2.43B",
          "28.22B",
          "18.76B",
          "17.97B",
          "12.72B",
          "11.26B",
          "17.2B",
          "19.04B",
          "10.8B",
          "4.97B",
          "9.42B",
          "11.2B",
          "28.31B",
          "11.14B",
          "7.33B",
          "8.06B",
          "2.59B",
          "22.01B",
          "15.62B",
          "12.4B",
          "24.65B",
          "797.36M",
          "9.02B",
          "40.34B",
          "29.44B",
          "11.13B",
          "6.81B",
          "23.92B",
          "13.31B",
          "15.09B",
          "3.68B",
          "9.12B",
          "15.02B",
          "8.64B",
          "10.81B",
          "9.24B",
          "6.35B",
          "14.06B",
          "14.09B",
          "4.11B",
          "12.63B",
          "18.08B",
          "9.9B",
          "25.78B",
          "11.01B",
          "1.91B"
         ],
         "y0": " ",
         "yaxis": "y"
        },
        {
         "alignmentgroup": "True",
         "box": {
          "visible": false
         },
         "hovertemplate": "CATEGORY=%{x}<br>VIEWS=%{y}<extra></extra>",
         "legendgroup": " Kids                   ",
         "marker": {
          "color": "#00cc96"
         },
         "name": " Kids                   ",
         "offsetgroup": " Kids                   ",
         "orientation": "v",
         "scalegroup": "True",
         "showlegend": true,
         "type": "violin",
         "x": [
          " Kids                   ",
          " Kids                   ",
          " Kids                   ",
          " Kids                   ",
          " Kids                   ",
          " Kids                   ",
          " Kids                   ",
          " Kids                   ",
          " Kids                   ",
          " Kids                   ",
          " Kids                   ",
          " Kids                   ",
          " Kids                   ",
          " Kids                   ",
          " Kids                   ",
          " Kids                   ",
          " Kids                   ",
          " Kids                   ",
          " Kids                   ",
          " Kids                   ",
          " Kids                   ",
          " Kids                   ",
          " Kids                   ",
          " Kids                   ",
          " Kids                   ",
          " Kids                   ",
          " Kids                   ",
          " Kids                   ",
          " Kids                   ",
          " Kids                   ",
          " Kids                   ",
          " Kids                   ",
          " Kids                   ",
          " Kids                   ",
          " Kids                   ",
          " Kids                   ",
          " Kids                   ",
          " Kids                   ",
          " Kids                   ",
          " Kids                   ",
          " Kids                   ",
          " Kids                   ",
          " Kids                   ",
          " Kids                   ",
          " Kids                   ",
          " Kids                   ",
          " Kids                   ",
          " Kids                   ",
          " Kids                   ",
          " Kids                   ",
          " Kids                   ",
          " Kids                   ",
          " Kids                   ",
          " Kids                   ",
          " Kids                   ",
          " Kids                   ",
          " Kids                   ",
          " Kids                   ",
          " Kids                   ",
          " Kids                   ",
          " Kids                   ",
          " Kids                   ",
          " Kids                   ",
          " Kids                   ",
          " Kids                   ",
          " Kids                   ",
          " Kids                   ",
          " Kids                   "
         ],
         "x0": " ",
         "xaxis": "x",
         "y": [
          "182.88B",
          "103.5B",
          "90.94B",
          "100.9B",
          "51.03B",
          "60.42B",
          "36.12B",
          "65.66B",
          "35.01B",
          "11.15B",
          "27.62B",
          "43.07B",
          "24.34B",
          "9.74B",
          "3.76B",
          "30.66B",
          "16.82B",
          "5.83B",
          "16.93B",
          "21.48B",
          "23.62B",
          "15.58B",
          "21.74B",
          "12.91B",
          "27.37B",
          "19.5B",
          "11.72B",
          "27.35B",
          "3.11B",
          "26.42B",
          "14.45B",
          "12.41B",
          "23.15B",
          "26.33B",
          "22.52B",
          "16.26B",
          "6.56B",
          "3.27B",
          "16.2B",
          "18.79B",
          "19.72B",
          "15.27B",
          "13.42B",
          "8.66B",
          "16.02B",
          "16.85B",
          "25.61B",
          "25.22B",
          "19.06B",
          "14.33B",
          "23.01B",
          "27.12B",
          "17.27B",
          "9.82B",
          "18.2B",
          "9.98B",
          "16.95B",
          "1.39K",
          "13.58B",
          "12.12B",
          "11.42B",
          "5.46B",
          "2.86B",
          "488.84M",
          "10.9B",
          "9.52B",
          "9.38B",
          "4.55B"
         ],
         "y0": " ",
         "yaxis": "y"
        },
        {
         "alignmentgroup": "True",
         "box": {
          "visible": false
         },
         "hovertemplate": "CATEGORY=%{x}<br>VIEWS=%{y}<extra></extra>",
         "legendgroup": " Sports/Entertainment   ",
         "marker": {
          "color": "#ab63fa"
         },
         "name": " Sports/Entertainment   ",
         "offsetgroup": " Sports/Entertainment   ",
         "orientation": "v",
         "scalegroup": "True",
         "showlegend": true,
         "type": "violin",
         "x": [
          " Sports/Entertainment   ",
          " Sports/Entertainment   "
         ],
         "x0": " ",
         "xaxis": "x",
         "y": [
          "84.98B",
          "17.42B"
         ],
         "y0": " ",
         "yaxis": "y"
        },
        {
         "alignmentgroup": "True",
         "box": {
          "visible": false
         },
         "hovertemplate": "CATEGORY=%{x}<br>VIEWS=%{y}<extra></extra>",
         "legendgroup": " Movies                 ",
         "marker": {
          "color": "#FFA15A"
         },
         "name": " Movies                 ",
         "offsetgroup": " Movies                 ",
         "orientation": "v",
         "scalegroup": "True",
         "showlegend": true,
         "type": "violin",
         "x": [
          " Movies                 ",
          " Movies                 ",
          " Movies                 ",
          " Movies                 ",
          " Movies                 ",
          " Movies                 ",
          " Movies                 ",
          " Movies                 ",
          " Movies                 ",
          " Movies                 ",
          " Movies                 ",
          " Movies                 ",
          " Movies                 ",
          " Movies                 "
         ],
         "x0": " ",
         "xaxis": "x",
         "y": [
          "29.04B",
          "62.2B",
          "24.55B",
          "27.61B",
          "11.21B",
          "27.4B",
          "17.34B",
          "17.59B",
          "16.31B",
          "7.95B",
          "8.22B",
          "24.98B",
          "5.72B",
          "6.28B"
         ],
         "y0": " ",
         "yaxis": "y"
        },
        {
         "alignmentgroup": "True",
         "box": {
          "visible": false
         },
         "hovertemplate": "CATEGORY=%{x}<br>VIEWS=%{y}<extra></extra>",
         "legendgroup": " DIY/Education          ",
         "marker": {
          "color": "#19d3f3"
         },
         "name": " DIY/Education          ",
         "offsetgroup": " DIY/Education          ",
         "orientation": "v",
         "scalegroup": "True",
         "showlegend": true,
         "type": "violin",
         "x": [
          " DIY/Education          "
         ],
         "x0": " ",
         "xaxis": "x",
         "y": [
          "27.39B"
         ],
         "y0": " ",
         "yaxis": "y"
        },
        {
         "alignmentgroup": "True",
         "box": {
          "visible": false
         },
         "hovertemplate": "CATEGORY=%{x}<br>VIEWS=%{y}<extra></extra>",
         "legendgroup": " Kids                ",
         "marker": {
          "color": "#FF6692"
         },
         "name": " Kids                ",
         "offsetgroup": " Kids                ",
         "orientation": "v",
         "scalegroup": "True",
         "showlegend": true,
         "type": "violin",
         "x": [
          " Kids                ",
          " Kids                "
         ],
         "x0": " ",
         "xaxis": "x",
         "y": [
          "43.81B",
          "15.33B"
         ],
         "y0": " ",
         "yaxis": "y"
        },
        {
         "alignmentgroup": "True",
         "box": {
          "visible": false
         },
         "hovertemplate": "CATEGORY=%{x}<br>VIEWS=%{y}<extra></extra>",
         "legendgroup": " News                   ",
         "marker": {
          "color": "#B6E880"
         },
         "name": " News                   ",
         "offsetgroup": " News                   ",
         "orientation": "v",
         "scalegroup": "True",
         "showlegend": true,
         "type": "violin",
         "x": [
          " News                   ",
          " News                   ",
          " News                   ",
          " News                   ",
          " News                   ",
          " News                   ",
          " News                   ",
          " News                   ",
          " News                   ",
          " News                   ",
          " News                   ",
          " News                   ",
          " News                   ",
          " News                   ",
          " News                   "
         ],
         "x0": " ",
         "xaxis": "x",
         "y": [
          "31.73B",
          "7.86B",
          "50.79B",
          "32.4B",
          "13.71B",
          "8.71B",
          "4.77B",
          "13.55B",
          "10.36B",
          "14.48B",
          "12.16B",
          "4.19B",
          "19.19B",
          "3.88B",
          "2.93B"
         ],
         "y0": " ",
         "yaxis": "y"
        },
        {
         "alignmentgroup": "True",
         "box": {
          "visible": false
         },
         "hovertemplate": "CATEGORY=%{x}<br>VIEWS=%{y}<extra></extra>",
         "legendgroup": " Kids          ",
         "marker": {
          "color": "#FF97FF"
         },
         "name": " Kids          ",
         "offsetgroup": " Kids          ",
         "orientation": "v",
         "scalegroup": "True",
         "showlegend": true,
         "type": "violin",
         "x": [
          " Kids          ",
          " Kids          "
         ],
         "x0": " ",
         "xaxis": "x",
         "y": [
          "34.45B",
          "4.13B"
         ],
         "y0": " ",
         "yaxis": "y"
        },
        {
         "alignmentgroup": "True",
         "box": {
          "visible": false
         },
         "hovertemplate": "CATEGORY=%{x}<br>VIEWS=%{y}<extra></extra>",
         "legendgroup": " Kids            ",
         "marker": {
          "color": "#FECB52"
         },
         "name": " Kids            ",
         "offsetgroup": " Kids            ",
         "orientation": "v",
         "scalegroup": "True",
         "showlegend": true,
         "type": "violin",
         "x": [
          " Kids            "
         ],
         "x0": " ",
         "xaxis": "x",
         "y": [
          "11.6B"
         ],
         "y0": " ",
         "yaxis": "y"
        },
        {
         "alignmentgroup": "True",
         "box": {
          "visible": false
         },
         "hovertemplate": "CATEGORY=%{x}<br>VIEWS=%{y}<extra></extra>",
         "legendgroup": " Education              ",
         "marker": {
          "color": "#636efa"
         },
         "name": " Education              ",
         "offsetgroup": " Education              ",
         "orientation": "v",
         "scalegroup": "True",
         "showlegend": true,
         "type": "violin",
         "x": [
          " Education              ",
          " Education              ",
          " Education              ",
          " Education              ",
          " Education              ",
          " Education              ",
          " Education              ",
          " Education              ",
          " Education              ",
          " Education              ",
          " Education              ",
          " Education              ",
          " Education              ",
          " Education              ",
          " Education              ",
          " Education              ",
          " Education              ",
          " Education              ",
          " Education              "
         ],
         "x0": " ",
         "xaxis": "x",
         "y": [
          "6.32B",
          "7.71B",
          "6.57B",
          "7.54B",
          "15.96B",
          "24.35B",
          "22.54B",
          "19.83B",
          "11.85B",
          "18.81B",
          "2.34B",
          "6.01B",
          "2.78B",
          "20.79B",
          "9.41B",
          "11.65B",
          "6.13B",
          "2.17B",
          "8.28B"
         ],
         "y0": " ",
         "yaxis": "y"
        },
        {
         "alignmentgroup": "True",
         "box": {
          "visible": false
         },
         "hovertemplate": "CATEGORY=%{x}<br>VIEWS=%{y}<extra></extra>",
         "legendgroup": " Gaming/Entertainment   ",
         "marker": {
          "color": "#EF553B"
         },
         "name": " Gaming/Entertainment   ",
         "offsetgroup": " Gaming/Entertainment   ",
         "orientation": "v",
         "scalegroup": "True",
         "showlegend": true,
         "type": "violin",
         "x": [
          " Gaming/Entertainment   ",
          " Gaming/Entertainment   ",
          " Gaming/Entertainment   ",
          " Gaming/Entertainment   ",
          " Gaming/Entertainment   ",
          " Gaming/Entertainment   ",
          " Gaming/Entertainment   ",
          " Gaming/Entertainment   ",
          " Gaming/Entertainment   ",
          " Gaming/Entertainment   ",
          " Gaming/Entertainment   ",
          " Gaming/Entertainment   ",
          " Gaming/Entertainment   ",
          " Gaming/Entertainment   ",
          " Gaming/Entertainment   ",
          " Gaming/Entertainment   ",
          " Gaming/Entertainment   ",
          " Gaming/Entertainment   ",
          " Gaming/Entertainment   ",
          " Gaming/Entertainment   ",
          " Gaming/Entertainment   ",
          " Gaming/Entertainment   ",
          " Gaming/Entertainment   ",
          " Gaming/Entertainment   ",
          " Gaming/Entertainment   ",
          " Gaming/Entertainment   ",
          " Gaming/Entertainment   ",
          " Gaming/Entertainment   ",
          " Gaming/Entertainment   ",
          " Gaming/Entertainment   ",
          " Gaming/Entertainment   ",
          " Gaming/Entertainment   ",
          " Gaming/Entertainment   ",
          " Gaming/Entertainment   ",
          " Gaming/Entertainment   ",
          " Gaming/Entertainment   ",
          " Gaming/Entertainment   "
         ],
         "x0": " ",
         "xaxis": "x",
         "y": [
          "30.91B",
          "15.44B",
          "16.18B",
          "28.4B",
          "28.89B",
          "25.3B",
          "27.61B",
          "40.51B",
          "11.07B",
          "31.12B",
          "14.34B",
          "24.96B",
          "13.92B",
          "16.84B",
          "16.49B",
          "6.98B",
          "17.84B",
          "17.52B",
          "4.75B",
          "2.14B",
          "13.53B",
          "5.23B",
          "10.53B",
          "14.64B",
          "12.88B",
          "16.02B",
          "17.57B",
          "9.87B",
          "17.32B",
          "7.16B",
          "8.87B",
          "12.21B",
          "12.38B",
          "7.25B",
          "11.27B",
          "4.13B",
          "9.23B"
         ],
         "y0": " ",
         "yaxis": "y"
        },
        {
         "alignmentgroup": "True",
         "box": {
          "visible": false
         },
         "hovertemplate": "CATEGORY=%{x}<br>VIEWS=%{y}<extra></extra>",
         "legendgroup": " Education          ",
         "marker": {
          "color": "#00cc96"
         },
         "name": " Education          ",
         "offsetgroup": " Education          ",
         "orientation": "v",
         "scalegroup": "True",
         "showlegend": true,
         "type": "violin",
         "x": [
          " Education          "
         ],
         "x0": " ",
         "xaxis": "x",
         "y": [
          "6.46B"
         ],
         "y0": " ",
         "yaxis": "y"
        },
        {
         "alignmentgroup": "True",
         "box": {
          "visible": false
         },
         "hovertemplate": "CATEGORY=%{x}<br>VIEWS=%{y}<extra></extra>",
         "legendgroup": " Travel/Entertainment   ",
         "marker": {
          "color": "#ab63fa"
         },
         "name": " Travel/Entertainment   ",
         "offsetgroup": " Travel/Entertainment   ",
         "orientation": "v",
         "scalegroup": "True",
         "showlegend": true,
         "type": "violin",
         "x": [
          " Travel/Entertainment   "
         ],
         "x0": " ",
         "xaxis": "x",
         "y": [
          "25.02B"
         ],
         "y0": " ",
         "yaxis": "y"
        },
        {
         "alignmentgroup": "True",
         "box": {
          "visible": false
         },
         "hovertemplate": "CATEGORY=%{x}<br>VIEWS=%{y}<extra></extra>",
         "legendgroup": " Animation              ",
         "marker": {
          "color": "#FFA15A"
         },
         "name": " Animation              ",
         "offsetgroup": " Animation              ",
         "orientation": "v",
         "scalegroup": "True",
         "showlegend": true,
         "type": "violin",
         "x": [
          " Animation              ",
          " Animation              ",
          " Animation              ",
          " Animation              ",
          " Animation              "
         ],
         "x0": " ",
         "xaxis": "x",
         "y": [
          "18.94B",
          "12.6B",
          "22.43B",
          "1.94B",
          "11.87B"
         ],
         "y0": " ",
         "yaxis": "y"
        },
        {
         "alignmentgroup": "True",
         "box": {
          "visible": false
         },
         "hovertemplate": "CATEGORY=%{x}<br>VIEWS=%{y}<extra></extra>",
         "legendgroup": " Gaming                 ",
         "marker": {
          "color": "#19d3f3"
         },
         "name": " Gaming                 ",
         "offsetgroup": " Gaming                 ",
         "orientation": "v",
         "scalegroup": "True",
         "showlegend": true,
         "type": "violin",
         "x": [
          " Gaming                 ",
          " Gaming                 "
         ],
         "x0": " ",
         "xaxis": "x",
         "y": [
          "16.6B",
          "26.49B"
         ],
         "y0": " ",
         "yaxis": "y"
        },
        {
         "alignmentgroup": "True",
         "box": {
          "visible": false
         },
         "hovertemplate": "CATEGORY=%{x}<br>VIEWS=%{y}<extra></extra>",
         "legendgroup": " Kids             ",
         "marker": {
          "color": "#FF6692"
         },
         "name": " Kids             ",
         "offsetgroup": " Kids             ",
         "orientation": "v",
         "scalegroup": "True",
         "showlegend": true,
         "type": "violin",
         "x": [
          " Kids             ",
          " Kids             ",
          " Kids             "
         ],
         "x0": " ",
         "xaxis": "x",
         "y": [
          "20.1B",
          "8.06B",
          "22.28B"
         ],
         "y0": " ",
         "yaxis": "y"
        },
        {
         "alignmentgroup": "True",
         "box": {
          "visible": false
         },
         "hovertemplate": "CATEGORY=%{x}<br>VIEWS=%{y}<extra></extra>",
         "legendgroup": " Kids           ",
         "marker": {
          "color": "#B6E880"
         },
         "name": " Kids           ",
         "offsetgroup": " Kids           ",
         "orientation": "v",
         "scalegroup": "True",
         "showlegend": true,
         "type": "violin",
         "x": [
          " Kids           "
         ],
         "x0": " ",
         "xaxis": "x",
         "y": [
          "38.44B"
         ],
         "y0": " ",
         "yaxis": "y"
        },
        {
         "alignmentgroup": "True",
         "box": {
          "visible": false
         },
         "hovertemplate": "CATEGORY=%{x}<br>VIEWS=%{y}<extra></extra>",
         "legendgroup": " Platform               ",
         "marker": {
          "color": "#FF97FF"
         },
         "name": " Platform               ",
         "offsetgroup": " Platform               ",
         "orientation": "v",
         "scalegroup": "True",
         "showlegend": true,
         "type": "violin",
         "x": [
          " Platform               "
         ],
         "x0": " ",
         "xaxis": "x",
         "y": [
          "39.28B"
         ],
         "y0": " ",
         "yaxis": "y"
        },
        {
         "alignmentgroup": "True",
         "box": {
          "visible": false
         },
         "hovertemplate": "CATEGORY=%{x}<br>VIEWS=%{y}<extra></extra>",
         "legendgroup": " toyoraljanahtv ",
         "marker": {
          "color": "#636efa"
         },
         "name": " toyoraljanahtv ",
         "offsetgroup": " toyoraljanahtv ",
         "orientation": "v",
         "scalegroup": "True",
         "showlegend": true,
         "type": "violin",
         "x": [
          " toyoraljanahtv "
         ],
         "x0": " ",
         "xaxis": "x",
         "y": [
          "5.15B"
         ],
         "y0": " ",
         "yaxis": "y"
        },
        {
         "alignmentgroup": "True",
         "box": {
          "visible": false
         },
         "hovertemplate": "CATEGORY=%{x}<br>VIEWS=%{y}<extra></extra>",
         "legendgroup": " Kids               ",
         "marker": {
          "color": "#EF553B"
         },
         "name": " Kids               ",
         "offsetgroup": " Kids               ",
         "orientation": "v",
         "scalegroup": "True",
         "showlegend": true,
         "type": "violin",
         "x": [
          " Kids               "
         ],
         "x0": " ",
         "xaxis": "x",
         "y": [
          "13.82B"
         ],
         "y0": " ",
         "yaxis": "y"
        },
        {
         "alignmentgroup": "True",
         "box": {
          "visible": false
         },
         "hovertemplate": "CATEGORY=%{x}<br>VIEWS=%{y}<extra></extra>",
         "legendgroup": " Fitness/Health         ",
         "marker": {
          "color": "#00cc96"
         },
         "name": " Fitness/Health         ",
         "offsetgroup": " Fitness/Health         ",
         "orientation": "v",
         "scalegroup": "True",
         "showlegend": true,
         "type": "violin",
         "x": [
          " Fitness/Health         "
         ],
         "x0": " ",
         "xaxis": "x",
         "y": [
          "18.5B"
         ],
         "y0": " ",
         "yaxis": "y"
        },
        {
         "alignmentgroup": "True",
         "box": {
          "visible": false
         },
         "hovertemplate": "CATEGORY=%{x}<br>VIEWS=%{y}<extra></extra>",
         "legendgroup": " Kids         ",
         "marker": {
          "color": "#ab63fa"
         },
         "name": " Kids         ",
         "offsetgroup": " Kids         ",
         "orientation": "v",
         "scalegroup": "True",
         "showlegend": true,
         "type": "violin",
         "x": [
          " Kids         "
         ],
         "x0": " ",
         "xaxis": "x",
         "y": [
          "20.45B"
         ],
         "y0": " ",
         "yaxis": "y"
        },
        {
         "alignmentgroup": "True",
         "box": {
          "visible": false
         },
         "hovertemplate": "CATEGORY=%{x}<br>VIEWS=%{y}<extra></extra>",
         "legendgroup": " Food                   ",
         "marker": {
          "color": "#FFA15A"
         },
         "name": " Food                   ",
         "offsetgroup": " Food                   ",
         "orientation": "v",
         "scalegroup": "True",
         "showlegend": true,
         "type": "violin",
         "x": [
          " Food                   ",
          " Food                   ",
          " Food                   ",
          " Food                   "
         ],
         "x0": " ",
         "xaxis": "x",
         "y": [
          "2.5B",
          "15.25B",
          "8.58B",
          "7.59B"
         ],
         "y0": " ",
         "yaxis": "y"
        },
        {
         "alignmentgroup": "True",
         "box": {
          "visible": false
         },
         "hovertemplate": "CATEGORY=%{x}<br>VIEWS=%{y}<extra></extra>",
         "legendgroup": " Beauty/Lifestyle       ",
         "marker": {
          "color": "#19d3f3"
         },
         "name": " Beauty/Lifestyle       ",
         "offsetgroup": " Beauty/Lifestyle       ",
         "orientation": "v",
         "scalegroup": "True",
         "showlegend": true,
         "type": "violin",
         "x": [
          " Beauty/Lifestyle       ",
          " Beauty/Lifestyle       "
         ],
         "x0": " ",
         "xaxis": "x",
         "y": [
          "3.19B",
          "4.16B"
         ],
         "y0": " ",
         "yaxis": "y"
        },
        {
         "alignmentgroup": "True",
         "box": {
          "visible": false
         },
         "hovertemplate": "CATEGORY=%{x}<br>VIEWS=%{y}<extra></extra>",
         "legendgroup": " Charity/Non-profit     ",
         "marker": {
          "color": "#FF6692"
         },
         "name": " Charity/Non-profit     ",
         "offsetgroup": " Charity/Non-profit     ",
         "orientation": "v",
         "scalegroup": "True",
         "showlegend": true,
         "type": "violin",
         "x": [
          " Charity/Non-profit     "
         ],
         "x0": " ",
         "xaxis": "x",
         "y": [
          "16.07B"
         ],
         "y0": " ",
         "yaxis": "y"
        },
        {
         "alignmentgroup": "True",
         "box": {
          "visible": false
         },
         "hovertemplate": "CATEGORY=%{x}<br>VIEWS=%{y}<extra></extra>",
         "legendgroup": " Politics               ",
         "marker": {
          "color": "#B6E880"
         },
         "name": " Politics               ",
         "offsetgroup": " Politics               ",
         "orientation": "v",
         "scalegroup": "True",
         "showlegend": true,
         "type": "violin",
         "x": [
          " Politics               "
         ],
         "x0": " ",
         "xaxis": "x",
         "y": [
          "9.44B"
         ],
         "y0": " ",
         "yaxis": "y"
        },
        {
         "alignmentgroup": "True",
         "box": {
          "visible": false
         },
         "hovertemplate": "CATEGORY=%{x}<br>VIEWS=%{y}<extra></extra>",
         "legendgroup": " Technology             ",
         "marker": {
          "color": "#FF97FF"
         },
         "name": " Technology             ",
         "offsetgroup": " Technology             ",
         "orientation": "v",
         "scalegroup": "True",
         "showlegend": true,
         "type": "violin",
         "x": [
          " Technology             ",
          " Technology             "
         ],
         "x0": " ",
         "xaxis": "x",
         "y": [
          "6.02B",
          "11.5B"
         ],
         "y0": " ",
         "yaxis": "y"
        },
        {
         "alignmentgroup": "True",
         "box": {
          "visible": false
         },
         "hovertemplate": "CATEGORY=%{x}<br>VIEWS=%{y}<extra></extra>",
         "legendgroup": " DIY                    ",
         "marker": {
          "color": "#FECB52"
         },
         "name": " DIY                    ",
         "offsetgroup": " DIY                    ",
         "orientation": "v",
         "scalegroup": "True",
         "showlegend": true,
         "type": "violin",
         "x": [
          " DIY                    ",
          " DIY                    "
         ],
         "x0": " ",
         "xaxis": "x",
         "y": [
          "16.58B",
          "1.91B"
         ],
         "y0": " ",
         "yaxis": "y"
        },
        {
         "alignmentgroup": "True",
         "box": {
          "visible": false
         },
         "hovertemplate": "CATEGORY=%{x}<br>VIEWS=%{y}<extra></extra>",
         "legendgroup": " Music                 ",
         "marker": {
          "color": "#636efa"
         },
         "name": " Music                 ",
         "offsetgroup": " Music                 ",
         "orientation": "v",
         "scalegroup": "True",
         "showlegend": true,
         "type": "violin",
         "x": [
          " Music                 "
         ],
         "x0": " ",
         "xaxis": "x",
         "y": [
          "15.9B"
         ],
         "y0": " ",
         "yaxis": "y"
        },
        {
         "alignmentgroup": "True",
         "box": {
          "visible": false
         },
         "hovertemplate": "CATEGORY=%{x}<br>VIEWS=%{y}<extra></extra>",
         "legendgroup": " Sports                 ",
         "marker": {
          "color": "#EF553B"
         },
         "name": " Sports                 ",
         "offsetgroup": " Sports                 ",
         "orientation": "v",
         "scalegroup": "True",
         "showlegend": true,
         "type": "violin",
         "x": [
          " Sports                 ",
          " Sports                 "
         ],
         "x0": " ",
         "xaxis": "x",
         "y": [
          "14.69B",
          "9.46B"
         ],
         "y0": " ",
         "yaxis": "y"
        },
        {
         "alignmentgroup": "True",
         "box": {
          "visible": false
         },
         "hovertemplate": "CATEGORY=%{x}<br>VIEWS=%{y}<extra></extra>",
         "legendgroup": " Arab Games Network ",
         "marker": {
          "color": "#00cc96"
         },
         "name": " Arab Games Network ",
         "offsetgroup": " Arab Games Network ",
         "orientation": "v",
         "scalegroup": "True",
         "showlegend": true,
         "type": "violin",
         "x": [
          " Arab Games Network "
         ],
         "x0": " ",
         "xaxis": "x",
         "y": [
          "10.12B"
         ],
         "y0": " ",
         "yaxis": "y"
        }
       ],
       "layout": {
        "legend": {
         "title": {
          "text": "CATEGORY"
         },
         "tracegroupgap": 0
        },
        "template": {
         "data": {
          "bar": [
           {
            "error_x": {
             "color": "#2a3f5f"
            },
            "error_y": {
             "color": "#2a3f5f"
            },
            "marker": {
             "line": {
              "color": "#E5ECF6",
              "width": 0.5
             },
             "pattern": {
              "fillmode": "overlay",
              "size": 10,
              "solidity": 0.2
             }
            },
            "type": "bar"
           }
          ],
          "barpolar": [
           {
            "marker": {
             "line": {
              "color": "#E5ECF6",
              "width": 0.5
             },
             "pattern": {
              "fillmode": "overlay",
              "size": 10,
              "solidity": 0.2
             }
            },
            "type": "barpolar"
           }
          ],
          "carpet": [
           {
            "aaxis": {
             "endlinecolor": "#2a3f5f",
             "gridcolor": "white",
             "linecolor": "white",
             "minorgridcolor": "white",
             "startlinecolor": "#2a3f5f"
            },
            "baxis": {
             "endlinecolor": "#2a3f5f",
             "gridcolor": "white",
             "linecolor": "white",
             "minorgridcolor": "white",
             "startlinecolor": "#2a3f5f"
            },
            "type": "carpet"
           }
          ],
          "choropleth": [
           {
            "colorbar": {
             "outlinewidth": 0,
             "ticks": ""
            },
            "type": "choropleth"
           }
          ],
          "contour": [
           {
            "colorbar": {
             "outlinewidth": 0,
             "ticks": ""
            },
            "colorscale": [
             [
              0,
              "#0d0887"
             ],
             [
              0.1111111111111111,
              "#46039f"
             ],
             [
              0.2222222222222222,
              "#7201a8"
             ],
             [
              0.3333333333333333,
              "#9c179e"
             ],
             [
              0.4444444444444444,
              "#bd3786"
             ],
             [
              0.5555555555555556,
              "#d8576b"
             ],
             [
              0.6666666666666666,
              "#ed7953"
             ],
             [
              0.7777777777777778,
              "#fb9f3a"
             ],
             [
              0.8888888888888888,
              "#fdca26"
             ],
             [
              1,
              "#f0f921"
             ]
            ],
            "type": "contour"
           }
          ],
          "contourcarpet": [
           {
            "colorbar": {
             "outlinewidth": 0,
             "ticks": ""
            },
            "type": "contourcarpet"
           }
          ],
          "heatmap": [
           {
            "colorbar": {
             "outlinewidth": 0,
             "ticks": ""
            },
            "colorscale": [
             [
              0,
              "#0d0887"
             ],
             [
              0.1111111111111111,
              "#46039f"
             ],
             [
              0.2222222222222222,
              "#7201a8"
             ],
             [
              0.3333333333333333,
              "#9c179e"
             ],
             [
              0.4444444444444444,
              "#bd3786"
             ],
             [
              0.5555555555555556,
              "#d8576b"
             ],
             [
              0.6666666666666666,
              "#ed7953"
             ],
             [
              0.7777777777777778,
              "#fb9f3a"
             ],
             [
              0.8888888888888888,
              "#fdca26"
             ],
             [
              1,
              "#f0f921"
             ]
            ],
            "type": "heatmap"
           }
          ],
          "heatmapgl": [
           {
            "colorbar": {
             "outlinewidth": 0,
             "ticks": ""
            },
            "colorscale": [
             [
              0,
              "#0d0887"
             ],
             [
              0.1111111111111111,
              "#46039f"
             ],
             [
              0.2222222222222222,
              "#7201a8"
             ],
             [
              0.3333333333333333,
              "#9c179e"
             ],
             [
              0.4444444444444444,
              "#bd3786"
             ],
             [
              0.5555555555555556,
              "#d8576b"
             ],
             [
              0.6666666666666666,
              "#ed7953"
             ],
             [
              0.7777777777777778,
              "#fb9f3a"
             ],
             [
              0.8888888888888888,
              "#fdca26"
             ],
             [
              1,
              "#f0f921"
             ]
            ],
            "type": "heatmapgl"
           }
          ],
          "histogram": [
           {
            "marker": {
             "pattern": {
              "fillmode": "overlay",
              "size": 10,
              "solidity": 0.2
             }
            },
            "type": "histogram"
           }
          ],
          "histogram2d": [
           {
            "colorbar": {
             "outlinewidth": 0,
             "ticks": ""
            },
            "colorscale": [
             [
              0,
              "#0d0887"
             ],
             [
              0.1111111111111111,
              "#46039f"
             ],
             [
              0.2222222222222222,
              "#7201a8"
             ],
             [
              0.3333333333333333,
              "#9c179e"
             ],
             [
              0.4444444444444444,
              "#bd3786"
             ],
             [
              0.5555555555555556,
              "#d8576b"
             ],
             [
              0.6666666666666666,
              "#ed7953"
             ],
             [
              0.7777777777777778,
              "#fb9f3a"
             ],
             [
              0.8888888888888888,
              "#fdca26"
             ],
             [
              1,
              "#f0f921"
             ]
            ],
            "type": "histogram2d"
           }
          ],
          "histogram2dcontour": [
           {
            "colorbar": {
             "outlinewidth": 0,
             "ticks": ""
            },
            "colorscale": [
             [
              0,
              "#0d0887"
             ],
             [
              0.1111111111111111,
              "#46039f"
             ],
             [
              0.2222222222222222,
              "#7201a8"
             ],
             [
              0.3333333333333333,
              "#9c179e"
             ],
             [
              0.4444444444444444,
              "#bd3786"
             ],
             [
              0.5555555555555556,
              "#d8576b"
             ],
             [
              0.6666666666666666,
              "#ed7953"
             ],
             [
              0.7777777777777778,
              "#fb9f3a"
             ],
             [
              0.8888888888888888,
              "#fdca26"
             ],
             [
              1,
              "#f0f921"
             ]
            ],
            "type": "histogram2dcontour"
           }
          ],
          "mesh3d": [
           {
            "colorbar": {
             "outlinewidth": 0,
             "ticks": ""
            },
            "type": "mesh3d"
           }
          ],
          "parcoords": [
           {
            "line": {
             "colorbar": {
              "outlinewidth": 0,
              "ticks": ""
             }
            },
            "type": "parcoords"
           }
          ],
          "pie": [
           {
            "automargin": true,
            "type": "pie"
           }
          ],
          "scatter": [
           {
            "fillpattern": {
             "fillmode": "overlay",
             "size": 10,
             "solidity": 0.2
            },
            "type": "scatter"
           }
          ],
          "scatter3d": [
           {
            "line": {
             "colorbar": {
              "outlinewidth": 0,
              "ticks": ""
             }
            },
            "marker": {
             "colorbar": {
              "outlinewidth": 0,
              "ticks": ""
             }
            },
            "type": "scatter3d"
           }
          ],
          "scattercarpet": [
           {
            "marker": {
             "colorbar": {
              "outlinewidth": 0,
              "ticks": ""
             }
            },
            "type": "scattercarpet"
           }
          ],
          "scattergeo": [
           {
            "marker": {
             "colorbar": {
              "outlinewidth": 0,
              "ticks": ""
             }
            },
            "type": "scattergeo"
           }
          ],
          "scattergl": [
           {
            "marker": {
             "colorbar": {
              "outlinewidth": 0,
              "ticks": ""
             }
            },
            "type": "scattergl"
           }
          ],
          "scattermapbox": [
           {
            "marker": {
             "colorbar": {
              "outlinewidth": 0,
              "ticks": ""
             }
            },
            "type": "scattermapbox"
           }
          ],
          "scatterpolar": [
           {
            "marker": {
             "colorbar": {
              "outlinewidth": 0,
              "ticks": ""
             }
            },
            "type": "scatterpolar"
           }
          ],
          "scatterpolargl": [
           {
            "marker": {
             "colorbar": {
              "outlinewidth": 0,
              "ticks": ""
             }
            },
            "type": "scatterpolargl"
           }
          ],
          "scatterternary": [
           {
            "marker": {
             "colorbar": {
              "outlinewidth": 0,
              "ticks": ""
             }
            },
            "type": "scatterternary"
           }
          ],
          "surface": [
           {
            "colorbar": {
             "outlinewidth": 0,
             "ticks": ""
            },
            "colorscale": [
             [
              0,
              "#0d0887"
             ],
             [
              0.1111111111111111,
              "#46039f"
             ],
             [
              0.2222222222222222,
              "#7201a8"
             ],
             [
              0.3333333333333333,
              "#9c179e"
             ],
             [
              0.4444444444444444,
              "#bd3786"
             ],
             [
              0.5555555555555556,
              "#d8576b"
             ],
             [
              0.6666666666666666,
              "#ed7953"
             ],
             [
              0.7777777777777778,
              "#fb9f3a"
             ],
             [
              0.8888888888888888,
              "#fdca26"
             ],
             [
              1,
              "#f0f921"
             ]
            ],
            "type": "surface"
           }
          ],
          "table": [
           {
            "cells": {
             "fill": {
              "color": "#EBF0F8"
             },
             "line": {
              "color": "white"
             }
            },
            "header": {
             "fill": {
              "color": "#C8D4E3"
             },
             "line": {
              "color": "white"
             }
            },
            "type": "table"
           }
          ]
         },
         "layout": {
          "annotationdefaults": {
           "arrowcolor": "#2a3f5f",
           "arrowhead": 0,
           "arrowwidth": 1
          },
          "autotypenumbers": "strict",
          "coloraxis": {
           "colorbar": {
            "outlinewidth": 0,
            "ticks": ""
           }
          },
          "colorscale": {
           "diverging": [
            [
             0,
             "#8e0152"
            ],
            [
             0.1,
             "#c51b7d"
            ],
            [
             0.2,
             "#de77ae"
            ],
            [
             0.3,
             "#f1b6da"
            ],
            [
             0.4,
             "#fde0ef"
            ],
            [
             0.5,
             "#f7f7f7"
            ],
            [
             0.6,
             "#e6f5d0"
            ],
            [
             0.7,
             "#b8e186"
            ],
            [
             0.8,
             "#7fbc41"
            ],
            [
             0.9,
             "#4d9221"
            ],
            [
             1,
             "#276419"
            ]
           ],
           "sequential": [
            [
             0,
             "#0d0887"
            ],
            [
             0.1111111111111111,
             "#46039f"
            ],
            [
             0.2222222222222222,
             "#7201a8"
            ],
            [
             0.3333333333333333,
             "#9c179e"
            ],
            [
             0.4444444444444444,
             "#bd3786"
            ],
            [
             0.5555555555555556,
             "#d8576b"
            ],
            [
             0.6666666666666666,
             "#ed7953"
            ],
            [
             0.7777777777777778,
             "#fb9f3a"
            ],
            [
             0.8888888888888888,
             "#fdca26"
            ],
            [
             1,
             "#f0f921"
            ]
           ],
           "sequentialminus": [
            [
             0,
             "#0d0887"
            ],
            [
             0.1111111111111111,
             "#46039f"
            ],
            [
             0.2222222222222222,
             "#7201a8"
            ],
            [
             0.3333333333333333,
             "#9c179e"
            ],
            [
             0.4444444444444444,
             "#bd3786"
            ],
            [
             0.5555555555555556,
             "#d8576b"
            ],
            [
             0.6666666666666666,
             "#ed7953"
            ],
            [
             0.7777777777777778,
             "#fb9f3a"
            ],
            [
             0.8888888888888888,
             "#fdca26"
            ],
            [
             1,
             "#f0f921"
            ]
           ]
          },
          "colorway": [
           "#636efa",
           "#EF553B",
           "#00cc96",
           "#ab63fa",
           "#FFA15A",
           "#19d3f3",
           "#FF6692",
           "#B6E880",
           "#FF97FF",
           "#FECB52"
          ],
          "font": {
           "color": "#2a3f5f"
          },
          "geo": {
           "bgcolor": "white",
           "lakecolor": "white",
           "landcolor": "#E5ECF6",
           "showlakes": true,
           "showland": true,
           "subunitcolor": "white"
          },
          "hoverlabel": {
           "align": "left"
          },
          "hovermode": "closest",
          "mapbox": {
           "style": "light"
          },
          "paper_bgcolor": "white",
          "plot_bgcolor": "#E5ECF6",
          "polar": {
           "angularaxis": {
            "gridcolor": "white",
            "linecolor": "white",
            "ticks": ""
           },
           "bgcolor": "#E5ECF6",
           "radialaxis": {
            "gridcolor": "white",
            "linecolor": "white",
            "ticks": ""
           }
          },
          "scene": {
           "xaxis": {
            "backgroundcolor": "#E5ECF6",
            "gridcolor": "white",
            "gridwidth": 2,
            "linecolor": "white",
            "showbackground": true,
            "ticks": "",
            "zerolinecolor": "white"
           },
           "yaxis": {
            "backgroundcolor": "#E5ECF6",
            "gridcolor": "white",
            "gridwidth": 2,
            "linecolor": "white",
            "showbackground": true,
            "ticks": "",
            "zerolinecolor": "white"
           },
           "zaxis": {
            "backgroundcolor": "#E5ECF6",
            "gridcolor": "white",
            "gridwidth": 2,
            "linecolor": "white",
            "showbackground": true,
            "ticks": "",
            "zerolinecolor": "white"
           }
          },
          "shapedefaults": {
           "line": {
            "color": "#2a3f5f"
           }
          },
          "ternary": {
           "aaxis": {
            "gridcolor": "white",
            "linecolor": "white",
            "ticks": ""
           },
           "baxis": {
            "gridcolor": "white",
            "linecolor": "white",
            "ticks": ""
           },
           "bgcolor": "#E5ECF6",
           "caxis": {
            "gridcolor": "white",
            "linecolor": "white",
            "ticks": ""
           }
          },
          "title": {
           "x": 0.05
          },
          "xaxis": {
           "automargin": true,
           "gridcolor": "white",
           "linecolor": "white",
           "ticks": "",
           "title": {
            "standoff": 15
           },
           "zerolinecolor": "white",
           "zerolinewidth": 2
          },
          "yaxis": {
           "automargin": true,
           "gridcolor": "white",
           "linecolor": "white",
           "ticks": "",
           "title": {
            "standoff": 15
           },
           "zerolinecolor": "white",
           "zerolinewidth": 2
          }
         }
        },
        "title": {
         "text": "YouTube Video Categories by Views"
        },
        "violinmode": "overlay",
        "xaxis": {
         "anchor": "y",
         "categoryarray": [
          " Entertainment          ",
          " Music                  ",
          " Kids                   ",
          " Sports/Entertainment   ",
          " Movies                 ",
          " DIY/Education          ",
          " Kids                ",
          " News                   ",
          " Kids          ",
          " Kids            ",
          " Education              ",
          " Gaming/Entertainment   ",
          " Education          ",
          " Travel/Entertainment   ",
          " Animation              ",
          " Gaming                 ",
          " Kids             ",
          " Kids           ",
          " Platform               ",
          null,
          " toyoraljanahtv ",
          " Kids               ",
          " Fitness/Health         ",
          " Kids         ",
          " Food                   ",
          " Beauty/Lifestyle       ",
          " Charity/Non-profit     ",
          " Politics               ",
          " Technology             ",
          " DIY                    ",
          " Music                 ",
          " Sports                 ",
          " Arab Games Network "
         ],
         "categoryorder": "array",
         "domain": [
          0,
          1
         ],
         "title": {
          "text": "CATEGORY"
         }
        },
        "yaxis": {
         "anchor": "x",
         "domain": [
          0,
          1
         ],
         "title": {
          "text": "VIEWS"
         }
        }
       }
      }
     },
     "metadata": {},
     "output_type": "display_data"
    }
   ],
   "source": [
    "# Create the bar chart with size and color\n",
    "fig = px.violin(df, x='CATEGORY', y='VIEWS', color='CATEGORY',title='YouTube Video Categories by Views')\n",
    "# Save the plot:\n",
    "fig.write_html('./Plots/Violon Chart.html')\n",
    "# # Display the chart\n",
    "fig.show()"
   ]
  },
  {
   "cell_type": "code",
   "execution_count": null,
   "metadata": {},
   "outputs": [],
   "source": []
  }
 ],
 "metadata": {
  "kernelspec": {
   "display_name": "my_data",
   "language": "python",
   "name": "python3"
  },
  "language_info": {
   "codemirror_mode": {
    "name": "ipython",
    "version": 3
   },
   "file_extension": ".py",
   "mimetype": "text/x-python",
   "name": "python",
   "nbconvert_exporter": "python",
   "pygments_lexer": "ipython3",
   "version": "3.12.4"
  }
 },
 "nbformat": 4,
 "nbformat_minor": 2
}
